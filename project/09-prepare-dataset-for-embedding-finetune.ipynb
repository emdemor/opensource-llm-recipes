{
 "cells": [
  {
   "cell_type": "code",
   "execution_count": 8,
   "id": "7b50a112-75c6-489c-a717-94c7e9324ef9",
   "metadata": {},
   "outputs": [
    {
     "data": {
      "application/vnd.jupyter.widget-view+json": {
       "model_id": "c8bea5fc917f416eab0aed0ca1f3810f",
       "version_major": 2,
       "version_minor": 0
      },
      "text/plain": [
       "Filter:   0%|          | 0/5961948 [00:00<?, ? examples/s]"
      ]
     },
     "metadata": {},
     "output_type": "display_data"
    },
    {
     "data": {
      "application/vnd.jupyter.widget-view+json": {
       "model_id": "e4845279818e4be0a0a3db6402856de6",
       "version_major": 2,
       "version_minor": 0
      },
      "text/plain": [
       "Filter:   0%|          | 0/5836486 [00:00<?, ? examples/s]"
      ]
     },
     "metadata": {},
     "output_type": "display_data"
    },
    {
     "data": {
      "application/vnd.jupyter.widget-view+json": {
       "model_id": "5ff0984c8e104de9aa66f984da574121",
       "version_major": 2,
       "version_minor": 0
      },
      "text/plain": [
       "Filter:   0%|          | 0/5833940 [00:00<?, ? examples/s]"
      ]
     },
     "metadata": {},
     "output_type": "display_data"
    },
    {
     "data": {
      "application/vnd.jupyter.widget-view+json": {
       "model_id": "31e34f7998214c1b9097229a16b37966",
       "version_major": 2,
       "version_minor": 0
      },
      "text/plain": [
       "Filter:   0%|          | 0/5833342 [00:00<?, ? examples/s]"
      ]
     },
     "metadata": {},
     "output_type": "display_data"
    },
    {
     "data": {
      "application/vnd.jupyter.widget-view+json": {
       "model_id": "e98d7cca4b3949a98191fd45ca362b79",
       "version_major": 2,
       "version_minor": 0
      },
      "text/plain": [
       "Filter:   0%|          | 0/5626949 [00:00<?, ? examples/s]"
      ]
     },
     "metadata": {},
     "output_type": "display_data"
    },
    {
     "data": {
      "application/vnd.jupyter.widget-view+json": {
       "model_id": "db27f6a940fe47a38e33e8b610bf2980",
       "version_major": 2,
       "version_minor": 0
      },
      "text/plain": [
       "Map:   0%|          | 0/5626931 [00:00<?, ? examples/s]"
      ]
     },
     "metadata": {},
     "output_type": "display_data"
    },
    {
     "data": {
      "application/vnd.jupyter.widget-view+json": {
       "model_id": "b9157e8eebea4f0383813faaa0bb17c8",
       "version_major": 2,
       "version_minor": 0
      },
      "text/plain": [
       "Map:   0%|          | 0/5626931 [00:00<?, ? examples/s]"
      ]
     },
     "metadata": {},
     "output_type": "display_data"
    },
    {
     "data": {
      "application/vnd.jupyter.widget-view+json": {
       "model_id": "c528c20123d14e2ca691dbc53f823cad",
       "version_major": 2,
       "version_minor": 0
      },
      "text/plain": [
       "Filter:   0%|          | 0/5626931 [00:00<?, ? examples/s]"
      ]
     },
     "metadata": {},
     "output_type": "display_data"
    },
    {
     "data": {
      "application/vnd.jupyter.widget-view+json": {
       "model_id": "d57a6deccec94d22961d4bd2c93a7c34",
       "version_major": 2,
       "version_minor": 0
      },
      "text/plain": [
       "Filter:   0%|          | 0/5536488 [00:00<?, ? examples/s]"
      ]
     },
     "metadata": {},
     "output_type": "display_data"
    },
    {
     "data": {
      "application/vnd.jupyter.widget-view+json": {
       "model_id": "640fdbe934774e2aa73b4610744dfe51",
       "version_major": 2,
       "version_minor": 0
      },
      "text/plain": [
       "Filter:   0%|          | 0/4193948 [00:00<?, ? examples/s]"
      ]
     },
     "metadata": {},
     "output_type": "display_data"
    },
    {
     "data": {
      "application/vnd.jupyter.widget-view+json": {
       "model_id": "03345146ec6a49f8b62e78aed2f66bce",
       "version_major": 2,
       "version_minor": 0
      },
      "text/plain": [
       "Saving the dataset (0/4 shards):   0%|          | 0/4140677 [00:00<?, ? examples/s]"
      ]
     },
     "metadata": {},
     "output_type": "display_data"
    }
   ],
   "source": [
    "import re\n",
    "import unicodedata\n",
    "\n",
    "from datasets import load_from_disk, load_dataset, concatenate_datasets\n",
    "\n",
    "load_from_hub = True\n",
    "\n",
    "dataset_id = \"clips/mqa\"\n",
    "dataset_filepath = \"data/clips_mqa/pt\"\n",
    "\n",
    "blacklist_domains = [\n",
    "    \"ti-enxame.com\",\n",
    "]\n",
    "\n",
    "prohibited_terms = [\"href\", \"https\", \"www.\", \".html\", \"volumen caps\"]\n",
    "\n",
    "\n",
    "def format_dataset(row):\n",
    "    return {\n",
    "        \"id\": row[\"id\"],\n",
    "        \"question\": row[\"name\"],\n",
    "        \"domain\": row[\"domain\"],\n",
    "        \"answer\": row[\"answers\"][0][\"text\"],\n",
    "    }\n",
    "\n",
    "def contains_prohibited_term_regex(text):\n",
    "    pattern = re.compile(\"|\".join(map(re.escape, prohibited_terms)))\n",
    "    return bool(pattern.search(text))\n",
    "\n",
    "def remove_links(text):\n",
    "    url_regex = r'http[s]?://(?:[a-zA-Z]|[0-9]|[$-_@.&+]|[!*\\\\(\\\\),]|(?:%[0-9a-fA-F][0-9a-fA-F]))+'\n",
    "    return re.sub(url_regex, '', text)\n",
    "\n",
    "def remove_non_alphanumeric(text):\n",
    "    return re.sub(r'[^\\w\\s.,!?;:\\'\\\"-]', '', text)\n",
    "\n",
    "def remove_long_words(text, max_length=15):\n",
    "    # Expressão regular para encontrar substrings com mais de 15 caracteres consecutivos\n",
    "    pattern = r'\\S{' + str(max_length + 1) + r',}'\n",
    "    # Substituir as substrings que correspondem ao padrão por uma string vazia\n",
    "    cleaned_text = re.sub(pattern, '', text)\n",
    "    return cleaned_text\n",
    "\n",
    "def check_if_question_is_big_enough(text):\n",
    "    if len(text) < 20:\n",
    "        return False\n",
    "    elif 20 <= len(text) <= 30:\n",
    "        if \"?\" in text[-3:]:\n",
    "            return True\n",
    "        return False\n",
    "    return True\n",
    "\n",
    "\n",
    "def format_text_fields(text):\n",
    "    text = unicodedata.normalize(\"NFKD\", text)\n",
    "    text = remove_long_words(text)\n",
    "    text = remove_non_alphanumeric(text)\n",
    "    text = remove_links(text)\n",
    "    text = text.replace(\"--\", \"\")\n",
    "    text = text.replace(\"\\n\", \"\")\n",
    "    text = text.replace(\"](\", \"\")\n",
    "    text = text.replace(\" [\", \"\")\n",
    "    text = text.strip()\n",
    "    return text\n",
    "\n",
    "def format_text(row):\n",
    "    return {\n",
    "        \"text\": format_text_fields(row[\"text\"]),\n",
    "        \"question\": format_text_fields(row[\"question\"]),\n",
    "        \"answer\": format_text_fields(row[\"answer\"]),\n",
    "    }\n",
    "\n",
    "def valid_domain(text):\n",
    "    if (text[-3:] == \".br\") or (text[-4:] in [\".com\", \".net\", \".org\"]):\n",
    "        return True\n",
    "    return False\n",
    "\n",
    "\n",
    "def contains_prohibited_term_regex(text):\n",
    "    blacklist = [\n",
    "        \"mundosugar.com.br\",\n",
    "        \"aposta\",\n",
    "        \"apuesta\",\n",
    "        \"sex\",\n",
    "        \"porn\",\n",
    "        \"penis\",\n",
    "        \"vagi\",\n",
    "        \"turba\",\n",
    "        \"sensual\",\n",
    "    ]\n",
    "    pattern = re.compile(\"|\".join(map(re.escape, blacklist)))\n",
    "    return bool(pattern.search(text))\n",
    "\n",
    "if load_from_hub:\n",
    "    raw_dataset = load_dataset(dataset_id, language=\"pt\", trust_remote_code=True)[\"train\"]\n",
    "    raw_dataset = raw_dataset.filter(lambda row: row[\"answers\"][0][\"is_accepted\"] == True)\n",
    "    raw_dataset = raw_dataset.filter(lambda row: row[\"domain\"] not in blacklist_domains)\n",
    "    raw_dataset = raw_dataset.filter(lambda row: not contains_prohibited_term_regex(row[\"answers\"][0][\"text\"]) )\n",
    "    raw_dataset = raw_dataset.filter(lambda row: not contains_prohibited_term_regex(row[\"name\"]) )\n",
    "    raw_dataset = raw_dataset.filter(lambda row: not contains_prohibited_term_regex(row[\"text\"]) )\n",
    "    raw_dataset = raw_dataset.filter(lambda row: check_if_question_is_big_enough(row[\"name\"]) )\n",
    "    raw_dataset = raw_dataset.filter(lambda row: len(row[\"answers\"][0][\"text\"]) > 0)\n",
    "    raw_dataset = raw_dataset.map(format_dataset)\n",
    "    dataset = raw_dataset.map(format_text).select_columns(['id', 'bucket', 'domain', 'text', 'question', 'answer'])\n",
    "    dataset = dataset.filter(lambda row: check_if_question_is_big_enough(row[\"question\"]) )\n",
    "    dataset = dataset.filter(lambda row: valid_domain(row[\"domain\"]) )\n",
    "    dataset = dataset.filter(lambda row: not contains_prohibited_term_regex(row[\"domain\"]) )\n",
    "    dataset.save_to_disk(dataset_filepath)"
   ]
  },
  {
   "cell_type": "code",
   "execution_count": 9,
   "id": "df2ee810-b6ed-46fa-bed9-a344b9d5285a",
   "metadata": {},
   "outputs": [],
   "source": [
    "ds = load_from_disk(dataset_filepath)"
   ]
  },
  {
   "cell_type": "code",
   "execution_count": 22,
   "id": "ac639270-56e0-472e-8acc-f2e746b768a6",
   "metadata": {},
   "outputs": [
    {
     "data": {
      "text/html": [
       "<div>\n",
       "<style scoped>\n",
       "    .dataframe tbody tr th:only-of-type {\n",
       "        vertical-align: middle;\n",
       "    }\n",
       "\n",
       "    .dataframe tbody tr th {\n",
       "        vertical-align: top;\n",
       "    }\n",
       "\n",
       "    .dataframe thead th {\n",
       "        text-align: right;\n",
       "    }\n",
       "</style>\n",
       "<table border=\"1\" class=\"dataframe\">\n",
       "  <thead>\n",
       "    <tr style=\"text-align: right;\">\n",
       "      <th></th>\n",
       "      <th>id</th>\n",
       "      <th>bucket</th>\n",
       "      <th>domain</th>\n",
       "      <th>text</th>\n",
       "      <th>question</th>\n",
       "      <th>answer</th>\n",
       "    </tr>\n",
       "  </thead>\n",
       "  <tbody>\n",
       "    <tr>\n",
       "      <th>239057</th>\n",
       "      <td>8522946988f4d8a684bb21ae92329ec1</td>\n",
       "      <td>2020.40</td>\n",
       "      <td>daazcavernas.com</td>\n",
       "      <td></td>\n",
       "      <td>como conseguir descontos na targus?</td>\n",
       "      <td>o daazcavernas disponibiliza diversos desconto...</td>\n",
       "    </tr>\n",
       "    <tr>\n",
       "      <th>1635583</th>\n",
       "      <td>82ce25d83172bf64e1ee95ff838b3421</td>\n",
       "      <td>2021.21</td>\n",
       "      <td>casamentos.com.br</td>\n",
       "      <td></td>\n",
       "      <td>Quais ensaios e servicos que Sonimag oferece?</td>\n",
       "      <td>Sonimag oferece os seguintes tipos de ensaios,...</td>\n",
       "    </tr>\n",
       "    <tr>\n",
       "      <th>1134153</th>\n",
       "      <td>4e8a557cb7d896890d891766d33fe5aa</td>\n",
       "      <td>2021.04</td>\n",
       "      <td>tudosobreprodutos.com.br</td>\n",
       "      <td></td>\n",
       "      <td>qual a marca do produto \"whey reforce body siz...</td>\n",
       "      <td>galgrin, integral medica, integral medica,  in...</td>\n",
       "    </tr>\n",
       "    <tr>\n",
       "      <th>267888</th>\n",
       "      <td>3567a3627948775daf2c269fd55af633</td>\n",
       "      <td>2020.40</td>\n",
       "      <td>vrbo.com</td>\n",
       "      <td></td>\n",
       "      <td>Quais sao melhores areas para se hospedar em  ...</td>\n",
       "      <td>A Vrbo Brasil oferece diversas opcoes de alugu...</td>\n",
       "    </tr>\n",
       "  </tbody>\n",
       "</table>\n",
       "</div>"
      ],
      "text/plain": [
       "                                       id   bucket                    domain  \\\n",
       "239057   8522946988f4d8a684bb21ae92329ec1  2020.40          daazcavernas.com   \n",
       "1635583  82ce25d83172bf64e1ee95ff838b3421  2021.21         casamentos.com.br   \n",
       "1134153  4e8a557cb7d896890d891766d33fe5aa  2021.04  tudosobreprodutos.com.br   \n",
       "267888   3567a3627948775daf2c269fd55af633  2020.40                  vrbo.com   \n",
       "\n",
       "        text                                           question  \\\n",
       "239057                      como conseguir descontos na targus?   \n",
       "1635583           Quais ensaios e servicos que Sonimag oferece?   \n",
       "1134153       qual a marca do produto \"whey reforce body siz...   \n",
       "267888        Quais sao melhores areas para se hospedar em  ...   \n",
       "\n",
       "                                                    answer  \n",
       "239057   o daazcavernas disponibiliza diversos desconto...  \n",
       "1635583  Sonimag oferece os seguintes tipos de ensaios,...  \n",
       "1134153  galgrin, integral medica, integral medica,  in...  \n",
       "267888   A Vrbo Brasil oferece diversas opcoes de alugu...  "
      ]
     },
     "execution_count": 22,
     "metadata": {},
     "output_type": "execute_result"
    }
   ],
   "source": [
    "df = ds.to_pandas()\n",
    "df.sample(4)"
   ]
  }
 ],
 "metadata": {
  "kernelspec": {
   "display_name": "Python 3 (ipykernel)",
   "language": "python",
   "name": "python3"
  },
  "language_info": {
   "codemirror_mode": {
    "name": "ipython",
    "version": 3
   },
   "file_extension": ".py",
   "mimetype": "text/x-python",
   "name": "python",
   "nbconvert_exporter": "python",
   "pygments_lexer": "ipython3",
   "version": "3.10.14"
  }
 },
 "nbformat": 4,
 "nbformat_minor": 5
}
