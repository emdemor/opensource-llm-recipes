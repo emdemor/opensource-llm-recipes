{
 "cells": [
  {
   "cell_type": "code",
   "execution_count": 1,
   "id": "2925a119-ce15-46dd-b8a8-f8b1f5333686",
   "metadata": {},
   "outputs": [
    {
     "name": "stdout",
     "output_type": "stream",
     "text": [
      ">>> accelerate==0.29.3\n"
     ]
    }
   ],
   "source": [
    "def install_lib(libname):\n",
    "    print(f\">>> {libname}\")\n",
    "    get_ipython().system(f\"pip install -qqq {libname}\")\n",
    "\n",
    "libs = [\n",
    "        \"accelerate==0.29.3\"\n",
    "]\n",
    "\n",
    "for lib in libs:\n",
    "    install_lib(lib)"
   ]
  },
  {
   "cell_type": "code",
   "execution_count": 1,
   "id": "a113f545-760f-40cc-b718-2f12ff087670",
   "metadata": {},
   "outputs": [
    {
     "name": "stderr",
     "output_type": "stream",
     "text": [
      "/opt/conda/lib/python3.10/site-packages/transformers/utils/hub.py:124: FutureWarning: Using `TRANSFORMERS_CACHE` is deprecated and will be removed in v5 of Transformers. Use `HF_HOME` instead.\n",
      "  warnings.warn(\n",
      "/opt/conda/lib/python3.10/site-packages/torch/cuda/__init__.py:619: UserWarning: Can't initialize NVML\n",
      "  warnings.warn(\"Can't initialize NVML\")\n",
      "No CUDA runtime is found, using CUDA_HOME='/usr/local/cuda'\n"
     ]
    }
   ],
   "source": [
    "import os\n",
    "import torch\n",
    "\n",
    "from huggingface_hub import login\n",
    "from sentence_transformers import SentenceTransformer\n",
    "from datasets import load_dataset, concatenate_datasets\n",
    "\n",
    "from sentence_transformers.util import cos_sim\n",
    "from sentence_transformers.evaluation import (\n",
    "    InformationRetrievalEvaluator,\n",
    "    SequentialEvaluator,\n",
    ")"
   ]
  },
  {
   "cell_type": "code",
   "execution_count": 2,
   "id": "bc5c3a55-a0b9-4426-8de1-c9ee3a1a1203",
   "metadata": {},
   "outputs": [
    {
     "name": "stdout",
     "output_type": "stream",
     "text": [
      "The token has not been saved to the git credentials helper. Pass `add_to_git_credential=True` in this function directly or `--add-to-git-credential` if using via `huggingface-cli` if you want to set the git credential as well.\n",
      "Token is valid (permission: read).\n",
      "Your token has been saved to /root/.cache/huggingface/token\n",
      "Login successful\n"
     ]
    }
   ],
   "source": [
    "login(token=os.environ[\"HUGGINGFACE_TOKEN\"])\n",
    "\n",
    "# MODEL_ID = 'PORTULAN/serafim-900m-portuguese-pt-sentence-encoder-ir'\n",
    "MODEL_ID = \"BAAI/bge-small-en-v1.5\"\n",
    "MATRYOSHKA_DIMENSIONS = [384, 256, 128, 64] # [768, 512, 256, 128, 64]\n",
    "TRAIN_DATASET = \"data/bacen/train_dataset.json\"\n",
    "TEST_DATASET = \"data/bacen/test_dataset.json\""
   ]
  },
  {
   "cell_type": "markdown",
   "id": "7ce02f20-8e03-496d-8ebd-99e344c688d3",
   "metadata": {},
   "source": [
    "## 1. Crie e Prepare o Conjunto de Dados de Incorporação\n",
    "\n",
    "Um conjunto de dados de embedding geralmente consiste em pares de texto (pergunta, resposta/contexto) ou tríades que representam relações ou semelhanças entre frases. O formato do conjunto de dados que você escolher ou tiver disponível também afetará a função de perda que você pode usar. Formatos comuns para conjuntos de dados de embedding:\n",
    "\n",
    "- **Par Positivo**: Pares de texto de frases relacionadas (consulta, contexto | consulta, resposta), adequados para tarefas como pesquisa de semelhança ou busca semântica, exemplos de conjuntos de dados: `sentence-transformers/sentence-compression`, `sentence-transformers/natural-questions`.\n",
    "- **Tríades**: Tríades de texto compostas por (âncora, positivo, negativo), exemplos de conjuntos de dados `sentence-transformers/quora-duplicates`, `nirantk/triplets`.\n",
    "- **Par com Pontuação de Similaridade**: Pares de frases com uma pontuação de similaridade indicando o quão relacionadas são, exemplos de conjuntos de dados: `sentence-transformers/stsb`, `PhilipMay/stsb_multi_mt`\n",
    "\n",
    "Saiba mais em [Visão Geral dos Conjuntos de Dados](https://sbert.net/docs/sentence_transformer/dataset_overview.html).\n",
    "\n",
    "Vamos usar o dataset [Itau-Unibanco/FAQ_BACEN)](https://huggingface.co/datasets/Itau-Unibanco/FAQ_BACEN), que inclui 7.000 pares de texto positivos de perguntas e contextos correspondentes do [Relatório SEC da NVIDIA de 2023_10](https://stocklight.com/stocks/us/nasdaq-nvda/nvidia/annual-reports/nasdaq-nvda-2023-10K-23668751.pdf).\n",
    "\n",
    "O conjunto de dados tem o seguinte formato:\n",
    "```json\n",
    "{\"questions\": \"<pergunta>\", \"answers\": \"<contexto relevante para a resposta>\"}\n",
    "{\"questions\": \"<pergunta>\", \"answers\": \"<contexto relevante para a resposta>\"}\n",
    "{\"questions\": \"<pergunta>\", \"answers\": \"<contexto relevante para a resposta>\"}\n",
    "```"
   ]
  },
  {
   "cell_type": "markdown",
   "id": "2c6cb6fa-b337-4d2c-971b-78bf7dda98b2",
   "metadata": {},
   "source": [
    "# Dataset"
   ]
  },
  {
   "cell_type": "code",
   "execution_count": 4,
   "id": "51b43e08-3d13-4024-8fbd-6098334e2eb0",
   "metadata": {},
   "outputs": [
    {
     "name": "stdout",
     "output_type": "stream",
     "text": [
      "CPU times: user 49.1 ms, sys: 38.8 ms, total: 87.9 ms\n",
      "Wall time: 40.1 ms\n"
     ]
    }
   ],
   "source": [
    "%%time\n",
    "from datasets import load_from_disk\n",
    "\n",
    "dataset_filepath = \"data/clips_mqa/pt\"\n",
    "dataset = load_from_disk(dataset_filepath)"
   ]
  },
  {
   "cell_type": "code",
   "execution_count": 5,
   "id": "f5b17ea1-564d-490d-ba39-4aee784ea696",
   "metadata": {},
   "outputs": [
    {
     "data": {
      "text/plain": [
       "Dataset({\n",
       "    features: ['id', 'bucket', 'domain', 'text', 'question', 'answer'],\n",
       "    num_rows: 4046601\n",
       "})"
      ]
     },
     "execution_count": 5,
     "metadata": {},
     "output_type": "execute_result"
    }
   ],
   "source": [
    "dataset"
   ]
  },
  {
   "cell_type": "markdown",
   "id": "e242127f-bc4f-4259-89a3-860d3ca6a480",
   "metadata": {},
   "source": [
    "dataset"
   ]
  },
  {
   "cell_type": "code",
   "execution_count": 163,
   "id": "c7a811d2-c9f2-44c1-bf87-9379db08b482",
   "metadata": {},
   "outputs": [
    {
     "name": "stderr",
     "output_type": "stream",
     "text": [
      "/opt/conda/lib/python3.10/site-packages/datasets/load.py:1491: FutureWarning: The repository for clips/mqa contains custom code which must be executed to correctly load the dataset. You can inspect the repository content at https://hf.co/datasets/clips/mqa\n",
      "You can avoid this message in future by passing the argument `trust_remote_code=True`.\n",
      "Passing `trust_remote_code=True` will be mandatory to load this dataset from the next major release of `datasets`.\n",
      "  warnings.warn(\n"
     ]
    }
   ],
   "source": [
    "data = load_dataset(\"clips/mqa\", language=\"pt\")"
   ]
  },
  {
   "cell_type": "code",
   "execution_count": 164,
   "id": "273335fa-d414-4da9-bba2-8f661536616e",
   "metadata": {},
   "outputs": [
    {
     "data": {
      "text/plain": [
       "DatasetDict({\n",
       "    train: Dataset({\n",
       "        features: ['id', 'text', 'name', 'domain', 'bucket', 'answers'],\n",
       "        num_rows: 6218943\n",
       "    })\n",
       "})"
      ]
     },
     "execution_count": 164,
     "metadata": {},
     "output_type": "execute_result"
    }
   ],
   "source": [
    "data"
   ]
  },
  {
   "cell_type": "code",
   "execution_count": 88,
   "id": "094868d9-91ae-4c84-a3df-a7e6e97fbbf4",
   "metadata": {},
   "outputs": [
    {
     "name": "stderr",
     "output_type": "stream",
     "text": [
      "/opt/conda/lib/python3.10/site-packages/datasets/load.py:1491: FutureWarning: The repository for clips/mqa contains custom code which must be executed to correctly load the dataset. You can inspect the repository content at https://hf.co/datasets/clips/mqa\n",
      "You can avoid this message in future by passing the argument `trust_remote_code=True`.\n",
      "Passing `trust_remote_code=True` will be mandatory to load this dataset from the next major release of `datasets`.\n",
      "  warnings.warn(\n"
     ]
    },
    {
     "data": {
      "application/vnd.jupyter.widget-view+json": {
       "model_id": "1a926dbac68e431ca0acf1b90eaeabfd",
       "version_major": 2,
       "version_minor": 0
      },
      "text/plain": [
       "Filter:   0%|          | 0/5964271 [00:00<?, ? examples/s]"
      ]
     },
     "metadata": {},
     "output_type": "display_data"
    },
    {
     "data": {
      "application/vnd.jupyter.widget-view+json": {
       "model_id": "1df386fa091d46b1a5dfa43fa1e196f6",
       "version_major": 2,
       "version_minor": 0
      },
      "text/plain": [
       "Filter:   0%|          | 0/5961948 [00:00<?, ? examples/s]"
      ]
     },
     "metadata": {},
     "output_type": "display_data"
    },
    {
     "data": {
      "application/vnd.jupyter.widget-view+json": {
       "model_id": "ba9274fe89fd40fd94e0eef5c078244f",
       "version_major": 2,
       "version_minor": 0
      },
      "text/plain": [
       "Filter:   0%|          | 0/4349835 [00:00<?, ? examples/s]"
      ]
     },
     "metadata": {},
     "output_type": "display_data"
    },
    {
     "data": {
      "application/vnd.jupyter.widget-view+json": {
       "model_id": "33416079ce2d4612a5a31b65a8fb2924",
       "version_major": 2,
       "version_minor": 0
      },
      "text/plain": [
       "Filter:   0%|          | 0/4327031 [00:00<?, ? examples/s]"
      ]
     },
     "metadata": {},
     "output_type": "display_data"
    },
    {
     "data": {
      "application/vnd.jupyter.widget-view+json": {
       "model_id": "b2910adc0e984c1d9ada648be018e304",
       "version_major": 2,
       "version_minor": 0
      },
      "text/plain": [
       "Filter:   0%|          | 0/4321138 [00:00<?, ? examples/s]"
      ]
     },
     "metadata": {},
     "output_type": "display_data"
    },
    {
     "data": {
      "application/vnd.jupyter.widget-view+json": {
       "model_id": "9cce1547528046d2a043cbc70e10e670",
       "version_major": 2,
       "version_minor": 0
      },
      "text/plain": [
       "Filter:   0%|          | 0/4124504 [00:00<?, ? examples/s]"
      ]
     },
     "metadata": {},
     "output_type": "display_data"
    },
    {
     "data": {
      "application/vnd.jupyter.widget-view+json": {
       "model_id": "88f0af0b73c346ba96745e04c9dcca2d",
       "version_major": 2,
       "version_minor": 0
      },
      "text/plain": [
       "Map:   0%|          | 0/4124485 [00:00<?, ? examples/s]"
      ]
     },
     "metadata": {},
     "output_type": "display_data"
    },
    {
     "data": {
      "application/vnd.jupyter.widget-view+json": {
       "model_id": "6c76db6db86a46b0be7729dc21318c6a",
       "version_major": 2,
       "version_minor": 0
      },
      "text/plain": [
       "Map:   0%|          | 0/4124485 [00:00<?, ? examples/s]"
      ]
     },
     "metadata": {},
     "output_type": "display_data"
    },
    {
     "data": {
      "application/vnd.jupyter.widget-view+json": {
       "model_id": "415aed1baa5f48a9a03e651ff08de898",
       "version_major": 2,
       "version_minor": 0
      },
      "text/plain": [
       "Filter:   0%|          | 0/4124485 [00:00<?, ? examples/s]"
      ]
     },
     "metadata": {},
     "output_type": "display_data"
    },
    {
     "data": {
      "application/vnd.jupyter.widget-view+json": {
       "model_id": "d9845d8a75a74ee2a0d85299647d8285",
       "version_major": 2,
       "version_minor": 0
      },
      "text/plain": [
       "Saving the dataset (0/4 shards):   0%|          | 0/4046601 [00:00<?, ? examples/s]"
      ]
     },
     "metadata": {},
     "output_type": "display_data"
    }
   ],
   "source": [
    "import re\n",
    "import unicodedata\n",
    "\n",
    "from datasets import load_from_disk\n",
    "\n",
    "load_from_hub = True\n",
    "\n",
    "dataset_filepath = \"data/clips_mqa/pt\"\n",
    "\n",
    "blacklist_domains = [\n",
    "    \"ti-enxame.com\",\n",
    "]\n",
    "\n",
    "prohibited_terms = [\"href\", \"https\", \"www.\", \".html\", \"volumen caps\"]\n",
    "\n",
    "\n",
    "def format_dataset(row):\n",
    "    return {\n",
    "        \"id\": row[\"id\"],\n",
    "        \"question\": row[\"name\"],\n",
    "        \"domain\": row[\"domain\"],\n",
    "        \"answer\": row[\"answers\"][0][\"text\"],\n",
    "    }\n",
    "\n",
    "def contains_prohibited_term_regex(text):\n",
    "    pattern = re.compile(\"|\".join(map(re.escape, prohibited_terms)))\n",
    "    return bool(pattern.search(text))\n",
    "\n",
    "def remove_links(text):\n",
    "    url_regex = r'http[s]?://(?:[a-zA-Z]|[0-9]|[$-_@.&+]|[!*\\\\(\\\\),]|(?:%[0-9a-fA-F][0-9a-fA-F]))+'\n",
    "    return re.sub(url_regex, '', text)\n",
    "\n",
    "def remove_non_alphanumeric(text):\n",
    "    return re.sub(r'[^\\w\\s.,!?;:\\'\\\"-]', '', text)\n",
    "\n",
    "def remove_long_words(text, max_length=15):\n",
    "    # Expressão regular para encontrar substrings com mais de 15 caracteres consecutivos\n",
    "    pattern = r'\\S{' + str(max_length + 1) + r',}'\n",
    "    # Substituir as substrings que correspondem ao padrão por uma string vazia\n",
    "    cleaned_text = re.sub(pattern, '', text)\n",
    "    return cleaned_text\n",
    "\n",
    "def check_if_question_is_big_enough(text):\n",
    "    if len(text) < 20:\n",
    "        return False\n",
    "    elif 20 <= len(text) <= 30:\n",
    "        if \"?\" in text[-3:]:\n",
    "            return True\n",
    "        return False\n",
    "    return True\n",
    "\n",
    "\n",
    "def format_text_fields(text):\n",
    "    text = unicodedata.normalize(\"NFKD\", text)\n",
    "    text = remove_long_words(text)\n",
    "    text = remove_non_alphanumeric(text)\n",
    "    text = remove_links(text)\n",
    "    text = text.replace(\"--\", \"\")\n",
    "    text = text.replace(\"\\n\", \"\")\n",
    "    text = text.replace(\"](\", \"\")\n",
    "    text = text.replace(\" [\", \"\")\n",
    "    text = text.strip()\n",
    "    return text\n",
    "\n",
    "def format_text(row):\n",
    "    return {\n",
    "        \"text\": format_text_fields(row[\"text\"]),\n",
    "        \"question\": format_text_fields(row[\"question\"]),\n",
    "        \"answer\": format_text_fields(row[\"answer\"]),\n",
    "    }\n",
    "\n",
    "\n",
    "if load_from_hub:\n",
    "    raw_dataset = load_dataset(\"clips/mqa\", language=\"pt\")[\"train\"]\n",
    "    raw_dataset = raw_dataset.filter(lambda row: row[\"answers\"][0][\"is_accepted\"] == True)\n",
    "    raw_dataset = raw_dataset.filter(lambda row: row[\"domain\"] not in blacklist_domains)\n",
    "    raw_dataset = raw_dataset.filter(lambda row: not contains_prohibited_term_regex(row[\"answers\"][0][\"text\"]) )\n",
    "    raw_dataset = raw_dataset.filter(lambda row: not contains_prohibited_term_regex(row[\"name\"]) )\n",
    "    raw_dataset = raw_dataset.filter(lambda row: not contains_prohibited_term_regex(row[\"text\"]) )\n",
    "    raw_dataset = raw_dataset.filter(lambda row: check_if_question_is_big_enough(row[\"name\"]) )\n",
    "    raw_dataset = raw_dataset.filter(lambda row: len(row[\"answers\"][0][\"text\"]) > 0)\n",
    "    raw_dataset = raw_dataset.map(format_dataset)\n",
    "    dataset = raw_dataset.map(format_text).select_columns(['id', 'bucket', 'domain', 'text', 'question', 'answer'])\n",
    "    dataset = dataset.filter(lambda row: check_if_question_is_big_enough(row[\"question\"]) )\n",
    "    dataset.save_to_disk(dataset_filepath)"
   ]
  },
  {
   "cell_type": "code",
   "execution_count": 89,
   "id": "b227553f-e4b0-420b-8bd9-ff0b73d08155",
   "metadata": {},
   "outputs": [],
   "source": [
    "dataset = load_from_disk(dataset_filepath)\n",
    "df = dataset.to_pandas()\n",
    "\n",
    "# df[\"len_question\"] = df[\"name\"].str.len()\n",
    "df[\"len_question\"] = df[\"question\"].str.len()\n",
    "df[\"len_answer\"] = df[\"answer\"].str.len()"
   ]
  },
  {
   "cell_type": "code",
   "execution_count": 102,
   "id": "f44600d4-8b1e-4fcf-ad8e-ae113d7bb5e5",
   "metadata": {},
   "outputs": [
    {
     "data": {
      "text/plain": [
       "{'id': '9409a81f11827047b3ba81da780a4373',\n",
       " 'bucket': '2021.10',\n",
       " 'domain': 'stackoverflow.com',\n",
       " 'text': \"Eu tenho uma lista que possui dentro dela outra lista com o nome dos alunos, e mais uma lista que foi dividida em mais duas listas, representando a primeira nota e a segunda nota. Por exemplo:'Matheus', 'Julia', 'Eduardo', 9.4, 4.7, 3.2, 7.2, 8.3, 2.4Gostaria de saber o que eu faco para acessar cada nivel dessa lista, para retornar separadamente o nome dos alunos, a sua primeira nota e a segunda nota.Eu tentei da seguinte forma:nome  nota1  nota2  for i in range0, 3:    do Aluno: '    1: '    2: '   print'n'notas  listaAlunos  for i in range0,    for j in range0, 3:\",\n",
       " 'question': 'Como acessar uma lista que esta dentro de outra lista em',\n",
       " 'answer': 'Existem forma melhores de armazenar seus dados como lista de dicionarios, ou lista de namedtuple. Se o modelo de aluno fosse mais complexo, ainda teria a lista de classes definidas pelo programador.Mas primeiro...Respondendo a perguntalistaAlunos  \\'Matheus\\', \\'Julia\\', \\'Eduardo\\', 9.4, 4.7, 3.2, 7.2, 8.3, 2.4alunos, notas  listaAlunosfor i in     printf\"Aluno: alunosi\"    for n, notaAluno in         printf\"Nota n1: Outras opcoesLista de dicionariosA forma de armazenamento serialistaAlunos  for i in range0, 3:   nome  input\\'Nome do Aluno: \\'   nota1   1: \\'   nota2   2: \\'    nome, \"nota1\": nota1, \"nota2\": nota2   print\\'n\\'Teriamos como valor\\'aluno\\': \\'Matheus\\', \\'nota1\\': 9.4, \\'nota2\\': 7.2,  \\'aluno\\': \\'Julia\\', \\'nota1\\': 4.7, \\'nota2\\': 8.3,  \\'aluno\\': \\'Eduardo\\', \\'nota1\\': 3.2, \\'nota2\\': 2.4Para imprimirfor aluno in listaAlunos:    printf\"Aluno:     printf\"Nota 1:     printf\"Nota 2:     printA saida seria:Aluno: MatheusNota 1: 9.4Nota 2: 7.2Aluno: JuliaNota 1: 4.7Nota 2: 8.3Aluno: EduardoNota 1: 3.2Nota 2: 2.4Lista de namedtupleColetafrom collections import namedtuplelistaAlunos  Aluno   \"aluno nota1 nota2\"for i in range0, 3:   nome  input\\'Nome do Aluno: \\'   nota1   1: \\'   nota2   2: \\'    nota1nota1, nota2nota2   print\\'n\\'Dados armazenados nota19.4, nota27.2,  nota14.7, nota28.3,   nota13.2, nota22.4Para imprimirfor aluno in listaAlunos:    printf\"Aluno : aluno.aluno\"    printf\"Nota 1: aluno.nota1\"    printf\"Nota 2: aluno.nota2\"A saida seria a mesma de antes.Outra possibilidade seria armazenar em dicionario, onde a chave fosse o nome do aluno. A estrutura ficadia assim: \"Matheus\":              \"nota1\": 9.4,             \"nota2\": 7.2            , \"Julia\":            \"nota1\": 4.7,           \"nota2\": 8.3          , \"Eduardo\":              \"nota1\": 3.2,             \"nota2\": 2.4            Essa tambem e viavel, porem pode complicar caso voce queira listar os alunos com nota 1 menor que 5, por exemploPara este caso a estrutura de lista contendo dicionarios e a mais adequada, pois voce pode usar o filterDe forma simplificada teriamos:listaAlunos  \\'aluno\\': \\'Matheus\\', \\'nota1\\': 9.4, \\'nota2\\': 7.2, \\'aluno\\': \\'Julia\\', \\'nota1\\': 4.7, \\'nota2\\': 8.3, \\'aluno\\': \\'Eduardo\\', \\'nota1\\': 3.2, \\'nota2\\': 2.4for aluno in filterlambda aluno: aluno\"nota1\"  5, listaAlunos:    printalunoSendo o resultado:\\'aluno\\': \\'Matheus\\', \\'nota1\\': 9.4, \\'nota2\\': 7.2No caso acima, lambda pode ser substituida por uma funcaodef     return aluno\"nota1\"  5for aluno in  listaAlunos:    printaluno\\'aluno\\': \\'Matheus\\', \\'nota1\\': 9.4, \\'nota2\\': 7.2Espero ter ajudado',\n",
       " 'len_question': 56,\n",
       " 'len_answer': 2527}"
      ]
     },
     "execution_count": 102,
     "metadata": {},
     "output_type": "execute_result"
    }
   ],
   "source": [
    "df[((df[\"text\"].str.len() > 0) & (df[\"text\"] != df[\"question\"]))].sample().iloc[0].to_dict()"
   ]
  },
  {
   "cell_type": "code",
   "execution_count": null,
   "id": "574d8af5-a57a-443c-8be0-73e3461a0d1d",
   "metadata": {},
   "outputs": [],
   "source": [
    "df[((df[\"text\"].str.len() > 0) & (df[\"text\"] != df[\"question\"]))].sample().iloc[0].to_dict()"
   ]
  },
  {
   "cell_type": "code",
   "execution_count": null,
   "id": "f1a43e83-ba96-4c7c-af2b-c7b9ed04f85e",
   "metadata": {},
   "outputs": [],
   "source": [
    "{'id': '73c1cef6e6faa4d025f7d91442a25b50',\n",
    " 'bucket': '2019.43',\n",
    " 'domain': 'yahoo.com',\n",
    " 'text': 'bom desde ja quero desejar uma boa noite a todos vcs e que Deus venha guardar a cada um dos meus amigos e visitantes e si eu magoei alguem eu aproveito para pedir perdao pq o bin bin e terrivel,,,,,um beijo bomba bombom e um abraco dinamite para todos fuiiiiiiiiiii',\n",
    " 'question': 'Abra que tem um desejo para vc,ou vc nao e corajosoa de entrar aqui?',\n",
    " 'answer': 'CHEGUEI MEIO ATRASADO, MAS TEM UMA LADO BOM, SOU O PRIMEIRO A OUVIR UM BOA NOITE DE VC HOJE, 25.   UM GRANDE ABRACO MEU AMIGO, E BOA NOITE PRA VC',\n",
    " 'len_question': 68,\n",
    " 'len_answer': 145}"
   ]
  },
  {
   "cell_type": "code",
   "execution_count": null,
   "id": "9496aecc-fd1a-4a28-969e-3c628fa0729a",
   "metadata": {},
   "outputs": [],
   "source": []
  },
  {
   "cell_type": "code",
   "execution_count": null,
   "id": "9db9ed7f-5984-47f5-997d-b301eabf4829",
   "metadata": {},
   "outputs": [],
   "source": []
  },
  {
   "cell_type": "code",
   "execution_count": 37,
   "id": "dd6b0dda-7fd7-4533-8b0b-81dc6af3f4b2",
   "metadata": {},
   "outputs": [
    {
     "name": "stderr",
     "output_type": "stream",
     "text": [
      "/opt/conda/lib/python3.10/site-packages/datasets/load.py:1491: FutureWarning: The repository for clips/mqa contains custom code which must be executed to correctly load the dataset. You can inspect the repository content at https://hf.co/datasets/clips/mqa\n",
      "You can avoid this message in future by passing the argument `trust_remote_code=True`.\n",
      "Passing `trust_remote_code=True` will be mandatory to load this dataset from the next major release of `datasets`.\n",
      "  warnings.warn(\n"
     ]
    },
    {
     "data": {
      "application/vnd.jupyter.widget-view+json": {
       "model_id": "5f527506232e4ec68c79d1721f5b87ee",
       "version_major": 2,
       "version_minor": 0
      },
      "text/plain": [
       "Filter:   0%|          | 0/95868 [00:00<?, ? examples/s]"
      ]
     },
     "metadata": {},
     "output_type": "display_data"
    },
    {
     "data": {
      "application/vnd.jupyter.widget-view+json": {
       "model_id": "8ffef21cb66f49b19a3b5a9a16e07a97",
       "version_major": 2,
       "version_minor": 0
      },
      "text/plain": [
       "Filter:   0%|          | 0/70172 [00:00<?, ? examples/s]"
      ]
     },
     "metadata": {},
     "output_type": "display_data"
    },
    {
     "data": {
      "application/vnd.jupyter.widget-view+json": {
       "model_id": "45862ecd2bf74c3f991e739472f40841",
       "version_major": 2,
       "version_minor": 0
      },
      "text/plain": [
       "Filter:   0%|          | 0/69822 [00:00<?, ? examples/s]"
      ]
     },
     "metadata": {},
     "output_type": "display_data"
    },
    {
     "data": {
      "application/vnd.jupyter.widget-view+json": {
       "model_id": "7a395a46a2fc4e5fb9d6b4b0220fa0f6",
       "version_major": 2,
       "version_minor": 0
      },
      "text/plain": [
       "Filter:   0%|          | 0/69724 [00:00<?, ? examples/s]"
      ]
     },
     "metadata": {},
     "output_type": "display_data"
    },
    {
     "data": {
      "application/vnd.jupyter.widget-view+json": {
       "model_id": "add13fb2ab8248ed8bc3f5531474110b",
       "version_major": 2,
       "version_minor": 0
      },
      "text/plain": [
       "Filter:   0%|          | 0/66593 [00:00<?, ? examples/s]"
      ]
     },
     "metadata": {},
     "output_type": "display_data"
    },
    {
     "data": {
      "application/vnd.jupyter.widget-view+json": {
       "model_id": "1185d1bd384741e881ee1e845019775a",
       "version_major": 2,
       "version_minor": 0
      },
      "text/plain": [
       "Map:   0%|          | 0/66593 [00:00<?, ? examples/s]"
      ]
     },
     "metadata": {},
     "output_type": "display_data"
    },
    {
     "data": {
      "application/vnd.jupyter.widget-view+json": {
       "model_id": "3283628cc30547cca0452c1db1d43bc6",
       "version_major": 2,
       "version_minor": 0
      },
      "text/plain": [
       "Map:   0%|          | 0/66593 [00:00<?, ? examples/s]"
      ]
     },
     "metadata": {},
     "output_type": "display_data"
    },
    {
     "data": {
      "application/vnd.jupyter.widget-view+json": {
       "model_id": "51ea7d1af6a94e86b255f3e1014cb350",
       "version_major": 2,
       "version_minor": 0
      },
      "text/plain": [
       "Filter:   0%|          | 0/66593 [00:00<?, ? examples/s]"
      ]
     },
     "metadata": {},
     "output_type": "display_data"
    },
    {
     "data": {
      "application/vnd.jupyter.widget-view+json": {
       "model_id": "270fb5bee30d4465be17ebc20b7e2538",
       "version_major": 2,
       "version_minor": 0
      },
      "text/plain": [
       "Saving the dataset (0/1 shards):   0%|          | 0/65370 [00:00<?, ? examples/s]"
      ]
     },
     "metadata": {},
     "output_type": "display_data"
    }
   ],
   "source": [
    "\n",
    "\n",
    "\n",
    "\n",
    "# dataset = load_from_disk(dataset_filepath)\n",
    "\n",
    "\n",
    "# raw_dataset = raw_dataset.shuffle(seed=42).select(range(100000))\n",
    "\n",
    "\n",
    "# raw_dataset = raw_dataset.select_columns(['anchor', 'positive', 'domain'])\n",
    "\n",
    "\n",
    "# raw_dataset = load_from_disk(dataset_filepath).select_columns(['anchor', 'positive'])"
   ]
  },
  {
   "cell_type": "code",
   "execution_count": 38,
   "id": "d260a404-89db-4be3-bc4a-50d6a27ef248",
   "metadata": {},
   "outputs": [],
   "source": []
  },
  {
   "cell_type": "code",
   "execution_count": 39,
   "id": "de750a9a-2159-435e-a66a-a273b2d0bead",
   "metadata": {},
   "outputs": [
    {
     "data": {
      "text/html": [
       "<div>\n",
       "<style scoped>\n",
       "    .dataframe tbody tr th:only-of-type {\n",
       "        vertical-align: middle;\n",
       "    }\n",
       "\n",
       "    .dataframe tbody tr th {\n",
       "        vertical-align: top;\n",
       "    }\n",
       "\n",
       "    .dataframe thead th {\n",
       "        text-align: right;\n",
       "    }\n",
       "</style>\n",
       "<table border=\"1\" class=\"dataframe\">\n",
       "  <thead>\n",
       "    <tr style=\"text-align: right;\">\n",
       "      <th></th>\n",
       "      <th>id</th>\n",
       "      <th>bucket</th>\n",
       "      <th>domain</th>\n",
       "      <th>text</th>\n",
       "      <th>question</th>\n",
       "      <th>answer</th>\n",
       "      <th>len_question</th>\n",
       "      <th>len_answer</th>\n",
       "    </tr>\n",
       "  </thead>\n",
       "  <tbody>\n",
       "    <tr>\n",
       "      <th>20</th>\n",
       "      <td>72d34b7230da06257fa77950795fdcb8</td>\n",
       "      <td>2019.51</td>\n",
       "      <td>runrun.it</td>\n",
       "      <td></td>\n",
       "      <td>o que e canvas online?</td>\n",
       "      <td>o canvas e uma ferramenta usada para definir o...</td>\n",
       "      <td>22</td>\n",
       "      <td>308</td>\n",
       "    </tr>\n",
       "    <tr>\n",
       "      <th>21</th>\n",
       "      <td>3807cf84691b3e09c1b27b3fa14f313a</td>\n",
       "      <td>2021.39</td>\n",
       "      <td>hotelscombined.pt</td>\n",
       "      <td></td>\n",
       "      <td>metro hotel  spa tem wi-fi?</td>\n",
       "      <td>sim, metro hotel  spa tem wi-fi disponivel par...</td>\n",
       "      <td>27</td>\n",
       "      <td>57</td>\n",
       "    </tr>\n",
       "    <tr>\n",
       "      <th>53</th>\n",
       "      <td>eb4de6d0153eae5b0a9390ebee8036ef</td>\n",
       "      <td>2020.29</td>\n",
       "      <td>kerendo.com</td>\n",
       "      <td></td>\n",
       "      <td>qual e o preco promocional?</td>\n",
       "      <td>r 126.80</td>\n",
       "      <td>27</td>\n",
       "      <td>8</td>\n",
       "    </tr>\n",
       "    <tr>\n",
       "      <th>75</th>\n",
       "      <td>0588f3c3205d2ae641f5c3fbc2e6597d</td>\n",
       "      <td>2020.45</td>\n",
       "      <td>sktecenergia.com.br</td>\n",
       "      <td></td>\n",
       "      <td>como funciona o nobreak?</td>\n",
       "      <td>o n-break evita que surtos de alta tensao na r...</td>\n",
       "      <td>24</td>\n",
       "      <td>156</td>\n",
       "    </tr>\n",
       "    <tr>\n",
       "      <th>103</th>\n",
       "      <td>029e9079479f50be27eb47661ad7504f</td>\n",
       "      <td>2021.43</td>\n",
       "      <td>zankyou.com.br</td>\n",
       "      <td></td>\n",
       "      <td>qual e o seu diferencial?</td>\n",
       "      <td>voce podera ter uma celebracao unica, feita a ...</td>\n",
       "      <td>25</td>\n",
       "      <td>231</td>\n",
       "    </tr>\n",
       "    <tr>\n",
       "      <th>...</th>\n",
       "      <td>...</td>\n",
       "      <td>...</td>\n",
       "      <td>...</td>\n",
       "      <td>...</td>\n",
       "      <td>...</td>\n",
       "      <td>...</td>\n",
       "      <td>...</td>\n",
       "      <td>...</td>\n",
       "    </tr>\n",
       "    <tr>\n",
       "      <th>65217</th>\n",
       "      <td>c328ffe89f9aa4979e4b75ada51e8863</td>\n",
       "      <td>2020.16</td>\n",
       "      <td>vrbo.com</td>\n",
       "      <td></td>\n",
       "      <td>Onde ficar em Rong, NO?</td>\n",
       "      <td>Para 2020, temos 65 opcoes de aluguel de tempo...</td>\n",
       "      <td>23</td>\n",
       "      <td>297</td>\n",
       "    </tr>\n",
       "    <tr>\n",
       "      <th>65219</th>\n",
       "      <td>b18498eea7ee778caace144bef0ca7fb</td>\n",
       "      <td>2020.45</td>\n",
       "      <td>webcamsex-gratis.nl</td>\n",
       "      <td></td>\n",
       "      <td>O que e Webcamsex gratis NL?</td>\n",
       "      <td>Webcamsex gratis NL e uma rede de video online...</td>\n",
       "      <td>28</td>\n",
       "      <td>1069</td>\n",
       "    </tr>\n",
       "    <tr>\n",
       "      <th>65232</th>\n",
       "      <td>12e30f82c6ae16b6d3ca430344486675</td>\n",
       "      <td>2021.10</td>\n",
       "      <td>guiadacarreira.com.br</td>\n",
       "      <td></td>\n",
       "      <td>qual a nota do mec da faec?</td>\n",
       "      <td>a faec possui nota 0 no indice geral dos curso...</td>\n",
       "      <td>27</td>\n",
       "      <td>82</td>\n",
       "    </tr>\n",
       "    <tr>\n",
       "      <th>65350</th>\n",
       "      <td>59b19aec3c897e1e50012b21fbf0833f</td>\n",
       "      <td>2021.31</td>\n",
       "      <td>viajala.com.br</td>\n",
       "      <td></td>\n",
       "      <td>quando ir para manaus?</td>\n",
       "      <td>manaus tem duas epocas. a epoca de chuva e de ...</td>\n",
       "      <td>22</td>\n",
       "      <td>314</td>\n",
       "    </tr>\n",
       "    <tr>\n",
       "      <th>65360</th>\n",
       "      <td>d03ff770972cbd236690be33427da5c0</td>\n",
       "      <td>2019.43</td>\n",
       "      <td>aluguetemporada.com.br</td>\n",
       "      <td></td>\n",
       "      <td>Posso alugar Casas em Lehnin?</td>\n",
       "      <td>E claro que sim. O AlugueTemporada oferece 61 ...</td>\n",
       "      <td>29</td>\n",
       "      <td>430</td>\n",
       "    </tr>\n",
       "  </tbody>\n",
       "</table>\n",
       "<p>2197 rows × 8 columns</p>\n",
       "</div>"
      ],
      "text/plain": [
       "                                     id   bucket                  domain text  \\\n",
       "20     72d34b7230da06257fa77950795fdcb8  2019.51               runrun.it        \n",
       "21     3807cf84691b3e09c1b27b3fa14f313a  2021.39       hotelscombined.pt        \n",
       "53     eb4de6d0153eae5b0a9390ebee8036ef  2020.29             kerendo.com        \n",
       "75     0588f3c3205d2ae641f5c3fbc2e6597d  2020.45     sktecenergia.com.br        \n",
       "103    029e9079479f50be27eb47661ad7504f  2021.43          zankyou.com.br        \n",
       "...                                 ...      ...                     ...  ...   \n",
       "65217  c328ffe89f9aa4979e4b75ada51e8863  2020.16                vrbo.com        \n",
       "65219  b18498eea7ee778caace144bef0ca7fb  2020.45     webcamsex-gratis.nl        \n",
       "65232  12e30f82c6ae16b6d3ca430344486675  2021.10   guiadacarreira.com.br        \n",
       "65350  59b19aec3c897e1e50012b21fbf0833f  2021.31          viajala.com.br        \n",
       "65360  d03ff770972cbd236690be33427da5c0  2019.43  aluguetemporada.com.br        \n",
       "\n",
       "                            question  \\\n",
       "20            o que e canvas online?   \n",
       "21       metro hotel  spa tem wi-fi?   \n",
       "53       qual e o preco promocional?   \n",
       "75          como funciona o nobreak?   \n",
       "103        qual e o seu diferencial?   \n",
       "...                              ...   \n",
       "65217        Onde ficar em Rong, NO?   \n",
       "65219   O que e Webcamsex gratis NL?   \n",
       "65232    qual a nota do mec da faec?   \n",
       "65350         quando ir para manaus?   \n",
       "65360  Posso alugar Casas em Lehnin?   \n",
       "\n",
       "                                                  answer  len_question  \\\n",
       "20     o canvas e uma ferramenta usada para definir o...            22   \n",
       "21     sim, metro hotel  spa tem wi-fi disponivel par...            27   \n",
       "53                                              r 126.80            27   \n",
       "75     o n-break evita que surtos de alta tensao na r...            24   \n",
       "103    voce podera ter uma celebracao unica, feita a ...            25   \n",
       "...                                                  ...           ...   \n",
       "65217  Para 2020, temos 65 opcoes de aluguel de tempo...            23   \n",
       "65219  Webcamsex gratis NL e uma rede de video online...            28   \n",
       "65232  a faec possui nota 0 no indice geral dos curso...            27   \n",
       "65350  manaus tem duas epocas. a epoca de chuva e de ...            22   \n",
       "65360  E claro que sim. O AlugueTemporada oferece 61 ...            29   \n",
       "\n",
       "       len_answer  \n",
       "20            308  \n",
       "21             57  \n",
       "53              8  \n",
       "75            156  \n",
       "103           231  \n",
       "...           ...  \n",
       "65217         297  \n",
       "65219        1069  \n",
       "65232          82  \n",
       "65350         314  \n",
       "65360         430  \n",
       "\n",
       "[2197 rows x 8 columns]"
      ]
     },
     "execution_count": 39,
     "metadata": {},
     "output_type": "execute_result"
    }
   ],
   "source": [
    "df[df[\"len_question\"] < 30]"
   ]
  },
  {
   "cell_type": "code",
   "execution_count": 87,
   "id": "99c13a1c-8f1e-4821-9acd-cd91d7b35ec7",
   "metadata": {},
   "outputs": [
    {
     "data": {
      "text/plain": [
       "{'id': '1ea07a06c11acf15245d0463c709b453',\n",
       " 'bucket': '2019.51',\n",
       " 'domain': 'momondo.pt',\n",
       " 'text': '',\n",
       " 'question': 'qual e a rota mais barata?',\n",
       " 'answer': 'voa de bilbao a porto aeroporto francisco sa carneiro pelos melhores precos nos voos bilbau - porto',\n",
       " 'len_question': 26,\n",
       " 'len_answer': 99}"
      ]
     },
     "execution_count": 87,
     "metadata": {},
     "output_type": "execute_result"
    }
   ],
   "source": [
    "temp = df[\n",
    "    (\n",
    "        (df[\"len_question\"] >= 0)\n",
    "        & (df[\"len_question\"] <= 30)\n",
    "    )\n",
    "].sample(1).iloc[0].to_dict()\n",
    "temp"
   ]
  },
  {
   "cell_type": "code",
   "execution_count": null,
   "id": "6e293370-e426-411f-8ee4-9d5fefc11ce1",
   "metadata": {},
   "outputs": [],
   "source": []
  },
  {
   "cell_type": "code",
   "execution_count": null,
   "id": "72837196-3f57-4270-a5e3-09a18b455cd0",
   "metadata": {},
   "outputs": [],
   "source": []
  },
  {
   "cell_type": "code",
   "execution_count": null,
   "id": "cf277146-6d50-4462-8a5a-4aa95f9d3d22",
   "metadata": {},
   "outputs": [],
   "source": []
  },
  {
   "cell_type": "code",
   "execution_count": null,
   "id": "1e130d87-23df-42cd-96f7-ace9486a774e",
   "metadata": {},
   "outputs": [],
   "source": []
  },
  {
   "cell_type": "code",
   "execution_count": null,
   "id": "7c179552-2146-4b72-9058-f3da5180c8de",
   "metadata": {},
   "outputs": [],
   "source": []
  },
  {
   "cell_type": "code",
   "execution_count": 431,
   "id": "efb1a912-8609-4c90-bf35-7174af8782df",
   "metadata": {},
   "outputs": [
    {
     "name": "stderr",
     "output_type": "stream",
     "text": [
      "/opt/conda/lib/python3.10/site-packages/datasets/load.py:1491: FutureWarning: The repository for clips/mqa contains custom code which must be executed to correctly load the dataset. You can inspect the repository content at https://hf.co/datasets/clips/mqa\n",
      "You can avoid this message in future by passing the argument `trust_remote_code=True`.\n",
      "Passing `trust_remote_code=True` will be mandatory to load this dataset from the next major release of `datasets`.\n",
      "  warnings.warn(\n"
     ]
    }
   ],
   "source": [
    "raw_dataset = load_dataset(\"clips/mqa\", language=\"pt\")[\"train\"]\n",
    "\n",
    "raw_dataset = raw_dataset.shuffle(seed=42).select(range(100000))"
   ]
  },
  {
   "cell_type": "code",
   "execution_count": 433,
   "id": "dfa737fe-0186-4cd8-9d36-99e129e1c7c8",
   "metadata": {},
   "outputs": [],
   "source": [
    "\n",
    "\n",
    "\n",
    "    \n",
    "f_dataset = raw_dataset.filter(lambda row: check_if_question_is_big_enough(row[\"name\"]) )\n",
    "\n",
    "df = f_dataset.to_pandas()\n",
    "\n",
    "df[\"len_question\"] = df[\"name\"].str.len()"
   ]
  },
  {
   "cell_type": "code",
   "execution_count": 434,
   "id": "4460e2f8-e822-4783-92c5-f5732938062f",
   "metadata": {},
   "outputs": [
    {
     "data": {
      "text/html": [
       "<div>\n",
       "<style scoped>\n",
       "    .dataframe tbody tr th:only-of-type {\n",
       "        vertical-align: middle;\n",
       "    }\n",
       "\n",
       "    .dataframe tbody tr th {\n",
       "        vertical-align: top;\n",
       "    }\n",
       "\n",
       "    .dataframe thead th {\n",
       "        text-align: right;\n",
       "    }\n",
       "</style>\n",
       "<table border=\"1\" class=\"dataframe\">\n",
       "  <thead>\n",
       "    <tr style=\"text-align: right;\">\n",
       "      <th></th>\n",
       "      <th>id</th>\n",
       "      <th>text</th>\n",
       "      <th>name</th>\n",
       "      <th>domain</th>\n",
       "      <th>bucket</th>\n",
       "      <th>answers</th>\n",
       "      <th>len_question</th>\n",
       "    </tr>\n",
       "  </thead>\n",
       "  <tbody>\n",
       "  </tbody>\n",
       "</table>\n",
       "</div>"
      ],
      "text/plain": [
       "Empty DataFrame\n",
       "Columns: [id, text, name, domain, bucket, answers, len_question]\n",
       "Index: []"
      ]
     },
     "execution_count": 434,
     "metadata": {},
     "output_type": "execute_result"
    }
   ],
   "source": [
    "df[df[\"len_question\"] < 10]"
   ]
  },
  {
   "cell_type": "code",
   "execution_count": null,
   "id": "db87648b-d517-4d4f-9992-3205dc10d215",
   "metadata": {},
   "outputs": [],
   "source": []
  },
  {
   "cell_type": "code",
   "execution_count": 425,
   "id": "9fd05b72-16fb-4a3a-98b7-9a4193e8aa99",
   "metadata": {},
   "outputs": [],
   "source": []
  },
  {
   "cell_type": "code",
   "execution_count": 426,
   "id": "f6bb9964-7e35-475a-8bda-9aeb820f5d01",
   "metadata": {},
   "outputs": [
    {
     "data": {
      "text/plain": [
       "{'id': '9a2ef86b502269ee5973d0bcd56431d7',\n",
       " 'bucket': '2021.10',\n",
       " 'domain': 'traduzca.com',\n",
       " 'text': '',\n",
       " 'question': 'strongpara',\n",
       " 'answer': 'para quem deseja concluir os estudos ou fazer uma  em outros paises, as traducoes juramentadas para o ingles de diplomas, historico escolar e certidoes sao fundamentais para que possa ingressar nas universidades. contate a traduzca e conheca nossas solucoes.',\n",
       " 'len_question': 10,\n",
       " 'len_answer': 258}"
      ]
     },
     "execution_count": 426,
     "metadata": {},
     "output_type": "execute_result"
    }
   ],
   "source": [
    "temp = df[\n",
    "    (\n",
    "        (df[\"len_question\"] >= 0)\n",
    "        & (df[\"len_question\"] <= 10)\n",
    "    )\n",
    "].sample(1).iloc[0].to_dict()\n",
    "temp"
   ]
  },
  {
   "cell_type": "code",
   "execution_count": 417,
   "id": "d6557228-6810-4d17-8984-068c559db61d",
   "metadata": {},
   "outputs": [
    {
     "data": {
      "text/plain": [
       "{'id': 'fc53e588c6aa769fe815bd5dcf7604a0',\n",
       " 'bucket': '2021.04',\n",
       " 'domain': 'tudosobreprodutos.com.br',\n",
       " 'text': '',\n",
       " 'question': ' quem e o fabricante do produto \"relogio monitor batimento cardiaco varias funcoes atrio 090\"?',\n",
       " 'answer': 'atrio',\n",
       " 'len_question': 94,\n",
       " 'len_answer': 5}"
      ]
     },
     "execution_count": 417,
     "metadata": {},
     "output_type": "execute_result"
    }
   ],
   "source": [
    "temp = df[\n",
    "    (\n",
    "        (df[\"len_answer\"] >= 0)\n",
    "        & (df[\"len_answer\"] <= 10)\n",
    "    )\n",
    "].sample(1).iloc[0].to_dict()\n",
    "temp"
   ]
  },
  {
   "cell_type": "code",
   "execution_count": 322,
   "id": "5e5589c8-5a7c-4b3e-812a-3a33e4ba5c50",
   "metadata": {},
   "outputs": [
    {
     "data": {
      "text/plain": [
       "<Axes: >"
      ]
     },
     "execution_count": 322,
     "metadata": {},
     "output_type": "execute_result"
    },
    {
     "data": {
      "image/png": "[encoded data removed]",
      "text/plain": [
       "<Figure size 640x480 with 1 Axes>"
      ]
     },
     "metadata": {},
     "output_type": "display_data"
    }
   ],
   "source": [
    "df[\"len_question\"].hist()"
   ]
  },
  {
   "cell_type": "code",
   "execution_count": 281,
   "id": "75b074e4-3158-46d5-841d-ee9f813d3c91",
   "metadata": {},
   "outputs": [
    {
     "data": {
      "application/vnd.jupyter.widget-view+json": {
       "model_id": "2757ed5fc7c245b7a4ba18667119d2ca",
       "version_major": 2,
       "version_minor": 0
      },
      "text/plain": [
       "Map:   0%|          | 0/77847 [00:00<?, ? examples/s]"
      ]
     },
     "metadata": {},
     "output_type": "display_data"
    },
    {
     "name": "stdout",
     "output_type": "stream",
     "text": [
      "CPU times: user 5.68 s, sys: 31.9 ms, total: 5.71 s\n",
      "Wall time: 5.75 s\n"
     ]
    }
   ],
   "source": [
    "# %%time\n",
    "\n",
    "# import re\n",
    "# import unicodedata\n",
    "\n",
    "\n",
    "\n",
    "# def remove_links(text):\n",
    "#     url_regex = r'http[s]?://(?:[a-zA-Z]|[0-9]|[$-_@.&+]|[!*\\\\(\\\\),]|(?:%[0-9a-fA-F][0-9a-fA-F]))+'\n",
    "#     return re.sub(url_regex, '', text)\n",
    "\n",
    "# def remove_non_alphanumeric(text):\n",
    "#     return re.sub(r'[^\\w\\s.,!?;:\\'\\\"-]', '', text)\n",
    "\n",
    "# def remove_long_words(text, max_length=15):\n",
    "#     # Expressão regular para encontrar substrings com mais de 15 caracteres consecutivos\n",
    "#     pattern = r'\\S{' + str(max_length + 1) + r',}'\n",
    "#     # Substituir as substrings que correspondem ao padrão por uma string vazia\n",
    "#     cleaned_text = re.sub(pattern, '', text)\n",
    "#     return cleaned_text\n",
    "\n",
    "# def format_text_fields(text):\n",
    "#     text = unicodedata.normalize(\"NFKD\",)\n",
    "#     text = remove_long_words(text)\n",
    "#     text = remove_non_alphanumeric(text)\n",
    "#     text = remove_links(text)\n",
    "#     text = text.replace(\"--\", \"\")\n",
    "#     text = text.replace(\"\\n\", \"\")\n",
    "#     text = text.replace(\"](\", \"\")\n",
    "#     text = text.replace(\" [\", \"\")\n",
    "\n",
    "    \n",
    "#     return text\n",
    "\n",
    "# def format_text(row):\n",
    "#     return {\n",
    "#         \"anchor\": format_text_fields(row[\"anchor\"]),\n",
    "#         \"positive\": format_text_fields(row[\"positive\"]),\n",
    "#     }\n",
    "\n",
    "# dataset = raw_dataset.map(format_text)"
   ]
  },
  {
   "cell_type": "code",
   "execution_count": 282,
   "id": "641b3df0-44b2-4427-be1f-5bdb016717dc",
   "metadata": {},
   "outputs": [
    {
     "name": "stdout",
     "output_type": "stream",
     "text": [
      "CPU times: user 42.1 ms, sys: 17 ms, total: 59.1 ms\n",
      "Wall time: 58.3 ms\n"
     ]
    }
   ],
   "source": [
    "%%time\n"
   ]
  },
  {
   "cell_type": "code",
   "execution_count": 311,
   "id": "ea76d86c-5461-43b3-819e-54a17138db6f",
   "metadata": {},
   "outputs": [
    {
     "data": {
      "text/plain": [
       "{'anchor': 'quais sao as medidas de limpeza e higiene em vigor no moca hotel?',\n",
       " 'positive': 'este estabelecimento confirma que sao utilizados produtos desinfetantes na limpeza. alem disso, e fornecido gel desinfetante aos clientes e os funcionarios utilizam equipamento de protecao. tenha em atencao que esta informacao foi fornecida pelos nossos parceiros. ',\n",
       " 'domain': 'hoteis.com',\n",
       " 'len_anchor': 65}"
      ]
     },
     "execution_count": 311,
     "metadata": {},
     "output_type": "execute_result"
    }
   ],
   "source": [
    "temp = df.sample(1).iloc[0].to_dict()\n",
    "temp"
   ]
  },
  {
   "cell_type": "code",
   "execution_count": 275,
   "id": "35f029f7-5f27-4e68-a4bf-31bdb0f1a6e6",
   "metadata": {},
   "outputs": [
    {
     "name": "stderr",
     "output_type": "stream",
     "text": [
      "100%|█████████████████████████████████████████████████████████████████████████████████████████████████████████████████████████████████████████████████████████████████████████████████████████████████████████| 77847/77847 [00:00<00:00, 193417.56it/s]\n"
     ]
    },
    {
     "name": "stdout",
     "output_type": "stream",
     "text": [
      "0.05     1.0\n",
      "0.16     2.0\n",
      "0.50     5.0\n",
      "0.84     8.0\n",
      "0.95    11.0\n",
      "dtype: float64\n"
     ]
    },
    {
     "data": {
      "text/plain": [
       "<Axes: >"
      ]
     },
     "execution_count": 275,
     "metadata": {},
     "output_type": "execute_result"
    },
    {
     "data": {
      "image/png": "[encoded data removed]",
      "text/plain": [
       "<Figure size 640x480 with 1 Axes>"
      ]
     },
     "metadata": {},
     "output_type": "display_data"
    }
   ],
   "source": [
    "import pandas as pd\n",
    "from tqdm import tqdm\n",
    "\n",
    "results = []\n",
    "\n",
    "for a, p in tqdm(df[[\"anchor\", \"positive\"]].values):\n",
    "    results += [len(x) for x in a.split()]\n",
    "    results += [len(x) for x in p.split()]\n",
    "\n",
    "temp = pd.Series(results)\n",
    "\n",
    "print(temp.quantile([0.05,0.16,0.5,0.84, 0.95]))\n",
    "\n",
    "temp.hist()"
   ]
  },
  {
   "cell_type": "code",
   "execution_count": 270,
   "id": "58c58809-e0ff-4652-a2e9-b0102f25331b",
   "metadata": {},
   "outputs": [
    {
     "data": {
      "text/plain": [
       "58"
      ]
     },
     "execution_count": 270,
     "metadata": {},
     "output_type": "execute_result"
    }
   ],
   "source": [
    "def remove_long_words(text, max_length=15):\n",
    "    # Expressão regular para encontrar substrings com mais de 15 caracteres consecutivos\n",
    "    pattern = r'\\S{' + str(max_length + 1) + r',}'\n",
    "    # Substituir as substrings que correspondem ao padrão por uma string vazia\n",
    "    cleaned_text = re.sub(pattern, '', text)\n",
    "    return cleaned_text\n",
    "\n",
    "len(\"http://localhost:8888/lab/tree/09-finetune-embedding.ipynb\")"
   ]
  },
  {
   "cell_type": "code",
   "execution_count": 272,
   "id": "9c775829-5d2b-493e-b969-7982db3d80fc",
   "metadata": {},
   "outputs": [
    {
     "data": {
      "text/plain": [
       "'as '"
      ]
     },
     "execution_count": 272,
     "metadata": {},
     "output_type": "execute_result"
    }
   ],
   "source": [
    "remove_long_words(\"as http://localhost:8888/lab/tree/09-finetune-embedding.ipynb\")"
   ]
  },
  {
   "cell_type": "code",
   "execution_count": 265,
   "id": "6979e865-397f-411d-b94b-628cd33148db",
   "metadata": {},
   "outputs": [
    {
     "data": {
      "text/plain": [
       "<Axes: >"
      ]
     },
     "execution_count": 265,
     "metadata": {},
     "output_type": "execute_result"
    },
    {
     "data": {
      "image/png": "[encoded data removed]",
      "text/plain": [
       "<Figure size 640x480 with 1 Axes>"
      ]
     },
     "metadata": {},
     "output_type": "display_data"
    }
   ],
   "source": [
    "temp.clip(0,20).hist(bins=50)"
   ]
  },
  {
   "cell_type": "code",
   "execution_count": 260,
   "id": "b87a60bd-dd59-4417-b3c7-18d2fb335a42",
   "metadata": {},
   "outputs": [
    {
     "name": "stdout",
     "output_type": "stream",
     "text": [
      "0.05     1.0\n",
      "0.16     2.0\n",
      "0.50     5.0\n",
      "0.84     8.0\n",
      "0.99    15.0\n",
      "dtype: float64\n"
     ]
    }
   ],
   "source": [
    "print(temp.quantile([0.05,0.16,0.5,0.84, 0.99]))"
   ]
  },
  {
   "cell_type": "code",
   "execution_count": 253,
   "id": "82370f81-49dd-4357-af36-816112ab482b",
   "metadata": {},
   "outputs": [
    {
     "data": {
      "text/html": [
       "<div>\n",
       "<style scoped>\n",
       "    .dataframe tbody tr th:only-of-type {\n",
       "        vertical-align: middle;\n",
       "    }\n",
       "\n",
       "    .dataframe tbody tr th {\n",
       "        vertical-align: top;\n",
       "    }\n",
       "\n",
       "    .dataframe thead th {\n",
       "        text-align: right;\n",
       "    }\n",
       "</style>\n",
       "<table border=\"1\" class=\"dataframe\">\n",
       "  <thead>\n",
       "    <tr style=\"text-align: right;\">\n",
       "      <th></th>\n",
       "      <th>anchor</th>\n",
       "      <th>positive</th>\n",
       "      <th>domain</th>\n",
       "      <th>len_anchor</th>\n",
       "    </tr>\n",
       "  </thead>\n",
       "  <tbody>\n",
       "    <tr>\n",
       "      <th>0</th>\n",
       "      <td>quanto custa um hotel para paws, claws, and co...</td>\n",
       "      <td>o preço médio para hotéis em paws, claws, and ...</td>\n",
       "      <td>kayak.com.br</td>\n",
       "      <td>50</td>\n",
       "    </tr>\n",
       "    <tr>\n",
       "      <th>1</th>\n",
       "      <td>Qual a loja da TIM Barão de Grajaú mais próxim...</td>\n",
       "      <td>A loja da TIM Barão de Grajaú mais próxima de ...</td>\n",
       "      <td>podecomparar.com.br</td>\n",
       "      <td>55</td>\n",
       "    </tr>\n",
       "    <tr>\n",
       "      <th>2</th>\n",
       "      <td>qual é a distância entre o holiday inn madrid ...</td>\n",
       "      <td>ao hospedar-te no holiday inn madrid - las tab...</td>\n",
       "      <td>momondo.pt</td>\n",
       "      <td>80</td>\n",
       "    </tr>\n",
       "    <tr>\n",
       "      <th>3</th>\n",
       "      <td>como posso encontrar voos baratos saindo de pi...</td>\n",
       "      <td>em edreams usamos técnicas de machine learning...</td>\n",
       "      <td>edreams.pt</td>\n",
       "      <td>75</td>\n",
       "    </tr>\n",
       "    <tr>\n",
       "      <th>4</th>\n",
       "      <td>os vossos menus podem contratar-se a partir de...</td>\n",
       "      <td>64</td>\n",
       "      <td>zankyou.pt</td>\n",
       "      <td>57</td>\n",
       "    </tr>\n",
       "    <tr>\n",
       "      <th>...</th>\n",
       "      <td>...</td>\n",
       "      <td>...</td>\n",
       "      <td>...</td>\n",
       "      <td>...</td>\n",
       "    </tr>\n",
       "    <tr>\n",
       "      <th>77842</th>\n",
       "      <td>quais são os melhores imóveis que aceitam anim...</td>\n",
       "      <td>os melhores aluguéis de temporada que aceitam ...</td>\n",
       "      <td>tripadvisor.com.br</td>\n",
       "      <td>90</td>\n",
       "    </tr>\n",
       "    <tr>\n",
       "      <th>77843</th>\n",
       "      <td>Ibis Rio de Janeiro Santos Dumont tem um rest...</td>\n",
       "      <td>Ibis Rio de Janeiro Santos Dumont tem 1 restau...</td>\n",
       "      <td>booking.com</td>\n",
       "      <td>63</td>\n",
       "    </tr>\n",
       "    <tr>\n",
       "      <th>77844</th>\n",
       "      <td>Como falar com um atendente Claro Jandaíra?</td>\n",
       "      <td>Se você é cliente, ligue para o 106 99 ou 1052...</td>\n",
       "      <td>podecomparar.com.br</td>\n",
       "      <td>44</td>\n",
       "    </tr>\n",
       "    <tr>\n",
       "      <th>77845</th>\n",
       "      <td>econo lodge little creek oferece cancelamento ...</td>\n",
       "      <td>sim, econo lodge little creek disponibiliza no...</td>\n",
       "      <td>hoteis.com</td>\n",
       "      <td>78</td>\n",
       "    </tr>\n",
       "    <tr>\n",
       "      <th>77846</th>\n",
       "      <td>qual é a companhia aérea mais barata para voar...</td>\n",
       "      <td>aerolineas argentinas, avianca brasil, e azul ...</td>\n",
       "      <td>momondo.com.br</td>\n",
       "      <td>70</td>\n",
       "    </tr>\n",
       "  </tbody>\n",
       "</table>\n",
       "<p>77847 rows × 4 columns</p>\n",
       "</div>"
      ],
      "text/plain": [
       "                                                  anchor  \\\n",
       "0      quanto custa um hotel para paws, claws, and co...   \n",
       "1      Qual a loja da TIM Barão de Grajaú mais próxim...   \n",
       "2      qual é a distância entre o holiday inn madrid ...   \n",
       "3      como posso encontrar voos baratos saindo de pi...   \n",
       "4      os vossos menus podem contratar-se a partir de...   \n",
       "...                                                  ...   \n",
       "77842  quais são os melhores imóveis que aceitam anim...   \n",
       "77843   Ibis Rio de Janeiro Santos Dumont tem um rest...   \n",
       "77844        Como falar com um atendente Claro Jandaíra?   \n",
       "77845  econo lodge little creek oferece cancelamento ...   \n",
       "77846  qual é a companhia aérea mais barata para voar...   \n",
       "\n",
       "                                                positive               domain  \\\n",
       "0      o preço médio para hotéis em paws, claws, and ...         kayak.com.br   \n",
       "1      A loja da TIM Barão de Grajaú mais próxima de ...  podecomparar.com.br   \n",
       "2      ao hospedar-te no holiday inn madrid - las tab...           momondo.pt   \n",
       "3      em edreams usamos técnicas de machine learning...           edreams.pt   \n",
       "4                                                     64           zankyou.pt   \n",
       "...                                                  ...                  ...   \n",
       "77842  os melhores aluguéis de temporada que aceitam ...   tripadvisor.com.br   \n",
       "77843  Ibis Rio de Janeiro Santos Dumont tem 1 restau...          booking.com   \n",
       "77844  Se você é cliente, ligue para o 106 99 ou 1052...  podecomparar.com.br   \n",
       "77845  sim, econo lodge little creek disponibiliza no...           hoteis.com   \n",
       "77846  aerolineas argentinas, avianca brasil, e azul ...       momondo.com.br   \n",
       "\n",
       "       len_anchor  \n",
       "0              50  \n",
       "1              55  \n",
       "2              80  \n",
       "3              75  \n",
       "4              57  \n",
       "...           ...  \n",
       "77842          90  \n",
       "77843          63  \n",
       "77844          44  \n",
       "77845          78  \n",
       "77846          70  \n",
       "\n",
       "[77847 rows x 4 columns]"
      ]
     },
     "execution_count": 253,
     "metadata": {},
     "output_type": "execute_result"
    }
   ],
   "source": [
    "df"
   ]
  },
  {
   "cell_type": "code",
   "execution_count": 276,
   "id": "1fe6e2dc-7654-4e34-b735-be288dd34abb",
   "metadata": {},
   "outputs": [
    {
     "data": {
      "text/plain": [
       "{'anchor': 'quais as regras para gratuidade de ônibus na satélite norte, rápido marajó,  lopestur?',\n",
       " 'positive': 'as viações permitem reserva de passagens de ônibus gratuitas para alguns tipos de viajantes.passagens gratuita para crianças com idade até 5 anos.saiba a documentação necessária para viajar com menores de idosos também possuem direito a gratuidade e descontos.veja\\xa0mais informações sobre passagens de ônibus gratuitas para também gratuidade no ônibus para\\xa0portadores de necessidades \\xa0e jovens de baixa renda.',\n",
       " 'domain': 'temonibus.com',\n",
       " 'len_anchor': 86}"
      ]
     },
     "execution_count": 276,
     "metadata": {},
     "output_type": "execute_result"
    }
   ],
   "source": [
    "temp = df.sample(1).iloc[0].to_dict()\n",
    "temp"
   ]
  },
  {
   "cell_type": "code",
   "execution_count": 280,
   "id": "18b328de-9109-470a-9041-127dd7ced5dd",
   "metadata": {},
   "outputs": [
    {
     "data": {
      "text/plain": [
       "'as viações permitem reserva de passagens de ônibus gratuitas para alguns tipos de viajantes.passagens gratuita para crianças com idade até 5 anos.saiba a documentação necessária para viajar com menores de idosos também possuem direito a gratuidade e descontos.veja mais informações sobre passagens de ônibus gratuitas para também gratuidade no ônibus para portadores de necessidades  e jovens de baixa renda.'"
      ]
     },
     "execution_count": 280,
     "metadata": {},
     "output_type": "execute_result"
    }
   ],
   "source": [
    "import unicodedata\n",
    "\n",
    "unicodedata.normalize(\"NFKD\",'as viações permitem reserva de passagens de ônibus gratuitas para alguns tipos de viajantes.passagens gratuita para crianças com idade até 5 anos.saiba a documentação necessária para viajar com menores de idosos também possuem direito a gratuidade e descontos.veja\\xa0mais informações sobre passagens de ônibus gratuitas para também gratuidade no ônibus para\\xa0portadores de necessidades \\xa0e jovens de baixa renda.')"
   ]
  },
  {
   "cell_type": "code",
   "execution_count": 239,
   "id": "e00d7374-baf5-4170-b697-03ddd57eabca",
   "metadata": {},
   "outputs": [
    {
     "data": {
      "text/plain": [
       "{'anchor': 'que serviços no quarto estão disponíveis no monte santo resort?',\n",
       " 'positive': 'os melhores serviços no quarto são kitchenette, ar-condicionado e televisão de ecrã plano. ver todos os serviços no quarto.hotel_review-g189115-d1107840-reviews-monte_santo_resort-carvoeiro_faro_district_algarve.html?m63287faqtshotel_reviewfaqtupgeo3a1891153bdetail3a1107840faqtt122faqtqr3',\n",
       " 'domain': 'tripadvisor.pt',\n",
       " 'len_anchor': 63}"
      ]
     },
     "execution_count": 239,
     "metadata": {},
     "output_type": "execute_result"
    }
   ],
   "source": [
    "temp = df[df['domain'] == \"tripadvisor.pt\"].sample(1).iloc[0].to_dict()\n",
    "temp"
   ]
  },
  {
   "cell_type": "code",
   "execution_count": 204,
   "id": "2d55158f-88b8-4e04-9eb2-e266838be5e3",
   "metadata": {},
   "outputs": [
    {
     "data": {
      "text/plain": [
       "32"
      ]
     },
     "execution_count": 204,
     "metadata": {},
     "output_type": "execute_result"
    }
   ],
   "source": [
    "len(df[df['domain'] == \"ti-enxame.com\"])"
   ]
  },
  {
   "cell_type": "code",
   "execution_count": null,
   "id": "55fcae5a-02db-4543-87e2-252e2cbd10ff",
   "metadata": {},
   "outputs": [],
   "source": []
  },
  {
   "cell_type": "code",
   "execution_count": 135,
   "id": "8737f511-cf56-4683-a7dd-a44259372497",
   "metadata": {},
   "outputs": [
    {
     "data": {
      "text/plain": [
       "{'anchor': '### Quais são os melhores hotéis em Medina próximos a Aeroporto Internacional Príncipe Mohammad Bin Abdulaziz?',\n",
       " 'positive': 'Os viajantes que ficaram em Medina próximos a Aeroporto Internacional Príncipe Mohammad Bin Abdulaziz (MED) fizeram bons comentários sobre [Millennium Madinah Airport](/hotel/sa/millennium-madinah-airport.pt-br.html?sid=c5327ac2c222c6a6ac262f2f0950d3f7), [فندق سوار](/hotel/sa/sewar.pt-br.html?sid=c5327ac2c222c6a6ac262f2f0950d3f7) e [فندق روائس](/hotel/sa/fndq-rwys.pt-br.html?sid=c5327ac2c222c6a6ac262f2f0950d3f7).',\n",
       " 'len_anchor': 110}"
      ]
     },
     "execution_count": 135,
     "metadata": {},
     "output_type": "execute_result"
    }
   ],
   "source": [
    "temp = df[\n",
    "    (\n",
    "        (df[\"len_anchor\"] >= df[\"len_anchor\"].quantile(0.95))\n",
    "        & (df[\"len_anchor\"] <= df[\"len_anchor\"].quantile(0.99))\n",
    "    )\n",
    "].sample(1).iloc[0].to_dict()\n",
    "temp"
   ]
  },
  {
   "cell_type": "code",
   "execution_count": 125,
   "id": "699283f2-d81e-4d26-bde8-751ab59f4552",
   "metadata": {},
   "outputs": [
    {
     "data": {
      "text/plain": [
       "115"
      ]
     },
     "execution_count": 125,
     "metadata": {},
     "output_type": "execute_result"
    }
   ],
   "source": [
    "len('hipertensos e diabéticos podem utilizar o mapa do site excit anais luxxxo gel lubrificante excitante anal premium ?')"
   ]
  },
  {
   "cell_type": "code",
   "execution_count": 90,
   "id": "eab39e83-5fad-4daf-aa55-8ded3c3487b4",
   "metadata": {},
   "outputs": [
    {
     "data": {
      "text/plain": [
       "<Axes: >"
      ]
     },
     "execution_count": 90,
     "metadata": {},
     "output_type": "execute_result"
    },
    {
     "data": {
      "image/png": "[encoded data removed]",
      "text/plain": [
       "<Figure size 640x480 with 1 Axes>"
      ]
     },
     "metadata": {},
     "output_type": "display_data"
    }
   ],
   "source": [
    "df[\"len_anchor\"].clip(0,200).sample(1000000).hist(bins=100)"
   ]
  },
  {
   "cell_type": "code",
   "execution_count": 81,
   "id": "da605130-5d99-49fa-9fe1-6f492715b564",
   "metadata": {},
   "outputs": [
    {
     "data": {
      "text/plain": [
       "{'anchor': 'afeta os principais órgãos',\n",
       " 'positive': 'o que a droga faz no corpo também é afetar os principais órgãos. é claro que todos os órgãos são indispensáveis para a sobrevivência do corpo humano. porém, há certos órgãos qu'}"
      ]
     },
     "execution_count": 81,
     "metadata": {},
     "output_type": "execute_result"
    }
   ],
   "source": []
  },
  {
   "cell_type": "code",
   "execution_count": null,
   "id": "fa7e99ad-7d33-40f0-b12b-677529e308b1",
   "metadata": {},
   "outputs": [],
   "source": []
  },
  {
   "cell_type": "code",
   "execution_count": 55,
   "id": "cf06272e-b7ca-435c-b17d-f730859f5815",
   "metadata": {},
   "outputs": [
    {
     "data": {
      "application/vnd.jupyter.widget-view+json": {
       "model_id": "02d2f8cfda3c4f8aa364bb5c35ce2922",
       "version_major": 2,
       "version_minor": 0
      },
      "text/plain": [
       "Saving the dataset (0/8 shards):   0%|          | 0/6218943 [00:00<?, ? examples/s]"
      ]
     },
     "metadata": {},
     "output_type": "display_data"
    }
   ],
   "source": [
    "dataset.save_to_disk(\"data/clips_mqa/pt\")"
   ]
  },
  {
   "cell_type": "code",
   "execution_count": 56,
   "id": "a23288a0-4d41-4d18-af82-0618274983a8",
   "metadata": {},
   "outputs": [
    {
     "name": "stdout",
     "output_type": "stream",
     "text": [
      "CPU times: user 111 ms, sys: 97.2 ms, total: 208 ms\n",
      "Wall time: 61.1 ms\n"
     ]
    }
   ],
   "source": [
    "%%time\n",
    "\n",
    "\n"
   ]
  },
  {
   "cell_type": "code",
   "execution_count": 58,
   "id": "07bb1f34-74dd-4876-9fb7-e9d785f066ab",
   "metadata": {},
   "outputs": [],
   "source": [
    "df = data.to_pandas()"
   ]
  },
  {
   "cell_type": "code",
   "execution_count": 66,
   "id": "d2897055-b44d-4d36-8c23-e992902e6131",
   "metadata": {},
   "outputs": [
    {
     "data": {
      "text/plain": [
       "is_accepted\n",
       "True     5964271\n",
       "False     254672\n",
       "Name: count, dtype: int64"
      ]
     },
     "execution_count": 66,
     "metadata": {},
     "output_type": "execute_result"
    }
   ],
   "source": [
    "df[\"is_accepted\"].value_counts()"
   ]
  },
  {
   "cell_type": "code",
   "execution_count": 63,
   "id": "16c54d7c-b42c-46dd-93d3-b0cba2e1e06e",
   "metadata": {},
   "outputs": [
    {
     "data": {
      "text/plain": [
       "{'id': 'aa5f6da9fce7e3be38ccd39a5c14af18',\n",
       " 'text': '',\n",
       " 'name': 'Quais são os hotéis mais económicos em Berkel en Rodenrijs?\\n-----------------------------------------------------------\\n\\n',\n",
       " 'domain': 'viamichelin.pt',\n",
       " 'bucket': '2021.43',\n",
       " 'answers': array([{'text': '[Hostel Ani&Haakien](https://www.viamichelin.pt/web/Hotel/Rotterdam-3014_LC-_-afwe6q3o), [Grand Hotel Central](https://www.viamichelin.pt/web/Hotel/Rotterdam-3012_EH-_-cqjvittp), [George&Ingrid Dinner&Bed](https://www.viamichelin.pt/web/Hotel/Nootdorp-2631_TA-_-9355b21b) fazem parte dos hotéis mais económicos Berkel en Rodenrijs. Pode reservar o seu quarto gratuitamente. Para obter os hotéis mais baratos, pode ordenar os resultados por preço crescente.\\n\\n', 'name': '', 'is_accepted': True}],\n",
       "       dtype=object)}"
      ]
     },
     "execution_count": 63,
     "metadata": {},
     "output_type": "execute_result"
    }
   ],
   "source": []
  },
  {
   "cell_type": "code",
   "execution_count": 35,
   "id": "67cf3ccb-843f-45eb-affd-0c8f3d52e9cd",
   "metadata": {},
   "outputs": [
    {
     "data": {
      "text/plain": [
       "{'id': '99ad47da0c43c59f88ae0ea0b010f6ea',\n",
       " 'text': 'um certo liquido teve sua temperatura medida com dois termômetros x e y. o valor encontrado no termômetro x superou o termômetro y em 10 unidades. sabendo que os termômetros apresentam para o primeiro ponto fixo os valores -10°x e 20°y e, para o segundo ponto fixo os valores de 190°x e 270°y, determine a temperatura assinalada nos termômetros.\\u200b',\n",
       " 'name': 'um certo liquido teve sua temperatura medida com dois termômetros x e y. o valor encontrado no termômetro x superou o termômetro',\n",
       " 'domain': 'br.com',\n",
       " 'bucket': '2021.21',\n",
       " 'answers': array([{'text': 'o valor de x é 30°x e o valor de y é 20°y.explicação:...', 'name': '', 'is_accepted': False}],\n",
       "       dtype=object)}"
      ]
     },
     "execution_count": 35,
     "metadata": {},
     "output_type": "execute_result"
    }
   ],
   "source": []
  },
  {
   "cell_type": "code",
   "execution_count": 34,
   "id": "6b48795e-baaa-4aa1-966a-a2983090c86d",
   "metadata": {},
   "outputs": [
    {
     "data": {
      "text/plain": [
       "'um certo liquido teve sua temperatura medida com dois termômetros x e y. o valor encontrado no termômetro x superou o termômetro y em 10 unidades. sabendo que os termômetros apresentam para o primeiro ponto fixo os valores -10°x e 20°y e, para o segundo ponto fixo os valores de 190°x e 270°y, determine a temperatura assinalada nos termômetros.\\u200b'"
      ]
     },
     "execution_count": 34,
     "metadata": {},
     "output_type": "execute_result"
    }
   ],
   "source": [
    "temp[\"text\"]"
   ]
  },
  {
   "cell_type": "code",
   "execution_count": 11,
   "id": "8729c623-80c9-42db-a3e3-923983156869",
   "metadata": {},
   "outputs": [
    {
     "data": {
      "application/vnd.jupyter.widget-view+json": {
       "model_id": "5a1547b067f54a28bc29e7c1ede091aa",
       "version_major": 2,
       "version_minor": 0
      },
      "text/plain": [
       "Creating json from Arrow format:   0%|          | 0/2 [00:00<?, ?ba/s]"
      ]
     },
     "metadata": {},
     "output_type": "display_data"
    },
    {
     "data": {
      "application/vnd.jupyter.widget-view+json": {
       "model_id": "754b6ae26d7344ca81f92fb940dc8de0",
       "version_major": 2,
       "version_minor": 0
      },
      "text/plain": [
       "Creating json from Arrow format:   0%|          | 0/1 [00:00<?, ?ba/s]"
      ]
     },
     "metadata": {},
     "output_type": "display_data"
    },
    {
     "data": {
      "text/plain": [
       "89683"
      ]
     },
     "execution_count": 11,
     "metadata": {},
     "output_type": "execute_result"
    }
   ],
   "source": [
    "# Load dataset from the hub\n",
    "dataset = load_dataset(\"Itau-Unibanco/FAQ_BACEN\", split=\"train\").select_columns(['questions', 'answers'])\n",
    "\n",
    "# rename columns\n",
    "dataset = dataset.rename_column(\"questions\", \"anchor\")\n",
    "dataset = dataset.rename_column(\"answers\", \"positive\")\n",
    "\n",
    "# Add an id column to the dataset\n",
    "dataset = dataset.add_column(\"id\", range(len(dataset)))\n",
    "\n",
    "# split dataset into a 10% test set\n",
    "dataset = dataset.train_test_split(test_size=0.1)\n",
    "\n",
    "# save datasets to disk\n",
    "dataset[\"train\"].to_json(TRAIN_DATASET, orient=\"records\")\n",
    "dataset[\"test\"].to_json(TEST_DATASET, orient=\"records\")"
   ]
  },
  {
   "cell_type": "code",
   "execution_count": 12,
   "id": "342a53eb-3ec5-4be7-9600-27cc43b6014d",
   "metadata": {},
   "outputs": [
    {
     "data": {
      "text/html": [
       "<div>\n",
       "<style scoped>\n",
       "    .dataframe tbody tr th:only-of-type {\n",
       "        vertical-align: middle;\n",
       "    }\n",
       "\n",
       "    .dataframe tbody tr th {\n",
       "        vertical-align: top;\n",
       "    }\n",
       "\n",
       "    .dataframe thead th {\n",
       "        text-align: right;\n",
       "    }\n",
       "</style>\n",
       "<table border=\"1\" class=\"dataframe\">\n",
       "  <thead>\n",
       "    <tr style=\"text-align: right;\">\n",
       "      <th></th>\n",
       "      <th>anchor</th>\n",
       "      <th>positive</th>\n",
       "      <th>id</th>\n",
       "    </tr>\n",
       "  </thead>\n",
       "  <tbody>\n",
       "    <tr>\n",
       "      <th>0</th>\n",
       "      <td>O que acontece se eu fornecer informações inco...</td>\n",
       "      <td>Se, ao tentar realizar um Pix, algum erro ocor...</td>\n",
       "      <td>142</td>\n",
       "    </tr>\n",
       "    <tr>\n",
       "      <th>1</th>\n",
       "      <td>Como um investidor estrangeiro faz para regist...</td>\n",
       "      <td>Para fazer umRegistro Declaratório Eletrônico ...</td>\n",
       "      <td>365</td>\n",
       "    </tr>\n",
       "    <tr>\n",
       "      <th>2</th>\n",
       "      <td>Como são validados os atos processuais em meio...</td>\n",
       "      <td>Mediante o uso de assinatura eletrônica, desde...</td>\n",
       "      <td>741</td>\n",
       "    </tr>\n",
       "    <tr>\n",
       "      <th>3</th>\n",
       "      <td>A liquidação antecipada com redução proporcion...</td>\n",
       "      <td>Não. Consórcios são uma forma de aquisição de ...</td>\n",
       "      <td>634</td>\n",
       "    </tr>\n",
       "    <tr>\n",
       "      <th>4</th>\n",
       "      <td>Quantos projetos foram inscritos no Ciclo 1 e ...</td>\n",
       "      <td>O Ciclo 1 do Sandbox BC recebeu a inscrição de...</td>\n",
       "      <td>707</td>\n",
       "    </tr>\n",
       "    <tr>\n",
       "      <th>...</th>\n",
       "      <td>...</td>\n",
       "      <td>...</td>\n",
       "      <td>...</td>\n",
       "    </tr>\n",
       "    <tr>\n",
       "      <th>1169</th>\n",
       "      <td>Qual a diferença entre o Pix e o DOC?</td>\n",
       "      <td>As mesmas diferenças existentes entre o Pix e ...</td>\n",
       "      <td>1044</td>\n",
       "    </tr>\n",
       "    <tr>\n",
       "      <th>1170</th>\n",
       "      <td>Quais são as instituições que enviam os dados ...</td>\n",
       "      <td>As seguintes instituições, mesmo quando em liq...</td>\n",
       "      <td>378</td>\n",
       "    </tr>\n",
       "    <tr>\n",
       "      <th>1171</th>\n",
       "      <td>A instituição poderá devolver um valor diferen...</td>\n",
       "      <td>Sim. Poderá haver ajustes para mais ou para me...</td>\n",
       "      <td>745</td>\n",
       "    </tr>\n",
       "    <tr>\n",
       "      <th>1172</th>\n",
       "      <td>Qual é o prazo máximo de duração de um financi...</td>\n",
       "      <td>O Conselho Monetário Nacional e o Banco Centra...</td>\n",
       "      <td>608</td>\n",
       "    </tr>\n",
       "    <tr>\n",
       "      <th>1173</th>\n",
       "      <td>O que é uma instituição de pagamento (IP)?</td>\n",
       "      <td>Instituição de pagamento (IP) é uma pessoa jur...</td>\n",
       "      <td>865</td>\n",
       "    </tr>\n",
       "  </tbody>\n",
       "</table>\n",
       "<p>1174 rows × 3 columns</p>\n",
       "</div>"
      ],
      "text/plain": [
       "                                                 anchor  \\\n",
       "0     O que acontece se eu fornecer informações inco...   \n",
       "1     Como um investidor estrangeiro faz para regist...   \n",
       "2     Como são validados os atos processuais em meio...   \n",
       "3     A liquidação antecipada com redução proporcion...   \n",
       "4     Quantos projetos foram inscritos no Ciclo 1 e ...   \n",
       "...                                                 ...   \n",
       "1169              Qual a diferença entre o Pix e o DOC?   \n",
       "1170  Quais são as instituições que enviam os dados ...   \n",
       "1171  A instituição poderá devolver um valor diferen...   \n",
       "1172  Qual é o prazo máximo de duração de um financi...   \n",
       "1173         O que é uma instituição de pagamento (IP)?   \n",
       "\n",
       "                                               positive    id  \n",
       "0     Se, ao tentar realizar um Pix, algum erro ocor...   142  \n",
       "1     Para fazer umRegistro Declaratório Eletrônico ...   365  \n",
       "2     Mediante o uso de assinatura eletrônica, desde...   741  \n",
       "3     Não. Consórcios são uma forma de aquisição de ...   634  \n",
       "4     O Ciclo 1 do Sandbox BC recebeu a inscrição de...   707  \n",
       "...                                                 ...   ...  \n",
       "1169  As mesmas diferenças existentes entre o Pix e ...  1044  \n",
       "1170  As seguintes instituições, mesmo quando em liq...   378  \n",
       "1171  Sim. Poderá haver ajustes para mais ou para me...   745  \n",
       "1172  O Conselho Monetário Nacional e o Banco Centra...   608  \n",
       "1173  Instituição de pagamento (IP) é uma pessoa jur...   865  \n",
       "\n",
       "[1174 rows x 3 columns]"
      ]
     },
     "execution_count": 12,
     "metadata": {},
     "output_type": "execute_result"
    }
   ],
   "source": [
    "dataset[\"train\"].to_pandas()"
   ]
  },
  {
   "cell_type": "code",
   "execution_count": 4,
   "id": "5c403101-1dd2-4112-8f3f-d8680de9962f",
   "metadata": {},
   "outputs": [
    {
     "data": {
      "application/vnd.jupyter.widget-view+json": {
       "model_id": "3ef48a90036848d2bfdc01d6dfe653de",
       "version_major": 2,
       "version_minor": 0
      },
      "text/plain": [
       "Generating train split: 0 examples [00:00, ? examples/s]"
      ]
     },
     "metadata": {},
     "output_type": "display_data"
    },
    {
     "data": {
      "application/vnd.jupyter.widget-view+json": {
       "model_id": "37f66b098f294e69a6bb4884ddcae890",
       "version_major": 2,
       "version_minor": 0
      },
      "text/plain": [
       "Generating train split: 0 examples [00:00, ? examples/s]"
      ]
     },
     "metadata": {},
     "output_type": "display_data"
    }
   ],
   "source": [
    "# load test dataset\n",
    "train_dataset = load_dataset(\"json\", data_files=TRAIN_DATASET, split=\"train\")\n",
    "test_dataset = load_dataset(\"json\", data_files=TEST_DATASET, split=\"train\")\n",
    "corpus_dataset = concatenate_datasets([train_dataset, test_dataset])"
   ]
  },
  {
   "cell_type": "code",
   "execution_count": 5,
   "id": "223e8efa-3904-4af8-9dfe-65be0a34d056",
   "metadata": {},
   "outputs": [],
   "source": [
    "\n",
    "# Convert the datasets to dictionaries\n",
    "corpus = dict(\n",
    "    zip(corpus_dataset[\"id\"], corpus_dataset[\"positive\"])\n",
    ")  # Our corpus (cid => document)\n",
    "queries = dict(\n",
    "    zip(test_dataset[\"id\"], test_dataset[\"anchor\"])\n",
    ")  # Our queries (qid => question)"
   ]
  },
  {
   "cell_type": "code",
   "execution_count": 6,
   "id": "ad91c2cb-6e22-40dc-83c7-9a3d231b2118",
   "metadata": {},
   "outputs": [],
   "source": [
    "# Create a mapping of relevant document (1 in our case) for each query\n",
    "relevant_docs = {}  # Query ID to relevant documents (qid => set([relevant_cids])\n",
    "for q_id in queries:\n",
    "    relevant_docs[q_id] = [q_id]\n"
   ]
  },
  {
   "cell_type": "markdown",
   "id": "6fede618-bdbe-4692-8bf6-a52582b525bc",
   "metadata": {},
   "source": [
    "# Baseline"
   ]
  },
  {
   "cell_type": "code",
   "execution_count": 7,
   "id": "d0a39791-c8b6-4485-8831-e7778bde5b50",
   "metadata": {},
   "outputs": [
    {
     "name": "stderr",
     "output_type": "stream",
     "text": [
      "/opt/conda/lib/python3.10/site-packages/huggingface_hub/file_download.py:1132: FutureWarning: `resume_download` is deprecated and will be removed in version 1.0.0. Downloads always resume when possible. If you want to force a new download, use `force_download=True`.\n",
      "  warnings.warn(\n"
     ]
    }
   ],
   "source": [
    "model = SentenceTransformer(\n",
    "    MODEL_ID, device=\"cuda\" if torch.cuda.is_available() else \"cpu\"\n",
    ")"
   ]
  },
  {
   "cell_type": "code",
   "execution_count": 8,
   "id": "e8809d73-2f26-420c-9ce5-feab4a3b5468",
   "metadata": {},
   "outputs": [
    {
     "name": "stdout",
     "output_type": "stream",
     "text": [
      "CPU times: user 512 µs, sys: 50 µs, total: 562 µs\n",
      "Wall time: 527 µs\n"
     ]
    }
   ],
   "source": [
    "%%time\n",
    "matryoshka_evaluators = []\n",
    "# Iterate over the different dimensions\n",
    "for dim in MATRYOSHKA_DIMENSIONS:\n",
    "    ir_evaluator = InformationRetrievalEvaluator(\n",
    "        queries=queries,\n",
    "        corpus=corpus,\n",
    "        relevant_docs=relevant_docs,\n",
    "        name=f\"dim_{dim}\",\n",
    "        truncate_dim=dim,  # Truncate the embeddings to a certain dimension\n",
    "        score_functions={\"cosine\": cos_sim},\n",
    "    )\n",
    "    matryoshka_evaluators.append(ir_evaluator)\n",
    "\n",
    "# Create a sequential evaluator\n",
    "evaluator = SequentialEvaluator(matryoshka_evaluators)\n",
    "\n"
   ]
  },
  {
   "cell_type": "code",
   "execution_count": 9,
   "id": "0cc224f5-a6e6-46da-8ee1-cd8d8dbeb09d",
   "metadata": {},
   "outputs": [
    {
     "name": "stdout",
     "output_type": "stream",
     "text": [
      "dim_384_cosine_ndcg@10: 0.48615134942232113\n",
      "dim_256_cosine_ndcg@10: 0.4821296819414081\n",
      "dim_128_cosine_ndcg@10: 0.4359613779829637\n",
      "dim_64_cosine_ndcg@10: 0.35929038216884834\n",
      "CPU times: user 13.3 s, sys: 167 ms, total: 13.4 s\n",
      "Wall time: 11 s\n"
     ]
    }
   ],
   "source": [
    "%%time\n",
    "\n",
    "rerun_baseline = False\n",
    "\n",
    "if rerun_baseline:\n",
    "    results = evaluator(model)\n",
    "    for dim in MATRYOSHKA_DIMENSIONS:\n",
    "        key = f\"dim_{dim}_cosine_ndcg@10\"\n",
    "        print\n",
    "        print(f\"{key}: {results[key]}\")"
   ]
  },
  {
   "cell_type": "markdown",
   "id": "5920f98e-be9c-4227-856e-70d2a5f79539",
   "metadata": {},
   "source": [
    "# Fine Tune"
   ]
  },
  {
   "cell_type": "code",
   "execution_count": 9,
   "id": "0ad2ac38-1b5f-4c14-a852-b86ea4e97bee",
   "metadata": {},
   "outputs": [],
   "source": [
    "from sentence_transformers import SentenceTransformerModelCardData, SentenceTransformer\n",
    "\n",
    "attn_implementation = \"sdpa\"# \"eager\" # sdpa\n",
    "\n",
    "# load model with SDPA for using Flash Attention 2\n",
    "model = SentenceTransformer(\n",
    "    MODEL_ID,\n",
    "    model_kwargs={\"attn_implementation\": attn_implementation},\n",
    "    model_card_data=SentenceTransformerModelCardData(\n",
    "        language=\"pt-br\",\n",
    "        license=\"apache-2.0\",\n",
    "        model_name=\"FAQ-BACEN\",\n",
    "    ),\n",
    ")"
   ]
  },
  {
   "cell_type": "code",
   "execution_count": 10,
   "id": "87175f7b-ca50-4d62-b25f-25dee9d648dc",
   "metadata": {},
   "outputs": [],
   "source": [
    "from sentence_transformers.losses import MatryoshkaLoss, MultipleNegativesRankingLoss\n",
    "\n",
    "inner_train_loss = MultipleNegativesRankingLoss(model)\n",
    "train_loss = MatryoshkaLoss(\n",
    "    model, inner_train_loss, matryoshka_dims=MATRYOSHKA_DIMENSIONS\n",
    ")"
   ]
  },
  {
   "cell_type": "code",
   "execution_count": 11,
   "id": "4b1ca232-1f25-451b-b57c-be5e976389d6",
   "metadata": {},
   "outputs": [],
   "source": [
    "from sentence_transformers import SentenceTransformerTrainingArguments\n",
    "from sentence_transformers.training_args import BatchSamplers\n",
    "\n",
    "# load train dataset again\n",
    "train_dataset = load_dataset(\"json\", data_files=TRAIN_DATASET, split=\"train\")\n",
    "\n",
    "# define training arguments\n",
    "args = SentenceTransformerTrainingArguments(\n",
    "    output_dir=\"./models/bacen/embeddings\", # output directory and hugging face model ID\n",
    "    num_train_epochs=10,                         # number of epochs\n",
    "    per_device_train_batch_size=32,             # train batch size\n",
    "    gradient_accumulation_steps=16,             # for a global batch size of 512\n",
    "    per_device_eval_batch_size=16,              # evaluation batch size\n",
    "    warmup_ratio=0.1,                           # warmup ratio\n",
    "    learning_rate=2e-5,                         # learning rate, 2e-5 is a good value\n",
    "    lr_scheduler_type=\"cosine\",                 # use constant learning rate scheduler\n",
    "    optim=\"adamw_torch_fused\",                  # use fused adamw optimizer\n",
    "    #tf32=True,                                  # use tf32 precision\n",
    "    #bf16=True,                                  # use bf16 precision\n",
    "    batch_sampler=BatchSamplers.NO_DUPLICATES,  # MultipleNegativesRankingLoss benefits from no duplicate samples in a batch\n",
    "    eval_strategy=\"epoch\",                      # evaluate after each epoch\n",
    "    save_strategy=\"epoch\",                      # save after each epoch\n",
    "    logging_steps=10,                           # log every 10 steps\n",
    "    save_total_limit=3,                         # save only the last 3 models\n",
    "    load_best_model_at_end=True,                # load the best model when training ends\n",
    "    metric_for_best_model=\"eval_dim_128_cosine_ndcg@10\",  # Optimizing for the best ndcg@10 score for the 128 dimension\n",
    ")"
   ]
  },
  {
   "cell_type": "code",
   "execution_count": 12,
   "id": "2fd0165d-d471-48cd-aecf-e06046ab9702",
   "metadata": {},
   "outputs": [
    {
     "name": "stdout",
     "output_type": "stream",
     "text": [
      "anchor: Quais são os requisitos essenciais para a confirmação?\n",
      "positive: A instituição transmissora de dados ou detentora de conta deve solicitar confirmação de compartilhamento ao cliente, assegurando-lhea possibilidade de discriminar o teor do compartilhamento. Importante! A confirmação deve ocorrer simultaneamente aos procedimentos para autenticação.\n"
     ]
    }
   ],
   "source": [
    "test = train_dataset.to_pandas().sample(1).iloc[0].to_dict()\n",
    "print(f'anchor: {test[\"anchor\"]}')\n",
    "print(f'positive: {test[\"positive\"]}')"
   ]
  },
  {
   "cell_type": "code",
   "execution_count": 13,
   "id": "e9019738-b291-4b44-bb2a-055db1e728dc",
   "metadata": {},
   "outputs": [],
   "source": [
    "from sentence_transformers import SentenceTransformerTrainer\n",
    "\n",
    "trainer = SentenceTransformerTrainer(\n",
    "    model=model, # BAAI/bge-small-en-v1.5\n",
    "    args=args,  # training arguments\n",
    "    train_dataset=train_dataset.select_columns(\n",
    "        [\"positive\", \"anchor\"]\n",
    "    ),  # training dataset\n",
    "    loss=train_loss,\n",
    "    evaluator=evaluator,\n",
    ")"
   ]
  },
  {
   "cell_type": "code",
   "execution_count": 14,
   "id": "cb7eb1cf-7085-441d-b8c5-19f1058fe60d",
   "metadata": {},
   "outputs": [
    {
     "data": {
      "text/html": [
       "\n",
       "    <div>\n",
       "      \n",
       "      <progress value='20' max='20' style='width:300px; height:20px; vertical-align: middle;'></progress>\n",
       "      [20/20 06:30, Epoch 8/10]\n",
       "    </div>\n",
       "    <table border=\"1\" class=\"dataframe\">\n",
       "  <thead>\n",
       " <tr style=\"text-align: left;\">\n",
       "      <th>Epoch</th>\n",
       "      <th>Training Loss</th>\n",
       "      <th>Validation Loss</th>\n",
       "      <th>Dim 384 Cosine Accuracy@1</th>\n",
       "      <th>Dim 384 Cosine Accuracy@3</th>\n",
       "      <th>Dim 384 Cosine Accuracy@5</th>\n",
       "      <th>Dim 384 Cosine Accuracy@10</th>\n",
       "      <th>Dim 384 Cosine Precision@1</th>\n",
       "      <th>Dim 384 Cosine Precision@3</th>\n",
       "      <th>Dim 384 Cosine Precision@5</th>\n",
       "      <th>Dim 384 Cosine Precision@10</th>\n",
       "      <th>Dim 384 Cosine Recall@1</th>\n",
       "      <th>Dim 384 Cosine Recall@3</th>\n",
       "      <th>Dim 384 Cosine Recall@5</th>\n",
       "      <th>Dim 384 Cosine Recall@10</th>\n",
       "      <th>Dim 384 Cosine Ndcg@10</th>\n",
       "      <th>Dim 384 Cosine Mrr@10</th>\n",
       "      <th>Dim 384 Cosine Map@100</th>\n",
       "      <th>Dim 256 Cosine Accuracy@1</th>\n",
       "      <th>Dim 256 Cosine Accuracy@3</th>\n",
       "      <th>Dim 256 Cosine Accuracy@5</th>\n",
       "      <th>Dim 256 Cosine Accuracy@10</th>\n",
       "      <th>Dim 256 Cosine Precision@1</th>\n",
       "      <th>Dim 256 Cosine Precision@3</th>\n",
       "      <th>Dim 256 Cosine Precision@5</th>\n",
       "      <th>Dim 256 Cosine Precision@10</th>\n",
       "      <th>Dim 256 Cosine Recall@1</th>\n",
       "      <th>Dim 256 Cosine Recall@3</th>\n",
       "      <th>Dim 256 Cosine Recall@5</th>\n",
       "      <th>Dim 256 Cosine Recall@10</th>\n",
       "      <th>Dim 256 Cosine Ndcg@10</th>\n",
       "      <th>Dim 256 Cosine Mrr@10</th>\n",
       "      <th>Dim 256 Cosine Map@100</th>\n",
       "      <th>Dim 128 Cosine Accuracy@1</th>\n",
       "      <th>Dim 128 Cosine Accuracy@3</th>\n",
       "      <th>Dim 128 Cosine Accuracy@5</th>\n",
       "      <th>Dim 128 Cosine Accuracy@10</th>\n",
       "      <th>Dim 128 Cosine Precision@1</th>\n",
       "      <th>Dim 128 Cosine Precision@3</th>\n",
       "      <th>Dim 128 Cosine Precision@5</th>\n",
       "      <th>Dim 128 Cosine Precision@10</th>\n",
       "      <th>Dim 128 Cosine Recall@1</th>\n",
       "      <th>Dim 128 Cosine Recall@3</th>\n",
       "      <th>Dim 128 Cosine Recall@5</th>\n",
       "      <th>Dim 128 Cosine Recall@10</th>\n",
       "      <th>Dim 128 Cosine Ndcg@10</th>\n",
       "      <th>Dim 128 Cosine Mrr@10</th>\n",
       "      <th>Dim 128 Cosine Map@100</th>\n",
       "      <th>Dim 64 Cosine Accuracy@1</th>\n",
       "      <th>Dim 64 Cosine Accuracy@3</th>\n",
       "      <th>Dim 64 Cosine Accuracy@5</th>\n",
       "      <th>Dim 64 Cosine Accuracy@10</th>\n",
       "      <th>Dim 64 Cosine Precision@1</th>\n",
       "      <th>Dim 64 Cosine Precision@3</th>\n",
       "      <th>Dim 64 Cosine Precision@5</th>\n",
       "      <th>Dim 64 Cosine Precision@10</th>\n",
       "      <th>Dim 64 Cosine Recall@1</th>\n",
       "      <th>Dim 64 Cosine Recall@3</th>\n",
       "      <th>Dim 64 Cosine Recall@5</th>\n",
       "      <th>Dim 64 Cosine Recall@10</th>\n",
       "      <th>Dim 64 Cosine Ndcg@10</th>\n",
       "      <th>Dim 64 Cosine Mrr@10</th>\n",
       "      <th>Dim 64 Cosine Map@100</th>\n",
       "      <th>Sequential Score</th>\n",
       "    </tr>\n",
       "  </thead>\n",
       "  <tbody>\n",
       "    <tr>\n",
       "      <td>0</td>\n",
       "      <td>No log</td>\n",
       "      <td>No log</td>\n",
       "      <td>0.297710</td>\n",
       "      <td>0.435115</td>\n",
       "      <td>0.534351</td>\n",
       "      <td>0.648855</td>\n",
       "      <td>0.297710</td>\n",
       "      <td>0.145038</td>\n",
       "      <td>0.106870</td>\n",
       "      <td>0.064885</td>\n",
       "      <td>0.297710</td>\n",
       "      <td>0.435115</td>\n",
       "      <td>0.534351</td>\n",
       "      <td>0.648855</td>\n",
       "      <td>0.458867</td>\n",
       "      <td>0.400376</td>\n",
       "      <td>0.411704</td>\n",
       "      <td>0.305344</td>\n",
       "      <td>0.450382</td>\n",
       "      <td>0.511450</td>\n",
       "      <td>0.610687</td>\n",
       "      <td>0.305344</td>\n",
       "      <td>0.150127</td>\n",
       "      <td>0.102290</td>\n",
       "      <td>0.061069</td>\n",
       "      <td>0.305344</td>\n",
       "      <td>0.450382</td>\n",
       "      <td>0.511450</td>\n",
       "      <td>0.610687</td>\n",
       "      <td>0.445961</td>\n",
       "      <td>0.394544</td>\n",
       "      <td>0.405385</td>\n",
       "      <td>0.267176</td>\n",
       "      <td>0.381679</td>\n",
       "      <td>0.442748</td>\n",
       "      <td>0.534351</td>\n",
       "      <td>0.267176</td>\n",
       "      <td>0.127226</td>\n",
       "      <td>0.088550</td>\n",
       "      <td>0.053435</td>\n",
       "      <td>0.267176</td>\n",
       "      <td>0.381679</td>\n",
       "      <td>0.442748</td>\n",
       "      <td>0.534351</td>\n",
       "      <td>0.388976</td>\n",
       "      <td>0.344093</td>\n",
       "      <td>0.356312</td>\n",
       "      <td>0.175573</td>\n",
       "      <td>0.305344</td>\n",
       "      <td>0.381679</td>\n",
       "      <td>0.526718</td>\n",
       "      <td>0.175573</td>\n",
       "      <td>0.101781</td>\n",
       "      <td>0.076336</td>\n",
       "      <td>0.052672</td>\n",
       "      <td>0.175573</td>\n",
       "      <td>0.305344</td>\n",
       "      <td>0.381679</td>\n",
       "      <td>0.526718</td>\n",
       "      <td>0.327233</td>\n",
       "      <td>0.266927</td>\n",
       "      <td>0.277323</td>\n",
       "      <td>0.277323</td>\n",
       "    </tr>\n",
       "    <tr>\n",
       "      <td>1</td>\n",
       "      <td>No log</td>\n",
       "      <td>No log</td>\n",
       "      <td>0.312977</td>\n",
       "      <td>0.465649</td>\n",
       "      <td>0.549618</td>\n",
       "      <td>0.687023</td>\n",
       "      <td>0.312977</td>\n",
       "      <td>0.155216</td>\n",
       "      <td>0.109924</td>\n",
       "      <td>0.068702</td>\n",
       "      <td>0.312977</td>\n",
       "      <td>0.465649</td>\n",
       "      <td>0.549618</td>\n",
       "      <td>0.687023</td>\n",
       "      <td>0.481379</td>\n",
       "      <td>0.417987</td>\n",
       "      <td>0.428616</td>\n",
       "      <td>0.320611</td>\n",
       "      <td>0.488550</td>\n",
       "      <td>0.534351</td>\n",
       "      <td>0.656489</td>\n",
       "      <td>0.320611</td>\n",
       "      <td>0.162850</td>\n",
       "      <td>0.106870</td>\n",
       "      <td>0.065649</td>\n",
       "      <td>0.320611</td>\n",
       "      <td>0.488550</td>\n",
       "      <td>0.534351</td>\n",
       "      <td>0.656489</td>\n",
       "      <td>0.475751</td>\n",
       "      <td>0.419405</td>\n",
       "      <td>0.429454</td>\n",
       "      <td>0.274809</td>\n",
       "      <td>0.419847</td>\n",
       "      <td>0.458015</td>\n",
       "      <td>0.564885</td>\n",
       "      <td>0.274809</td>\n",
       "      <td>0.139949</td>\n",
       "      <td>0.091603</td>\n",
       "      <td>0.056489</td>\n",
       "      <td>0.274809</td>\n",
       "      <td>0.419847</td>\n",
       "      <td>0.458015</td>\n",
       "      <td>0.564885</td>\n",
       "      <td>0.408680</td>\n",
       "      <td>0.360217</td>\n",
       "      <td>0.373267</td>\n",
       "      <td>0.183206</td>\n",
       "      <td>0.320611</td>\n",
       "      <td>0.404580</td>\n",
       "      <td>0.534351</td>\n",
       "      <td>0.183206</td>\n",
       "      <td>0.106870</td>\n",
       "      <td>0.080916</td>\n",
       "      <td>0.053435</td>\n",
       "      <td>0.183206</td>\n",
       "      <td>0.320611</td>\n",
       "      <td>0.404580</td>\n",
       "      <td>0.534351</td>\n",
       "      <td>0.340162</td>\n",
       "      <td>0.280443</td>\n",
       "      <td>0.293320</td>\n",
       "      <td>0.293320</td>\n",
       "    </tr>\n",
       "    <tr>\n",
       "      <td>2</td>\n",
       "      <td>No log</td>\n",
       "      <td>No log</td>\n",
       "      <td>0.343511</td>\n",
       "      <td>0.503817</td>\n",
       "      <td>0.595420</td>\n",
       "      <td>0.732824</td>\n",
       "      <td>0.343511</td>\n",
       "      <td>0.167939</td>\n",
       "      <td>0.119084</td>\n",
       "      <td>0.073282</td>\n",
       "      <td>0.343511</td>\n",
       "      <td>0.503817</td>\n",
       "      <td>0.595420</td>\n",
       "      <td>0.732824</td>\n",
       "      <td>0.517307</td>\n",
       "      <td>0.450800</td>\n",
       "      <td>0.457986</td>\n",
       "      <td>0.335878</td>\n",
       "      <td>0.488550</td>\n",
       "      <td>0.580153</td>\n",
       "      <td>0.679389</td>\n",
       "      <td>0.335878</td>\n",
       "      <td>0.162850</td>\n",
       "      <td>0.116031</td>\n",
       "      <td>0.067939</td>\n",
       "      <td>0.335878</td>\n",
       "      <td>0.488550</td>\n",
       "      <td>0.580153</td>\n",
       "      <td>0.679389</td>\n",
       "      <td>0.497347</td>\n",
       "      <td>0.440346</td>\n",
       "      <td>0.450411</td>\n",
       "      <td>0.305344</td>\n",
       "      <td>0.442748</td>\n",
       "      <td>0.496183</td>\n",
       "      <td>0.572519</td>\n",
       "      <td>0.305344</td>\n",
       "      <td>0.147583</td>\n",
       "      <td>0.099237</td>\n",
       "      <td>0.057252</td>\n",
       "      <td>0.305344</td>\n",
       "      <td>0.442748</td>\n",
       "      <td>0.496183</td>\n",
       "      <td>0.572519</td>\n",
       "      <td>0.430763</td>\n",
       "      <td>0.386066</td>\n",
       "      <td>0.401273</td>\n",
       "      <td>0.221374</td>\n",
       "      <td>0.351145</td>\n",
       "      <td>0.442748</td>\n",
       "      <td>0.564885</td>\n",
       "      <td>0.221374</td>\n",
       "      <td>0.117048</td>\n",
       "      <td>0.088550</td>\n",
       "      <td>0.056489</td>\n",
       "      <td>0.221374</td>\n",
       "      <td>0.351145</td>\n",
       "      <td>0.442748</td>\n",
       "      <td>0.564885</td>\n",
       "      <td>0.375011</td>\n",
       "      <td>0.316736</td>\n",
       "      <td>0.328438</td>\n",
       "      <td>0.328438</td>\n",
       "    </tr>\n",
       "    <tr>\n",
       "      <td>3</td>\n",
       "      <td>No log</td>\n",
       "      <td>No log</td>\n",
       "      <td>0.374046</td>\n",
       "      <td>0.564885</td>\n",
       "      <td>0.625954</td>\n",
       "      <td>0.717557</td>\n",
       "      <td>0.374046</td>\n",
       "      <td>0.188295</td>\n",
       "      <td>0.125191</td>\n",
       "      <td>0.071756</td>\n",
       "      <td>0.374046</td>\n",
       "      <td>0.564885</td>\n",
       "      <td>0.625954</td>\n",
       "      <td>0.717557</td>\n",
       "      <td>0.534360</td>\n",
       "      <td>0.476745</td>\n",
       "      <td>0.485630</td>\n",
       "      <td>0.351145</td>\n",
       "      <td>0.541985</td>\n",
       "      <td>0.595420</td>\n",
       "      <td>0.702290</td>\n",
       "      <td>0.351145</td>\n",
       "      <td>0.180662</td>\n",
       "      <td>0.119084</td>\n",
       "      <td>0.070229</td>\n",
       "      <td>0.351145</td>\n",
       "      <td>0.541985</td>\n",
       "      <td>0.595420</td>\n",
       "      <td>0.702290</td>\n",
       "      <td>0.519204</td>\n",
       "      <td>0.461708</td>\n",
       "      <td>0.470579</td>\n",
       "      <td>0.312977</td>\n",
       "      <td>0.450382</td>\n",
       "      <td>0.541985</td>\n",
       "      <td>0.641221</td>\n",
       "      <td>0.312977</td>\n",
       "      <td>0.150127</td>\n",
       "      <td>0.108397</td>\n",
       "      <td>0.064122</td>\n",
       "      <td>0.312977</td>\n",
       "      <td>0.450382</td>\n",
       "      <td>0.541985</td>\n",
       "      <td>0.641221</td>\n",
       "      <td>0.461871</td>\n",
       "      <td>0.406155</td>\n",
       "      <td>0.417056</td>\n",
       "      <td>0.244275</td>\n",
       "      <td>0.374046</td>\n",
       "      <td>0.488550</td>\n",
       "      <td>0.557252</td>\n",
       "      <td>0.244275</td>\n",
       "      <td>0.124682</td>\n",
       "      <td>0.097710</td>\n",
       "      <td>0.055725</td>\n",
       "      <td>0.244275</td>\n",
       "      <td>0.374046</td>\n",
       "      <td>0.488550</td>\n",
       "      <td>0.557252</td>\n",
       "      <td>0.388358</td>\n",
       "      <td>0.335663</td>\n",
       "      <td>0.349217</td>\n",
       "      <td>0.349217</td>\n",
       "    </tr>\n",
       "    <tr>\n",
       "      <td>4</td>\n",
       "      <td>6.996900</td>\n",
       "      <td>No log</td>\n",
       "      <td>0.389313</td>\n",
       "      <td>0.564885</td>\n",
       "      <td>0.625954</td>\n",
       "      <td>0.709924</td>\n",
       "      <td>0.389313</td>\n",
       "      <td>0.188295</td>\n",
       "      <td>0.125191</td>\n",
       "      <td>0.070992</td>\n",
       "      <td>0.389313</td>\n",
       "      <td>0.564885</td>\n",
       "      <td>0.625954</td>\n",
       "      <td>0.709924</td>\n",
       "      <td>0.538928</td>\n",
       "      <td>0.485063</td>\n",
       "      <td>0.494328</td>\n",
       "      <td>0.381679</td>\n",
       "      <td>0.541985</td>\n",
       "      <td>0.603053</td>\n",
       "      <td>0.694656</td>\n",
       "      <td>0.381679</td>\n",
       "      <td>0.180662</td>\n",
       "      <td>0.120611</td>\n",
       "      <td>0.069466</td>\n",
       "      <td>0.381679</td>\n",
       "      <td>0.541985</td>\n",
       "      <td>0.603053</td>\n",
       "      <td>0.694656</td>\n",
       "      <td>0.530423</td>\n",
       "      <td>0.478732</td>\n",
       "      <td>0.488027</td>\n",
       "      <td>0.312977</td>\n",
       "      <td>0.473282</td>\n",
       "      <td>0.541985</td>\n",
       "      <td>0.648855</td>\n",
       "      <td>0.312977</td>\n",
       "      <td>0.157761</td>\n",
       "      <td>0.108397</td>\n",
       "      <td>0.064885</td>\n",
       "      <td>0.312977</td>\n",
       "      <td>0.473282</td>\n",
       "      <td>0.541985</td>\n",
       "      <td>0.648855</td>\n",
       "      <td>0.469895</td>\n",
       "      <td>0.414010</td>\n",
       "      <td>0.425076</td>\n",
       "      <td>0.267176</td>\n",
       "      <td>0.396947</td>\n",
       "      <td>0.496183</td>\n",
       "      <td>0.564885</td>\n",
       "      <td>0.267176</td>\n",
       "      <td>0.132316</td>\n",
       "      <td>0.099237</td>\n",
       "      <td>0.056489</td>\n",
       "      <td>0.267176</td>\n",
       "      <td>0.396947</td>\n",
       "      <td>0.496183</td>\n",
       "      <td>0.564885</td>\n",
       "      <td>0.405839</td>\n",
       "      <td>0.356180</td>\n",
       "      <td>0.369750</td>\n",
       "      <td>0.369750</td>\n",
       "    </tr>\n",
       "    <tr>\n",
       "      <td>5</td>\n",
       "      <td>6.996900</td>\n",
       "      <td>No log</td>\n",
       "      <td>0.381679</td>\n",
       "      <td>0.572519</td>\n",
       "      <td>0.625954</td>\n",
       "      <td>0.725191</td>\n",
       "      <td>0.381679</td>\n",
       "      <td>0.190840</td>\n",
       "      <td>0.125191</td>\n",
       "      <td>0.072519</td>\n",
       "      <td>0.381679</td>\n",
       "      <td>0.572519</td>\n",
       "      <td>0.625954</td>\n",
       "      <td>0.725191</td>\n",
       "      <td>0.540981</td>\n",
       "      <td>0.483348</td>\n",
       "      <td>0.491165</td>\n",
       "      <td>0.374046</td>\n",
       "      <td>0.541985</td>\n",
       "      <td>0.603053</td>\n",
       "      <td>0.702290</td>\n",
       "      <td>0.374046</td>\n",
       "      <td>0.180662</td>\n",
       "      <td>0.120611</td>\n",
       "      <td>0.070229</td>\n",
       "      <td>0.374046</td>\n",
       "      <td>0.541985</td>\n",
       "      <td>0.603053</td>\n",
       "      <td>0.702290</td>\n",
       "      <td>0.530298</td>\n",
       "      <td>0.476178</td>\n",
       "      <td>0.484880</td>\n",
       "      <td>0.305344</td>\n",
       "      <td>0.473282</td>\n",
       "      <td>0.549618</td>\n",
       "      <td>0.648855</td>\n",
       "      <td>0.305344</td>\n",
       "      <td>0.157761</td>\n",
       "      <td>0.109924</td>\n",
       "      <td>0.064885</td>\n",
       "      <td>0.305344</td>\n",
       "      <td>0.473282</td>\n",
       "      <td>0.549618</td>\n",
       "      <td>0.648855</td>\n",
       "      <td>0.466537</td>\n",
       "      <td>0.409430</td>\n",
       "      <td>0.421259</td>\n",
       "      <td>0.259542</td>\n",
       "      <td>0.412214</td>\n",
       "      <td>0.480916</td>\n",
       "      <td>0.564885</td>\n",
       "      <td>0.259542</td>\n",
       "      <td>0.137405</td>\n",
       "      <td>0.096183</td>\n",
       "      <td>0.056489</td>\n",
       "      <td>0.259542</td>\n",
       "      <td>0.412214</td>\n",
       "      <td>0.480916</td>\n",
       "      <td>0.564885</td>\n",
       "      <td>0.407982</td>\n",
       "      <td>0.358200</td>\n",
       "      <td>0.371941</td>\n",
       "      <td>0.371941</td>\n",
       "    </tr>\n",
       "    <tr>\n",
       "      <td>6</td>\n",
       "      <td>6.996900</td>\n",
       "      <td>No log</td>\n",
       "      <td>0.389313</td>\n",
       "      <td>0.572519</td>\n",
       "      <td>0.625954</td>\n",
       "      <td>0.725191</td>\n",
       "      <td>0.389313</td>\n",
       "      <td>0.190840</td>\n",
       "      <td>0.125191</td>\n",
       "      <td>0.072519</td>\n",
       "      <td>0.389313</td>\n",
       "      <td>0.572519</td>\n",
       "      <td>0.625954</td>\n",
       "      <td>0.725191</td>\n",
       "      <td>0.545797</td>\n",
       "      <td>0.489710</td>\n",
       "      <td>0.497688</td>\n",
       "      <td>0.374046</td>\n",
       "      <td>0.541985</td>\n",
       "      <td>0.618321</td>\n",
       "      <td>0.702290</td>\n",
       "      <td>0.374046</td>\n",
       "      <td>0.180662</td>\n",
       "      <td>0.123664</td>\n",
       "      <td>0.070229</td>\n",
       "      <td>0.374046</td>\n",
       "      <td>0.541985</td>\n",
       "      <td>0.618321</td>\n",
       "      <td>0.702290</td>\n",
       "      <td>0.530200</td>\n",
       "      <td>0.476139</td>\n",
       "      <td>0.484966</td>\n",
       "      <td>0.312977</td>\n",
       "      <td>0.465649</td>\n",
       "      <td>0.564885</td>\n",
       "      <td>0.656489</td>\n",
       "      <td>0.312977</td>\n",
       "      <td>0.155216</td>\n",
       "      <td>0.112977</td>\n",
       "      <td>0.065649</td>\n",
       "      <td>0.312977</td>\n",
       "      <td>0.465649</td>\n",
       "      <td>0.564885</td>\n",
       "      <td>0.656489</td>\n",
       "      <td>0.470751</td>\n",
       "      <td>0.412895</td>\n",
       "      <td>0.424216</td>\n",
       "      <td>0.259542</td>\n",
       "      <td>0.419847</td>\n",
       "      <td>0.488550</td>\n",
       "      <td>0.564885</td>\n",
       "      <td>0.259542</td>\n",
       "      <td>0.139949</td>\n",
       "      <td>0.097710</td>\n",
       "      <td>0.056489</td>\n",
       "      <td>0.259542</td>\n",
       "      <td>0.419847</td>\n",
       "      <td>0.488550</td>\n",
       "      <td>0.564885</td>\n",
       "      <td>0.408611</td>\n",
       "      <td>0.358921</td>\n",
       "      <td>0.373190</td>\n",
       "      <td>0.373190</td>\n",
       "    </tr>\n",
       "    <tr>\n",
       "      <td>7</td>\n",
       "      <td>6.996900</td>\n",
       "      <td>No log</td>\n",
       "      <td>0.389313</td>\n",
       "      <td>0.572519</td>\n",
       "      <td>0.625954</td>\n",
       "      <td>0.725191</td>\n",
       "      <td>0.389313</td>\n",
       "      <td>0.190840</td>\n",
       "      <td>0.125191</td>\n",
       "      <td>0.072519</td>\n",
       "      <td>0.389313</td>\n",
       "      <td>0.572519</td>\n",
       "      <td>0.625954</td>\n",
       "      <td>0.725191</td>\n",
       "      <td>0.545797</td>\n",
       "      <td>0.489710</td>\n",
       "      <td>0.497629</td>\n",
       "      <td>0.374046</td>\n",
       "      <td>0.541985</td>\n",
       "      <td>0.618321</td>\n",
       "      <td>0.702290</td>\n",
       "      <td>0.374046</td>\n",
       "      <td>0.180662</td>\n",
       "      <td>0.123664</td>\n",
       "      <td>0.070229</td>\n",
       "      <td>0.374046</td>\n",
       "      <td>0.541985</td>\n",
       "      <td>0.618321</td>\n",
       "      <td>0.702290</td>\n",
       "      <td>0.530535</td>\n",
       "      <td>0.476521</td>\n",
       "      <td>0.485334</td>\n",
       "      <td>0.312977</td>\n",
       "      <td>0.465649</td>\n",
       "      <td>0.564885</td>\n",
       "      <td>0.656489</td>\n",
       "      <td>0.312977</td>\n",
       "      <td>0.155216</td>\n",
       "      <td>0.112977</td>\n",
       "      <td>0.065649</td>\n",
       "      <td>0.312977</td>\n",
       "      <td>0.465649</td>\n",
       "      <td>0.564885</td>\n",
       "      <td>0.656489</td>\n",
       "      <td>0.469816</td>\n",
       "      <td>0.411699</td>\n",
       "      <td>0.423172</td>\n",
       "      <td>0.259542</td>\n",
       "      <td>0.412214</td>\n",
       "      <td>0.496183</td>\n",
       "      <td>0.564885</td>\n",
       "      <td>0.259542</td>\n",
       "      <td>0.137405</td>\n",
       "      <td>0.099237</td>\n",
       "      <td>0.056489</td>\n",
       "      <td>0.259542</td>\n",
       "      <td>0.412214</td>\n",
       "      <td>0.496183</td>\n",
       "      <td>0.564885</td>\n",
       "      <td>0.408316</td>\n",
       "      <td>0.358539</td>\n",
       "      <td>0.373015</td>\n",
       "      <td>0.373015</td>\n",
       "    </tr>\n",
       "    <tr>\n",
       "      <td>8</td>\n",
       "      <td>4.829500</td>\n",
       "      <td>No log</td>\n",
       "      <td>0.389313</td>\n",
       "      <td>0.572519</td>\n",
       "      <td>0.625954</td>\n",
       "      <td>0.725191</td>\n",
       "      <td>0.389313</td>\n",
       "      <td>0.190840</td>\n",
       "      <td>0.125191</td>\n",
       "      <td>0.072519</td>\n",
       "      <td>0.389313</td>\n",
       "      <td>0.572519</td>\n",
       "      <td>0.625954</td>\n",
       "      <td>0.725191</td>\n",
       "      <td>0.545797</td>\n",
       "      <td>0.489710</td>\n",
       "      <td>0.497650</td>\n",
       "      <td>0.374046</td>\n",
       "      <td>0.549618</td>\n",
       "      <td>0.618321</td>\n",
       "      <td>0.702290</td>\n",
       "      <td>0.374046</td>\n",
       "      <td>0.183206</td>\n",
       "      <td>0.123664</td>\n",
       "      <td>0.070229</td>\n",
       "      <td>0.374046</td>\n",
       "      <td>0.549618</td>\n",
       "      <td>0.618321</td>\n",
       "      <td>0.702290</td>\n",
       "      <td>0.531064</td>\n",
       "      <td>0.477157</td>\n",
       "      <td>0.485974</td>\n",
       "      <td>0.312977</td>\n",
       "      <td>0.465649</td>\n",
       "      <td>0.564885</td>\n",
       "      <td>0.656489</td>\n",
       "      <td>0.312977</td>\n",
       "      <td>0.155216</td>\n",
       "      <td>0.112977</td>\n",
       "      <td>0.065649</td>\n",
       "      <td>0.312977</td>\n",
       "      <td>0.465649</td>\n",
       "      <td>0.564885</td>\n",
       "      <td>0.656489</td>\n",
       "      <td>0.469816</td>\n",
       "      <td>0.411699</td>\n",
       "      <td>0.423243</td>\n",
       "      <td>0.259542</td>\n",
       "      <td>0.412214</td>\n",
       "      <td>0.496183</td>\n",
       "      <td>0.564885</td>\n",
       "      <td>0.259542</td>\n",
       "      <td>0.137405</td>\n",
       "      <td>0.099237</td>\n",
       "      <td>0.056489</td>\n",
       "      <td>0.259542</td>\n",
       "      <td>0.412214</td>\n",
       "      <td>0.496183</td>\n",
       "      <td>0.564885</td>\n",
       "      <td>0.408316</td>\n",
       "      <td>0.358539</td>\n",
       "      <td>0.372960</td>\n",
       "      <td>0.372960</td>\n",
       "    </tr>\n",
       "  </tbody>\n",
       "</table><p>"
      ],
      "text/plain": [
       "<IPython.core.display.HTML object>"
      ]
     },
     "metadata": {},
     "output_type": "display_data"
    },
    {
     "data": {
      "application/vnd.jupyter.widget-view+json": {
       "model_id": "",
       "version_major": 2,
       "version_minor": 0
      },
      "text/plain": [
       "Computing widget examples:   0%|          | 0/1 [00:00<?, ?example/s]"
      ]
     },
     "metadata": {},
     "output_type": "display_data"
    }
   ],
   "source": [
    "# start training, the model will be automatically saved to the hub and the output directory\n",
    "trainer.train()\n",
    "\n",
    "# save the best model\n",
    "trainer.save_model()"
   ]
  },
  {
   "cell_type": "code",
   "execution_count": 16,
   "id": "2a708a1b-1c15-4c0f-b1ae-85fe89281f28",
   "metadata": {},
   "outputs": [
    {
     "name": "stdout",
     "output_type": "stream",
     "text": [
      "dim_384_cosine_ndcg@10: 0.5457971333827764\n",
      "dim_256_cosine_ndcg@10: 0.530200483332259\n",
      "dim_128_cosine_ndcg@10: 0.47075116146773527\n",
      "dim_64_cosine_ndcg@10: 0.40861102165257207\n"
     ]
    }
   ],
   "source": [
    "from sentence_transformers import SentenceTransformer\n",
    "\n",
    "fine_tuned_model = SentenceTransformer(\n",
    "    args.output_dir, device=\"cuda\" if torch.cuda.is_available() else \"cpu\"\n",
    ")\n",
    "# Evaluate the model\n",
    "results = evaluator(fine_tuned_model)\n",
    "\n",
    "# # COMMENT IN for full results\n",
    "# print(results)\n",
    "\n",
    "# Print the main score\n",
    "for dim in MATRYOSHKA_DIMENSIONS:\n",
    "    key = f\"dim_{dim}_cosine_ndcg@10\"\n",
    "    print(f\"{key}: {results[key]}\")"
   ]
  },
  {
   "cell_type": "code",
   "execution_count": 25,
   "id": "80d1224c-685e-45c4-b111-54da48cd32d0",
   "metadata": {},
   "outputs": [
    {
     "data": {
      "text/plain": [
       "tensor(1.0000)"
      ]
     },
     "execution_count": 25,
     "metadata": {},
     "output_type": "execute_result"
    }
   ],
   "source": [
    "from sentence_transformers.util import cos_sim\n",
    "\n",
    "sentences = [\n",
    "    \"Exemplo de sentença um.\",\n",
    "    \"Exemplo de sentença um.\"\n",
    "]\n",
    "\n",
    "# Obter os embeddings\n",
    "embeddings = fine_tuned_model.encode(sentences)\n",
    "cos_sim(embeddings[0], embeddings[1])[0][0]"
   ]
  },
  {
   "cell_type": "code",
   "execution_count": 27,
   "id": "f5ed741b-e0ae-4be1-9061-2cbf8e768c08",
   "metadata": {},
   "outputs": [
    {
     "data": {
      "text/plain": [
       "tensor(0.9727)"
      ]
     },
     "execution_count": 27,
     "metadata": {},
     "output_type": "execute_result"
    }
   ],
   "source": [
    "from sentence_transformers.util import cos_sim\n",
    "\n",
    "sentences = [\n",
    "    \"O gato mordeu o cachorro\",\n",
    "    \"O cachorro mordeu o gato.\"\n",
    "]\n",
    "\n",
    "# Obter os embeddings\n",
    "embeddings = fine_tuned_model.encode(sentences)\n",
    "cos_sim(embeddings[0], embeddings[1])[0][0]"
   ]
  },
  {
   "cell_type": "code",
   "execution_count": 28,
   "id": "6c86eb1b-2934-4fc7-8fb3-7569efbbd818",
   "metadata": {},
   "outputs": [
    {
     "data": {
      "text/plain": [
       "tensor(0.8039)"
      ]
     },
     "execution_count": 28,
     "metadata": {},
     "output_type": "execute_result"
    }
   ],
   "source": [
    "from sentence_transformers.util import cos_sim\n",
    "\n",
    "sentences = [\n",
    "    \"O gato mordeu o cachorro\",\n",
    "    \"O gato mordeu o cão.\"\n",
    "]\n",
    "\n",
    "# Obter os embeddings\n",
    "embeddings = fine_tuned_model.encode(sentences)\n",
    "cos_sim(embeddings[0], embeddings[1])[0][0]"
   ]
  },
  {
   "cell_type": "code",
   "execution_count": 30,
   "id": "d1e18584-1031-467b-941c-37d40db41058",
   "metadata": {},
   "outputs": [
    {
     "data": {
      "text/plain": [
       "tensor(0.4333)"
      ]
     },
     "execution_count": 30,
     "metadata": {},
     "output_type": "execute_result"
    }
   ],
   "source": [
    "from sentence_transformers.util import cos_sim\n",
    "\n",
    "sentences = [\n",
    "    \"O gato mordeu o cachorro\",\n",
    "    \"\"\n",
    "]\n",
    "\n",
    "# Obter os embeddings\n",
    "embeddings = fine_tuned_model.encode(sentences)\n",
    "cos_sim(embeddings[0], embeddings[1])[0][0]"
   ]
  },
  {
   "cell_type": "code",
   "execution_count": null,
   "id": "4990cc1e-fd81-4902-9c65-f9515b7bed56",
   "metadata": {},
   "outputs": [],
   "source": []
  }
 ],
 "metadata": {
  "kernelspec": {
   "display_name": "Python 3 (ipykernel)",
   "language": "python",
   "name": "python3"
  },
  "language_info": {
   "codemirror_mode": {
    "name": "ipython",
    "version": 3
   },
   "file_extension": ".py",
   "mimetype": "text/x-python",
   "name": "python",
   "nbconvert_exporter": "python",
   "pygments_lexer": "ipython3",
   "version": "3.10.14"
  }
 },
 "nbformat": 4,
 "nbformat_minor": 5
}
