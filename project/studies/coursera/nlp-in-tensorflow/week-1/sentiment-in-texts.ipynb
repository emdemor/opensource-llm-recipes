{
 "cells": [
  {
   "cell_type": "markdown",
   "id": "cbf1e35d-2bfa-4288-93e9-31798924aba2",
   "metadata": {},
   "source": [
    "# Using APIs"
   ]
  },
  {
   "cell_type": "code",
   "execution_count": 36,
   "id": "82680a9f-d94d-406a-a009-70ba085a189c",
   "metadata": {
    "execution": {
     "iopub.execute_input": "2024-09-22T01:29:19.409407Z",
     "iopub.status.busy": "2024-09-22T01:29:19.409210Z",
     "iopub.status.idle": "2024-09-22T01:29:19.411948Z",
     "shell.execute_reply": "2024-09-22T01:29:19.411386Z",
     "shell.execute_reply.started": "2024-09-22T01:29:19.409391Z"
    }
   },
   "outputs": [],
   "source": [
    "import tensorflow as tf"
   ]
  },
  {
   "cell_type": "code",
   "execution_count": 37,
   "id": "cca5000a-6344-4ee9-9c7b-e7cf706ef529",
   "metadata": {
    "execution": {
     "iopub.execute_input": "2024-09-22T01:29:21.727157Z",
     "iopub.status.busy": "2024-09-22T01:29:21.726965Z",
     "iopub.status.idle": "2024-09-22T01:29:21.731248Z",
     "shell.execute_reply": "2024-09-22T01:29:21.730863Z",
     "shell.execute_reply.started": "2024-09-22T01:29:21.727142Z"
    }
   },
   "outputs": [
    {
     "name": "stdout",
     "output_type": "stream",
     "text": [
      "Num GPUs Available:  1\n",
      "TensorFlow version: 2.17.0\n",
      "Device properties: {'compute_capability': (8, 9), 'device_name': 'NVIDIA GeForce RTX 4060 Ti'}\n"
     ]
    },
    {
     "name": "stderr",
     "output_type": "stream",
     "text": [
      "I0000 00:00:1726968561.728424      84 cuda_executor.cc:1015] successful NUMA node read from SysFS had negative value (-1), but there must be at least one NUMA node, so returning NUMA node zero. See more at https://github.com/torvalds/linux/blob/v6.0/Documentation/ABI/testing/sysfs-bus-pci#L344-L355\n"
     ]
    }
   ],
   "source": [
    "print(\"Num GPUs Available: \", len(tf.config.list_physical_devices('GPU')))\n",
    "\n",
    "print(\"TensorFlow version:\", tf.__version__)\n",
    "gpu_device = tf.config.experimental.list_physical_devices('GPU')[0]\n",
    "gpu_info = tf.config.experimental.get_device_details(gpu_device)\n",
    "\n",
    "print(f\"Device properties: {gpu_info}\")"
   ]
  },
  {
   "cell_type": "code",
   "execution_count": 38,
   "id": "59443a78-ef3a-4fbe-b996-1f2f57aebd15",
   "metadata": {
    "execution": {
     "iopub.execute_input": "2024-09-22T01:29:26.384612Z",
     "iopub.status.busy": "2024-09-22T01:29:26.383565Z",
     "iopub.status.idle": "2024-09-22T01:29:26.388796Z",
     "shell.execute_reply": "2024-09-22T01:29:26.388355Z",
     "shell.execute_reply.started": "2024-09-22T01:29:26.384507Z"
    }
   },
   "outputs": [],
   "source": [
    "sentences = [\n",
    "    \"I love my dog\",\n",
    "    \"I love my cat\",\n",
    "    \"You love my dog!\",\n",
    "]"
   ]
  },
  {
   "cell_type": "code",
   "execution_count": 39,
   "id": "eabfd849-a1da-48b6-b9a4-dc3ebd91c56d",
   "metadata": {
    "execution": {
     "iopub.execute_input": "2024-09-22T01:29:26.812924Z",
     "iopub.status.busy": "2024-09-22T01:29:26.812083Z",
     "iopub.status.idle": "2024-09-22T01:29:26.831514Z",
     "shell.execute_reply": "2024-09-22T01:29:26.830177Z",
     "shell.execute_reply.started": "2024-09-22T01:29:26.812852Z"
    }
   },
   "outputs": [],
   "source": [
    "vectorize_layer = tf.keras.layers.TextVectorization()"
   ]
  },
  {
   "cell_type": "code",
   "execution_count": 40,
   "id": "ab94950e-077c-42c0-9067-d8972284352c",
   "metadata": {
    "execution": {
     "iopub.execute_input": "2024-09-22T01:29:27.902403Z",
     "iopub.status.busy": "2024-09-22T01:29:27.901560Z",
     "iopub.status.idle": "2024-09-22T01:29:27.932677Z",
     "shell.execute_reply": "2024-09-22T01:29:27.932270Z",
     "shell.execute_reply.started": "2024-09-22T01:29:27.902332Z"
    }
   },
   "outputs": [],
   "source": [
    "vectorize_layer.adapt(sentences)"
   ]
  },
  {
   "cell_type": "code",
   "execution_count": 41,
   "id": "d1411f72-bc6f-4cd1-8f8b-0ad87de69345",
   "metadata": {
    "execution": {
     "iopub.execute_input": "2024-09-22T01:29:28.269225Z",
     "iopub.status.busy": "2024-09-22T01:29:28.268334Z",
     "iopub.status.idle": "2024-09-22T01:29:28.283120Z",
     "shell.execute_reply": "2024-09-22T01:29:28.280623Z",
     "shell.execute_reply.started": "2024-09-22T01:29:28.269147Z"
    }
   },
   "outputs": [
    {
     "name": "stdout",
     "output_type": "stream",
     "text": [
      "['', '[UNK]', 'my', 'love', 'i', 'dog', 'you', 'cat']\n"
     ]
    }
   ],
   "source": [
    "vocabulary = vectorize_layer.get_vocabulary(include_special_tokens=True)\n",
    "print(vocabulary)"
   ]
  },
  {
   "cell_type": "markdown",
   "id": "9d508c50-ac56-430d-b2f6-ea13276ecf00",
   "metadata": {},
   "source": [
    "# Lab 1\n",
    "\n",
    "git clone https://github.com/https-deeplearning-ai/tensorflow-1-public"
   ]
  },
  {
   "cell_type": "markdown",
   "id": "7e2d1a90-0afe-4b85-a1b7-a5009751b1a9",
   "metadata": {},
   "source": [
    "### Padding"
   ]
  },
  {
   "cell_type": "code",
   "execution_count": 29,
   "id": "1c385712-964c-429d-8b9e-61fa67a32caa",
   "metadata": {
    "execution": {
     "iopub.execute_input": "2024-09-18T11:22:07.417512Z",
     "iopub.status.busy": "2024-09-18T11:22:07.417257Z",
     "iopub.status.idle": "2024-09-18T11:22:07.444861Z",
     "shell.execute_reply": "2024-09-18T11:22:07.444461Z",
     "shell.execute_reply.started": "2024-09-18T11:22:07.417490Z"
    }
   },
   "outputs": [
    {
     "name": "stdout",
     "output_type": "stream",
     "text": [
      "0 \n",
      "1 [UNK]\n",
      "2 my\n",
      "3 love\n",
      "4 dog\n",
      "5 you\n",
      "6 i\n",
      "7 think\n",
      "8 is\n",
      "9 do\n",
      "10 cat\n",
      "11 amazing\n"
     ]
    }
   ],
   "source": [
    "import tensorflow as tf\n",
    "\n",
    "# Sample inputs\n",
    "sentences = [\n",
    "    'I love my dog',\n",
    "    'I love my cat',\n",
    "    'You love my dog!',\n",
    "    'Do you think my dog is amazing?'\n",
    "    ]\n",
    "\n",
    "# Initialize the layer\n",
    "vectorize_layer = tf.keras.layers.TextVectorization()\n",
    "\n",
    "# Compute the vocabulary\n",
    "vectorize_layer.adapt(sentences)\n",
    "\n",
    "# Get the vocabulary\n",
    "vocabulary = vectorize_layer.get_vocabulary()\n",
    "\n",
    "# Print the token index\n",
    "for index, word in enumerate(vocabulary):\n",
    "  print(index, word)"
   ]
  },
  {
   "cell_type": "code",
   "execution_count": 30,
   "id": "776903fb-035a-4516-8d38-759e259f340d",
   "metadata": {
    "execution": {
     "iopub.execute_input": "2024-09-18T11:22:22.670240Z",
     "iopub.status.busy": "2024-09-18T11:22:22.670040Z",
     "iopub.status.idle": "2024-09-18T11:22:23.171762Z",
     "shell.execute_reply": "2024-09-18T11:22:23.171324Z",
     "shell.execute_reply.started": "2024-09-18T11:22:22.670225Z"
    }
   },
   "outputs": [
    {
     "name": "stdout",
     "output_type": "stream",
     "text": [
      "tf.Tensor([6 3 2 4], shape=(4,), dtype=int64)\n"
     ]
    }
   ],
   "source": [
    "# String input\n",
    "sample_input = 'I love my dog'\n",
    "\n",
    "# Convert the string input to an integer sequence\n",
    "sequence = vectorize_layer(sample_input)\n",
    "\n",
    "# Print the result\n",
    "print(sequence)"
   ]
  },
  {
   "cell_type": "code",
   "execution_count": 31,
   "id": "1e721934-52d9-4d30-b49b-790233ad7807",
   "metadata": {
    "execution": {
     "iopub.execute_input": "2024-09-18T11:22:35.337680Z",
     "iopub.status.busy": "2024-09-18T11:22:35.336434Z",
     "iopub.status.idle": "2024-09-18T11:22:35.398065Z",
     "shell.execute_reply": "2024-09-18T11:22:35.397612Z",
     "shell.execute_reply.started": "2024-09-18T11:22:35.337567Z"
    }
   },
   "outputs": [
    {
     "name": "stdout",
     "output_type": "stream",
     "text": [
      "I love my dog ---> [6 3 2 4]\n",
      "I love my cat ---> [ 6  3  2 10]\n",
      "You love my dog! ---> [5 3 2 4]\n",
      "Do you think my dog is amazing? ---> [ 9  5  7  2  4  8 11]\n"
     ]
    }
   ],
   "source": [
    "# Convert the list to tf.data.Dataset\n",
    "sentences_dataset = tf.data.Dataset.from_tensor_slices(sentences)\n",
    "\n",
    "# Define a mapping function to convert each sample input\n",
    "sequences = sentences_dataset.map(vectorize_layer)\n",
    "\n",
    "# Print the integer sequences\n",
    "for sentence, sequence in zip(sentences, sequences):\n",
    "  print(f'{sentence} ---> {sequence}')"
   ]
  },
  {
   "cell_type": "code",
   "execution_count": 32,
   "id": "8c7c0e17-7ee3-446d-8f75-27a6bdf018ec",
   "metadata": {
    "execution": {
     "iopub.execute_input": "2024-09-18T11:22:51.093983Z",
     "iopub.status.busy": "2024-09-18T11:22:51.093561Z",
     "iopub.status.idle": "2024-09-18T11:22:51.118815Z",
     "shell.execute_reply": "2024-09-18T11:22:51.118228Z",
     "shell.execute_reply.started": "2024-09-18T11:22:51.093957Z"
    }
   },
   "outputs": [
    {
     "name": "stdout",
     "output_type": "stream",
     "text": [
      "INPUT:\n",
      "['I love my dog', 'I love my cat', 'You love my dog!', 'Do you think my dog is amazing?']\n",
      "\n",
      "OUTPUT:\n",
      "tf.Tensor(\n",
      "[[ 6  3  2  4  0  0  0]\n",
      " [ 6  3  2 10  0  0  0]\n",
      " [ 5  3  2  4  0  0  0]\n",
      " [ 9  5  7  2  4  8 11]], shape=(4, 7), dtype=int64)\n"
     ]
    }
   ],
   "source": [
    "# Apply the layer to the string input list\n",
    "sequences_post = vectorize_layer(sentences)\n",
    "\n",
    "# Print the results\n",
    "print('INPUT:')\n",
    "print(sentences)\n",
    "print()\n",
    "\n",
    "print('OUTPUT:')\n",
    "print(sequences_post)"
   ]
  },
  {
   "cell_type": "code",
   "execution_count": 33,
   "id": "9b43a699-bc5f-4674-9bb9-3e40f87e2e83",
   "metadata": {
    "execution": {
     "iopub.execute_input": "2024-09-18T11:23:07.684233Z",
     "iopub.status.busy": "2024-09-18T11:23:07.683917Z",
     "iopub.status.idle": "2024-09-18T11:23:07.742790Z",
     "shell.execute_reply": "2024-09-18T11:23:07.742389Z",
     "shell.execute_reply.started": "2024-09-18T11:23:07.684217Z"
    }
   },
   "outputs": [
    {
     "name": "stdout",
     "output_type": "stream",
     "text": [
      "INPUT:\n",
      "[6 3 2 4]\n",
      "[ 6  3  2 10]\n",
      "[5 3 2 4]\n",
      "[ 9  5  7  2  4  8 11]\n",
      "\n",
      "OUTPUT:\n",
      "[[ 0  0  0  6  3  2  4]\n",
      " [ 0  0  0  6  3  2 10]\n",
      " [ 0  0  0  5  3  2  4]\n",
      " [ 9  5  7  2  4  8 11]]\n"
     ]
    }
   ],
   "source": [
    "# Pre-pad the sequences to a uniform length.\n",
    "# You can remove the `padding` argument and get the same result.\n",
    "sequences_pre = tf.keras.utils.pad_sequences(sequences, padding='pre')\n",
    "\n",
    "# Print the results\n",
    "print('INPUT:')\n",
    "[print(sequence.numpy()) for sequence in sequences]\n",
    "print()\n",
    "\n",
    "print('OUTPUT:')\n",
    "print(sequences_pre)"
   ]
  },
  {
   "cell_type": "code",
   "execution_count": 34,
   "id": "47a65bcf-9e76-4d1c-8535-ccff77957e34",
   "metadata": {
    "execution": {
     "iopub.execute_input": "2024-09-18T11:43:46.763837Z",
     "iopub.status.busy": "2024-09-18T11:43:46.763309Z",
     "iopub.status.idle": "2024-09-18T11:43:46.833384Z",
     "shell.execute_reply": "2024-09-18T11:43:46.832925Z",
     "shell.execute_reply.started": "2024-09-18T11:43:46.763822Z"
    }
   },
   "outputs": [
    {
     "name": "stdout",
     "output_type": "stream",
     "text": [
      "INPUT:\n",
      "[6 3 2 4]\n",
      "[ 6  3  2 10]\n",
      "[5 3 2 4]\n",
      "[ 9  5  7  2  4  8 11]\n",
      "\n",
      "OUTPUT:\n",
      "[[ 0  6  3  2  4]\n",
      " [ 0  6  3  2 10]\n",
      " [ 0  5  3  2  4]\n",
      " [ 7  2  4  8 11]]\n"
     ]
    }
   ],
   "source": [
    "# Post-pad the sequences and limit the size to 5.\n",
    "sequences_post_trunc = tf.keras.utils.pad_sequences(sequences, maxlen=5, padding='pre')\n",
    "\n",
    "# Print the results\n",
    "print('INPUT:')\n",
    "[print(sequence.numpy()) for sequence in sequences]\n",
    "print()\n",
    "\n",
    "print('OUTPUT:')\n",
    "print(sequences_post_trunc)"
   ]
  },
  {
   "cell_type": "code",
   "execution_count": 35,
   "id": "5fa166ec-2f0f-4c07-bb95-21be90e1e885",
   "metadata": {
    "execution": {
     "iopub.execute_input": "2024-09-18T11:44:40.448349Z",
     "iopub.status.busy": "2024-09-18T11:44:40.446101Z",
     "iopub.status.idle": "2024-09-18T11:44:40.540772Z",
     "shell.execute_reply": "2024-09-18T11:44:40.540305Z",
     "shell.execute_reply.started": "2024-09-18T11:44:40.448235Z"
    }
   },
   "outputs": [
    {
     "name": "stdout",
     "output_type": "stream",
     "text": [
      "INPUT:\n",
      "[6 3 2 4]\n",
      "[ 6  3  2 10]\n",
      "[5 3 2 4]\n",
      "[ 9  5  7  2  4  8 11]\n",
      "\n",
      "OUTPUT:\n",
      "[[ 0  6  3  2  4]\n",
      " [ 0  6  3  2 10]\n",
      " [ 0  5  3  2  4]\n",
      " [ 9  5  7  2  4]]\n"
     ]
    }
   ],
   "source": [
    "# Post-pad the sequences and limit the size to 5.\n",
    "sequences_post_trunc = tf.keras.utils.pad_sequences(sequences, maxlen=5, padding='pre', truncating=\"post\")\n",
    "\n",
    "# Print the results\n",
    "print('INPUT:')\n",
    "[print(sequence.numpy()) for sequence in sequences]\n",
    "print()\n",
    "\n",
    "print('OUTPUT:')\n",
    "print(sequences_post_trunc)"
   ]
  },
  {
   "cell_type": "code",
   "execution_count": null,
   "id": "5997b46e-f29f-4193-8536-69d0452355c5",
   "metadata": {},
   "outputs": [],
   "source": []
  },
  {
   "cell_type": "code",
   "execution_count": null,
   "id": "9086f391-689e-47fd-9ff7-0c0c9ea4868c",
   "metadata": {},
   "outputs": [],
   "source": []
  },
  {
   "cell_type": "code",
   "execution_count": null,
   "id": "bd2fe1e0-c311-4fa0-8aac-9ba6493a028f",
   "metadata": {},
   "outputs": [],
   "source": []
  },
  {
   "cell_type": "code",
   "execution_count": null,
   "id": "f65444d6-fc8f-4c49-ad4a-744df6023bb8",
   "metadata": {},
   "outputs": [],
   "source": []
  },
  {
   "cell_type": "code",
   "execution_count": null,
   "id": "9d939aa8-09cb-405f-af04-4478584f2eff",
   "metadata": {},
   "outputs": [],
   "source": []
  },
  {
   "cell_type": "code",
   "execution_count": null,
   "id": "e5c9a758-824a-44fd-aa85-b9621e022f15",
   "metadata": {},
   "outputs": [],
   "source": []
  },
  {
   "cell_type": "code",
   "execution_count": null,
   "id": "36fcaed4-2fb2-4fc6-b13c-744b0c82c6bf",
   "metadata": {},
   "outputs": [],
   "source": []
  },
  {
   "cell_type": "code",
   "execution_count": null,
   "id": "eb9861ef-bbff-42f1-80a3-e198cfb8b09e",
   "metadata": {},
   "outputs": [],
   "source": []
  }
 ],
 "metadata": {
  "kernelspec": {
   "display_name": "Python 3 (ipykernel)",
   "language": "python",
   "name": "python3"
  },
  "language_info": {
   "codemirror_mode": {
    "name": "ipython",
    "version": 3
   },
   "file_extension": ".py",
   "mimetype": "text/x-python",
   "name": "python",
   "nbconvert_exporter": "python",
   "pygments_lexer": "ipython3",
   "version": "3.10.14"
  }
 },
 "nbformat": 4,
 "nbformat_minor": 5
}
