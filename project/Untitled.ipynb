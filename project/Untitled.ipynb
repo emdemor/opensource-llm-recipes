{
 "cells": [
  {
   "cell_type": "code",
   "execution_count": 1,
   "id": "aef81869-5622-4112-9e28-3bb7f33f49de",
   "metadata": {
    "execution": {
     "iopub.execute_input": "2025-02-13T02:24:24.493099Z",
     "iopub.status.busy": "2025-02-13T02:24:24.492875Z",
     "iopub.status.idle": "2025-02-13T02:24:31.844998Z",
     "shell.execute_reply": "2025-02-13T02:24:31.844435Z",
     "shell.execute_reply.started": "2025-02-13T02:24:24.493082Z"
    }
   },
   "outputs": [
    {
     "name": "stderr",
     "output_type": "stream",
     "text": [
      "/opt/conda/lib/python3.10/site-packages/transformers/utils/hub.py:127: FutureWarning: Using `TRANSFORMERS_CACHE` is deprecated and will be removed in v5 of Transformers. Use `HF_HOME` instead.\n",
      "  warnings.warn(\n"
     ]
    }
   ],
   "source": [
    "from transformers import AutoTokenizer, AutoModelForMaskedLM, DataCollatorForLanguageModeling, Trainer, TrainingArguments\n",
    "from datasets import Dataset\n",
    "\n",
    "# 1. Criação de um corpus fictício com algumas frases em português\n",
    "texts = [\n",
    "    \"O gato dorme no sofá.\",\n",
    "    \"A inteligência artificial está transformando o mundo.\",\n",
    "    \"Eu gosto de programar em Python.\",\n",
    "    \"Este é um exemplo de corpus em português.\"\n",
    "]\n"
   ]
  },
  {
   "cell_type": "code",
   "execution_count": 2,
   "id": "0e3d3c69-1c8b-48bb-9baf-3d98b6a5f18d",
   "metadata": {
    "execution": {
     "iopub.execute_input": "2025-02-13T02:24:35.380403Z",
     "iopub.status.busy": "2025-02-13T02:24:35.379203Z",
     "iopub.status.idle": "2025-02-13T02:24:39.815222Z",
     "shell.execute_reply": "2025-02-13T02:24:39.814560Z",
     "shell.execute_reply.started": "2025-02-13T02:24:35.380333Z"
    }
   },
   "outputs": [
    {
     "data": {
      "application/vnd.jupyter.widget-view+json": {
       "model_id": "4506586e7b764b54aaa40816a6ca3932",
       "version_major": 2,
       "version_minor": 0
      },
      "text/plain": [
       "tokenizer_config.json:   0%|          | 0.00/20.8k [00:00<?, ?B/s]"
      ]
     },
     "metadata": {},
     "output_type": "display_data"
    },
    {
     "data": {
      "application/vnd.jupyter.widget-view+json": {
       "model_id": "e2dafc298068441bbfc75791f7885370",
       "version_major": 2,
       "version_minor": 0
      },
      "text/plain": [
       "tokenizer.json:   0%|          | 0.00/2.13M [00:00<?, ?B/s]"
      ]
     },
     "metadata": {},
     "output_type": "display_data"
    },
    {
     "data": {
      "application/vnd.jupyter.widget-view+json": {
       "model_id": "ecbc018a49b942ebbcf5f86ba64b4023",
       "version_major": 2,
       "version_minor": 0
      },
      "text/plain": [
       "special_tokens_map.json:   0%|          | 0.00/694 [00:00<?, ?B/s]"
      ]
     },
     "metadata": {},
     "output_type": "display_data"
    },
    {
     "data": {
      "application/vnd.jupyter.widget-view+json": {
       "model_id": "3020c1fe0ba24b35b626385d3c38e838",
       "version_major": 2,
       "version_minor": 0
      },
      "text/plain": [
       "Map:   0%|          | 0/4 [00:00<?, ? examples/s]"
      ]
     },
     "metadata": {},
     "output_type": "display_data"
    },
    {
     "data": {
      "application/vnd.jupyter.widget-view+json": {
       "model_id": "438887cde7fc4a0ab00e533bd182c399",
       "version_major": 2,
       "version_minor": 0
      },
      "text/plain": [
       "config.json:   0%|          | 0.00/1.19k [00:00<?, ?B/s]"
      ]
     },
     "metadata": {},
     "output_type": "display_data"
    },
    {
     "ename": "ValueError",
     "evalue": "The checkpoint you are trying to load has model type `modernbert` but Transformers does not recognize this architecture. This could be because of an issue with the checkpoint, or because your version of Transformers is out of date.",
     "output_type": "error",
     "traceback": [
      "\u001b[0;31m---------------------------------------------------------------------------\u001b[0m",
      "\u001b[0;31mKeyError\u001b[0m                                  Traceback (most recent call last)",
      "File \u001b[0;32m/opt/conda/lib/python3.10/site-packages/transformers/models/auto/configuration_auto.py:993\u001b[0m, in \u001b[0;36mAutoConfig.from_pretrained\u001b[0;34m(cls, pretrained_model_name_or_path, **kwargs)\u001b[0m\n\u001b[1;32m    992\u001b[0m \u001b[38;5;28;01mtry\u001b[39;00m:\n\u001b[0;32m--> 993\u001b[0m     config_class \u001b[38;5;241m=\u001b[39m \u001b[43mCONFIG_MAPPING\u001b[49m\u001b[43m[\u001b[49m\u001b[43mconfig_dict\u001b[49m\u001b[43m[\u001b[49m\u001b[38;5;124;43m\"\u001b[39;49m\u001b[38;5;124;43mmodel_type\u001b[39;49m\u001b[38;5;124;43m\"\u001b[39;49m\u001b[43m]\u001b[49m\u001b[43m]\u001b[49m\n\u001b[1;32m    994\u001b[0m \u001b[38;5;28;01mexcept\u001b[39;00m \u001b[38;5;167;01mKeyError\u001b[39;00m:\n",
      "File \u001b[0;32m/opt/conda/lib/python3.10/site-packages/transformers/models/auto/configuration_auto.py:695\u001b[0m, in \u001b[0;36m_LazyConfigMapping.__getitem__\u001b[0;34m(self, key)\u001b[0m\n\u001b[1;32m    694\u001b[0m \u001b[38;5;28;01mif\u001b[39;00m key \u001b[38;5;129;01mnot\u001b[39;00m \u001b[38;5;129;01min\u001b[39;00m \u001b[38;5;28mself\u001b[39m\u001b[38;5;241m.\u001b[39m_mapping:\n\u001b[0;32m--> 695\u001b[0m     \u001b[38;5;28;01mraise\u001b[39;00m \u001b[38;5;167;01mKeyError\u001b[39;00m(key)\n\u001b[1;32m    696\u001b[0m value \u001b[38;5;241m=\u001b[39m \u001b[38;5;28mself\u001b[39m\u001b[38;5;241m.\u001b[39m_mapping[key]\n",
      "\u001b[0;31mKeyError\u001b[0m: 'modernbert'",
      "\nDuring handling of the above exception, another exception occurred:\n",
      "\u001b[0;31mValueError\u001b[0m                                Traceback (most recent call last)",
      "Cell \u001b[0;32mIn[2], line 18\u001b[0m\n\u001b[1;32m     15\u001b[0m data_collator \u001b[38;5;241m=\u001b[39m DataCollatorForLanguageModeling(tokenizer\u001b[38;5;241m=\u001b[39mtokenizer, mlm\u001b[38;5;241m=\u001b[39m\u001b[38;5;28;01mTrue\u001b[39;00m, mlm_probability\u001b[38;5;241m=\u001b[39m\u001b[38;5;241m0.15\u001b[39m)\n\u001b[1;32m     17\u001b[0m \u001b[38;5;66;03m# 4. Carrega o modelo \"answerdotai/ModernBERT-base\" para masked language modeling\u001b[39;00m\n\u001b[0;32m---> 18\u001b[0m model \u001b[38;5;241m=\u001b[39m \u001b[43mAutoModelForMaskedLM\u001b[49m\u001b[38;5;241;43m.\u001b[39;49m\u001b[43mfrom_pretrained\u001b[49m\u001b[43m(\u001b[49m\u001b[38;5;124;43m\"\u001b[39;49m\u001b[38;5;124;43manswerdotai/ModernBERT-base\u001b[39;49m\u001b[38;5;124;43m\"\u001b[39;49m\u001b[43m)\u001b[49m\n",
      "File \u001b[0;32m/opt/conda/lib/python3.10/site-packages/transformers/models/auto/auto_factory.py:524\u001b[0m, in \u001b[0;36m_BaseAutoModelClass.from_pretrained\u001b[0;34m(cls, pretrained_model_name_or_path, *model_args, **kwargs)\u001b[0m\n\u001b[1;32m    521\u001b[0m \u001b[38;5;28;01mif\u001b[39;00m kwargs\u001b[38;5;241m.\u001b[39mget(\u001b[38;5;124m\"\u001b[39m\u001b[38;5;124mquantization_config\u001b[39m\u001b[38;5;124m\"\u001b[39m, \u001b[38;5;28;01mNone\u001b[39;00m) \u001b[38;5;129;01mis\u001b[39;00m \u001b[38;5;129;01mnot\u001b[39;00m \u001b[38;5;28;01mNone\u001b[39;00m:\n\u001b[1;32m    522\u001b[0m     _ \u001b[38;5;241m=\u001b[39m kwargs\u001b[38;5;241m.\u001b[39mpop(\u001b[38;5;124m\"\u001b[39m\u001b[38;5;124mquantization_config\u001b[39m\u001b[38;5;124m\"\u001b[39m)\n\u001b[0;32m--> 524\u001b[0m config, kwargs \u001b[38;5;241m=\u001b[39m \u001b[43mAutoConfig\u001b[49m\u001b[38;5;241;43m.\u001b[39;49m\u001b[43mfrom_pretrained\u001b[49m\u001b[43m(\u001b[49m\n\u001b[1;32m    525\u001b[0m \u001b[43m    \u001b[49m\u001b[43mpretrained_model_name_or_path\u001b[49m\u001b[43m,\u001b[49m\n\u001b[1;32m    526\u001b[0m \u001b[43m    \u001b[49m\u001b[43mreturn_unused_kwargs\u001b[49m\u001b[38;5;241;43m=\u001b[39;49m\u001b[38;5;28;43;01mTrue\u001b[39;49;00m\u001b[43m,\u001b[49m\n\u001b[1;32m    527\u001b[0m \u001b[43m    \u001b[49m\u001b[43mtrust_remote_code\u001b[49m\u001b[38;5;241;43m=\u001b[39;49m\u001b[43mtrust_remote_code\u001b[49m\u001b[43m,\u001b[49m\n\u001b[1;32m    528\u001b[0m \u001b[43m    \u001b[49m\u001b[43mcode_revision\u001b[49m\u001b[38;5;241;43m=\u001b[39;49m\u001b[43mcode_revision\u001b[49m\u001b[43m,\u001b[49m\n\u001b[1;32m    529\u001b[0m \u001b[43m    \u001b[49m\u001b[43m_commit_hash\u001b[49m\u001b[38;5;241;43m=\u001b[39;49m\u001b[43mcommit_hash\u001b[49m\u001b[43m,\u001b[49m\n\u001b[1;32m    530\u001b[0m \u001b[43m    \u001b[49m\u001b[38;5;241;43m*\u001b[39;49m\u001b[38;5;241;43m*\u001b[39;49m\u001b[43mhub_kwargs\u001b[49m\u001b[43m,\u001b[49m\n\u001b[1;32m    531\u001b[0m \u001b[43m    \u001b[49m\u001b[38;5;241;43m*\u001b[39;49m\u001b[38;5;241;43m*\u001b[39;49m\u001b[43mkwargs\u001b[49m\u001b[43m,\u001b[49m\n\u001b[1;32m    532\u001b[0m \u001b[43m\u001b[49m\u001b[43m)\u001b[49m\n\u001b[1;32m    534\u001b[0m \u001b[38;5;66;03m# if torch_dtype=auto was passed here, ensure to pass it on\u001b[39;00m\n\u001b[1;32m    535\u001b[0m \u001b[38;5;28;01mif\u001b[39;00m kwargs_orig\u001b[38;5;241m.\u001b[39mget(\u001b[38;5;124m\"\u001b[39m\u001b[38;5;124mtorch_dtype\u001b[39m\u001b[38;5;124m\"\u001b[39m, \u001b[38;5;28;01mNone\u001b[39;00m) \u001b[38;5;241m==\u001b[39m \u001b[38;5;124m\"\u001b[39m\u001b[38;5;124mauto\u001b[39m\u001b[38;5;124m\"\u001b[39m:\n",
      "File \u001b[0;32m/opt/conda/lib/python3.10/site-packages/transformers/models/auto/configuration_auto.py:995\u001b[0m, in \u001b[0;36mAutoConfig.from_pretrained\u001b[0;34m(cls, pretrained_model_name_or_path, **kwargs)\u001b[0m\n\u001b[1;32m    993\u001b[0m         config_class \u001b[38;5;241m=\u001b[39m CONFIG_MAPPING[config_dict[\u001b[38;5;124m\"\u001b[39m\u001b[38;5;124mmodel_type\u001b[39m\u001b[38;5;124m\"\u001b[39m]]\n\u001b[1;32m    994\u001b[0m     \u001b[38;5;28;01mexcept\u001b[39;00m \u001b[38;5;167;01mKeyError\u001b[39;00m:\n\u001b[0;32m--> 995\u001b[0m         \u001b[38;5;28;01mraise\u001b[39;00m \u001b[38;5;167;01mValueError\u001b[39;00m(\n\u001b[1;32m    996\u001b[0m             \u001b[38;5;124mf\u001b[39m\u001b[38;5;124m\"\u001b[39m\u001b[38;5;124mThe checkpoint you are trying to load has model type `\u001b[39m\u001b[38;5;132;01m{\u001b[39;00mconfig_dict[\u001b[38;5;124m'\u001b[39m\u001b[38;5;124mmodel_type\u001b[39m\u001b[38;5;124m'\u001b[39m]\u001b[38;5;132;01m}\u001b[39;00m\u001b[38;5;124m` \u001b[39m\u001b[38;5;124m\"\u001b[39m\n\u001b[1;32m    997\u001b[0m             \u001b[38;5;124m\"\u001b[39m\u001b[38;5;124mbut Transformers does not recognize this architecture. This could be because of an \u001b[39m\u001b[38;5;124m\"\u001b[39m\n\u001b[1;32m    998\u001b[0m             \u001b[38;5;124m\"\u001b[39m\u001b[38;5;124missue with the checkpoint, or because your version of Transformers is out of date.\u001b[39m\u001b[38;5;124m\"\u001b[39m\n\u001b[1;32m    999\u001b[0m         )\n\u001b[1;32m   1000\u001b[0m     \u001b[38;5;28;01mreturn\u001b[39;00m config_class\u001b[38;5;241m.\u001b[39mfrom_dict(config_dict, \u001b[38;5;241m*\u001b[39m\u001b[38;5;241m*\u001b[39munused_kwargs)\n\u001b[1;32m   1001\u001b[0m \u001b[38;5;28;01melse\u001b[39;00m:\n\u001b[1;32m   1002\u001b[0m     \u001b[38;5;66;03m# Fallback: use pattern matching on the string.\u001b[39;00m\n\u001b[1;32m   1003\u001b[0m     \u001b[38;5;66;03m# We go from longer names to shorter names to catch roberta before bert (for instance)\u001b[39;00m\n",
      "\u001b[0;31mValueError\u001b[0m: The checkpoint you are trying to load has model type `modernbert` but Transformers does not recognize this architecture. This could be because of an issue with the checkpoint, or because your version of Transformers is out of date."
     ]
    }
   ],
   "source": [
    "\n",
    "# Converte a lista de textos em um Dataset\n",
    "dataset = Dataset.from_dict({\"text\": texts})\n",
    "\n",
    "# 2. Carrega o tokenizador do modelo \"answerdotai/ModernBERT-base\"\n",
    "tokenizer = AutoTokenizer.from_pretrained(\"answerdotai/ModernBERT-base\")\n",
    "\n",
    "# Função para tokenizar o dataset\n",
    "def tokenize_function(examples):\n",
    "    return tokenizer(examples[\"text\"], truncation=True, padding=\"max_length\", max_length=32)\n",
    "\n",
    "# Aplica a tokenização no dataset\n",
    "tokenized_dataset = dataset.map(tokenize_function, batched=True)\n",
    "\n",
    "# 3. Configura um data collator para treinamento com masked language modeling (MLM)\n",
    "data_collator = DataCollatorForLanguageModeling(tokenizer=tokenizer, mlm=True, mlm_probability=0.15)\n",
    "\n",
    "# 4. Carrega o modelo \"answerdotai/ModernBERT-base\" para masked language modeling\n",
    "model = AutoModelForMaskedLM.from_pretrained(\"answerdotai/ModernBERT-base\")\n"
   ]
  },
  {
   "cell_type": "code",
   "execution_count": null,
   "id": "34564fa1-c36a-4bb1-aa11-11359a0d1dde",
   "metadata": {},
   "outputs": [],
   "source": [
    "\n",
    "# 5. Define os argumentos de treinamento\n",
    "training_args = TrainingArguments(\n",
    "    output_dir=\"./ModernBERT-portuguese-adapted\",\n",
    "    overwrite_output_dir=True,\n",
    "    num_train_epochs=1,             # Aumente o número de épocas para um treinamento real\n",
    "    per_device_train_batch_size=2,\n",
    "    save_steps=10,\n",
    "    save_total_limit=2,\n",
    "    logging_steps=5,\n",
    ")\n",
    "\n",
    "# 6. Configura o Trainer com o modelo, os argumentos, o dataset e o data collator\n",
    "trainer = Trainer(\n",
    "    model=model,\n",
    "    args=training_args,\n",
    "    train_dataset=tokenized_dataset,\n",
    "    data_collator=data_collator,\n",
    ")\n",
    "\n",
    "# 7. Inicia o treinamento (continuação do pré-treinamento)\n",
    "trainer.train()\n",
    "\n",
    "# 8. Salva o modelo e o tokenizador adaptados\n",
    "model.save_pretrained(\"./ModernBERT-portuguese-adapted\")\n",
    "tokenizer.save_pretrained(\"./ModernBERT-portuguese-adapted\")\n"
   ]
  },
  {
   "cell_type": "code",
   "execution_count": null,
   "id": "96edcb39-acbc-4040-803e-2b423600dec9",
   "metadata": {},
   "outputs": [],
   "source": []
  },
  {
   "cell_type": "code",
   "execution_count": null,
   "id": "10e9fa11-0529-4ae6-b775-66ef0f6a7187",
   "metadata": {},
   "outputs": [],
   "source": []
  },
  {
   "cell_type": "code",
   "execution_count": null,
   "id": "a631c392-38f4-4d03-9191-c3b8f6cf01d1",
   "metadata": {},
   "outputs": [],
   "source": []
  },
  {
   "cell_type": "code",
   "execution_count": 7,
   "id": "ca01acfb-900e-4d39-bf1a-08aad873d251",
   "metadata": {
    "execution": {
     "iopub.execute_input": "2024-09-24T03:34:49.779578Z",
     "iopub.status.busy": "2024-09-24T03:34:49.778973Z",
     "iopub.status.idle": "2024-09-24T03:34:49.782338Z",
     "shell.execute_reply": "2024-09-24T03:34:49.781881Z",
     "shell.execute_reply.started": "2024-09-24T03:34:49.779562Z"
    }
   },
   "outputs": [],
   "source": [
    "import whisper\n",
    "import torch\n",
    "import yt_dlp\n",
    "import yt_dlp as youtube_dl\n",
    "from pydub import AudioSegment\n",
    "from IPython.display import Audio\n",
    "\n",
    "device = \"cuda\" if torch.cuda.is_available() else \"cpu\""
   ]
  },
  {
   "cell_type": "code",
   "execution_count": 168,
   "id": "13442c8c-80f2-430c-a2ad-1de541e58157",
   "metadata": {
    "execution": {
     "iopub.execute_input": "2024-09-24T04:20:45.414356Z",
     "iopub.status.busy": "2024-09-24T04:20:45.414088Z",
     "iopub.status.idle": "2024-09-24T04:20:45.417585Z",
     "shell.execute_reply": "2024-09-24T04:20:45.417161Z",
     "shell.execute_reply.started": "2024-09-24T04:20:45.414338Z"
    }
   },
   "outputs": [],
   "source": [
    "from functools import lru_cache\n",
    "import re\n",
    "\n",
    "def remove_special_characters(text):\n",
    "    return re.sub(r'[^a-zA-Z0-9\\s]', '', text)\n",
    "\n",
    "@lru_cache(maxsize=128)\n",
    "def get_youtube_video_metadata(video_url):\n",
    "    ydl_opts = {\n",
    "        'skip_download': True,  # Não baixa o vídeo\n",
    "        'extract_flat': True,   # Não extrai streams de mídia, só metadados\n",
    "    }\n",
    "    \n",
    "    with yt_dlp.YoutubeDL(ydl_opts) as ydl:\n",
    "        info_dict = ydl.extract_info(video_url, download=False)\n",
    "\n",
    "    return info_dict\n",
    "\n"
   ]
  },
  {
   "cell_type": "code",
   "execution_count": null,
   "id": "09e4245c-1c68-47a4-95bc-3f60de3c660d",
   "metadata": {},
   "outputs": [],
   "source": []
  },
  {
   "cell_type": "code",
   "execution_count": null,
   "id": "90770934-2fcc-4c93-b1bf-4ef3d326a02d",
   "metadata": {},
   "outputs": [],
   "source": []
  },
  {
   "cell_type": "code",
   "execution_count": 18,
   "id": "765f7d31-ad85-4138-8760-c51d113ba3c0",
   "metadata": {
    "execution": {
     "iopub.execute_input": "2024-09-24T03:37:42.536068Z",
     "iopub.status.busy": "2024-09-24T03:37:42.535683Z",
     "iopub.status.idle": "2024-09-24T03:37:42.539843Z",
     "shell.execute_reply": "2024-09-24T03:37:42.539312Z",
     "shell.execute_reply.started": "2024-09-24T03:37:42.536030Z"
    }
   },
   "outputs": [],
   "source": [
    "VIDEO_URL = \"https://www.youtube.com/watch?v=vX3A96_F3FU\"\n",
    "\n",
    "# VIDEO_URL = \"https://www.youtube.com/watch?v=evfLsSRtryk\"\n"
   ]
  },
  {
   "cell_type": "code",
   "execution_count": 172,
   "id": "60744bf4-1b0c-4a15-939c-d902ca2c650c",
   "metadata": {
    "execution": {
     "iopub.execute_input": "2024-09-24T04:21:38.425546Z",
     "iopub.status.busy": "2024-09-24T04:21:38.424453Z",
     "iopub.status.idle": "2024-09-24T04:21:38.443814Z",
     "shell.execute_reply": "2024-09-24T04:21:38.443323Z",
     "shell.execute_reply.started": "2024-09-24T04:21:38.425437Z"
    }
   },
   "outputs": [],
   "source": [
    "import json\n",
    "\n",
    "class YoutubeTranscripter:\n",
    "    CACHE_FOLDER = '/root/.cache/diskcache'\n",
    "    def __init__(self, video_url, language=None):\n",
    "        self._cache = dc.Cache(self.CACHE_FOLDER)\n",
    "        self.video_url = video_url\n",
    "        self.metadata = self._get_metadata()\n",
    "        self.language = language if language else self.metadata[\"language\"]\n",
    "        self.title = self.metadata[\"title\"]\n",
    "        self.label = remove_special_characters(self.title.lower()).replace(\" \",\"_\")\n",
    "        self.chapters = self.metadata[\"chapters\"]\n",
    "\n",
    "    def _get_metadata(self):\n",
    "        index = (\"metadata\", self.video_url)\n",
    "        if index not in self._cache:\n",
    "            print(f\"Download do vídeo: {index}\")\n",
    "            self._cache[index] = json.dumps(\n",
    "                get_youtube_video_metadata(self.video_url),\n",
    "                ensure_ascii=False\n",
    "            )\n",
    "        return json.loads(self._cache[index])\n",
    "\n",
    "    def _download_audio(self):\n",
    "        ydl_opts = {\n",
    "            'format': 'bestaudio/best',\n",
    "            'postprocessors': [{\n",
    "                'key': 'FFmpegExtractAudio',\n",
    "                'preferredcodec': 'mp3',\n",
    "                'preferredquality': '192',\n",
    "            }],\n",
    "            'outtmpl': f'{output_filename}.%(ext)s',\n",
    "        }\n",
    "        \n",
    "        with youtube_dl.YoutubeDL(ydl_opts) as ydl:\n",
    "            ydl.download([VIDEO_URL])\n",
    "\n",
    "    def clear_cache(self):\n",
    "        self._cache.clear()\n",
    "        print(\"Cache limpo.\")\n"
   ]
  },
  {
   "cell_type": "code",
   "execution_count": 173,
   "id": "943cd603-69bd-4ff5-9d22-a6a9f686005d",
   "metadata": {
    "execution": {
     "iopub.execute_input": "2024-09-24T04:21:41.373338Z",
     "iopub.status.busy": "2024-09-24T04:21:41.373120Z",
     "iopub.status.idle": "2024-09-24T04:21:41.379904Z",
     "shell.execute_reply": "2024-09-24T04:21:41.379397Z",
     "shell.execute_reply.started": "2024-09-24T04:21:41.373324Z"
    }
   },
   "outputs": [],
   "source": [
    "yt_transcriper = YoutubeTranscripter(VIDEO_URL)"
   ]
  },
  {
   "cell_type": "code",
   "execution_count": 161,
   "id": "8b9f206c-8627-4498-8114-252b9db35d88",
   "metadata": {
    "execution": {
     "iopub.execute_input": "2024-09-24T04:16:41.742896Z",
     "iopub.status.busy": "2024-09-24T04:16:41.742320Z",
     "iopub.status.idle": "2024-09-24T04:16:41.749285Z",
     "shell.execute_reply": "2024-09-24T04:16:41.748844Z",
     "shell.execute_reply.started": "2024-09-24T04:16:41.742807Z"
    }
   },
   "outputs": [],
   "source": [
    "sdf = yt_transcriper._get_metadata()"
   ]
  },
  {
   "cell_type": "code",
   "execution_count": 175,
   "id": "3fe93305-e617-412a-a530-8b7adc10c157",
   "metadata": {
    "execution": {
     "iopub.execute_input": "2024-09-24T04:21:47.394108Z",
     "iopub.status.busy": "2024-09-24T04:21:47.393801Z",
     "iopub.status.idle": "2024-09-24T04:21:47.397089Z",
     "shell.execute_reply": "2024-09-24T04:21:47.396728Z",
     "shell.execute_reply.started": "2024-09-24T04:21:47.394091Z"
    }
   },
   "outputs": [
    {
     "data": {
      "text/plain": [
       "'graph_rag_improving_rag_with_knowledge_graphs'"
      ]
     },
     "execution_count": 175,
     "metadata": {},
     "output_type": "execute_result"
    }
   ],
   "source": [
    "yt_transcriper.label"
   ]
  },
  {
   "cell_type": "code",
   "execution_count": 131,
   "id": "54cae91a-218a-4f45-9b11-e2b4800d5e4a",
   "metadata": {
    "execution": {
     "iopub.execute_input": "2024-09-24T04:12:21.661622Z",
     "iopub.status.busy": "2024-09-24T04:12:21.661389Z",
     "iopub.status.idle": "2024-09-24T04:12:21.663924Z",
     "shell.execute_reply": "2024-09-24T04:12:21.663527Z",
     "shell.execute_reply.started": "2024-09-24T04:12:21.661606Z"
    }
   },
   "outputs": [],
   "source": [
    "# yt_transcriper._cache.get('metadata_https://www.youtube.com/watch?v=vX3A96_F3FU')"
   ]
  },
  {
   "cell_type": "code",
   "execution_count": 158,
   "id": "b53ada3e-49cb-464a-9a95-7673af5d9055",
   "metadata": {
    "execution": {
     "iopub.execute_input": "2024-09-24T04:16:37.176390Z",
     "iopub.status.busy": "2024-09-24T04:16:37.176125Z",
     "iopub.status.idle": "2024-09-24T04:16:37.179411Z",
     "shell.execute_reply": "2024-09-24T04:16:37.179034Z",
     "shell.execute_reply.started": "2024-09-24T04:16:37.176371Z"
    }
   },
   "outputs": [
    {
     "name": "stdout",
     "output_type": "stream",
     "text": [
      "Cache limpo.\n"
     ]
    }
   ],
   "source": [
    "yt_transcriper.clear_cache()"
   ]
  },
  {
   "cell_type": "code",
   "execution_count": 166,
   "id": "e2e81f29-3e46-450c-bd00-3005dc7bf106",
   "metadata": {
    "execution": {
     "iopub.execute_input": "2024-09-24T04:20:29.390268Z",
     "iopub.status.busy": "2024-09-24T04:20:29.390005Z",
     "iopub.status.idle": "2024-09-24T04:20:29.393086Z",
     "shell.execute_reply": "2024-09-24T04:20:29.392679Z",
     "shell.execute_reply.started": "2024-09-24T04:20:29.390252Z"
    }
   },
   "outputs": [
    {
     "name": "stdout",
     "output_type": "stream",
     "text": [
      "graph rag improving rag with knowledge graphs\n"
     ]
    }
   ],
   "source": [
    "\n",
    "\n",
    "clean_text = remove_special_characters(yt_transcriper.title.lower())\n",
    "print(clean_text)  # Saída: \"Olá Bemvindo ao mundo de Python 2024\"\n"
   ]
  },
  {
   "cell_type": "code",
   "execution_count": null,
   "id": "f826c8ad-3bb7-4a68-a273-d61c61eead4c",
   "metadata": {},
   "outputs": [],
   "source": [
    "output_filename = f\"data/{title}_raw\"\n",
    "\n",
    "ydl_opts = {\n",
    "    'format': 'bestaudio/best',\n",
    "    'postprocessors': [{\n",
    "        'key': 'FFmpegExtractAudio',\n",
    "        'preferredcodec': 'mp3',\n",
    "        'preferredquality': '192',\n",
    "    }],\n",
    "    'outtmpl': f'{output_filename}.%(ext)s',\n",
    "}\n",
    "\n",
    "with youtube_dl.YoutubeDL(ydl_opts) as ydl:\n",
    "    ydl.download([VIDEO_URL])"
   ]
  },
  {
   "cell_type": "code",
   "execution_count": 66,
   "id": "53e95242-ca3f-424a-8e51-040e7a2dc742",
   "metadata": {
    "execution": {
     "iopub.execute_input": "2024-09-24T03:56:20.139564Z",
     "iopub.status.busy": "2024-09-24T03:56:20.139308Z",
     "iopub.status.idle": "2024-09-24T03:56:20.142182Z",
     "shell.execute_reply": "2024-09-24T03:56:20.141740Z",
     "shell.execute_reply.started": "2024-09-24T03:56:20.139543Z"
    }
   },
   "outputs": [],
   "source": [
    "yt_transcriper = YoutubeTranscripter(VIDEO_URL)"
   ]
  },
  {
   "cell_type": "code",
   "execution_count": 67,
   "id": "44c6b1b8-d4db-4a51-a010-b5acd6e4afd1",
   "metadata": {
    "execution": {
     "iopub.execute_input": "2024-09-24T03:56:27.085262Z",
     "iopub.status.busy": "2024-09-24T03:56:27.084995Z",
     "iopub.status.idle": "2024-09-24T03:56:27.088785Z",
     "shell.execute_reply": "2024-09-24T03:56:27.088351Z",
     "shell.execute_reply.started": "2024-09-24T03:56:27.085240Z"
    }
   },
   "outputs": [
    {
     "data": {
      "text/plain": [
       "[{'start_time': 0.0,\n",
       "  'title': 'Introduction to GraphRAG and Its Cost Issue',\n",
       "  'end_time': 44.0},\n",
       " {'start_time': 44.0,\n",
       "  'title': 'Understanding Traditional RAG',\n",
       "  'end_time': 106.0},\n",
       " {'start_time': 106.0,\n",
       "  'title': 'Limitations of Traditional RAG',\n",
       "  'end_time': 142.0},\n",
       " {'start_time': 142.0, 'title': 'Introduction to GraphRAG', 'end_time': 159.0},\n",
       " {'start_time': 159.0,\n",
       "  'title': 'Technical Details of GraphRAG',\n",
       "  'end_time': 346.0},\n",
       " {'start_time': 346.0,\n",
       "  'title': 'Setting Up GraphRAG on Your Local Machine',\n",
       "  'end_time': 382.0},\n",
       " {'start_time': 382.0,\n",
       "  'title': 'Running the Indexing Process',\n",
       "  'end_time': 720.0},\n",
       " {'start_time': 720.0,\n",
       "  'title': 'Running Queries with GraphRAG',\n",
       "  'end_time': 866.0},\n",
       " {'start_time': 866.0,\n",
       "  'title': 'Cost Implications and Alternatives',\n",
       "  'end_time': 958}]"
      ]
     },
     "execution_count": 67,
     "metadata": {},
     "output_type": "execute_result"
    }
   ],
   "source": [
    "yt_transcriper.chapters"
   ]
  },
  {
   "cell_type": "code",
   "execution_count": 75,
   "id": "f4d99bc0-9915-4737-80e4-25083f4af447",
   "metadata": {
    "execution": {
     "iopub.execute_input": "2024-09-24T03:59:11.859878Z",
     "iopub.status.busy": "2024-09-24T03:59:11.859447Z",
     "iopub.status.idle": "2024-09-24T03:59:11.864254Z",
     "shell.execute_reply": "2024-09-24T03:59:11.863893Z",
     "shell.execute_reply.started": "2024-09-24T03:59:11.859860Z"
    }
   },
   "outputs": [
    {
     "name": "stdout",
     "output_type": "stream",
     "text": [
      "25\n",
      "25\n"
     ]
    }
   ],
   "source": [
    "import diskcache as dc\n",
    "\n",
    "cache = dc.Cache('./cache-directory')\n",
    "\n",
    "def expensive_function(n):\n",
    "    if (\"expensive_function\", n) in cache:\n",
    "        return cache[(\"expensive_function\", n)]\n",
    "    \n",
    "    result = n * n\n",
    "    cache[(\"expensive_function\", n)] = result\n",
    "    return result\n",
    "\n",
    "print(expensive_function(5))  # Calcula e armazena em cache\n",
    "print(expensive_function(5))  # Recupera do cache\n"
   ]
  },
  {
   "cell_type": "code",
   "execution_count": 71,
   "id": "6ddd21d7-20b3-4d6c-b366-442020243505",
   "metadata": {
    "execution": {
     "iopub.execute_input": "2024-09-24T03:58:34.927438Z",
     "iopub.status.busy": "2024-09-24T03:58:34.927086Z",
     "iopub.status.idle": "2024-09-24T03:58:35.079768Z",
     "shell.execute_reply": "2024-09-24T03:58:35.079208Z",
     "shell.execute_reply.started": "2024-09-24T03:58:34.927421Z"
    }
   },
   "outputs": [
    {
     "ename": "KeyError",
     "evalue": "('expensive_function', 4)",
     "output_type": "error",
     "traceback": [
      "\u001b[0;31m---------------------------------------------------------------------------\u001b[0m",
      "\u001b[0;31mKeyError\u001b[0m                                  Traceback (most recent call last)",
      "Cell \u001b[0;32mIn[71], line 1\u001b[0m\n\u001b[0;32m----> 1\u001b[0m \u001b[43mcache\u001b[49m\u001b[43m[\u001b[49m\u001b[43m(\u001b[49m\u001b[38;5;124;43m\"\u001b[39;49m\u001b[38;5;124;43mexpensive_function\u001b[39;49m\u001b[38;5;124;43m\"\u001b[39;49m\u001b[43m,\u001b[49m\u001b[43m \u001b[49m\u001b[38;5;241;43m4\u001b[39;49m\u001b[43m)\u001b[49m\u001b[43m]\u001b[49m\n",
      "File \u001b[0;32m/opt/conda/lib/python3.10/site-packages/diskcache/core.py:1234\u001b[0m, in \u001b[0;36mCache.__getitem__\u001b[0;34m(self, key)\u001b[0m\n\u001b[1;32m   1232\u001b[0m value \u001b[38;5;241m=\u001b[39m \u001b[38;5;28mself\u001b[39m\u001b[38;5;241m.\u001b[39mget(key, default\u001b[38;5;241m=\u001b[39mENOVAL, retry\u001b[38;5;241m=\u001b[39m\u001b[38;5;28;01mTrue\u001b[39;00m)\n\u001b[1;32m   1233\u001b[0m \u001b[38;5;28;01mif\u001b[39;00m value \u001b[38;5;129;01mis\u001b[39;00m ENOVAL:\n\u001b[0;32m-> 1234\u001b[0m     \u001b[38;5;28;01mraise\u001b[39;00m \u001b[38;5;167;01mKeyError\u001b[39;00m(key)\n\u001b[1;32m   1235\u001b[0m \u001b[38;5;28;01mreturn\u001b[39;00m value\n",
      "\u001b[0;31mKeyError\u001b[0m: ('expensive_function', 4)"
     ]
    }
   ],
   "source": [
    "cache[(\"expensive_function\", 4)]"
   ]
  },
  {
   "cell_type": "code",
   "execution_count": null,
   "id": "7f706eab-0b57-417a-8c21-f22ec8a12b61",
   "metadata": {},
   "outputs": [],
   "source": []
  },
  {
   "cell_type": "code",
   "execution_count": null,
   "id": "18e806dc-b71c-434b-8e7c-a2770f453158",
   "metadata": {},
   "outputs": [],
   "source": []
  },
  {
   "cell_type": "code",
   "execution_count": null,
   "id": "26ac0249-1211-4a8d-bc56-ac92244aff8e",
   "metadata": {},
   "outputs": [],
   "source": []
  },
  {
   "cell_type": "code",
   "execution_count": null,
   "id": "bdc55315-d4ec-4eb5-a43b-2364aa03ca04",
   "metadata": {},
   "outputs": [],
   "source": []
  },
  {
   "cell_type": "code",
   "execution_count": 19,
   "id": "008bd0aa-57ef-4e8f-9f1d-664a576389ad",
   "metadata": {
    "execution": {
     "iopub.execute_input": "2024-09-24T03:37:42.809043Z",
     "iopub.status.busy": "2024-09-24T03:37:42.808253Z",
     "iopub.status.idle": "2024-09-24T03:37:45.034883Z",
     "shell.execute_reply": "2024-09-24T03:37:45.034448Z",
     "shell.execute_reply.started": "2024-09-24T03:37:42.808972Z"
    }
   },
   "outputs": [
    {
     "name": "stdout",
     "output_type": "stream",
     "text": [
      "[youtube] Extracting URL: https://www.youtube.com/watch?v=vX3A96_F3FU\n",
      "[youtube] vX3A96_F3FU: Downloading webpage\n",
      "[youtube] vX3A96_F3FU: Downloading ios player API JSON\n",
      "[youtube] vX3A96_F3FU: Downloading web creator player API JSON\n",
      "[youtube] vX3A96_F3FU: Downloading m3u8 information\n"
     ]
    }
   ],
   "source": [
    "video_metadata = get_youtube_video_metadata(VIDEO_URL)"
   ]
  },
  {
   "cell_type": "code",
   "execution_count": 20,
   "id": "7e8e7bdb-5c51-4bca-9334-190a69027cb4",
   "metadata": {
    "execution": {
     "iopub.execute_input": "2024-09-24T03:37:45.035802Z",
     "iopub.status.busy": "2024-09-24T03:37:45.035666Z",
     "iopub.status.idle": "2024-09-24T03:37:45.038605Z",
     "shell.execute_reply": "2024-09-24T03:37:45.038203Z",
     "shell.execute_reply.started": "2024-09-24T03:37:45.035789Z"
    }
   },
   "outputs": [
    {
     "data": {
      "text/plain": [
       "'en'"
      ]
     },
     "execution_count": 20,
     "metadata": {},
     "output_type": "execute_result"
    }
   ],
   "source": [
    "video_metadata[\"language\"]"
   ]
  },
  {
   "cell_type": "code",
   "execution_count": 21,
   "id": "7522ff33-f87a-4397-85e2-a81f60b17a26",
   "metadata": {
    "execution": {
     "iopub.execute_input": "2024-09-24T03:37:45.039223Z",
     "iopub.status.busy": "2024-09-24T03:37:45.039073Z",
     "iopub.status.idle": "2024-09-24T03:37:45.043317Z",
     "shell.execute_reply": "2024-09-24T03:37:45.042762Z",
     "shell.execute_reply.started": "2024-09-24T03:37:45.039208Z"
    }
   },
   "outputs": [
    {
     "data": {
      "text/plain": [
       "'Graph RAG: Improving RAG with Knowledge Graphs'"
      ]
     },
     "execution_count": 21,
     "metadata": {},
     "output_type": "execute_result"
    }
   ],
   "source": [
    "video_metadata[\"title\"]"
   ]
  },
  {
   "cell_type": "code",
   "execution_count": 22,
   "id": "537fd84d-774c-4d42-9f39-729c3903794c",
   "metadata": {
    "execution": {
     "iopub.execute_input": "2024-09-24T03:37:45.044328Z",
     "iopub.status.busy": "2024-09-24T03:37:45.044154Z",
     "iopub.status.idle": "2024-09-24T03:37:45.047058Z",
     "shell.execute_reply": "2024-09-24T03:37:45.046109Z",
     "shell.execute_reply.started": "2024-09-24T03:37:45.044313Z"
    }
   },
   "outputs": [],
   "source": [
    "if video_metadata[\"chapters\"]:\n",
    "    _download_video()"
   ]
  },
  {
   "cell_type": "code",
   "execution_count": 57,
   "id": "7248355e-3673-4071-a75f-07203516d797",
   "metadata": {
    "execution": {
     "iopub.execute_input": "2024-09-24T03:54:34.639575Z",
     "iopub.status.busy": "2024-09-24T03:54:34.639254Z",
     "iopub.status.idle": "2024-09-24T03:54:34.641786Z",
     "shell.execute_reply": "2024-09-24T03:54:34.641403Z",
     "shell.execute_reply.started": "2024-09-24T03:54:34.639558Z"
    }
   },
   "outputs": [],
   "source": [
    "# video_metadata[\"chapters\"]"
   ]
  },
  {
   "cell_type": "code",
   "execution_count": null,
   "id": "1203699f-79ce-43de-bd6a-6a9e7c7247cf",
   "metadata": {},
   "outputs": [],
   "source": []
  },
  {
   "cell_type": "code",
   "execution_count": null,
   "id": "1036e7ca-43e3-4bbe-9d4b-50caa50bcf23",
   "metadata": {},
   "outputs": [],
   "source": []
  },
  {
   "cell_type": "code",
   "execution_count": null,
   "id": "56610be5-a6d9-4c3e-8614-61f0c8c8a53e",
   "metadata": {},
   "outputs": [],
   "source": []
  },
  {
   "cell_type": "code",
   "execution_count": null,
   "id": "3b98071c-09ea-44a2-9073-ae86eb0effbd",
   "metadata": {},
   "outputs": [],
   "source": []
  },
  {
   "cell_type": "code",
   "execution_count": 1,
   "id": "1a5b4635-5d29-49d5-b6b5-b2bb20b15cc2",
   "metadata": {
    "execution": {
     "iopub.execute_input": "2024-09-16T04:55:12.700645Z",
     "iopub.status.busy": "2024-09-16T04:55:12.697950Z",
     "iopub.status.idle": "2024-09-16T04:55:12.747129Z",
     "shell.execute_reply": "2024-09-16T04:55:12.746076Z",
     "shell.execute_reply.started": "2024-09-16T04:55:12.700519Z"
    }
   },
   "outputs": [],
   "source": [
    "from absl import logging\n",
    "\n",
    "# Inicializar o sistema de logs da Abseil\n",
    "logging.set_verbosity(logging.ERROR)\n"
   ]
  },
  {
   "cell_type": "code",
   "execution_count": 1,
   "id": "d297d047-6007-4243-a273-d585412f061e",
   "metadata": {
    "execution": {
     "iopub.execute_input": "2024-09-16T04:45:26.650962Z",
     "iopub.status.busy": "2024-09-16T04:45:26.650735Z",
     "iopub.status.idle": "2024-09-16T04:45:26.653170Z",
     "shell.execute_reply": "2024-09-16T04:45:26.652695Z",
     "shell.execute_reply.started": "2024-09-16T04:45:26.650946Z"
    }
   },
   "outputs": [],
   "source": [
    "# %%time\n",
    "# !pip uninstall tensorflow -y\n",
    "# !pip install tensorflow[and-cuda]"
   ]
  },
  {
   "cell_type": "code",
   "execution_count": 1,
   "id": "81ba9455-5f5e-4eb1-98e4-c88217fcbede",
   "metadata": {
    "execution": {
     "iopub.execute_input": "2024-09-16T04:55:38.104901Z",
     "iopub.status.busy": "2024-09-16T04:55:38.104620Z",
     "iopub.status.idle": "2024-09-16T04:55:39.751130Z",
     "shell.execute_reply": "2024-09-16T04:55:39.750761Z",
     "shell.execute_reply.started": "2024-09-16T04:55:38.104877Z"
    }
   },
   "outputs": [
    {
     "name": "stderr",
     "output_type": "stream",
     "text": [
      "WARNING: All log messages before absl::InitializeLog() is called are written to STDERR\n",
      "I0000 00:00:1726462539.725237     341 cuda_executor.cc:1015] successful NUMA node read from SysFS had negative value (-1), but there must be at least one NUMA node, so returning NUMA node zero. See more at https://github.com/torvalds/linux/blob/v6.0/Documentation/ABI/testing/sysfs-bus-pci#L344-L355\n",
      "I0000 00:00:1726462539.748697     341 cuda_executor.cc:1015] successful NUMA node read from SysFS had negative value (-1), but there must be at least one NUMA node, so returning NUMA node zero. See more at https://github.com/torvalds/linux/blob/v6.0/Documentation/ABI/testing/sysfs-bus-pci#L344-L355\n",
      "I0000 00:00:1726462539.748960     341 cuda_executor.cc:1015] successful NUMA node read from SysFS had negative value (-1), but there must be at least one NUMA node, so returning NUMA node zero. See more at https://github.com/torvalds/linux/blob/v6.0/Documentation/ABI/testing/sysfs-bus-pci#L344-L355\n"
     ]
    }
   ],
   "source": [
    "import sys\n",
    "import os\n",
    "import tensorflow as tf\n",
    "from absl import logging\n",
    "\n",
    "# Redirecionar STDERR temporariamente\n",
    "sys.stderr = open(os.devnull, 'w')\n",
    "\n",
    "# Inicializar o TensorFlow (ou qualquer código que gere os avisos)\n",
    "physical_devices = tf.config.list_physical_devices('GPU')\n",
    "\n",
    "# Restaurar STDERR\n",
    "sys.stderr = sys.__stderr__\n",
    "\n",
    "# Continuar o código normal\n",
    "logging.set_verbosity(logging.ERROR)\n"
   ]
  },
  {
   "cell_type": "code",
   "execution_count": 5,
   "id": "9274fd57-25f0-4089-b26a-22750bb3ec97",
   "metadata": {
    "execution": {
     "iopub.execute_input": "2024-09-16T04:50:55.732707Z",
     "iopub.status.busy": "2024-09-16T04:50:55.732242Z",
     "iopub.status.idle": "2024-09-16T04:50:55.818525Z",
     "shell.execute_reply": "2024-09-16T04:50:55.818040Z",
     "shell.execute_reply.started": "2024-09-16T04:50:55.732685Z"
    }
   },
   "outputs": [
    {
     "name": "stdout",
     "output_type": "stream",
     "text": [
      "[name: \"/device:CPU:0\"\n",
      "device_type: \"CPU\"\n",
      "memory_limit: 268435456\n",
      "locality {\n",
      "}\n",
      "incarnation: 3946435560444492848\n",
      "xla_global_id: -1\n",
      ", name: \"/device:GPU:0\"\n",
      "device_type: \"GPU\"\n",
      "memory_limit: 14230618112\n",
      "locality {\n",
      "  bus_id: 1\n",
      "  links {\n",
      "  }\n",
      "}\n",
      "incarnation: 2834319952901452859\n",
      "physical_device_desc: \"device: 0, name: NVIDIA GeForce RTX 4060 Ti, pci bus id: 0000:01:00.0, compute capability: 8.9\"\n",
      "xla_global_id: 416903419\n",
      "]\n"
     ]
    },
    {
     "name": "stderr",
     "output_type": "stream",
     "text": [
      "I0000 00:00:1726462255.734598      60 cuda_executor.cc:1015] successful NUMA node read from SysFS had negative value (-1), but there must be at least one NUMA node, so returning NUMA node zero. See more at https://github.com/torvalds/linux/blob/v6.0/Documentation/ABI/testing/sysfs-bus-pci#L344-L355\n",
      "I0000 00:00:1726462255.734887      60 cuda_executor.cc:1015] successful NUMA node read from SysFS had negative value (-1), but there must be at least one NUMA node, so returning NUMA node zero. See more at https://github.com/torvalds/linux/blob/v6.0/Documentation/ABI/testing/sysfs-bus-pci#L344-L355\n",
      "I0000 00:00:1726462255.735040      60 cuda_executor.cc:1015] successful NUMA node read from SysFS had negative value (-1), but there must be at least one NUMA node, so returning NUMA node zero. See more at https://github.com/torvalds/linux/blob/v6.0/Documentation/ABI/testing/sysfs-bus-pci#L344-L355\n",
      "I0000 00:00:1726462255.815505      60 cuda_executor.cc:1015] successful NUMA node read from SysFS had negative value (-1), but there must be at least one NUMA node, so returning NUMA node zero. See more at https://github.com/torvalds/linux/blob/v6.0/Documentation/ABI/testing/sysfs-bus-pci#L344-L355\n",
      "I0000 00:00:1726462255.815666      60 cuda_executor.cc:1015] successful NUMA node read from SysFS had negative value (-1), but there must be at least one NUMA node, so returning NUMA node zero. See more at https://github.com/torvalds/linux/blob/v6.0/Documentation/ABI/testing/sysfs-bus-pci#L344-L355\n",
      "I0000 00:00:1726462255.815792      60 cuda_executor.cc:1015] successful NUMA node read from SysFS had negative value (-1), but there must be at least one NUMA node, so returning NUMA node zero. See more at https://github.com/torvalds/linux/blob/v6.0/Documentation/ABI/testing/sysfs-bus-pci#L344-L355\n"
     ]
    }
   ],
   "source": [
    "from tensorflow.python.client import device_lib\n",
    "print(device_lib.list_local_devices())"
   ]
  },
  {
   "cell_type": "code",
   "execution_count": 6,
   "id": "c436ab67-f9ea-4aa0-b537-56c449cd7486",
   "metadata": {
    "execution": {
     "iopub.execute_input": "2024-09-16T04:53:51.219949Z",
     "iopub.status.busy": "2024-09-16T04:53:51.219701Z",
     "iopub.status.idle": "2024-09-16T04:53:51.225061Z",
     "shell.execute_reply": "2024-09-16T04:53:51.224696Z",
     "shell.execute_reply.started": "2024-09-16T04:53:51.219930Z"
    }
   },
   "outputs": [
    {
     "data": {
      "text/plain": [
       "'3'"
      ]
     },
     "execution_count": 6,
     "metadata": {},
     "output_type": "execute_result"
    }
   ],
   "source": [
    "import os\n",
    "import tensorflow as tf\n",
    "\n",
    "# Configurar TensorFlow para mostrar apenas erros\n",
    "os.environ['TF_CPP_MIN_LOG_LEVEL']"
   ]
  },
  {
   "cell_type": "code",
   "execution_count": null,
   "id": "63670064-96a6-4e29-bb7b-b4464f9a033b",
   "metadata": {},
   "outputs": [],
   "source": []
  }
 ],
 "metadata": {
  "kernelspec": {
   "display_name": "Python 3 (ipykernel)",
   "language": "python",
   "name": "python3"
  },
  "language_info": {
   "codemirror_mode": {
    "name": "ipython",
    "version": 3
   },
   "file_extension": ".py",
   "mimetype": "text/x-python",
   "name": "python",
   "nbconvert_exporter": "python",
   "pygments_lexer": "ipython3",
   "version": "3.10.14"
  }
 },
 "nbformat": 4,
 "nbformat_minor": 5
}
