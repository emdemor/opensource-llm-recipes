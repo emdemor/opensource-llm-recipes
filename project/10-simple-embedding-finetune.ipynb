{
 "cells": [
  {
   "cell_type": "markdown",
   "id": "1ca56a85-0378-4e5c-b277-1ac5e8fdb7c7",
   "metadata": {},
   "source": [
    "https://github.com/vvr-rao/Fine-tuning-a-Sentence-Transformer-for-RAG/blob/main/SentenceTransformers_FineTuning_Using_MNRLoss.ipynb"
   ]
  },
  {
   "cell_type": "markdown",
   "id": "ec7ee81d-f65c-49e3-beab-56ef3a37db9b",
   "metadata": {},
   "source": [
    "# Instalação das Libs"
   ]
  },
  {
   "cell_type": "code",
   "execution_count": 1,
   "id": "d0b1ffa3-b035-4668-8d23-68547fb426f4",
   "metadata": {},
   "outputs": [
    {
     "name": "stdout",
     "output_type": "stream",
     "text": [
      ">>> accelerate==0.29.3\n"
     ]
    }
   ],
   "source": [
    "def install_lib(libname):\n",
    "    print(f\">>> {libname}\")\n",
    "    get_ipython().system(f\"pip install -qqq {libname}\")\n",
    "\n",
    "libs = [\n",
    "    \"accelerate==0.29.3\"\n",
    "]\n",
    "\n",
    "for lib in libs:\n",
    "    install_lib(lib)"
   ]
  },
  {
   "cell_type": "markdown",
   "id": "b8eb5d47-9a02-4e97-b2a0-5909bce1e0c3",
   "metadata": {},
   "source": [
    "# Importação das Dependências"
   ]
  },
  {
   "cell_type": "code",
   "execution_count": 1,
   "id": "b1122701-082e-4abe-8b95-f483e6897b01",
   "metadata": {},
   "outputs": [
    {
     "name": "stderr",
     "output_type": "stream",
     "text": [
      "/opt/conda/lib/python3.10/site-packages/transformers/utils/hub.py:124: FutureWarning: Using `TRANSFORMERS_CACHE` is deprecated and will be removed in v5 of Transformers. Use `HF_HOME` instead.\n",
      "  warnings.warn(\n"
     ]
    }
   ],
   "source": [
    "import os\n",
    "import torch\n",
    "import numpy as np\n",
    "from huggingface_hub import login\n",
    "from sentence_transformers import SentenceTransformer\n",
    "from datasets import load_dataset, concatenate_datasets\n",
    "\n",
    "from sentence_transformers import SentenceTransformer, losses, InputExample\n",
    "from torch.utils.data import DataLoader\n",
    "from datasets import load_dataset\n",
    "\n",
    "from sentence_transformers.util import cos_sim\n",
    "from sentence_transformers.evaluation import (\n",
    "    InformationRetrievalEvaluator,\n",
    "    SequentialEvaluator,\n",
    ")"
   ]
  },
  {
   "cell_type": "code",
   "execution_count": 2,
   "id": "de5bb407-62b6-4d6d-89d2-cc8c3527e869",
   "metadata": {},
   "outputs": [
    {
     "name": "stdout",
     "output_type": "stream",
     "text": [
      "The token has not been saved to the git credentials helper. Pass `add_to_git_credential=True` in this function directly or `--add-to-git-credential` if using via `huggingface-cli` if you want to set the git credential as well.\n",
      "Token is valid (permission: read).\n",
      "Your token has been saved to /root/.cache/huggingface/token\n",
      "Login successful\n"
     ]
    }
   ],
   "source": [
    "login(token=os.environ[\"HUGGINGFACE_TOKEN\"])"
   ]
  },
  {
   "cell_type": "markdown",
   "id": "b212a89e-1bbb-4da0-a17f-aa4c11d22733",
   "metadata": {},
   "source": [
    "# Tutorial\n",
    "\n",
    "### Referencias\n",
    "\n",
    "1. https://medium.com/@venkat.ramrao/fine-tuning-a-sentence-transformer-for-semantic-search-7c7a57f4db2f\n",
    "\n",
    "2. https://docs.llamaindex.ai/en/stable/examples/finetuning/embeddings/finetune_embedding/"
   ]
  },
  {
   "cell_type": "markdown",
   "id": "9674cd20-43d1-4fff-b6cb-f4e858f3aa37",
   "metadata": {},
   "source": [
    "# Parametros"
   ]
  },
  {
   "cell_type": "markdown",
   "id": "223b2e41-3d4e-45a5-8a58-8286d375252d",
   "metadata": {},
   "source": [
    "### Funções auxiliares"
   ]
  },
  {
   "cell_type": "code",
   "execution_count": 3,
   "id": "eb76022f-5671-474c-bb57-d26ebeba8fb7",
   "metadata": {},
   "outputs": [],
   "source": [
    "from sentence_transformers.util import cos_sim\n",
    "\n",
    "def similarity(a, b, distance=\"cos\"):\n",
    "    if distance==\"cartesian\":\n",
    "        return np.dot(a, b)\n",
    "    elif distance == \"cos\":\n",
    "        return float(cos_sim(a, b)[0][0])"
   ]
  },
  {
   "cell_type": "markdown",
   "id": "d2aded9e-1edd-47c2-bbc7-c2e70978fc45",
   "metadata": {},
   "source": [
    "# Dados Reais"
   ]
  },
  {
   "cell_type": "code",
   "execution_count": 4,
   "id": "7eeff208-a729-4f65-bd38-6ca01ffea4c1",
   "metadata": {},
   "outputs": [],
   "source": [
    "model_id = 'sentence-transformers/all-MiniLM-L12-v2'\n",
    "dataset_id = \"emdemor/ptbr-question-and-answer\"\n",
    "\n",
    "# PORTULAN/serafim-900m-portuguese-pt-sentence-encoder-ir\n",
    "# rufimelo/Legal-BERTimbau-base\n",
    "# rufimelo/Legal-BERTimbau-large\n",
    "# rufimelo/bert-large-portuguese-cased-sts"
   ]
  },
  {
   "cell_type": "markdown",
   "id": "b47a97da-4ef7-4f30-b5e9-fab3b5e8808a",
   "metadata": {},
   "source": [
    "### Baseline"
   ]
  },
  {
   "cell_type": "code",
   "execution_count": 5,
   "id": "34eca041-a6e7-4f9e-bb95-c18cdd6025d1",
   "metadata": {},
   "outputs": [
    {
     "name": "stderr",
     "output_type": "stream",
     "text": [
      "/opt/conda/lib/python3.10/site-packages/huggingface_hub/file_download.py:1132: FutureWarning: `resume_download` is deprecated and will be removed in version 1.0.0. Downloads always resume when possible. If you want to force a new download, use `force_download=True`.\n",
      "  warnings.warn(\n"
     ]
    }
   ],
   "source": [
    "model = SentenceTransformer(model_id)"
   ]
  },
  {
   "cell_type": "code",
   "execution_count": 6,
   "id": "f8b1023c-3476-43b2-8241-e0a9f6d4ba5b",
   "metadata": {},
   "outputs": [
    {
     "name": "stdout",
     "output_type": "stream",
     "text": [
      "O céu é azul --- 0.5942363739013672\n",
      "Eu como ovos no café da manhã --- 0.341561496257782\n",
      "Qual é a cor do mar? --- 0.8152474164962769\n",
      "Quão alto é o céu? --- 0.6779704689979553\n"
     ]
    }
   ],
   "source": [
    "question = ['Qual é a cor do céu?']\n",
    "answers = [\"O céu é azul\", \"Eu como ovos no café da manhã\",\"Qual é a cor do mar?\",\"Quão alto é o céu?\"]\n",
    "\n",
    "# Obtendo os vetores de embedding\n",
    "question_embedding = model.encode(question)\n",
    "answers_embeddings = model.encode(answers)\n",
    "\n",
    "\n",
    "emb_q = question_embedding[0]\n",
    "similarities = [similarity(emb_a, emb_q) for emb_a in answers_embeddings]\n",
    "\n",
    "for a, s in zip(answers, similarities):\n",
    "  print(a + \" --- \" + str(s))\n"
   ]
  },
  {
   "cell_type": "markdown",
   "id": "54c04d34-e9d2-42e0-92b0-720c67c2e089",
   "metadata": {},
   "source": [
    "### Fine Tune"
   ]
  },
  {
   "cell_type": "markdown",
   "id": "6a37ec3e-0d74-45e7-8b9f-0af02370cb31",
   "metadata": {},
   "source": [
    "#### Preparando o dataset"
   ]
  },
  {
   "cell_type": "code",
   "execution_count": 7,
   "id": "91733c87-4cf4-439f-b590-7aed66466f2d",
   "metadata": {},
   "outputs": [],
   "source": [
    "question_col = \"question\"\n",
    "answer_col = \"answer\""
   ]
  },
  {
   "cell_type": "code",
   "execution_count": 8,
   "id": "64df79b9-a26b-47bb-9bee-99fc7ff053ae",
   "metadata": {},
   "outputs": [
    {
     "data": {
      "text/html": [
       "<div>\n",
       "<style scoped>\n",
       "    .dataframe tbody tr th:only-of-type {\n",
       "        vertical-align: middle;\n",
       "    }\n",
       "\n",
       "    .dataframe tbody tr th {\n",
       "        vertical-align: top;\n",
       "    }\n",
       "\n",
       "    .dataframe thead th {\n",
       "        text-align: right;\n",
       "    }\n",
       "</style>\n",
       "<table border=\"1\" class=\"dataframe\">\n",
       "  <thead>\n",
       "    <tr style=\"text-align: right;\">\n",
       "      <th></th>\n",
       "      <th>id</th>\n",
       "      <th>bucket</th>\n",
       "      <th>domain</th>\n",
       "      <th>text</th>\n",
       "      <th>question</th>\n",
       "      <th>answer</th>\n",
       "    </tr>\n",
       "  </thead>\n",
       "  <tbody>\n",
       "    <tr>\n",
       "      <th>491789</th>\n",
       "      <td>334189e1474d20c724fae242fd7a250b</td>\n",
       "      <td>2021.43</td>\n",
       "      <td>thetrainline.com</td>\n",
       "      <td></td>\n",
       "      <td>qual e a distancia entre wuppertal e cologne d...</td>\n",
       "      <td>os trens que fazem o trajeto de wuppertal para...</td>\n",
       "    </tr>\n",
       "    <tr>\n",
       "      <th>295346</th>\n",
       "      <td>3aa3484b5bbf0ce615ff448861364190</td>\n",
       "      <td>2021.39</td>\n",
       "      <td>barcelo.com</td>\n",
       "      <td></td>\n",
       "      <td>existe um custo para conexao de internet wi-fi...</td>\n",
       "      <td>a conexao wi-fi para clientes occidental carib...</td>\n",
       "    </tr>\n",
       "    <tr>\n",
       "      <th>469635</th>\n",
       "      <td>febc77bcabe7a8432d922ba9c6e07cb1</td>\n",
       "      <td>2021.31</td>\n",
       "      <td>momondo.com.br</td>\n",
       "      <td></td>\n",
       "      <td>qual e o momento mais barato para viajar de fo...</td>\n",
       "      <td>os voos de fortaleza a brasilia sao cerca de 1...</td>\n",
       "    </tr>\n",
       "    <tr>\n",
       "      <th>975617</th>\n",
       "      <td>ceaa938ed3d787abac35d4c970fb5af1</td>\n",
       "      <td>2019.47</td>\n",
       "      <td>nanoil.net.br</td>\n",
       "      <td></td>\n",
       "      <td>o oleo embelezador oleo de jojoba nanoil e ade...</td>\n",
       "      <td>oleos embelezadores diferem de acordo com sua ...</td>\n",
       "    </tr>\n",
       "  </tbody>\n",
       "</table>\n",
       "</div>"
      ],
      "text/plain": [
       "                                      id   bucket            domain text  \\\n",
       "491789  334189e1474d20c724fae242fd7a250b  2021.43  thetrainline.com        \n",
       "295346  3aa3484b5bbf0ce615ff448861364190  2021.39       barcelo.com        \n",
       "469635  febc77bcabe7a8432d922ba9c6e07cb1  2021.31    momondo.com.br        \n",
       "975617  ceaa938ed3d787abac35d4c970fb5af1  2019.47     nanoil.net.br        \n",
       "\n",
       "                                                 question  \\\n",
       "491789  qual e a distancia entre wuppertal e cologne d...   \n",
       "295346  existe um custo para conexao de internet wi-fi...   \n",
       "469635  qual e o momento mais barato para viajar de fo...   \n",
       "975617  o oleo embelezador oleo de jojoba nanoil e ade...   \n",
       "\n",
       "                                                   answer  \n",
       "491789  os trens que fazem o trajeto de wuppertal para...  \n",
       "295346  a conexao wi-fi para clientes occidental carib...  \n",
       "469635  os voos de fortaleza a brasilia sao cerca de 1...  \n",
       "975617  oleos embelezadores diferem de acordo com sua ...  "
      ]
     },
     "execution_count": 8,
     "metadata": {},
     "output_type": "execute_result"
    }
   ],
   "source": [
    "dataset = load_dataset(dataset_id, split=\"train\").shuffle().select(range(1_000_000))\n",
    "\n",
    "\n",
    "dataset.to_pandas().sample(4)"
   ]
  },
  {
   "cell_type": "code",
   "execution_count": 9,
   "id": "d366c5e3-d31b-4dcd-9e5e-f780648a151b",
   "metadata": {},
   "outputs": [],
   "source": [
    "dataset = dataset.train_test_split(test_size=0.15)"
   ]
  },
  {
   "cell_type": "markdown",
   "id": "f7e5951a-6001-4453-882d-2371b861bd95",
   "metadata": {},
   "source": [
    "#### Gerando o DataLoader"
   ]
  },
  {
   "cell_type": "code",
   "execution_count": 10,
   "id": "256b801c-59cf-42dc-ab75-9e1fa7a36077",
   "metadata": {},
   "outputs": [],
   "source": [
    "import datasets\n",
    "from torch.utils.data import DataLoader\n",
    "\n",
    "def generate_dataloader(\n",
    "    dataset: datasets.arrow_dataset.Dataset,\n",
    "    question_column: str,\n",
    "    answer_column: str,\n",
    "    shuffle: bool = True,\n",
    "    batch_size: int = 16,\n",
    "    *args,\n",
    "    **kwargs,\n",
    "):\n",
    "    \"\"\" \"\"\"\n",
    "    return DataLoader(\n",
    "        [\n",
    "            InputExample(texts=[row[question_column], row[answer_column]])\n",
    "            for row in dataset\n",
    "        ]\n",
    "        ,\n",
    "        shuffle=shuffle, batch_size=batch_size,\n",
    "        *args,\n",
    "        **kwargs\n",
    "    )\n",
    "\n",
    "\n",
    "train_dataloader = generate_dataloader(dataset[\"train\"], question_col, answer_col)\n",
    "test_dataloader = generate_dataloader(dataset[\"test\"], question_col, answer_col)"
   ]
  },
  {
   "cell_type": "markdown",
   "id": "c7401224-492f-4bc0-a545-54dd33428c79",
   "metadata": {},
   "source": [
    "#### Treinamento"
   ]
  },
  {
   "cell_type": "code",
   "execution_count": null,
   "id": "f350deb5-6e29-45bf-80db-f19347e3ac17",
   "metadata": {},
   "outputs": [],
   "source": [
    "%%time\n",
    "\n",
    "# model = SentenceTransformer(model_id)\n",
    "\n",
    "# train_loss = losses.CosineSimilarityLoss(model=model)\n",
    "train_loss = losses.MultipleNegativesRankingLoss(model=model) #use if you have related sentence pairs\n",
    "#train_loss = losses.TripletLoss(model=model)  # use this if you have an achor, positive, negative triplets\n",
    "\n",
    "\n",
    "model.fit(\n",
    "    train_objectives=[(train_dataloader, train_loss)],\n",
    "    epochs=4,\n",
    "    warmup_steps=500,\n",
    ")\n",
    "\n",
    "model.save(\"models/finetune-MiniLM\")"
   ]
  },
  {
   "cell_type": "markdown",
   "id": "56314de9-bcd1-47a3-9cd8-de62ea73bc99",
   "metadata": {},
   "source": [
    "#### Teste"
   ]
  },
  {
   "cell_type": "code",
   "execution_count": 6,
   "id": "49a8eda4-fbda-4c5e-9b4f-2ac8a5a3eabb",
   "metadata": {},
   "outputs": [
    {
     "name": "stdout",
     "output_type": "stream",
     "text": [
      "O céu é azul --- 0.7463054656982422\n",
      "Eu como ovos no café da manhã --- 0.23135748505592346\n",
      "Qual é a cor do mar? --- 0.7098197340965271\n",
      "Quão alto é o céu? --- 0.792127251625061\n"
     ]
    }
   ],
   "source": [
    "tuned_model = SentenceTransformer(\"models/finetune-MiniLM\")\n",
    "\n",
    "question = ['Qual é a cor do céu?']\n",
    "answers = [\"O céu é azul\", \"Eu como ovos no café da manhã\",\"Qual é a cor do mar?\",\"Quão alto é o céu?\"]\n",
    "\n",
    "# Obtendo os vetores de embedding\n",
    "question_embedding = tuned_model.encode(question)\n",
    "answers_embeddings = tuned_model.encode(answers)\n",
    "\n",
    "\n",
    "emb_q = question_embedding[0]\n",
    "similarities = [similarity(emb_a, emb_q) for emb_a in answers_embeddings]\n",
    "\n",
    "for a, s in zip(answers, similarities):\n",
    "  print(a + \" --- \" + str(s))\n"
   ]
  },
  {
   "cell_type": "code",
   "execution_count": 13,
   "id": "eecb67d1-6de8-4b16-a356-ca6b47a240db",
   "metadata": {},
   "outputs": [
    {
     "data": {
      "text/plain": [
       "0.6584053039550781"
      ]
     },
     "execution_count": 13,
     "metadata": {},
     "output_type": "execute_result"
    }
   ],
   "source": [
    "q = tuned_model.encode(\"onde está o rato?\")\n",
    "a = tuned_model.encode(\"o rato está no porão\")\n",
    "\n",
    "similarity(q, a)"
   ]
  },
  {
   "cell_type": "code",
   "execution_count": 14,
   "id": "30022627-5630-4b07-bbcc-b55776dd03d1",
   "metadata": {},
   "outputs": [
    {
     "data": {
      "text/plain": [
       "0.6188016533851624"
      ]
     },
     "execution_count": 14,
     "metadata": {},
     "output_type": "execute_result"
    }
   ],
   "source": [
    "q = tuned_model.encode(\"onde está o rato?\")\n",
    "a = tuned_model.encode(\"o gato está atras do rato\")\n",
    "\n",
    "similarity(q, a)"
   ]
  },
  {
   "cell_type": "code",
   "execution_count": null,
   "id": "a9a7f857-069e-4e3f-9398-5dbcedcad631",
   "metadata": {},
   "outputs": [],
   "source": []
  }
 ],
 "metadata": {
  "kernelspec": {
   "display_name": "Python 3 (ipykernel)",
   "language": "python",
   "name": "python3"
  },
  "language_info": {
   "codemirror_mode": {
    "name": "ipython",
    "version": 3
   },
   "file_extension": ".py",
   "mimetype": "text/x-python",
   "name": "python",
   "nbconvert_exporter": "python",
   "pygments_lexer": "ipython3",
   "version": "3.10.14"
  }
 },
 "nbformat": 4,
 "nbformat_minor": 5
}
