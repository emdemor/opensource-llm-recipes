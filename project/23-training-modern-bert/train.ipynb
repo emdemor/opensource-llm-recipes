{
 "cells": [
  {
   "cell_type": "code",
   "execution_count": 1,
   "id": "94175fb0-b9de-41b0-9e61-cd8d7f963a49",
   "metadata": {
    "execution": {
     "iopub.execute_input": "2025-02-20T04:08:53.588162Z",
     "iopub.status.busy": "2025-02-20T04:08:53.587910Z",
     "iopub.status.idle": "2025-02-20T04:08:53.610216Z",
     "shell.execute_reply": "2025-02-20T04:08:53.609313Z",
     "shell.execute_reply.started": "2025-02-20T04:08:53.588142Z"
    }
   },
   "outputs": [],
   "source": [
    "%load_ext autoreload\n",
    "%autoreload 2"
   ]
  },
  {
   "cell_type": "code",
   "execution_count": 2,
   "id": "72c40b7a-7647-4155-b6d8-122cee09841f",
   "metadata": {
    "execution": {
     "iopub.execute_input": "2025-02-20T04:08:53.611468Z",
     "iopub.status.busy": "2025-02-20T04:08:53.611151Z",
     "iopub.status.idle": "2025-02-20T04:11:08.134919Z",
     "shell.execute_reply": "2025-02-20T04:11:08.134431Z",
     "shell.execute_reply.started": "2025-02-20T04:08:53.611447Z"
    }
   },
   "outputs": [
    {
     "name": "stderr",
     "output_type": "stream",
     "text": [
      "2025-02-20 04:08:57,343 - src.utils - INFO - VRAM cleared definitively.\n",
      "2025-02-20 04:08:57,345 - src.utils - INFO - \n",
      "Uso de VRAM pela GPU:\n",
      "+------------------------+---------+--------------+\n",
      "| Descrição              |   Valor | Percentual   |\n",
      "+========================+=========+==============+\n",
      "| Total de Memória (MB)  |    3904 | 100%         |\n",
      "+------------------------+---------+--------------+\n",
      "| Memória Alocada (MB)   |       0 | 0%           |\n",
      "+------------------------+---------+--------------+\n",
      "| Memória Reservada (MB) |       0 | 0%           |\n",
      "+------------------------+---------+--------------+\n",
      "2025-02-20 04:08:57,346 - src.config - INFO - Read config from config/config.yml\n",
      "Some weights of the model checkpoint at neuralmind/bert-base-portuguese-cased were not used when initializing BertForMaskedLM: ['bert.pooler.dense.bias', 'bert.pooler.dense.weight', 'cls.seq_relationship.bias', 'cls.seq_relationship.weight']\n",
      "- This IS expected if you are initializing BertForMaskedLM from the checkpoint of a model trained on another task or with another architecture (e.g. initializing a BertForSequenceClassification model from a BertForPreTraining model).\n",
      "- This IS NOT expected if you are initializing BertForMaskedLM from the checkpoint of a model that you expect to be exactly identical (initializing a BertForSequenceClassification model from a BertForSequenceClassification model).\n",
      "2025-02-20 04:09:03,417 - src.config - INFO - Maior ID no tokenizador: 32767\n",
      "2025-02-20 04:09:03,418 - src.config - INFO - Tamanho do vocabulário do modelo: 32768\n",
      "2025-02-20 04:09:04,297 - src.config - INFO - Starting training with global_step = 159 | epoch = 0\n",
      "2025-02-20 04:09:04,298 - src.config - INFO - Starting epoch 1/1\n"
     ]
    },
    {
     "data": {
      "application/vnd.jupyter.widget-view+json": {
       "model_id": "b9ee2ac64f25470d853427934b07bb10",
       "version_major": 2,
       "version_minor": 0
      },
      "text/plain": [
       "Map (num_proc=4):   0%|          | 0/1001 [00:00<?, ? examples/s]"
      ]
     },
     "metadata": {},
     "output_type": "display_data"
    },
    {
     "name": "stderr",
     "output_type": "stream",
     "text": [
      "2025-02-20 04:09:04,660 - src.config - INFO - Starting chunk 1/5 | MLM Prob = 0.05\n",
      "2025-02-20 04:09:04,661 - src.config - INFO - Splitting | chunk: 0-199 | eval: 0-19 | train: 20-199\n",
      "2025-02-20 04:09:04,667 - src.config - INFO - Epoch 1/1 | MLM Probability: 0.05\n"
     ]
    },
    {
     "data": {
      "application/vnd.jupyter.widget-view+json": {
       "model_id": "9284a8d3531b43d6b81dac3252defa84",
       "version_major": 2,
       "version_minor": 0
      },
      "text/plain": [
       "Training (MLM 0.05): 0it [00:00, ?it/s]"
      ]
     },
     "metadata": {},
     "output_type": "display_data"
    },
    {
     "name": "stderr",
     "output_type": "stream",
     "text": [
      "2025-02-20 04:09:26,467 - src.config - INFO - Evaluating at the end of chunk 0...\n"
     ]
    },
    {
     "data": {
      "application/vnd.jupyter.widget-view+json": {
       "model_id": "bb6b1aa168464d139bef2bcaf906a9eb",
       "version_major": 2,
       "version_minor": 0
      },
      "text/plain": [
       "Evaluating: 0it [00:00, ?it/s]"
      ]
     },
     "metadata": {},
     "output_type": "display_data"
    },
    {
     "name": "stderr",
     "output_type": "stream",
     "text": [
      "2025-02-20 04:09:27,790 - src.config - INFO - Chunk evaluation loss: nan\n",
      "2025-02-20 04:09:27,791 - src.config - INFO - Saving checkpoint after chunk 0.\n",
      "2025-02-20 04:09:29,040 - src.config - INFO - Checkpoint saved at models/bert-base-portuguese-cased-ptbr-test/checkpoint-181\n",
      "2025-02-20 04:09:29,171 - src.config - INFO - Deleted old checkpoint: checkpoint-137\n",
      "2025-02-20 04:09:29,171 - src.config - INFO - Starting chunk 2/5 | MLM Prob = 0.1\n",
      "2025-02-20 04:09:29,172 - src.config - INFO - Splitting | chunk: 200-399 | eval: 200-219 | train: 220-399\n",
      "2025-02-20 04:09:29,179 - src.config - INFO - Epoch 1/1 | MLM Probability: 0.1\n"
     ]
    },
    {
     "data": {
      "application/vnd.jupyter.widget-view+json": {
       "model_id": "8256df3000194b30b560f8ffb91cff28",
       "version_major": 2,
       "version_minor": 0
      },
      "text/plain": [
       "Training (MLM 0.1): 0it [00:00, ?it/s]"
      ]
     },
     "metadata": {},
     "output_type": "display_data"
    },
    {
     "data": {
      "application/vnd.jupyter.widget-view+json": {
       "model_id": "0850a3bde60143539560d664373911ef",
       "version_major": 2,
       "version_minor": 0
      },
      "text/plain": [
       "Evaluating: 0it [00:00, ?it/s]"
      ]
     },
     "metadata": {},
     "output_type": "display_data"
    },
    {
     "name": "stderr",
     "output_type": "stream",
     "text": [
      "2025-02-20 04:09:34,505 - src.config - INFO - Evaluation loss at step 186: 8.452447032928466\n",
      "2025-02-20 04:09:48,340 - src.utils - INFO - \n",
      "Uso de VRAM pela GPU:\n",
      "+------------------------+---------+--------------+\n",
      "| Descrição              |   Valor | Percentual   |\n",
      "+========================+=========+==============+\n",
      "| Total de Memória (MB)  |    3904 | 100%         |\n",
      "+------------------------+---------+--------------+\n",
      "| Memória Alocada (MB)   |    1292 | 33%          |\n",
      "+------------------------+---------+--------------+\n",
      "| Memória Reservada (MB) |    2388 | 61%          |\n",
      "+------------------------+---------+--------------+\n",
      "2025-02-20 04:09:50,718 - src.config - INFO - Evaluating at the end of chunk 1...\n"
     ]
    },
    {
     "data": {
      "application/vnd.jupyter.widget-view+json": {
       "model_id": "4a5597a24add4b88a2f3b7baf70b6e7e",
       "version_major": 2,
       "version_minor": 0
      },
      "text/plain": [
       "Evaluating: 0it [00:00, ?it/s]"
      ]
     },
     "metadata": {},
     "output_type": "display_data"
    },
    {
     "name": "stderr",
     "output_type": "stream",
     "text": [
      "2025-02-20 04:09:51,875 - src.config - INFO - Chunk evaluation loss: 9.549351119995118\n",
      "2025-02-20 04:09:51,876 - src.config - INFO - Saving checkpoint after chunk 1.\n",
      "2025-02-20 04:09:53,149 - src.config - INFO - Checkpoint saved at models/bert-base-portuguese-cased-ptbr-test/checkpoint-203\n",
      "2025-02-20 04:09:53,275 - src.config - INFO - Deleted old checkpoint: checkpoint-159\n",
      "2025-02-20 04:09:53,276 - src.config - INFO - Starting chunk 3/5 | MLM Prob = 0.15\n",
      "2025-02-20 04:09:53,277 - src.config - INFO - Splitting | chunk: 400-599 | eval: 400-419 | train: 420-599\n",
      "2025-02-20 04:09:53,284 - src.config - INFO - Epoch 1/1 | MLM Probability: 0.15\n"
     ]
    },
    {
     "data": {
      "application/vnd.jupyter.widget-view+json": {
       "model_id": "bf70548999f44c998dd36655a2d7410c",
       "version_major": 2,
       "version_minor": 0
      },
      "text/plain": [
       "Training (MLM 0.15): 0it [00:00, ?it/s]"
      ]
     },
     "metadata": {},
     "output_type": "display_data"
    },
    {
     "data": {
      "application/vnd.jupyter.widget-view+json": {
       "model_id": "ac6231a207f042cfb29fe0d124000a81",
       "version_major": 2,
       "version_minor": 0
      },
      "text/plain": [
       "Evaluating: 0it [00:00, ?it/s]"
      ]
     },
     "metadata": {},
     "output_type": "display_data"
    },
    {
     "name": "stderr",
     "output_type": "stream",
     "text": [
      "2025-02-20 04:10:06,967 - src.config - INFO - Evaluation loss at step 217: 8.703751182556152\n",
      "2025-02-20 04:10:14,632 - src.config - INFO - Evaluating at the end of chunk 2...\n"
     ]
    },
    {
     "data": {
      "application/vnd.jupyter.widget-view+json": {
       "model_id": "4e114eafc5004c35943d95f48611a734",
       "version_major": 2,
       "version_minor": 0
      },
      "text/plain": [
       "Evaluating: 0it [00:00, ?it/s]"
      ]
     },
     "metadata": {},
     "output_type": "display_data"
    },
    {
     "name": "stderr",
     "output_type": "stream",
     "text": [
      "2025-02-20 04:10:15,794 - src.config - INFO - Chunk evaluation loss: 9.050381088256836\n",
      "2025-02-20 04:10:15,795 - src.config - INFO - Saving checkpoint after chunk 2.\n",
      "2025-02-20 04:10:17,050 - src.config - INFO - Checkpoint saved at models/bert-base-portuguese-cased-ptbr-test/checkpoint-225\n",
      "2025-02-20 04:10:17,168 - src.config - INFO - Deleted old checkpoint: checkpoint-181\n",
      "2025-02-20 04:10:17,169 - src.config - INFO - Starting chunk 4/5 | MLM Prob = 0.2\n",
      "2025-02-20 04:10:17,169 - src.config - INFO - Splitting | chunk: 600-799 | eval: 600-619 | train: 620-799\n",
      "2025-02-20 04:10:17,178 - src.config - INFO - Epoch 1/1 | MLM Probability: 0.2\n"
     ]
    },
    {
     "data": {
      "application/vnd.jupyter.widget-view+json": {
       "model_id": "3e9350afff7c41e4817e0473bb26de7d",
       "version_major": 2,
       "version_minor": 0
      },
      "text/plain": [
       "Training (MLM 0.2): 0it [00:00, ?it/s]"
      ]
     },
     "metadata": {},
     "output_type": "display_data"
    },
    {
     "name": "stderr",
     "output_type": "stream",
     "text": [
      "2025-02-20 04:10:36,791 - src.config - INFO - Evaluating at the end of chunk 3...\n"
     ]
    },
    {
     "data": {
      "application/vnd.jupyter.widget-view+json": {
       "model_id": "c2909562d72e498d8581597bde50394f",
       "version_major": 2,
       "version_minor": 0
      },
      "text/plain": [
       "Evaluating: 0it [00:00, ?it/s]"
      ]
     },
     "metadata": {},
     "output_type": "display_data"
    },
    {
     "name": "stderr",
     "output_type": "stream",
     "text": [
      "2025-02-20 04:10:38,261 - src.config - INFO - Chunk evaluation loss: 9.615665817260743\n",
      "2025-02-20 04:10:38,261 - src.config - INFO - Saving checkpoint after chunk 3.\n",
      "2025-02-20 04:10:39,520 - src.config - INFO - Checkpoint saved at models/bert-base-portuguese-cased-ptbr-test/checkpoint-247\n",
      "2025-02-20 04:10:39,650 - src.config - INFO - Deleted old checkpoint: checkpoint-203\n",
      "2025-02-20 04:10:39,651 - src.config - INFO - Starting chunk 5/5 | MLM Prob = 0.3\n",
      "2025-02-20 04:10:39,651 - src.config - INFO - Splitting | chunk: 800-999 | eval: 800-819 | train: 820-999\n",
      "2025-02-20 04:10:39,658 - src.config - INFO - Epoch 1/1 | MLM Probability: 0.3\n"
     ]
    },
    {
     "data": {
      "application/vnd.jupyter.widget-view+json": {
       "model_id": "bd00ed81d71243548d3336878be84b70",
       "version_major": 2,
       "version_minor": 0
      },
      "text/plain": [
       "Training (MLM 0.3): 0it [00:00, ?it/s]"
      ]
     },
     "metadata": {},
     "output_type": "display_data"
    },
    {
     "data": {
      "application/vnd.jupyter.widget-view+json": {
       "model_id": "d7922e928b584fe78677954f2ac4bd8c",
       "version_major": 2,
       "version_minor": 0
      },
      "text/plain": [
       "Evaluating: 0it [00:00, ?it/s]"
      ]
     },
     "metadata": {},
     "output_type": "display_data"
    },
    {
     "name": "stderr",
     "output_type": "stream",
     "text": [
      "2025-02-20 04:10:41,456 - src.config - INFO - Evaluation loss at step 248: 9.184587097167968\n",
      "2025-02-20 04:10:46,029 - src.utils - INFO - \n",
      "Uso de VRAM pela GPU:\n",
      "+------------------------+---------+--------------+\n",
      "| Descrição              |   Valor | Percentual   |\n",
      "+========================+=========+==============+\n",
      "| Total de Memória (MB)  |    3904 | 100%         |\n",
      "+------------------------+---------+--------------+\n",
      "| Memória Alocada (MB)   |    1292 | 33%          |\n",
      "+------------------------+---------+--------------+\n",
      "| Memória Reservada (MB) |    2792 | 72%          |\n",
      "+------------------------+---------+--------------+\n",
      "2025-02-20 04:11:04,665 - src.config - INFO - Evaluating at the end of chunk 4...\n"
     ]
    },
    {
     "data": {
      "application/vnd.jupyter.widget-view+json": {
       "model_id": "795fe6ef5f3b45fe92166f5af68a2d40",
       "version_major": 2,
       "version_minor": 0
      },
      "text/plain": [
       "Evaluating: 0it [00:00, ?it/s]"
      ]
     },
     "metadata": {},
     "output_type": "display_data"
    },
    {
     "name": "stderr",
     "output_type": "stream",
     "text": [
      "2025-02-20 04:11:05,945 - src.config - INFO - Chunk evaluation loss: 9.133732986450195\n",
      "2025-02-20 04:11:05,946 - src.config - INFO - Saving checkpoint after chunk 4.\n",
      "2025-02-20 04:11:07,202 - src.config - INFO - Checkpoint saved at models/bert-base-portuguese-cased-ptbr-test/checkpoint-269\n",
      "2025-02-20 04:11:07,332 - src.config - INFO - Deleted old checkpoint: checkpoint-225\n",
      "2025-02-20 04:11:07,333 - src.config - INFO - Training complete. Saving final model...\n"
     ]
    }
   ],
   "source": [
    "from src import main\n",
    "from src import utils\n",
    "\n",
    "utils.clear_vram()\n",
    "utils.log_gpu_memory_usage()\n",
    "main.run(config_path = \"config/config.yml\")"
   ]
  },
  {
   "cell_type": "code",
   "execution_count": null,
   "id": "825e5d7f-12ef-46bb-99d4-59dcdd8f7f3a",
   "metadata": {},
   "outputs": [],
   "source": []
  },
  {
   "cell_type": "code",
   "execution_count": null,
   "id": "0065c8e6-97a1-49ae-a0f8-b4309d55c9b7",
   "metadata": {},
   "outputs": [],
   "source": []
  },
  {
   "cell_type": "code",
   "execution_count": null,
   "id": "fd6d98d7-3f76-43d4-8cb3-e0a248a58275",
   "metadata": {},
   "outputs": [],
   "source": []
  },
  {
   "cell_type": "code",
   "execution_count": null,
   "id": "342ce733-058d-451d-bc99-8e1d1a503945",
   "metadata": {},
   "outputs": [],
   "source": []
  },
  {
   "cell_type": "code",
   "execution_count": null,
   "id": "f7fda70a-703d-4e44-b243-7a1954535b79",
   "metadata": {},
   "outputs": [],
   "source": []
  }
 ],
 "metadata": {
  "kernelspec": {
   "display_name": "Python 3 (ipykernel)",
   "language": "python",
   "name": "python3"
  },
  "language_info": {
   "codemirror_mode": {
    "name": "ipython",
    "version": 3
   },
   "file_extension": ".py",
   "mimetype": "text/x-python",
   "name": "python",
   "nbconvert_exporter": "python",
   "pygments_lexer": "ipython3",
   "version": "3.10.14"
  }
 },
 "nbformat": 4,
 "nbformat_minor": 5
}
