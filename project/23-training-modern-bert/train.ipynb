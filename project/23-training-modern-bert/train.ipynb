{
 "cells": [
  {
   "cell_type": "code",
   "execution_count": 1,
   "id": "94175fb0-b9de-41b0-9e61-cd8d7f963a49",
   "metadata": {
    "execution": {
     "iopub.execute_input": "2025-02-20T04:05:04.433944Z",
     "iopub.status.busy": "2025-02-20T04:05:04.433705Z",
     "iopub.status.idle": "2025-02-20T04:05:04.444580Z",
     "shell.execute_reply": "2025-02-20T04:05:04.444016Z",
     "shell.execute_reply.started": "2025-02-20T04:05:04.433926Z"
    }
   },
   "outputs": [],
   "source": [
    "%load_ext autoreload\n",
    "%autoreload 2"
   ]
  },
  {
   "cell_type": "code",
   "execution_count": null,
   "id": "72c40b7a-7647-4155-b6d8-122cee09841f",
   "metadata": {
    "execution": {
     "iopub.execute_input": "2025-02-20T04:05:05.233265Z",
     "iopub.status.busy": "2025-02-20T04:05:05.233045Z"
    }
   },
   "outputs": [
    {
     "name": "stderr",
     "output_type": "stream",
     "text": [
      "2025-02-20 04:05:09,717 - src.utils - INFO - VRAM cleared definitively.\n",
      "2025-02-20 04:05:09,753 - src.utils - INFO - \n",
      "Uso de VRAM pela GPU:\n",
      "+------------------------+---------+--------------+\n",
      "| Descrição              |   Valor | Percentual   |\n",
      "+========================+=========+==============+\n",
      "| Total de Memória (MB)  |    3904 | 100%         |\n",
      "+------------------------+---------+--------------+\n",
      "| Memória Alocada (MB)   |       0 | 0%           |\n",
      "+------------------------+---------+--------------+\n",
      "| Memória Reservada (MB) |       0 | 0%           |\n",
      "+------------------------+---------+--------------+\n",
      "2025-02-20 04:05:09,754 - src.config - INFO - Read config from config/config.yml\n"
     ]
    },
    {
     "data": {
      "application/vnd.jupyter.widget-view+json": {
       "model_id": "a9458b6f30e642b8988f098476cd032d",
       "version_major": 2,
       "version_minor": 0
      },
      "text/plain": [
       "Downloading readme:   0%|          | 0.00/2.36k [00:00<?, ?B/s]"
      ]
     },
     "metadata": {},
     "output_type": "display_data"
    },
    {
     "data": {
      "application/vnd.jupyter.widget-view+json": {
       "model_id": "3e9b6e2221584d449bc84021d957d496",
       "version_major": 2,
       "version_minor": 0
      },
      "text/plain": [
       "Downloading data:   0%|          | 0.00/312M [00:00<?, ?B/s]"
      ]
     },
     "metadata": {},
     "output_type": "display_data"
    },
    {
     "data": {
      "application/vnd.jupyter.widget-view+json": {
       "model_id": "235c4e4447574fd69c7ce79b2b0845cf",
       "version_major": 2,
       "version_minor": 0
      },
      "text/plain": [
       "Generating train split:   0%|          | 0/167053 [00:00<?, ? examples/s]"
      ]
     },
     "metadata": {},
     "output_type": "display_data"
    },
    {
     "data": {
      "application/vnd.jupyter.widget-view+json": {
       "model_id": "409fc84758674bf3be99c2830268119e",
       "version_major": 2,
       "version_minor": 0
      },
      "text/plain": [
       "config.json:   0%|          | 0.00/647 [00:00<?, ?B/s]"
      ]
     },
     "metadata": {},
     "output_type": "display_data"
    },
    {
     "data": {
      "application/vnd.jupyter.widget-view+json": {
       "model_id": "fbbacb9f4a024106be20ba7e36812573",
       "version_major": 2,
       "version_minor": 0
      },
      "text/plain": [
       "pytorch_model.bin:   0%|          | 0.00/438M [00:00<?, ?B/s]"
      ]
     },
     "metadata": {},
     "output_type": "display_data"
    },
    {
     "name": "stderr",
     "output_type": "stream",
     "text": [
      "Some weights of the model checkpoint at neuralmind/bert-base-portuguese-cased were not used when initializing BertForMaskedLM: ['bert.pooler.dense.bias', 'bert.pooler.dense.weight', 'cls.seq_relationship.bias', 'cls.seq_relationship.weight']\n",
      "- This IS expected if you are initializing BertForMaskedLM from the checkpoint of a model trained on another task or with another architecture (e.g. initializing a BertForSequenceClassification model from a BertForPreTraining model).\n",
      "- This IS NOT expected if you are initializing BertForMaskedLM from the checkpoint of a model that you expect to be exactly identical (initializing a BertForSequenceClassification model from a BertForSequenceClassification model).\n",
      "2025-02-20 04:05:35,690 - src.config - INFO - Maior ID no tokenizador: 32767\n",
      "2025-02-20 04:05:35,691 - src.config - INFO - Tamanho do vocabulário do modelo: 32768\n",
      "2025-02-20 04:05:37,505 - src.config - INFO - Starting training with global_step = 49 | epoch = 0\n",
      "2025-02-20 04:05:37,506 - src.config - INFO - Starting epoch 1/1\n"
     ]
    },
    {
     "data": {
      "application/vnd.jupyter.widget-view+json": {
       "model_id": "42c3b823cb7f44f887c15c571f171be0",
       "version_major": 2,
       "version_minor": 0
      },
      "text/plain": [
       "Map (num_proc=4):   0%|          | 0/1001 [00:00<?, ? examples/s]"
      ]
     },
     "metadata": {},
     "output_type": "display_data"
    },
    {
     "name": "stderr",
     "output_type": "stream",
     "text": [
      "2025-02-20 04:05:37,949 - src.config - INFO - Starting chunk 1/5 | MLM Prob = 0.05\n",
      "2025-02-20 04:05:37,950 - src.config - INFO - Splitting | chunk: 0-199 | eval: 0-19 | train: 20-199\n",
      "2025-02-20 04:05:37,960 - src.config - INFO - Epoch 1/1 | MLM Probability: 0.05\n"
     ]
    },
    {
     "data": {
      "application/vnd.jupyter.widget-view+json": {
       "model_id": "2bffbd5bd4a547a8832793eb30ad4366",
       "version_major": 2,
       "version_minor": 0
      },
      "text/plain": [
       "Training (MLM 0.05): 0it [00:00, ?it/s]"
      ]
     },
     "metadata": {},
     "output_type": "display_data"
    },
    {
     "name": "stderr",
     "output_type": "stream",
     "text": [
      "2025-02-20 04:05:39,041 - src.utils - INFO - \n",
      "Uso de VRAM pela GPU:\n",
      "+------------------------+---------+--------------+\n",
      "| Descrição              |   Valor | Percentual   |\n",
      "+========================+=========+==============+\n",
      "| Total de Memória (MB)  |    3904 | 100%         |\n",
      "+------------------------+---------+--------------+\n",
      "| Memória Alocada (MB)   |    1292 | 33%          |\n",
      "+------------------------+---------+--------------+\n",
      "| Memória Reservada (MB) |    2256 | 58%          |\n",
      "+------------------------+---------+--------------+\n"
     ]
    },
    {
     "data": {
      "application/vnd.jupyter.widget-view+json": {
       "model_id": "524a38d312aa49099253edb1fa16e252",
       "version_major": 2,
       "version_minor": 0
      },
      "text/plain": [
       "Evaluating: 0it [00:00, ?it/s]"
      ]
     },
     "metadata": {},
     "output_type": "display_data"
    },
    {
     "name": "stderr",
     "output_type": "stream",
     "text": [
      "2025-02-20 04:05:50,103 - src.config - INFO - Evaluation loss at step 62: 8.469498634338379\n",
      "2025-02-20 04:05:59,079 - src.config - INFO - Evaluating at the end of chunk 0...\n"
     ]
    },
    {
     "data": {
      "application/vnd.jupyter.widget-view+json": {
       "model_id": "492240bfbc394f54b1ceb94efed57c84",
       "version_major": 2,
       "version_minor": 0
      },
      "text/plain": [
       "Evaluating: 0it [00:00, ?it/s]"
      ]
     },
     "metadata": {},
     "output_type": "display_data"
    },
    {
     "name": "stderr",
     "output_type": "stream",
     "text": [
      "2025-02-20 04:06:00,193 - src.config - INFO - Chunk evaluation loss: 9.595312595367432\n",
      "2025-02-20 04:06:00,194 - src.config - INFO - Saving checkpoint after chunk 0.\n",
      "2025-02-20 04:06:01,991 - src.config - INFO - Checkpoint saved at models/bert-base-portuguese-cased-ptbr-test/checkpoint-71\n",
      "2025-02-20 04:06:02,013 - src.config - INFO - Deleted old checkpoint: checkpoint-44\n",
      "2025-02-20 04:06:02,014 - src.config - INFO - Starting chunk 2/5 | MLM Prob = 0.1\n",
      "2025-02-20 04:06:02,014 - src.config - INFO - Splitting | chunk: 200-399 | eval: 200-219 | train: 220-399\n",
      "2025-02-20 04:06:02,023 - src.config - INFO - Epoch 1/1 | MLM Probability: 0.1\n"
     ]
    },
    {
     "data": {
      "application/vnd.jupyter.widget-view+json": {
       "model_id": "e6b5faf0b8514237ad3a81f0301443de",
       "version_major": 2,
       "version_minor": 0
      },
      "text/plain": [
       "Training (MLM 0.1): 0it [00:00, ?it/s]"
      ]
     },
     "metadata": {},
     "output_type": "display_data"
    },
    {
     "data": {
      "application/vnd.jupyter.widget-view+json": {
       "model_id": "022e37fa13f640deb8cdb0a5e6df588f",
       "version_major": 2,
       "version_minor": 0
      },
      "text/plain": [
       "Evaluating: 0it [00:00, ?it/s]"
      ]
     },
     "metadata": {},
     "output_type": "display_data"
    },
    {
     "name": "stderr",
     "output_type": "stream",
     "text": [
      "2025-02-20 04:06:22,308 - src.config - INFO - Evaluation loss at step 93: 10.001536560058593\n",
      "2025-02-20 04:06:22,330 - src.config - INFO - Evaluating at the end of chunk 1...\n"
     ]
    },
    {
     "data": {
      "application/vnd.jupyter.widget-view+json": {
       "model_id": "133b91c11f2c4482b8c6289eac41fdf3",
       "version_major": 2,
       "version_minor": 0
      },
      "text/plain": [
       "Evaluating: 0it [00:00, ?it/s]"
      ]
     },
     "metadata": {},
     "output_type": "display_data"
    },
    {
     "name": "stderr",
     "output_type": "stream",
     "text": [
      "2025-02-20 04:06:23,280 - src.config - INFO - Chunk evaluation loss: 9.631388759613037\n",
      "2025-02-20 04:06:23,281 - src.config - INFO - Saving checkpoint after chunk 1.\n",
      "2025-02-20 04:06:25,100 - src.config - INFO - Checkpoint saved at models/bert-base-portuguese-cased-ptbr-test/checkpoint-93\n",
      "2025-02-20 04:06:25,163 - src.config - INFO - Deleted old checkpoint: checkpoint-49\n",
      "2025-02-20 04:06:25,164 - src.config - INFO - Starting chunk 3/5 | MLM Prob = 0.15\n",
      "2025-02-20 04:06:25,165 - src.config - INFO - Splitting | chunk: 400-599 | eval: 400-419 | train: 420-599\n",
      "2025-02-20 04:06:25,180 - src.config - INFO - Epoch 1/1 | MLM Probability: 0.15\n"
     ]
    },
    {
     "data": {
      "application/vnd.jupyter.widget-view+json": {
       "model_id": "321fe9307bac4cf3a7351ef34521e1af",
       "version_major": 2,
       "version_minor": 0
      },
      "text/plain": [
       "Training (MLM 0.15): 0it [00:00, ?it/s]"
      ]
     },
     "metadata": {},
     "output_type": "display_data"
    },
    {
     "name": "stderr",
     "output_type": "stream",
     "text": [
      "2025-02-20 04:06:30,503 - src.utils - INFO - \n",
      "Uso de VRAM pela GPU:\n",
      "+------------------------+---------+--------------+\n",
      "| Descrição              |   Valor | Percentual   |\n",
      "+========================+=========+==============+\n",
      "| Total de Memória (MB)  |    3904 | 100%         |\n",
      "+------------------------+---------+--------------+\n",
      "| Memória Alocada (MB)   |    1292 | 33%          |\n",
      "+------------------------+---------+--------------+\n",
      "| Memória Reservada (MB) |    2378 | 61%          |\n",
      "+------------------------+---------+--------------+\n",
      "2025-02-20 04:06:44,422 - src.config - INFO - Evaluating at the end of chunk 2...\n"
     ]
    },
    {
     "data": {
      "application/vnd.jupyter.widget-view+json": {
       "model_id": "d58c5621ee6e463eb9be42a0aabd0c72",
       "version_major": 2,
       "version_minor": 0
      },
      "text/plain": [
       "Evaluating: 0it [00:00, ?it/s]"
      ]
     },
     "metadata": {},
     "output_type": "display_data"
    },
    {
     "name": "stderr",
     "output_type": "stream",
     "text": [
      "2025-02-20 04:06:45,604 - src.config - INFO - Chunk evaluation loss: 8.678734016418456\n",
      "2025-02-20 04:06:45,605 - src.config - INFO - Saving checkpoint after chunk 2.\n",
      "2025-02-20 04:06:47,129 - src.config - INFO - Checkpoint saved at models/bert-base-portuguese-cased-ptbr-test/checkpoint-115\n",
      "2025-02-20 04:06:47,280 - src.config - INFO - Deleted old checkpoint: checkpoint-71\n",
      "2025-02-20 04:06:47,281 - src.config - INFO - Starting chunk 4/5 | MLM Prob = 0.2\n",
      "2025-02-20 04:06:47,281 - src.config - INFO - Splitting | chunk: 600-799 | eval: 600-619 | train: 620-799\n",
      "2025-02-20 04:06:47,289 - src.config - INFO - Epoch 1/1 | MLM Probability: 0.2\n"
     ]
    },
    {
     "data": {
      "application/vnd.jupyter.widget-view+json": {
       "model_id": "471a6ca5c2d1431fbf710032f5067fe4",
       "version_major": 2,
       "version_minor": 0
      },
      "text/plain": [
       "Training (MLM 0.2): 0it [00:00, ?it/s]"
      ]
     },
     "metadata": {},
     "output_type": "display_data"
    },
    {
     "data": {
      "application/vnd.jupyter.widget-view+json": {
       "model_id": "076739b5b7a34cbfbfa0405fe7b6e19b",
       "version_major": 2,
       "version_minor": 0
      },
      "text/plain": [
       "Evaluating: 0it [00:00, ?it/s]"
      ]
     },
     "metadata": {},
     "output_type": "display_data"
    },
    {
     "name": "stderr",
     "output_type": "stream",
     "text": [
      "2025-02-20 04:06:57,133 - src.config - INFO - Evaluation loss at step 124: 9.416353225708008\n"
     ]
    }
   ],
   "source": [
    "from src import main\n",
    "from src import utils\n",
    "\n",
    "utils.clear_vram()\n",
    "utils.log_gpu_memory_usage()\n",
    "main.run(config_path = \"config/config.yml\")"
   ]
  },
  {
   "cell_type": "code",
   "execution_count": null,
   "id": "825e5d7f-12ef-46bb-99d4-59dcdd8f7f3a",
   "metadata": {},
   "outputs": [],
   "source": []
  },
  {
   "cell_type": "code",
   "execution_count": null,
   "id": "0065c8e6-97a1-49ae-a0f8-b4309d55c9b7",
   "metadata": {},
   "outputs": [],
   "source": []
  },
  {
   "cell_type": "code",
   "execution_count": null,
   "id": "fd6d98d7-3f76-43d4-8cb3-e0a248a58275",
   "metadata": {},
   "outputs": [],
   "source": []
  },
  {
   "cell_type": "code",
   "execution_count": null,
   "id": "342ce733-058d-451d-bc99-8e1d1a503945",
   "metadata": {},
   "outputs": [],
   "source": []
  },
  {
   "cell_type": "code",
   "execution_count": null,
   "id": "f7fda70a-703d-4e44-b243-7a1954535b79",
   "metadata": {},
   "outputs": [],
   "source": []
  }
 ],
 "metadata": {
  "kernelspec": {
   "display_name": "Python 3 (ipykernel)",
   "language": "python",
   "name": "python3"
  },
  "language_info": {
   "codemirror_mode": {
    "name": "ipython",
    "version": 3
   },
   "file_extension": ".py",
   "mimetype": "text/x-python",
   "name": "python",
   "nbconvert_exporter": "python",
   "pygments_lexer": "ipython3",
   "version": "3.10.14"
  }
 },
 "nbformat": 4,
 "nbformat_minor": 5
}
