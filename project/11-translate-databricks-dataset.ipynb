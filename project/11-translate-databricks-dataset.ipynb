{
 "cells": [
  {
   "cell_type": "code",
   "execution_count": 1,
   "id": "b2ba0dd0-36fc-4c2c-89a3-dca067ca04a3",
   "metadata": {},
   "outputs": [
    {
     "name": "stdout",
     "output_type": "stream",
     "text": [
      "Device name: 'NVIDIA GeForce RTX 2060 SUPER'\n",
      "Device properties: '_CudaDeviceProperties(name='NVIDIA GeForce RTX 2060 SUPER', major=7, minor=5, total_memory=7957MB, multi_processor_count=34)'\n",
      "Suporta bfloat16.\n"
     ]
    },
    {
     "name": "stderr",
     "output_type": "stream",
     "text": [
      "/opt/conda/lib/python3.10/site-packages/transformers/utils/hub.py:124: FutureWarning: Using `TRANSFORMERS_CACHE` is deprecated and will be removed in v5 of Transformers. Use `HF_HOME` instead.\n",
      "  warnings.warn(\n"
     ]
    }
   ],
   "source": [
    "from huggingface_hub import hf_hub_download\n",
    "import pandas as pd\n",
    "import os\n",
    "from huggingface_hub import login\n",
    "from langchain_core.prompts import PromptTemplate\n",
    "from langchain_openai import ChatOpenAI\n",
    "import numpy as np\n",
    "from tqdm import tqdm\n",
    "from langchain.callbacks import get_openai_callback\n",
    "\n",
    "import torch\n",
    "assert torch.cuda.is_available()\n",
    "from datasets import load_dataset\n",
    "from transformers import BitsAndBytesConfig\n",
    "\n",
    "\n",
    "print(f\"Device name: '{torch.cuda.get_device_name()}'\")\n",
    "print(f\"Device properties: '{torch.cuda.get_device_properties(torch.cuda.current_device())}'\")\n",
    "print(\"Suporta bfloat16.\" if torch.cuda.is_bf16_supported() else \"Não suporta bfloat16.\")"
   ]
  },
  {
   "cell_type": "code",
   "execution_count": 2,
   "id": "47f04641-67f3-44a7-830b-cff64b5ecd09",
   "metadata": {},
   "outputs": [],
   "source": [
    "class Translator:\n",
    "    languages = {\n",
    "        \"en\": \"eng_Latn\",\n",
    "        \"pt\": \"por_Latn\",\n",
    "    }\n",
    "\n",
    "    def __init__(self, tokenizer, model, max_length=4000):\n",
    "        self.tokenizer = tokenizer\n",
    "        self.model = model\n",
    "        self.max_length = max_length\n",
    "        self._translate_to_en = pipeline(\n",
    "            \"translation\",\n",
    "            model=self.model,\n",
    "            tokenizer=self.tokenizer,\n",
    "            src_lang=self.languages[\"pt\"],\n",
    "            tgt_lang=self.languages[\"en\"],\n",
    "            max_length=self.max_length\n",
    "        )\n",
    "        self._translate_to_pt = pipeline(\n",
    "            \"translation\",\n",
    "            model=self.model,\n",
    "            tokenizer=self.tokenizer,\n",
    "            src_lang=self.languages[\"en\"],\n",
    "            tgt_lang=self.languages[\"pt\"],\n",
    "            max_length=self.max_length\n",
    "        )\n",
    "\n",
    "    def to_english(self, text):\n",
    "        return self._translate(text, input_lang=\"pt\", output_lang=\"en\")\n",
    "\n",
    "    def to_portuguese(self, text):\n",
    "        return self._translate(text, input_lang=\"en\", output_lang=\"pt\")\n",
    "\n",
    "    def _translate(self, text, input_lang, output_lang):\n",
    "        if (input_lang==\"en\") and (output_lang==\"pt\"):\n",
    "            translator = self._translate_to_pt\n",
    "        elif (input_lang==\"pt\") and (output_lang==\"en\"):\n",
    "            translator = self._translate_to_en\n",
    "        else:\n",
    "            print(f\"Input and/or output languages not recognized.\")\n",
    "            \n",
    "        output = translator(text)\n",
    "\n",
    "        output_translated = [x.get('translation_text') for x in output]\n",
    "\n",
    "        if len(output_translated) == 1:\n",
    "            return output_translated[0]\n",
    "        return output_translated\n"
   ]
  },
  {
   "cell_type": "code",
   "execution_count": 3,
   "id": "a18af04f-93b9-4b0a-8b76-114bc83602cf",
   "metadata": {},
   "outputs": [],
   "source": [
    "from transformers import AutoTokenizer, AutoModelForSeq2SeqLM, pipeline\n",
    "\n",
    "checkpoint = \"facebook/nllb-200-distilled-1.3B\" # \"facebook/nllb-200-distilled-600M\"\n",
    "\n",
    "quant_config = BitsAndBytesConfig(\n",
    "   load_in_4bit=True,\n",
    "    bnb_4bit_compute_dtype=torch.float16,\n",
    ")\n",
    "\n",
    "model = AutoModelForSeq2SeqLM.from_pretrained(checkpoint, device_map=\"auto\", quantization_config=quant_config)\n",
    "tokenizer = AutoTokenizer.from_pretrained(checkpoint, device_map=\"auto\", quantization_config=quant_config)\n",
    "\n",
    "translator_4bits = Translator(model=model, tokenizer=tokenizer, max_length=4000)"
   ]
  },
  {
   "cell_type": "code",
   "execution_count": 4,
   "id": "790f5465-aa6d-413a-bf13-b9c2721c90d4",
   "metadata": {},
   "outputs": [
    {
     "data": {
      "text/plain": [
       "'exemplo de texto'"
      ]
     },
     "execution_count": 4,
     "metadata": {},
     "output_type": "execute_result"
    }
   ],
   "source": [
    "translator_4bits.to_portuguese(\"example of text\")"
   ]
  },
  {
   "cell_type": "code",
   "execution_count": 5,
   "id": "9ed72563-0ad7-48da-9a11-097114ccee5c",
   "metadata": {},
   "outputs": [
    {
     "data": {
      "text/plain": [
       "'example text'"
      ]
     },
     "execution_count": 5,
     "metadata": {},
     "output_type": "execute_result"
    }
   ],
   "source": [
    "translator_4bits.to_english(\"exemplo de texto\")"
   ]
  },
  {
   "cell_type": "code",
   "execution_count": 6,
   "id": "48a60e10-2c6a-4767-9010-df8134a301dd",
   "metadata": {},
   "outputs": [
    {
     "name": "stdout",
     "output_type": "stream",
     "text": [
      "CPU times: user 338 ms, sys: 11.3 ms, total: 349 ms\n",
      "Wall time: 5.33 s\n"
     ]
    },
    {
     "data": {
      "text/html": [
       "<div>\n",
       "<style scoped>\n",
       "    .dataframe tbody tr th:only-of-type {\n",
       "        vertical-align: middle;\n",
       "    }\n",
       "\n",
       "    .dataframe tbody tr th {\n",
       "        vertical-align: top;\n",
       "    }\n",
       "\n",
       "    .dataframe thead th {\n",
       "        text-align: right;\n",
       "    }\n",
       "</style>\n",
       "<table border=\"1\" class=\"dataframe\">\n",
       "  <thead>\n",
       "    <tr style=\"text-align: right;\">\n",
       "      <th></th>\n",
       "      <th>instruction</th>\n",
       "      <th>response</th>\n",
       "    </tr>\n",
       "  </thead>\n",
       "  <tbody>\n",
       "    <tr>\n",
       "      <th>7365</th>\n",
       "      <td>Who is the most decorated olympian of all time?</td>\n",
       "      <td>Michael Phelps is the most decorated olympian ...</td>\n",
       "    </tr>\n",
       "    <tr>\n",
       "      <th>5099</th>\n",
       "      <td>Categorize the following ingredients as meat, ...</td>\n",
       "      <td>mayonnaise - spread\\nham - meat\\nswiss - chees...</td>\n",
       "    </tr>\n",
       "    <tr>\n",
       "      <th>2986</th>\n",
       "      <td>What is the best University in Canada for comp...</td>\n",
       "      <td>To decide which university is the best univers...</td>\n",
       "    </tr>\n",
       "    <tr>\n",
       "      <th>2765</th>\n",
       "      <td>Let's play a game of tic tac toe. I'll be X an...</td>\n",
       "      <td>Fun! Here's my next move:\\n\\n_ _ _\\n_ O X\\n_ _ _</td>\n",
       "    </tr>\n",
       "    <tr>\n",
       "      <th>733</th>\n",
       "      <td>What is an AVA when it comes to wine?</td>\n",
       "      <td>AVA stands for American Viticultural Area, whi...</td>\n",
       "    </tr>\n",
       "  </tbody>\n",
       "</table>\n",
       "</div>"
      ],
      "text/plain": [
       "                                            instruction  \\\n",
       "7365    Who is the most decorated olympian of all time?   \n",
       "5099  Categorize the following ingredients as meat, ...   \n",
       "2986  What is the best University in Canada for comp...   \n",
       "2765  Let's play a game of tic tac toe. I'll be X an...   \n",
       "733               What is an AVA when it comes to wine?   \n",
       "\n",
       "                                               response  \n",
       "7365  Michael Phelps is the most decorated olympian ...  \n",
       "5099  mayonnaise - spread\\nham - meat\\nswiss - chees...  \n",
       "2986  To decide which university is the best univers...  \n",
       "2765   Fun! Here's my next move:\\n\\n_ _ _\\n_ O X\\n_ _ _  \n",
       "733   AVA stands for American Viticultural Area, whi...  "
      ]
     },
     "execution_count": 6,
     "metadata": {},
     "output_type": "execute_result"
    }
   ],
   "source": [
    "%%time\n",
    "\n",
    "tokenizer = translator_4bits._translate_to_pt.tokenizer\n",
    "\n",
    "def get_n_tokens(text):\n",
    "    return len(tokenizer.encode(text))\n",
    "\n",
    "REPO_ID = \"databricks/databricks-dolly-15k\"\n",
    "\n",
    "dataset = load_dataset(REPO_ID, split=\"train\")\n",
    "dataset = dataset.filter(lambda row: len(str(row[\"context\"])) == 0)\n",
    "dataset = dataset.select_columns(['instruction', 'response'])\n",
    "dataset = dataset.filter(lambda x: get_n_tokens(x[\"instruction\"]) < 900 )\n",
    "dataset = dataset.shuffle(seed=42)\n",
    "\n",
    "df = dataset.to_pandas()\n",
    "df.sample(5)"
   ]
  },
  {
   "cell_type": "code",
   "execution_count": 7,
   "id": "70f235fc-ee32-4196-93f8-3bdd231aebb8",
   "metadata": {},
   "outputs": [
    {
     "name": "stderr",
     "output_type": "stream",
     "text": [
      "0it [00:00, ?it/s]"
     ]
    },
    {
     "name": "stdout",
     "output_type": "stream",
     "text": [
      "\n",
      "\n",
      "batch 0000_0000_0100\n",
      "\t> translating instruction\n",
      "\t> translating response\n"
     ]
    },
    {
     "name": "stderr",
     "output_type": "stream",
     "text": [
      "This is a friendly reminder - the current text generation call will exceed the model's predefined maximum length (1024). Depending on the model, you may observe exceptions, performance degradation, or nothing at all.\n",
      "1it [09:47, 587.49s/it]"
     ]
    },
    {
     "name": "stdout",
     "output_type": "stream",
     "text": [
      "\n",
      "\n",
      "batch 0001_0100_0200\n",
      "\t> translating instruction\n",
      "\t> translating response\n"
     ]
    },
    {
     "name": "stderr",
     "output_type": "stream",
     "text": [
      "2it [18:42, 556.41s/it]"
     ]
    },
    {
     "name": "stdout",
     "output_type": "stream",
     "text": [
      "\n",
      "\n",
      "batch 0002_0200_0300\n",
      "\t> translating instruction\n",
      "\t> translating response\n"
     ]
    },
    {
     "name": "stderr",
     "output_type": "stream",
     "text": [
      "3it [25:50, 497.83s/it]"
     ]
    },
    {
     "name": "stdout",
     "output_type": "stream",
     "text": [
      "\n",
      "\n",
      "batch 0003_0300_0400\n",
      "\t> translating instruction\n",
      "\t> translating response\n"
     ]
    },
    {
     "name": "stderr",
     "output_type": "stream",
     "text": [
      "Token indices sequence length is longer than the specified maximum sequence length for this model (1937 > 1024). Running this sequence through the model will result in indexing errors\n",
      "4it [33:47, 489.78s/it]"
     ]
    },
    {
     "name": "stdout",
     "output_type": "stream",
     "text": [
      "\n",
      "\n",
      "batch 0004_0400_0500\n",
      "\t> translating instruction\n"
     ]
    },
    {
     "name": "stderr",
     "output_type": "stream",
     "text": [
      "You seem to be using the pipelines sequentially on GPU. In order to maximize efficiency please use a dataset\n"
     ]
    },
    {
     "name": "stdout",
     "output_type": "stream",
     "text": [
      "\t> translating response\n"
     ]
    },
    {
     "name": "stderr",
     "output_type": "stream",
     "text": [
      "5it [38:40, 418.71s/it]"
     ]
    },
    {
     "name": "stdout",
     "output_type": "stream",
     "text": [
      "\n",
      "\n",
      "batch 0005_0500_0600\n",
      "\t> translating instruction\n",
      "\t> translating response\n"
     ]
    },
    {
     "name": "stderr",
     "output_type": "stream",
     "text": [
      "6it [45:59, 425.53s/it]"
     ]
    },
    {
     "name": "stdout",
     "output_type": "stream",
     "text": [
      "\n",
      "\n",
      "batch 0006_0600_0700\n",
      "\t> translating instruction\n",
      "\t> translating response\n"
     ]
    },
    {
     "name": "stderr",
     "output_type": "stream",
     "text": [
      "7it [56:24, 490.90s/it]"
     ]
    },
    {
     "name": "stdout",
     "output_type": "stream",
     "text": [
      "\n",
      "\n",
      "batch 0007_0700_0800\n",
      "\t> translating instruction\n",
      "\t> translating response\n"
     ]
    },
    {
     "name": "stderr",
     "output_type": "stream",
     "text": [
      "8it [1:06:51, 534.08s/it]"
     ]
    },
    {
     "name": "stdout",
     "output_type": "stream",
     "text": [
      "\n",
      "\n",
      "batch 0008_0800_0900\n",
      "\t> translating instruction\n",
      "\t> translating response\n"
     ]
    },
    {
     "name": "stderr",
     "output_type": "stream",
     "text": [
      "9it [1:13:57, 500.53s/it]"
     ]
    },
    {
     "name": "stdout",
     "output_type": "stream",
     "text": [
      "\n",
      "\n",
      "batch 0009_0900_1000\n",
      "\t> translating instruction\n",
      "\t> translating response\n"
     ]
    },
    {
     "name": "stderr",
     "output_type": "stream",
     "text": [
      "10it [1:18:43, 434.19s/it]"
     ]
    },
    {
     "name": "stdout",
     "output_type": "stream",
     "text": [
      "\n",
      "\n",
      "batch 0010_1000_1100\n",
      "\t> translating instruction\n",
      "\t> translating response\n"
     ]
    },
    {
     "name": "stderr",
     "output_type": "stream",
     "text": [
      "11it [1:26:33, 445.01s/it]"
     ]
    },
    {
     "name": "stdout",
     "output_type": "stream",
     "text": [
      "\n",
      "\n",
      "batch 0011_1100_1200\n",
      "\t> translating instruction\n",
      "\t> translating response\n"
     ]
    },
    {
     "name": "stderr",
     "output_type": "stream",
     "text": [
      "12it [1:32:44, 422.66s/it]"
     ]
    },
    {
     "name": "stdout",
     "output_type": "stream",
     "text": [
      "\n",
      "\n",
      "batch 0012_1200_1300\n",
      "\t> translating instruction\n",
      "\t> translating response\n"
     ]
    },
    {
     "name": "stderr",
     "output_type": "stream",
     "text": [
      "13it [1:39:50, 423.53s/it]"
     ]
    },
    {
     "name": "stdout",
     "output_type": "stream",
     "text": [
      "\n",
      "\n",
      "batch 0013_1300_1400\n",
      "\t> translating instruction\n",
      "\t> translating response\n"
     ]
    },
    {
     "name": "stderr",
     "output_type": "stream",
     "text": [
      "14it [1:45:58, 406.72s/it]"
     ]
    },
    {
     "name": "stdout",
     "output_type": "stream",
     "text": [
      "\n",
      "\n",
      "batch 0014_1400_1500\n",
      "\t> translating instruction\n",
      "\t> translating response\n"
     ]
    },
    {
     "name": "stderr",
     "output_type": "stream",
     "text": [
      "15it [1:52:48, 407.87s/it]"
     ]
    },
    {
     "name": "stdout",
     "output_type": "stream",
     "text": [
      "\n",
      "\n",
      "batch 0015_1500_1600\n",
      "\t> translating instruction\n",
      "\t> translating response\n"
     ]
    },
    {
     "name": "stderr",
     "output_type": "stream",
     "text": [
      "16it [1:57:22, 367.57s/it]"
     ]
    },
    {
     "name": "stdout",
     "output_type": "stream",
     "text": [
      "\n",
      "\n",
      "batch 0016_1600_1700\n",
      "\t> translating instruction\n",
      "\t> translating response\n"
     ]
    },
    {
     "name": "stderr",
     "output_type": "stream",
     "text": [
      "17it [2:04:41, 388.90s/it]"
     ]
    },
    {
     "name": "stdout",
     "output_type": "stream",
     "text": [
      "\n",
      "\n",
      "batch 0017_1700_1800\n",
      "\t> translating instruction\n",
      "\t> translating response\n"
     ]
    },
    {
     "name": "stderr",
     "output_type": "stream",
     "text": [
      "18it [2:13:27, 430.13s/it]"
     ]
    },
    {
     "name": "stdout",
     "output_type": "stream",
     "text": [
      "\n",
      "\n",
      "batch 0018_1800_1900\n",
      "\t> translating instruction\n",
      "\t> translating response\n"
     ]
    },
    {
     "name": "stderr",
     "output_type": "stream",
     "text": [
      "19it [2:19:11, 404.30s/it]"
     ]
    },
    {
     "name": "stdout",
     "output_type": "stream",
     "text": [
      "\n",
      "\n",
      "batch 0019_1900_2000\n",
      "\t> translating instruction\n",
      "\t> translating response\n"
     ]
    },
    {
     "name": "stderr",
     "output_type": "stream",
     "text": [
      "20it [2:27:56, 440.61s/it]"
     ]
    },
    {
     "name": "stdout",
     "output_type": "stream",
     "text": [
      "\n",
      "\n",
      "batch 0020_2000_2100\n",
      "\t> translating instruction\n",
      "\t> translating response\n"
     ]
    },
    {
     "name": "stderr",
     "output_type": "stream",
     "text": [
      "21it [2:34:45, 431.20s/it]"
     ]
    },
    {
     "name": "stdout",
     "output_type": "stream",
     "text": [
      "\n",
      "\n",
      "batch 0021_2100_2200\n",
      "\t> translating instruction\n",
      "\t> translating response\n"
     ]
    },
    {
     "name": "stderr",
     "output_type": "stream",
     "text": [
      "22it [2:41:21, 420.56s/it]"
     ]
    },
    {
     "name": "stdout",
     "output_type": "stream",
     "text": [
      "\n",
      "\n",
      "batch 0022_2200_2300\n",
      "\t> translating instruction\n",
      "\t> translating response\n"
     ]
    },
    {
     "name": "stderr",
     "output_type": "stream",
     "text": [
      "23it [2:46:30, 387.14s/it]"
     ]
    },
    {
     "name": "stdout",
     "output_type": "stream",
     "text": [
      "\n",
      "\n",
      "batch 0023_2300_2400\n",
      "\t> translating instruction\n",
      "\t> translating response\n"
     ]
    },
    {
     "name": "stderr",
     "output_type": "stream",
     "text": [
      "24it [2:51:31, 361.32s/it]"
     ]
    },
    {
     "name": "stdout",
     "output_type": "stream",
     "text": [
      "\n",
      "\n",
      "batch 0024_2400_2500\n",
      "\t> translating instruction\n",
      "\t> translating response\n"
     ]
    },
    {
     "name": "stderr",
     "output_type": "stream",
     "text": [
      "25it [2:58:13, 373.35s/it]"
     ]
    },
    {
     "name": "stdout",
     "output_type": "stream",
     "text": [
      "\n",
      "\n",
      "batch 0025_2500_2600\n",
      "\t> translating instruction\n",
      "\t> translating response\n"
     ]
    },
    {
     "name": "stderr",
     "output_type": "stream",
     "text": [
      "26it [3:02:54, 345.63s/it]"
     ]
    },
    {
     "name": "stdout",
     "output_type": "stream",
     "text": [
      "\n",
      "\n",
      "batch 0026_2600_2700\n",
      "\t> translating instruction\n",
      "\t> translating response\n"
     ]
    },
    {
     "name": "stderr",
     "output_type": "stream",
     "text": [
      "27it [3:08:37, 345.02s/it]"
     ]
    },
    {
     "name": "stdout",
     "output_type": "stream",
     "text": [
      "\n",
      "\n",
      "batch 0027_2700_2800\n",
      "\t> translating instruction\n",
      "\t> translating response\n"
     ]
    },
    {
     "name": "stderr",
     "output_type": "stream",
     "text": [
      "28it [3:14:29, 347.14s/it]"
     ]
    },
    {
     "name": "stdout",
     "output_type": "stream",
     "text": [
      "\n",
      "\n",
      "batch 0028_2800_2900\n",
      "\t> translating instruction\n",
      "\t> translating response\n"
     ]
    },
    {
     "name": "stderr",
     "output_type": "stream",
     "text": [
      "29it [3:21:08, 362.67s/it]"
     ]
    },
    {
     "name": "stdout",
     "output_type": "stream",
     "text": [
      "\n",
      "\n",
      "batch 0029_2900_3000\n",
      "\t> translating instruction\n",
      "\t> translating response\n"
     ]
    },
    {
     "name": "stderr",
     "output_type": "stream",
     "text": [
      "30it [3:26:24, 348.55s/it]"
     ]
    },
    {
     "name": "stdout",
     "output_type": "stream",
     "text": [
      "\n",
      "\n",
      "batch 0030_3000_3100\n",
      "\t> translating instruction\n",
      "\t> translating response\n"
     ]
    },
    {
     "name": "stderr",
     "output_type": "stream",
     "text": [
      "31it [3:31:07, 328.91s/it]"
     ]
    },
    {
     "name": "stdout",
     "output_type": "stream",
     "text": [
      "\n",
      "\n",
      "batch 0031_3100_3200\n",
      "\t> translating instruction\n",
      "\t> translating response\n"
     ]
    },
    {
     "name": "stderr",
     "output_type": "stream",
     "text": [
      "32it [3:38:08, 356.47s/it]"
     ]
    },
    {
     "name": "stdout",
     "output_type": "stream",
     "text": [
      "\n",
      "\n",
      "batch 0032_3200_3300\n",
      "\t> translating instruction\n",
      "\t> translating response\n"
     ]
    },
    {
     "name": "stderr",
     "output_type": "stream",
     "text": [
      "33it [3:48:29, 435.89s/it]"
     ]
    },
    {
     "name": "stdout",
     "output_type": "stream",
     "text": [
      "\n",
      "\n",
      "batch 0033_3300_3400\n",
      "\t> translating instruction\n",
      "\t> translating response\n"
     ]
    },
    {
     "name": "stderr",
     "output_type": "stream",
     "text": [
      "34it [3:55:38, 433.75s/it]"
     ]
    },
    {
     "name": "stdout",
     "output_type": "stream",
     "text": [
      "\n",
      "\n",
      "batch 0034_3400_3500\n",
      "\t> translating instruction\n",
      "\t> translating response\n"
     ]
    },
    {
     "name": "stderr",
     "output_type": "stream",
     "text": [
      "35it [4:01:08, 402.73s/it]"
     ]
    },
    {
     "name": "stdout",
     "output_type": "stream",
     "text": [
      "\n",
      "\n",
      "batch 0035_3500_3600\n",
      "\t> translating instruction\n",
      "\t> translating response\n"
     ]
    },
    {
     "name": "stderr",
     "output_type": "stream",
     "text": [
      "36it [4:06:07, 371.67s/it]"
     ]
    },
    {
     "name": "stdout",
     "output_type": "stream",
     "text": [
      "\n",
      "\n",
      "batch 0036_3600_3700\n",
      "\t> translating instruction\n",
      "\t> translating response\n"
     ]
    },
    {
     "name": "stderr",
     "output_type": "stream",
     "text": [
      "37it [4:13:21, 390.30s/it]"
     ]
    },
    {
     "name": "stdout",
     "output_type": "stream",
     "text": [
      "\n",
      "\n",
      "batch 0037_3700_3800\n",
      "\t> translating instruction\n",
      "\t> translating response\n"
     ]
    },
    {
     "name": "stderr",
     "output_type": "stream",
     "text": [
      "38it [4:22:12, 432.49s/it]"
     ]
    },
    {
     "name": "stdout",
     "output_type": "stream",
     "text": [
      "\n",
      "\n",
      "batch 0038_3800_3900\n",
      "\t> translating instruction\n",
      "\t> translating response\n"
     ]
    },
    {
     "name": "stderr",
     "output_type": "stream",
     "text": [
      "39it [4:27:13, 393.07s/it]"
     ]
    },
    {
     "name": "stdout",
     "output_type": "stream",
     "text": [
      "\n",
      "\n",
      "batch 0039_3900_4000\n",
      "\t> translating instruction\n",
      "\t> translating response\n"
     ]
    },
    {
     "name": "stderr",
     "output_type": "stream",
     "text": [
      "40it [4:34:26, 405.08s/it]"
     ]
    },
    {
     "name": "stdout",
     "output_type": "stream",
     "text": [
      "\n",
      "\n",
      "batch 0040_4000_4100\n",
      "\t> translating instruction\n",
      "\t> translating response\n"
     ]
    },
    {
     "name": "stderr",
     "output_type": "stream",
     "text": [
      "41it [4:39:26, 373.40s/it]"
     ]
    },
    {
     "name": "stdout",
     "output_type": "stream",
     "text": [
      "\n",
      "\n",
      "batch 0041_4100_4200\n",
      "\t> translating instruction\n",
      "\t> translating response\n"
     ]
    },
    {
     "name": "stderr",
     "output_type": "stream",
     "text": [
      "42it [4:45:51, 376.86s/it]"
     ]
    },
    {
     "name": "stdout",
     "output_type": "stream",
     "text": [
      "\n",
      "\n",
      "batch 0042_4200_4300\n",
      "\t> translating instruction\n",
      "\t> translating response\n"
     ]
    },
    {
     "name": "stderr",
     "output_type": "stream",
     "text": [
      "43it [4:50:29, 347.33s/it]"
     ]
    },
    {
     "name": "stdout",
     "output_type": "stream",
     "text": [
      "\n",
      "\n",
      "batch 0043_4300_4400\n",
      "\t> translating instruction\n",
      "\t> translating response\n"
     ]
    },
    {
     "name": "stderr",
     "output_type": "stream",
     "text": [
      "44it [4:57:56, 377.07s/it]"
     ]
    },
    {
     "name": "stdout",
     "output_type": "stream",
     "text": [
      "\n",
      "\n",
      "batch 0044_4400_4500\n",
      "\t> translating instruction\n",
      "\t> translating response\n"
     ]
    },
    {
     "name": "stderr",
     "output_type": "stream",
     "text": [
      "45it [5:02:41, 349.63s/it]"
     ]
    },
    {
     "name": "stdout",
     "output_type": "stream",
     "text": [
      "\n",
      "\n",
      "batch 0045_4500_4600\n",
      "\t> translating instruction\n",
      "\t> translating response\n"
     ]
    },
    {
     "name": "stderr",
     "output_type": "stream",
     "text": [
      "46it [5:09:02, 359.09s/it]"
     ]
    },
    {
     "name": "stdout",
     "output_type": "stream",
     "text": [
      "\n",
      "\n",
      "batch 0046_4600_4700\n",
      "\t> translating instruction\n",
      "\t> translating response\n"
     ]
    },
    {
     "name": "stderr",
     "output_type": "stream",
     "text": [
      "47it [5:13:29, 331.38s/it]"
     ]
    },
    {
     "name": "stdout",
     "output_type": "stream",
     "text": [
      "\n",
      "\n",
      "batch 0047_4700_4800\n",
      "\t> translating instruction\n",
      "\t> translating response\n"
     ]
    },
    {
     "name": "stderr",
     "output_type": "stream",
     "text": [
      "48it [5:20:24, 356.59s/it]"
     ]
    },
    {
     "name": "stdout",
     "output_type": "stream",
     "text": [
      "\n",
      "\n",
      "batch 0048_4800_4900\n",
      "\t> translating instruction\n",
      "\t> translating response\n"
     ]
    },
    {
     "name": "stderr",
     "output_type": "stream",
     "text": [
      "49it [5:26:34, 360.60s/it]"
     ]
    },
    {
     "name": "stdout",
     "output_type": "stream",
     "text": [
      "\n",
      "\n",
      "batch 0049_4900_5000\n",
      "\t> translating instruction\n",
      "\t> translating response\n"
     ]
    },
    {
     "name": "stderr",
     "output_type": "stream",
     "text": [
      "50it [5:35:24, 411.41s/it]"
     ]
    },
    {
     "name": "stdout",
     "output_type": "stream",
     "text": [
      "\n",
      "\n",
      "batch 0050_5000_5100\n",
      "\t> translating instruction\n",
      "\t> translating response\n"
     ]
    },
    {
     "name": "stderr",
     "output_type": "stream",
     "text": [
      "51it [5:44:13, 446.72s/it]"
     ]
    },
    {
     "name": "stdout",
     "output_type": "stream",
     "text": [
      "\n",
      "\n",
      "batch 0051_5100_5200\n",
      "\t> translating instruction\n",
      "\t> translating response\n"
     ]
    },
    {
     "name": "stderr",
     "output_type": "stream",
     "text": [
      "52it [5:49:20, 404.56s/it]"
     ]
    },
    {
     "name": "stdout",
     "output_type": "stream",
     "text": [
      "\n",
      "\n",
      "batch 0052_5200_5300\n",
      "\t> translating instruction\n",
      "\t> translating response\n"
     ]
    },
    {
     "name": "stderr",
     "output_type": "stream",
     "text": [
      "53it [5:56:15, 407.94s/it]"
     ]
    },
    {
     "name": "stdout",
     "output_type": "stream",
     "text": [
      "\n",
      "\n",
      "batch 0053_5300_5400\n",
      "\t> translating instruction\n",
      "\t> translating response\n"
     ]
    },
    {
     "name": "stderr",
     "output_type": "stream",
     "text": [
      "54it [6:00:54, 369.16s/it]"
     ]
    },
    {
     "name": "stdout",
     "output_type": "stream",
     "text": [
      "\n",
      "\n",
      "batch 0054_5400_5500\n",
      "\t> translating instruction\n",
      "\t> translating response\n"
     ]
    },
    {
     "name": "stderr",
     "output_type": "stream",
     "text": [
      "55it [6:07:42, 380.68s/it]"
     ]
    },
    {
     "name": "stdout",
     "output_type": "stream",
     "text": [
      "\n",
      "\n",
      "batch 0055_5500_5600\n",
      "\t> translating instruction\n",
      "\t> translating response\n"
     ]
    },
    {
     "name": "stderr",
     "output_type": "stream",
     "text": [
      "56it [6:15:20, 403.90s/it]"
     ]
    },
    {
     "name": "stdout",
     "output_type": "stream",
     "text": [
      "\n",
      "\n",
      "batch 0056_5600_5700\n",
      "\t> translating instruction\n",
      "\t> translating response\n"
     ]
    },
    {
     "name": "stderr",
     "output_type": "stream",
     "text": [
      "57it [6:20:58, 384.11s/it]"
     ]
    },
    {
     "name": "stdout",
     "output_type": "stream",
     "text": [
      "\n",
      "\n",
      "batch 0057_5700_5800\n",
      "\t> translating instruction\n",
      "\t> translating response\n"
     ]
    },
    {
     "name": "stderr",
     "output_type": "stream",
     "text": [
      "58it [6:27:47, 391.81s/it]"
     ]
    },
    {
     "name": "stdout",
     "output_type": "stream",
     "text": [
      "\n",
      "\n",
      "batch 0058_5800_5900\n",
      "\t> translating instruction\n",
      "\t> translating response\n"
     ]
    },
    {
     "name": "stderr",
     "output_type": "stream",
     "text": [
      "59it [6:35:03, 405.05s/it]"
     ]
    },
    {
     "name": "stdout",
     "output_type": "stream",
     "text": [
      "\n",
      "\n",
      "batch 0059_5900_6000\n",
      "\t> translating instruction\n",
      "\t> translating response\n"
     ]
    },
    {
     "name": "stderr",
     "output_type": "stream",
     "text": [
      "60it [6:40:20, 378.46s/it]"
     ]
    },
    {
     "name": "stdout",
     "output_type": "stream",
     "text": [
      "\n",
      "\n",
      "batch 0060_6000_6100\n",
      "\t> translating instruction\n",
      "\t> translating response\n"
     ]
    },
    {
     "name": "stderr",
     "output_type": "stream",
     "text": [
      "61it [6:45:26, 356.79s/it]"
     ]
    },
    {
     "name": "stdout",
     "output_type": "stream",
     "text": [
      "\n",
      "\n",
      "batch 0061_6100_6200\n",
      "\t> translating instruction\n",
      "\t> translating response\n"
     ]
    },
    {
     "name": "stderr",
     "output_type": "stream",
     "text": [
      "62it [6:50:51, 347.28s/it]"
     ]
    },
    {
     "name": "stdout",
     "output_type": "stream",
     "text": [
      "\n",
      "\n",
      "batch 0062_6200_6300\n",
      "\t> translating instruction\n",
      "\t> translating response\n"
     ]
    },
    {
     "name": "stderr",
     "output_type": "stream",
     "text": [
      "63it [6:56:26, 343.63s/it]"
     ]
    },
    {
     "name": "stdout",
     "output_type": "stream",
     "text": [
      "\n",
      "\n",
      "batch 0063_6300_6400\n",
      "\t> translating instruction\n",
      "\t> translating response\n"
     ]
    },
    {
     "name": "stderr",
     "output_type": "stream",
     "text": [
      "64it [7:02:04, 341.79s/it]"
     ]
    },
    {
     "name": "stdout",
     "output_type": "stream",
     "text": [
      "\n",
      "\n",
      "batch 0064_6400_6500\n",
      "\t> translating instruction\n",
      "\t> translating response\n"
     ]
    },
    {
     "name": "stderr",
     "output_type": "stream",
     "text": [
      "65it [7:11:56, 417.01s/it]"
     ]
    },
    {
     "name": "stdout",
     "output_type": "stream",
     "text": [
      "\n",
      "\n",
      "batch 0065_6500_6600\n",
      "\t> translating instruction\n",
      "\t> translating response\n"
     ]
    },
    {
     "name": "stderr",
     "output_type": "stream",
     "text": [
      "66it [7:18:26, 408.85s/it]"
     ]
    },
    {
     "name": "stdout",
     "output_type": "stream",
     "text": [
      "\n",
      "\n",
      "batch 0066_6600_6700\n",
      "\t> translating instruction\n",
      "\t> translating response\n"
     ]
    },
    {
     "name": "stderr",
     "output_type": "stream",
     "text": [
      "67it [7:23:11, 371.78s/it]"
     ]
    },
    {
     "name": "stdout",
     "output_type": "stream",
     "text": [
      "\n",
      "\n",
      "batch 0067_6700_6800\n",
      "\t> translating instruction\n",
      "\t> translating response\n"
     ]
    },
    {
     "name": "stderr",
     "output_type": "stream",
     "text": [
      "68it [7:30:22, 389.46s/it]"
     ]
    },
    {
     "name": "stdout",
     "output_type": "stream",
     "text": [
      "\n",
      "\n",
      "batch 0068_6800_6900\n",
      "\t> translating instruction\n",
      "\t> translating response\n"
     ]
    },
    {
     "name": "stderr",
     "output_type": "stream",
     "text": [
      "69it [7:36:06, 375.85s/it]"
     ]
    },
    {
     "name": "stdout",
     "output_type": "stream",
     "text": [
      "\n",
      "\n",
      "batch 0069_6900_7000\n",
      "\t> translating instruction\n",
      "\t> translating response\n"
     ]
    },
    {
     "name": "stderr",
     "output_type": "stream",
     "text": [
      "70it [7:44:44, 418.33s/it]"
     ]
    },
    {
     "name": "stdout",
     "output_type": "stream",
     "text": [
      "\n",
      "\n",
      "batch 0070_7000_7100\n",
      "\t> translating instruction\n",
      "\t> translating response\n"
     ]
    },
    {
     "name": "stderr",
     "output_type": "stream",
     "text": [
      "71it [7:50:00, 387.89s/it]"
     ]
    },
    {
     "name": "stdout",
     "output_type": "stream",
     "text": [
      "\n",
      "\n",
      "batch 0071_7100_7200\n",
      "\t> translating instruction\n",
      "\t> translating response\n"
     ]
    },
    {
     "name": "stderr",
     "output_type": "stream",
     "text": [
      "72it [7:56:17, 384.33s/it]"
     ]
    },
    {
     "name": "stdout",
     "output_type": "stream",
     "text": [
      "\n",
      "\n",
      "batch 0072_7200_7300\n",
      "\t> translating instruction\n",
      "\t> translating response\n"
     ]
    },
    {
     "name": "stderr",
     "output_type": "stream",
     "text": [
      "73it [8:03:29, 398.72s/it]"
     ]
    },
    {
     "name": "stdout",
     "output_type": "stream",
     "text": [
      "\n",
      "\n",
      "batch 0073_7300_7400\n",
      "\t> translating instruction\n",
      "\t> translating response\n"
     ]
    },
    {
     "name": "stderr",
     "output_type": "stream",
     "text": [
      "74it [8:10:51, 411.81s/it]"
     ]
    },
    {
     "name": "stdout",
     "output_type": "stream",
     "text": [
      "\n",
      "\n",
      "batch 0074_7400_7500\n",
      "\t> translating instruction\n",
      "\t> translating response\n"
     ]
    },
    {
     "name": "stderr",
     "output_type": "stream",
     "text": [
      "75it [8:16:47, 394.94s/it]"
     ]
    },
    {
     "name": "stdout",
     "output_type": "stream",
     "text": [
      "\n",
      "\n",
      "batch 0075_7500_7600\n",
      "\t> translating instruction\n",
      "\t> translating response\n"
     ]
    },
    {
     "name": "stderr",
     "output_type": "stream",
     "text": [
      "76it [8:21:18, 357.88s/it]"
     ]
    },
    {
     "name": "stdout",
     "output_type": "stream",
     "text": [
      "\n",
      "\n",
      "batch 0076_7600_7700\n",
      "\t> translating instruction\n",
      "\t> translating response\n"
     ]
    },
    {
     "name": "stderr",
     "output_type": "stream",
     "text": [
      "77it [8:29:03, 389.93s/it]"
     ]
    },
    {
     "name": "stdout",
     "output_type": "stream",
     "text": [
      "\n",
      "\n",
      "batch 0077_7700_7800\n",
      "\t> translating instruction\n",
      "\t> translating response\n"
     ]
    },
    {
     "name": "stderr",
     "output_type": "stream",
     "text": [
      "78it [8:36:00, 398.24s/it]"
     ]
    },
    {
     "name": "stdout",
     "output_type": "stream",
     "text": [
      "\n",
      "\n",
      "batch 0078_7800_7900\n",
      "\t> translating instruction\n",
      "\t> translating response\n"
     ]
    },
    {
     "name": "stderr",
     "output_type": "stream",
     "text": [
      "79it [8:47:18, 482.07s/it]"
     ]
    },
    {
     "name": "stdout",
     "output_type": "stream",
     "text": [
      "\n",
      "\n",
      "batch 0079_7900_8000\n",
      "\t> translating instruction\n",
      "\t> translating response\n"
     ]
    },
    {
     "name": "stderr",
     "output_type": "stream",
     "text": [
      "80it [8:51:51, 419.43s/it]"
     ]
    },
    {
     "name": "stdout",
     "output_type": "stream",
     "text": [
      "\n",
      "\n",
      "batch 0080_8000_8100\n",
      "\t> translating instruction\n",
      "\t> translating response\n"
     ]
    },
    {
     "name": "stderr",
     "output_type": "stream",
     "text": [
      "81it [8:58:22, 410.79s/it]"
     ]
    },
    {
     "name": "stdout",
     "output_type": "stream",
     "text": [
      "\n",
      "\n",
      "batch 0081_8100_8200\n",
      "\t> translating instruction\n",
      "\t> translating response\n"
     ]
    },
    {
     "name": "stderr",
     "output_type": "stream",
     "text": [
      "82it [9:03:18, 376.37s/it]"
     ]
    },
    {
     "name": "stdout",
     "output_type": "stream",
     "text": [
      "\n",
      "\n",
      "batch 0082_8200_8300\n",
      "\t> translating instruction\n",
      "\t> translating response\n"
     ]
    },
    {
     "name": "stderr",
     "output_type": "stream",
     "text": [
      "83it [9:12:04, 421.10s/it]"
     ]
    },
    {
     "name": "stdout",
     "output_type": "stream",
     "text": [
      "\n",
      "\n",
      "batch 0083_8300_8400\n",
      "\t> translating instruction\n",
      "\t> translating response\n"
     ]
    },
    {
     "name": "stderr",
     "output_type": "stream",
     "text": [
      "84it [9:16:26, 373.48s/it]"
     ]
    },
    {
     "name": "stdout",
     "output_type": "stream",
     "text": [
      "\n",
      "\n",
      "batch 0084_8400_8500\n",
      "\t> translating instruction\n",
      "\t> translating response\n"
     ]
    },
    {
     "name": "stderr",
     "output_type": "stream",
     "text": [
      "85it [9:23:10, 382.52s/it]"
     ]
    },
    {
     "name": "stdout",
     "output_type": "stream",
     "text": [
      "\n",
      "\n",
      "batch 0085_8500_8600\n",
      "\t> translating instruction\n",
      "\t> translating response\n"
     ]
    },
    {
     "name": "stderr",
     "output_type": "stream",
     "text": [
      "86it [9:30:04, 392.24s/it]"
     ]
    },
    {
     "name": "stdout",
     "output_type": "stream",
     "text": [
      "\n",
      "\n",
      "batch 0086_8600_8700\n",
      "\t> translating instruction\n",
      "\t> translating response\n"
     ]
    },
    {
     "name": "stderr",
     "output_type": "stream",
     "text": [
      "87it [9:37:23, 406.09s/it]"
     ]
    },
    {
     "name": "stdout",
     "output_type": "stream",
     "text": [
      "\n",
      "\n",
      "batch 0087_8700_8800\n",
      "\t> translating instruction\n",
      "\t> translating response\n"
     ]
    },
    {
     "name": "stderr",
     "output_type": "stream",
     "text": [
      "88it [9:42:41, 379.82s/it]"
     ]
    },
    {
     "name": "stdout",
     "output_type": "stream",
     "text": [
      "\n",
      "\n",
      "batch 0088_8800_8900\n",
      "\t> translating instruction\n",
      "\t> translating response\n"
     ]
    },
    {
     "name": "stderr",
     "output_type": "stream",
     "text": [
      "89it [9:49:12, 383.12s/it]"
     ]
    },
    {
     "name": "stdout",
     "output_type": "stream",
     "text": [
      "\n",
      "\n",
      "batch 0089_8900_9000\n",
      "\t> translating instruction\n",
      "\t> translating response\n"
     ]
    },
    {
     "name": "stderr",
     "output_type": "stream",
     "text": [
      "90it [9:54:28, 362.95s/it]"
     ]
    },
    {
     "name": "stdout",
     "output_type": "stream",
     "text": [
      "\n",
      "\n",
      "batch 0090_9000_9100\n",
      "\t> translating instruction\n",
      "\t> translating response\n"
     ]
    },
    {
     "name": "stderr",
     "output_type": "stream",
     "text": [
      "91it [9:59:29, 344.25s/it]"
     ]
    },
    {
     "name": "stdout",
     "output_type": "stream",
     "text": [
      "\n",
      "\n",
      "batch 0091_9100_9200\n",
      "\t> translating instruction\n",
      "\t> translating response\n"
     ]
    },
    {
     "name": "stderr",
     "output_type": "stream",
     "text": [
      "92it [10:06:36, 369.30s/it]"
     ]
    },
    {
     "name": "stdout",
     "output_type": "stream",
     "text": [
      "\n",
      "\n",
      "batch 0092_9200_9300\n",
      "\t> translating instruction\n",
      "\t> translating response\n"
     ]
    },
    {
     "name": "stderr",
     "output_type": "stream",
     "text": [
      "93it [10:16:10, 430.52s/it]"
     ]
    },
    {
     "name": "stdout",
     "output_type": "stream",
     "text": [
      "\n",
      "\n",
      "batch 0093_9300_9400\n",
      "\t> translating instruction\n",
      "\t> translating response\n"
     ]
    },
    {
     "name": "stderr",
     "output_type": "stream",
     "text": [
      "94it [10:22:28, 414.89s/it]"
     ]
    },
    {
     "name": "stdout",
     "output_type": "stream",
     "text": [
      "\n",
      "\n",
      "batch 0094_9400_9500\n",
      "\t> translating instruction\n",
      "\t> translating response\n"
     ]
    },
    {
     "name": "stderr",
     "output_type": "stream",
     "text": [
      "95it [10:27:04, 373.28s/it]"
     ]
    },
    {
     "name": "stdout",
     "output_type": "stream",
     "text": [
      "\n",
      "\n",
      "batch 0095_9500_9600\n",
      "\t> translating instruction\n",
      "\t> translating response\n"
     ]
    },
    {
     "name": "stderr",
     "output_type": "stream",
     "text": [
      "96it [10:38:19, 463.56s/it]"
     ]
    },
    {
     "name": "stdout",
     "output_type": "stream",
     "text": [
      "\n",
      "\n",
      "batch 0096_9600_9700\n",
      "\t> translating instruction\n",
      "\t> translating response\n"
     ]
    },
    {
     "name": "stderr",
     "output_type": "stream",
     "text": [
      "97it [10:42:44, 403.97s/it]"
     ]
    },
    {
     "name": "stdout",
     "output_type": "stream",
     "text": [
      "\n",
      "\n",
      "batch 0097_9700_9800\n",
      "\t> translating instruction\n",
      "\t> translating response\n"
     ]
    },
    {
     "name": "stderr",
     "output_type": "stream",
     "text": [
      "98it [10:47:55, 376.16s/it]"
     ]
    },
    {
     "name": "stdout",
     "output_type": "stream",
     "text": [
      "\n",
      "\n",
      "batch 0098_9800_9900\n",
      "\t> translating instruction\n",
      "\t> translating response\n"
     ]
    },
    {
     "name": "stderr",
     "output_type": "stream",
     "text": [
      "99it [10:53:38, 366.33s/it]"
     ]
    },
    {
     "name": "stdout",
     "output_type": "stream",
     "text": [
      "\n",
      "\n",
      "batch 0099_9900_10000\n",
      "\t> translating instruction\n",
      "\t> translating response\n"
     ]
    },
    {
     "name": "stderr",
     "output_type": "stream",
     "text": [
      "100it [11:04:43, 455.73s/it]"
     ]
    },
    {
     "name": "stdout",
     "output_type": "stream",
     "text": [
      "\n",
      "\n",
      "batch 0100_10000_10100\n",
      "\t> translating instruction\n",
      "\t> translating response\n"
     ]
    },
    {
     "name": "stderr",
     "output_type": "stream",
     "text": [
      "101it [11:12:26, 457.98s/it]"
     ]
    },
    {
     "name": "stdout",
     "output_type": "stream",
     "text": [
      "\n",
      "\n",
      "batch 0101_10100_10200\n",
      "\t> translating instruction\n",
      "\t> translating response\n"
     ]
    },
    {
     "name": "stderr",
     "output_type": "stream",
     "text": [
      "102it [11:17:31, 412.10s/it]"
     ]
    },
    {
     "name": "stdout",
     "output_type": "stream",
     "text": [
      "\n",
      "\n",
      "batch 0102_10200_10300\n",
      "\t> translating instruction\n",
      "\t> translating response\n"
     ]
    },
    {
     "name": "stderr",
     "output_type": "stream",
     "text": [
      "103it [11:22:12, 372.85s/it]"
     ]
    },
    {
     "name": "stdout",
     "output_type": "stream",
     "text": [
      "\n",
      "\n",
      "batch 0103_10300_10400\n",
      "\t> translating instruction\n",
      "\t> translating response\n"
     ]
    },
    {
     "name": "stderr",
     "output_type": "stream",
     "text": [
      "104it [11:31:19, 425.02s/it]"
     ]
    },
    {
     "name": "stdout",
     "output_type": "stream",
     "text": [
      "\n",
      "\n",
      "batch 0104_10400_10500\n",
      "\t> translating instruction\n",
      "\t> translating response\n"
     ]
    },
    {
     "name": "stderr",
     "output_type": "stream",
     "text": [
      "105it [11:39:11, 439.10s/it]"
     ]
    },
    {
     "name": "stdout",
     "output_type": "stream",
     "text": [
      "\n",
      "\n",
      "batch 0105_10500_10543\n",
      "\t> translating instruction\n",
      "\t> translating response\n"
     ]
    },
    {
     "name": "stderr",
     "output_type": "stream",
     "text": [
      "106it [11:43:15, 398.07s/it]"
     ]
    },
    {
     "name": "stdout",
     "output_type": "stream",
     "text": [
      "CPU times: user 11h 54min 45s, sys: 17.1 s, total: 11h 55min 2s\n",
      "Wall time: 11h 43min 15s\n"
     ]
    },
    {
     "name": "stderr",
     "output_type": "stream",
     "text": [
      "\n"
     ]
    }
   ],
   "source": [
    "%%time\n",
    "\n",
    "batch_size = 100\n",
    "filepath = \"data/processed/databricks/translated.parquet\"\n",
    "\n",
    "total_indices = len(df)\n",
    "batches_bounds = [(i, min(i + batch_size, total_indices)) for i in range(0, total_indices, batch_size)]\n",
    "\n",
    "for batch_id, (start, end) in tqdm(enumerate(batches_bounds)):\n",
    "    batch_label = f\"{str(batch_id).zfill(4)}_{str(start).zfill(4)}_{str(end).zfill(4)}\"\n",
    "    print(f\"\\n\\nbatch {batch_label}\")\n",
    "    batch = df.iloc[start:end]\n",
    "    instruction_en = batch[\"instruction\"].to_list()\n",
    "    response_en = batch[\"response\"].to_list()\n",
    "\n",
    "    print(f\"\\t> translating instruction\")\n",
    "    instruction_pt = translator_4bits.to_portuguese(instruction_en)\n",
    "    print(f\"\\t> translating response\")\n",
    "    response_pt = translator_4bits.to_portuguese(response_en)\n",
    "    \n",
    "    output_dataframe = pd.DataFrame(\n",
    "        {\n",
    "            \"instruction_original\": instruction_en,\n",
    "            \"response_original\": response_en,\n",
    "            \"instruction_translated\": instruction_pt,\n",
    "            \"response_translated\": response_pt,\n",
    "        }\n",
    "    )\n",
    "    \n",
    "    output_dataframe[\"batch_id\"] = batch_label\n",
    "    \n",
    "    output_dataframe.to_parquet(filepath, partition_cols=[\"batch_id\"])"
   ]
  },
  {
   "cell_type": "code",
   "execution_count": 9,
   "id": "485c7d17-4d2f-4b73-a544-cc691319dc90",
   "metadata": {},
   "outputs": [],
   "source": [
    "df = pd.read_parquet(\"data/processed/databricks/translated.parquet\")"
   ]
  },
  {
   "cell_type": "code",
   "execution_count": 29,
   "id": "5112ac3d-dcb3-4542-adf6-1cb4af88720f",
   "metadata": {},
   "outputs": [
    {
     "name": "stdout",
     "output_type": "stream",
     "text": [
      "instruction_translated = Descreva estes itens como caros ou baratos de comprar: um relógio Rolex, uma caixa de cartas de jogo, um carro, um computador portátil, um litro de leite, um anel de noivado, uma casa\n",
      "response_translated = Um relógio Rolex: caro, uma caixa de cartas de jogo: barato, um carro: caro, um computador portátil: caro, um litro de leite: barato, um anel de noivado: caro, uma casa: caro\n"
     ]
    }
   ],
   "source": [
    "temp = df.sample().iloc[0].to_dict()\n",
    "\n",
    "print(f\"instruction_translated = {temp['instruction_translated']}\")\n",
    "print(f\"response_translated = {temp['response_translated']}\")"
   ]
  },
  {
   "cell_type": "code",
   "execution_count": 22,
   "id": "a9e9d624-2cc1-449a-a625-4750ed4a4459",
   "metadata": {},
   "outputs": [],
   "source": [
    "df.to_parquet(\"data/processed/databricks/final_version.parquet\")"
   ]
  },
  {
   "cell_type": "code",
   "execution_count": null,
   "id": "f8875705-15f4-43fd-8d43-41251b7aa21b",
   "metadata": {},
   "outputs": [],
   "source": []
  },
  {
   "cell_type": "code",
   "execution_count": 13,
   "id": "fdac38c6-4d87-495f-a115-9cc6000e0145",
   "metadata": {},
   "outputs": [
    {
     "name": "stdout",
     "output_type": "stream",
     "text": [
      "CPU times: user 1min 8s, sys: 8.28 ms, total: 1min 8s\n",
      "Wall time: 1min 8s\n"
     ]
    },
    {
     "data": {
      "text/plain": [
       "['Onde vivem os Kardashians?',\n",
       " 'O que é um CPT em relação à saúde?',\n",
       " 'Qual é a recomendação atual para uma dieta saudável?',\n",
       " \"Classifique-os como opções de alimentos saudáveis ou não saudáveis ou não um alimento: batatas fritas, KFC, maçã, salada de frutas, bife, cerveja, vinho, uísque, batatas fritas, couve-flor, chave, cascalho, McDonald's, kebab turco, pêra, tijolos, aloe vera, areia.\",\n",
       " 'Quais são as vantagens e desvantagens de aprender Java em comparação com Python?',\n",
       " 'Onde está a sede do GAFI ?',\n",
       " 'Classifique os estados abaixo com base em qual costa eles estão localizados.',\n",
       " 'O que motiva um director executivo?',\n",
       " 'Que produto vendem as Girl Scouts?',\n",
       " 'Que invenções do século 20 tiveram o maior impacto positivo na vida útil humana?',\n",
       " 'escrever um poema sobre gratidão para minhas irmãs amigos que lideram Obon dançando comigo a cada ano',\n",
       " 'Qual é a melhor maneira de cozinhar um bife?',\n",
       " 'Quais dos seguintes são os filmes com a atriz Deepika Padukone?',\n",
       " 'Identifique qual instrumento é de corda ou de percussão: Bianzhong, Sorahi',\n",
       " 'Quem ganhou o Torneio de Basquetebol masculino da Loucura de Março de 2022?',\n",
       " 'Você já cantou quando está sozinho?',\n",
       " 'O que é o sake e como é feito?',\n",
       " 'Categorizar estes modelos de automóveis como \"totalmente elétricos\", \"híbridos\", \"plug-in\", \"gasolina\": Toyota Camry 2017 SE, Tesla Model 3, Toyota Prius, 2022 Ford Escape Plug-In Hybrid, Rivian',\n",
       " 'Quem são os cofundadores do Google?',\n",
       " 'O que posso fazer com um agrafador quebrado?',\n",
       " 'Identifique quais espécies de animais estão vivas ou extintas: Elefante Asiático, Lobo-do-Lobo',\n",
       " 'Classificar cada um dos seguintes números como um único dígito ou um número de dois dígitos: 8, 4, 1, 12, 87, 65, 3, 5, 45, 97, 6, 2, 34, 71, 9, 48, 0, 7, 31, 50.',\n",
       " 'Quem é o atual treinador do Arsenal Football Club?',\n",
       " 'Qual é a diferença entre amor e afeição?',\n",
       " 'Classifique cada um como anfíbio, pássaro ou peixe: salmão, truta, salamandra, cardeal, coruja, falcão, rã',\n",
       " 'Como motivar e focar uma equipa para superar as expectativas durante uma terrível recessão económica?',\n",
       " 'Como você descreveria as diferenças entre a música indiana e a ocidental, especialmente no que diz respeito ao sentido do tom?',\n",
       " 'Estou pensando em ir para o yoga. Que tipo de aula é boa para mim?',\n",
       " 'Qual é o instrumento mais tocado e mais popular do mundo?',\n",
       " 'Quais são os lugares mais bonitos para viver em San Diego?',\n",
       " 'Por que a maior parte da terra do mundo está ao norte do equador?',\n",
       " 'Que país africano foi fundado pelos americanos',\n",
       " 'Como é que você faz malabarismo?',\n",
       " 'O que é o estilo contemporâneo de dança?',\n",
       " 'Como começar com ciência de dados e aprendizagem de máquina?',\n",
       " 'O que é uma língua romântica?',\n",
       " 'Em que língua sonham os multilíngues?',\n",
       " 'Qual foi a principal razão do motim que ocorreu em 1857, na Índia Britânica?',\n",
       " 'Por que o pequeno-almoço é tão importante para o dia',\n",
       " 'Eu tenho uma pergunta sobre o git. Primeiro eu tenho um ramo mestre, baseado no qual eu criei um ramo de trabalho chamado recurso; normalmente enviamos um pedido de puxa para mesclar as alterações no ramo de recurso para o ramo mestre. Mas então a equipe renomeou o ramo mestre para o principal, como devo lidar com o meu ramo de recurso, para sincronizar com o novo ramo principal e depois puxar o pedido para mesclar as alterações no recurso para o ramo principal em vez de o ramo mestre.',\n",
       " 'Qual é o carro de produção mais rápido do mundo?',\n",
       " 'Quais são os principais elementos da dança Odissi?',\n",
       " 'Dê-me 5 factos sobre Cingapura.',\n",
       " 'Qual é a duração da obrigação?',\n",
       " 'Eu sempre estou confuso ao separar o lixo. Você poderia me ajudar a identificar o que deve ir para onde? Eu tenho que jogar esses itens: lata de refrigerante, guardanapo de papel e xícara de café.',\n",
       " 'A reencarnação existe?',\n",
       " 'Qual foi a duração da expedição de Lewis e Clark?',\n",
       " 'Escreva um e-mail para o escritório pedindo aos funcionários que limpem suas canecas de café em vez de deixá-las na pia.',\n",
       " 'Diga-me se estes são sinônimos ou antônimos de amor: desgosto, cuidado, como, ódio, afeição, dura',\n",
       " 'Entre eles estão da Índia: Virat Kohli, Roger Federer, Rafael Nadal, Novak Djokovic, Serena Williams, Andre Agassi, Sachin Tendulkar, Ricky Ponting, Anil Kumble, Harmanpreet Kaur, Mithali Raj, Sarah Taylor.',\n",
       " 'Classificar as seguintes informações como \"PII\" ou \"não PII\": número de segurança social, endereço domiciliar, idade, número de empregados, população da cidade, sexo, telefone de trabalho',\n",
       " 'Quais são os benefícios do uso de culturas geneticamente modificadas na agricultura?',\n",
       " 'Escolha a palavra que é diferente do resto: Cisne, Galinha, Crocodilo, Rano, Serpente.',\n",
       " 'Qual é a diferença entre uma função de capital de risco corporativo e uma empresa de capital de risco institucional?',\n",
       " 'Você se depara com um urso que é de cor marrom, tem ombros planos e tem orelhas grandes. Que tipo de urso é?',\n",
       " 'O que é a caramelização?',\n",
       " 'Identifique qual instrumento é de corda ou de percussão: Kulintang, Tamburitza',\n",
       " 'Quem é Michael Jackson e por que é famoso?',\n",
       " 'O que significa \"nômades digitais\"?',\n",
       " 'Qual é a sua cor favorita?',\n",
       " 'Quais são os algoritmos de classificação mais comuns?',\n",
       " 'Como calcular a taxa de crescimento?',\n",
       " 'Quem é o Mauricio Macri?',\n",
       " 'Quem é o primeiro rei da história da China?',\n",
       " 'Gostaria de aprender sobre dados e IA. O que você recomendaria?',\n",
       " 'O que é ABAP?',\n",
       " 'Qual seria a primeira opção de encontro em Boston?',\n",
       " 'Qual é o livro mais vendido de todos os tempos?',\n",
       " 'Que línguas são geralmente faladas em Macau?',\n",
       " 'Quais são as formas de melhorar a velocidade de corrida?',\n",
       " 'O que é um planeta plano e é possível que o mundo seja plano?',\n",
       " 'Que são todos os filmes da Marvel com Thanos?',\n",
       " 'Que país se uniu recentemente à OTAN?',\n",
       " 'Qual é a língua nacional da Índia?',\n",
       " 'Classifique cada um dos seguintes como \"pesado\" ou \"leve\": elefante, pena, hipopótamo, papel, baleia',\n",
       " 'O que é um token não fungível?',\n",
       " 'Porque é que gostamos tanto de filmes?',\n",
       " 'Por que os iPhones são mais populares do que os telefones Android dentro dos Estados Unidos, enquanto o oposto é verdade fora dos Estados Unidos?',\n",
       " 'O que é o Teorema de Pitágoras?',\n",
       " 'Quais são as principais funções da FDIC?',\n",
       " 'Cite algumas palavras japonesas que descrevem várias formas de arte japonesa.',\n",
       " 'Identifique o pássaro da lista: mamba negra, alce negra, magia negra.',\n",
       " 'O que fazem os economistas?',\n",
       " 'Diga-me se cada um destes pratos é servido frio ou quente: pizza, massa, tiramisu, sorvete, costela, bife, ceviche',\n",
       " 'O que é o Arsenal FC?',\n",
       " 'Que aulas de matemática são oferecidas nas escolas secundárias nos Estados Unidos?',\n",
       " 'Qual é a maior quantidade de dinheiro em moedas sem poder trocar por um dólar?',\n",
       " 'Dê-me uma lista de recomendações para curar rapidamente de uma cirurgia de ruptura de Aquiles.',\n",
       " 'Qual é a espécie de peixe?',\n",
       " 'Quem é o atual treinador do Manchester United?',\n",
       " 'Escreva um e-mail para o chefe de coaching acadêmico no Serviço de Estudantes com Deficiências, compartilhando que eu me candidatei ao cargo de coaching.',\n",
       " 'Qual é o estado primário da matéria?',\n",
       " 'Que presidente dos EUA era menos um falcão do que as pessoas pensavam?',\n",
       " 'Existe realmente um universo paralelo?',\n",
       " 'Diz-me se estes pokémons são elétricos ou de tipo de grama: Pikachu, Bulbasaur, Zapdos, Voltorb, Oddish, Bellsprout',\n",
       " 'O que é tão frágil que dizer o seu nome o quebra?',\n",
       " 'Como fazer uma tradicional xícara de chá inglês?',\n",
       " 'Que acabamentos são bons para uma mesa feita de madeira dura?',\n",
       " 'Quem é a Linda Hargreaves?',\n",
       " 'Escreva as cores do arco-íris']"
      ]
     },
     "execution_count": 13,
     "metadata": {},
     "output_type": "execute_result"
    }
   ],
   "source": [
    "%%time\n",
    "_list = df.sample(100)[\"instruction\"].to_list()\n",
    "translator_4bits.to_portuguese(_list)"
   ]
  },
  {
   "cell_type": "code",
   "execution_count": 7,
   "id": "86c0108f-7d83-4fbe-a71f-f7487e123a2a",
   "metadata": {},
   "outputs": [
    {
     "data": {
      "text/plain": [
       "['Quem é o Paul McIver ?',\n",
       " 'Por que é que os waffles de proteína estão tão secos?']"
      ]
     },
     "execution_count": 7,
     "metadata": {},
     "output_type": "execute_result"
    }
   ],
   "source": []
  },
  {
   "cell_type": "code",
   "execution_count": 44,
   "id": "9b76bf1b-cf8f-48e2-a506-4ea0e94594e8",
   "metadata": {},
   "outputs": [
    {
     "data": {
      "text/plain": [
       "[{'translation_text': 'Quem é o Paul McIver ?'},\n",
       " {'translation_text': 'Por que é que os waffles de proteína estão tão secos?'}]"
      ]
     },
     "execution_count": 44,
     "metadata": {},
     "output_type": "execute_result"
    }
   ],
   "source": [
    "translator_4bits._translate_to_pt([\"Who is Paul McIver\", \"Why are protein waffles so dry?\"])"
   ]
  },
  {
   "cell_type": "code",
   "execution_count": null,
   "id": "7561dc37-5ccf-483b-9910-3a380de7c34e",
   "metadata": {},
   "outputs": [],
   "source": []
  }
 ],
 "metadata": {
  "kernelspec": {
   "display_name": "Python 3 (ipykernel)",
   "language": "python",
   "name": "python3"
  },
  "language_info": {
   "codemirror_mode": {
    "name": "ipython",
    "version": 3
   },
   "file_extension": ".py",
   "mimetype": "text/x-python",
   "name": "python",
   "nbconvert_exporter": "python",
   "pygments_lexer": "ipython3",
   "version": "3.10.14"
  }
 },
 "nbformat": 4,
 "nbformat_minor": 5
}
