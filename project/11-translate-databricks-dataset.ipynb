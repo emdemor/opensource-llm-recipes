{
 "cells": [
  {
   "cell_type": "code",
   "execution_count": 1,
   "id": "b2ba0dd0-36fc-4c2c-89a3-dca067ca04a3",
   "metadata": {},
   "outputs": [
    {
     "name": "stdout",
     "output_type": "stream",
     "text": [
      "Device name: 'NVIDIA GeForce RTX 2060 SUPER'\n",
      "Device properties: '_CudaDeviceProperties(name='NVIDIA GeForce RTX 2060 SUPER', major=7, minor=5, total_memory=7957MB, multi_processor_count=34)'\n",
      "Suporta bfloat16.\n"
     ]
    },
    {
     "name": "stderr",
     "output_type": "stream",
     "text": [
      "/opt/conda/lib/python3.10/site-packages/transformers/utils/hub.py:124: FutureWarning: Using `TRANSFORMERS_CACHE` is deprecated and will be removed in v5 of Transformers. Use `HF_HOME` instead.\n",
      "  warnings.warn(\n"
     ]
    }
   ],
   "source": [
    "from huggingface_hub import hf_hub_download\n",
    "import pandas as pd\n",
    "import os\n",
    "from huggingface_hub import login\n",
    "from langchain_core.prompts import PromptTemplate\n",
    "from langchain_openai import ChatOpenAI\n",
    "import numpy as np\n",
    "from tqdm import tqdm\n",
    "from langchain.callbacks import get_openai_callback\n",
    "\n",
    "import torch\n",
    "assert torch.cuda.is_available()\n",
    "from datasets import load_dataset\n",
    "from transformers import BitsAndBytesConfig\n",
    "\n",
    "\n",
    "print(f\"Device name: '{torch.cuda.get_device_name()}'\")\n",
    "print(f\"Device properties: '{torch.cuda.get_device_properties(torch.cuda.current_device())}'\")\n",
    "print(\"Suporta bfloat16.\" if torch.cuda.is_bf16_supported() else \"Não suporta bfloat16.\")"
   ]
  },
  {
   "cell_type": "code",
   "execution_count": 2,
   "id": "47f04641-67f3-44a7-830b-cff64b5ecd09",
   "metadata": {},
   "outputs": [],
   "source": [
    "class Translator:\n",
    "    languages = {\n",
    "        \"en\": \"eng_Latn\",\n",
    "        \"pt\": \"por_Latn\",\n",
    "    }\n",
    "\n",
    "    def __init__(self, tokenizer, model, max_length=4000):\n",
    "        self.tokenizer = tokenizer\n",
    "        self.model = model\n",
    "        self.max_length = max_length\n",
    "        self._translate_to_en = pipeline(\n",
    "            \"translation\",\n",
    "            model=self.model,\n",
    "            tokenizer=self.tokenizer,\n",
    "            src_lang=self.languages[\"pt\"],\n",
    "            tgt_lang=self.languages[\"en\"],\n",
    "            max_length=self.max_length\n",
    "        )\n",
    "        self._translate_to_pt = pipeline(\n",
    "            \"translation\",\n",
    "            model=self.model,\n",
    "            tokenizer=self.tokenizer,\n",
    "            src_lang=self.languages[\"en\"],\n",
    "            tgt_lang=self.languages[\"pt\"],\n",
    "            max_length=self.max_length\n",
    "        )\n",
    "\n",
    "    def to_english(self, text):\n",
    "        return self._translate(text, input_lang=\"pt\", output_lang=\"en\")\n",
    "\n",
    "    def to_portuguese(self, text):\n",
    "        return self._translate(text, input_lang=\"en\", output_lang=\"pt\")\n",
    "\n",
    "    def _translate(self, text, input_lang, output_lang):\n",
    "        if (input_lang==\"en\") and (output_lang==\"pt\"):\n",
    "            translator = self._translate_to_pt\n",
    "        elif (input_lang==\"pt\") and (output_lang==\"en\"):\n",
    "            translator = self._translate_to_en\n",
    "        else:\n",
    "            print(f\"Input and/or output languages not recognized.\")\n",
    "            \n",
    "        output = translator(text)\n",
    "\n",
    "        output_translated = [x.get('translation_text') for x in output]\n",
    "\n",
    "        if len(output_translated) == 1:\n",
    "            return output_translated[0]\n",
    "        return output_translated\n"
   ]
  },
  {
   "cell_type": "code",
   "execution_count": 3,
   "id": "a18af04f-93b9-4b0a-8b76-114bc83602cf",
   "metadata": {},
   "outputs": [],
   "source": [
    "from transformers import AutoTokenizer, AutoModelForSeq2SeqLM, pipeline\n",
    "\n",
    "checkpoint = \"facebook/nllb-200-distilled-1.3B\" # \"facebook/nllb-200-distilled-600M\"\n",
    "\n",
    "quant_config = BitsAndBytesConfig(\n",
    "   load_in_4bit=True,\n",
    "    bnb_4bit_compute_dtype=torch.float16,\n",
    ")\n",
    "\n",
    "model = AutoModelForSeq2SeqLM.from_pretrained(checkpoint, device_map=\"auto\", quantization_config=quant_config)\n",
    "tokenizer = AutoTokenizer.from_pretrained(checkpoint, device_map=\"auto\", quantization_config=quant_config)\n",
    "\n",
    "translator_4bits = Translator(model=model, tokenizer=tokenizer, max_length=4000)"
   ]
  },
  {
   "cell_type": "code",
   "execution_count": 4,
   "id": "790f5465-aa6d-413a-bf13-b9c2721c90d4",
   "metadata": {},
   "outputs": [
    {
     "data": {
      "text/plain": [
       "'exemplo de texto'"
      ]
     },
     "execution_count": 4,
     "metadata": {},
     "output_type": "execute_result"
    }
   ],
   "source": [
    "translator_4bits.to_portuguese(\"example of text\")"
   ]
  },
  {
   "cell_type": "code",
   "execution_count": 5,
   "id": "9ed72563-0ad7-48da-9a11-097114ccee5c",
   "metadata": {},
   "outputs": [
    {
     "data": {
      "text/plain": [
       "'example text'"
      ]
     },
     "execution_count": 5,
     "metadata": {},
     "output_type": "execute_result"
    }
   ],
   "source": [
    "translator_4bits.to_english(\"exemplo de texto\")"
   ]
  },
  {
   "cell_type": "code",
   "execution_count": 6,
   "id": "48a60e10-2c6a-4767-9010-df8134a301dd",
   "metadata": {},
   "outputs": [
    {
     "name": "stdout",
     "output_type": "stream",
     "text": [
      "CPU times: user 338 ms, sys: 11.3 ms, total: 349 ms\n",
      "Wall time: 5.33 s\n"
     ]
    },
    {
     "data": {
      "text/html": [
       "<div>\n",
       "<style scoped>\n",
       "    .dataframe tbody tr th:only-of-type {\n",
       "        vertical-align: middle;\n",
       "    }\n",
       "\n",
       "    .dataframe tbody tr th {\n",
       "        vertical-align: top;\n",
       "    }\n",
       "\n",
       "    .dataframe thead th {\n",
       "        text-align: right;\n",
       "    }\n",
       "</style>\n",
       "<table border=\"1\" class=\"dataframe\">\n",
       "  <thead>\n",
       "    <tr style=\"text-align: right;\">\n",
       "      <th></th>\n",
       "      <th>instruction</th>\n",
       "      <th>response</th>\n",
       "    </tr>\n",
       "  </thead>\n",
       "  <tbody>\n",
       "    <tr>\n",
       "      <th>7365</th>\n",
       "      <td>Who is the most decorated olympian of all time?</td>\n",
       "      <td>Michael Phelps is the most decorated olympian ...</td>\n",
       "    </tr>\n",
       "    <tr>\n",
       "      <th>5099</th>\n",
       "      <td>Categorize the following ingredients as meat, ...</td>\n",
       "      <td>mayonnaise - spread\\nham - meat\\nswiss - chees...</td>\n",
       "    </tr>\n",
       "    <tr>\n",
       "      <th>2986</th>\n",
       "      <td>What is the best University in Canada for comp...</td>\n",
       "      <td>To decide which university is the best univers...</td>\n",
       "    </tr>\n",
       "    <tr>\n",
       "      <th>2765</th>\n",
       "      <td>Let's play a game of tic tac toe. I'll be X an...</td>\n",
       "      <td>Fun! Here's my next move:\\n\\n_ _ _\\n_ O X\\n_ _ _</td>\n",
       "    </tr>\n",
       "    <tr>\n",
       "      <th>733</th>\n",
       "      <td>What is an AVA when it comes to wine?</td>\n",
       "      <td>AVA stands for American Viticultural Area, whi...</td>\n",
       "    </tr>\n",
       "  </tbody>\n",
       "</table>\n",
       "</div>"
      ],
      "text/plain": [
       "                                            instruction  \\\n",
       "7365    Who is the most decorated olympian of all time?   \n",
       "5099  Categorize the following ingredients as meat, ...   \n",
       "2986  What is the best University in Canada for comp...   \n",
       "2765  Let's play a game of tic tac toe. I'll be X an...   \n",
       "733               What is an AVA when it comes to wine?   \n",
       "\n",
       "                                               response  \n",
       "7365  Michael Phelps is the most decorated olympian ...  \n",
       "5099  mayonnaise - spread\\nham - meat\\nswiss - chees...  \n",
       "2986  To decide which university is the best univers...  \n",
       "2765   Fun! Here's my next move:\\n\\n_ _ _\\n_ O X\\n_ _ _  \n",
       "733   AVA stands for American Viticultural Area, whi...  "
      ]
     },
     "execution_count": 6,
     "metadata": {},
     "output_type": "execute_result"
    }
   ],
   "source": [
    "%%time\n",
    "\n",
    "tokenizer = translator_4bits._translate_to_pt.tokenizer\n",
    "\n",
    "def get_n_tokens(text):\n",
    "    return len(tokenizer.encode(text))\n",
    "\n",
    "REPO_ID = \"databricks/databricks-dolly-15k\"\n",
    "\n",
    "dataset = load_dataset(REPO_ID, split=\"train\")\n",
    "dataset = dataset.filter(lambda row: len(str(row[\"context\"])) == 0)\n",
    "dataset = dataset.select_columns(['instruction', 'response'])\n",
    "dataset = dataset.filter(lambda x: get_n_tokens(x[\"instruction\"]) < 900 )\n",
    "dataset = dataset.shuffle(seed=42)\n",
    "\n",
    "df = dataset.to_pandas()\n",
    "df.sample(5)"
   ]
  },
  {
   "cell_type": "code",
   "execution_count": null,
   "id": "70f235fc-ee32-4196-93f8-3bdd231aebb8",
   "metadata": {},
   "outputs": [
    {
     "name": "stderr",
     "output_type": "stream",
     "text": [
      "0it [00:00, ?it/s]"
     ]
    },
    {
     "name": "stdout",
     "output_type": "stream",
     "text": [
      "\n",
      "\n",
      "batch 0000_0000_0100\n",
      "\t> translating instruction\n",
      "\t> translating response\n"
     ]
    },
    {
     "name": "stderr",
     "output_type": "stream",
     "text": [
      "This is a friendly reminder - the current text generation call will exceed the model's predefined maximum length (1024). Depending on the model, you may observe exceptions, performance degradation, or nothing at all.\n",
      "1it [09:47, 587.49s/it]"
     ]
    },
    {
     "name": "stdout",
     "output_type": "stream",
     "text": [
      "\n",
      "\n",
      "batch 0001_0100_0200\n",
      "\t> translating instruction\n",
      "\t> translating response\n"
     ]
    },
    {
     "name": "stderr",
     "output_type": "stream",
     "text": [
      "2it [18:42, 556.41s/it]"
     ]
    },
    {
     "name": "stdout",
     "output_type": "stream",
     "text": [
      "\n",
      "\n",
      "batch 0002_0200_0300\n",
      "\t> translating instruction\n",
      "\t> translating response\n"
     ]
    },
    {
     "name": "stderr",
     "output_type": "stream",
     "text": [
      "3it [25:50, 497.83s/it]"
     ]
    },
    {
     "name": "stdout",
     "output_type": "stream",
     "text": [
      "\n",
      "\n",
      "batch 0003_0300_0400\n",
      "\t> translating instruction\n",
      "\t> translating response\n"
     ]
    },
    {
     "name": "stderr",
     "output_type": "stream",
     "text": [
      "Token indices sequence length is longer than the specified maximum sequence length for this model (1937 > 1024). Running this sequence through the model will result in indexing errors\n",
      "4it [33:47, 489.78s/it]"
     ]
    },
    {
     "name": "stdout",
     "output_type": "stream",
     "text": [
      "\n",
      "\n",
      "batch 0004_0400_0500\n",
      "\t> translating instruction\n"
     ]
    },
    {
     "name": "stderr",
     "output_type": "stream",
     "text": [
      "You seem to be using the pipelines sequentially on GPU. In order to maximize efficiency please use a dataset\n"
     ]
    },
    {
     "name": "stdout",
     "output_type": "stream",
     "text": [
      "\t> translating response\n"
     ]
    },
    {
     "name": "stderr",
     "output_type": "stream",
     "text": [
      "5it [38:40, 418.71s/it]"
     ]
    },
    {
     "name": "stdout",
     "output_type": "stream",
     "text": [
      "\n",
      "\n",
      "batch 0005_0500_0600\n",
      "\t> translating instruction\n",
      "\t> translating response\n"
     ]
    },
    {
     "name": "stderr",
     "output_type": "stream",
     "text": [
      "6it [45:59, 425.53s/it]"
     ]
    },
    {
     "name": "stdout",
     "output_type": "stream",
     "text": [
      "\n",
      "\n",
      "batch 0006_0600_0700\n",
      "\t> translating instruction\n"
     ]
    }
   ],
   "source": [
    "%%time\n",
    "\n",
    "batch_size = 100\n",
    "filepath = \"data/processed/databricks/translated.parquet\"\n",
    "\n",
    "total_indices = len(df)\n",
    "batches_bounds = [(i, min(i + batch_size, total_indices)) for i in range(0, total_indices, batch_size)]\n",
    "\n",
    "for batch_id, (start, end) in tqdm(enumerate(batches_bounds)):\n",
    "    batch_label = f\"{str(batch_id).zfill(4)}_{str(start).zfill(4)}_{str(end).zfill(4)}\"\n",
    "    print(f\"\\n\\nbatch {batch_label}\")\n",
    "    batch = df.iloc[start:end]\n",
    "    instruction_en = batch[\"instruction\"].to_list()\n",
    "    response_en = batch[\"response\"].to_list()\n",
    "\n",
    "    print(f\"\\t> translating instruction\")\n",
    "    instruction_pt = translator_4bits.to_portuguese(instruction_en)\n",
    "    print(f\"\\t> translating response\")\n",
    "    response_pt = translator_4bits.to_portuguese(response_en)\n",
    "    \n",
    "    output_dataframe = pd.DataFrame(\n",
    "        {\n",
    "            \"instruction_original\": instruction_en,\n",
    "            \"response_original\": response_en,\n",
    "            \"instruction_translated\": instruction_pt,\n",
    "            \"response_translated\": response_pt,\n",
    "        }\n",
    "    )\n",
    "    \n",
    "    output_dataframe[\"batch_id\"] = batch_label\n",
    "    \n",
    "    output_dataframe.to_parquet(filepath, partition_cols=[\"batch_id\"])"
   ]
  },
  {
   "cell_type": "code",
   "execution_count": 35,
   "id": "485c7d17-4d2f-4b73-a544-cc691319dc90",
   "metadata": {},
   "outputs": [],
   "source": []
  },
  {
   "cell_type": "code",
   "execution_count": 34,
   "id": "5112ac3d-dcb3-4542-adf6-1cb4af88720f",
   "metadata": {},
   "outputs": [
    {
     "data": {
      "text/html": [
       "<div>\n",
       "<style scoped>\n",
       "    .dataframe tbody tr th:only-of-type {\n",
       "        vertical-align: middle;\n",
       "    }\n",
       "\n",
       "    .dataframe tbody tr th {\n",
       "        vertical-align: top;\n",
       "    }\n",
       "\n",
       "    .dataframe thead th {\n",
       "        text-align: right;\n",
       "    }\n",
       "</style>\n",
       "<table border=\"1\" class=\"dataframe\">\n",
       "  <thead>\n",
       "    <tr style=\"text-align: right;\">\n",
       "      <th></th>\n",
       "      <th>instruction_original</th>\n",
       "      <th>response_original</th>\n",
       "      <th>instruction_translated</th>\n",
       "      <th>response_translated</th>\n",
       "      <th>batch_id</th>\n",
       "    </tr>\n",
       "  </thead>\n",
       "  <tbody>\n",
       "    <tr>\n",
       "      <th>0</th>\n",
       "      <td>What do you know about the Fatimid Empire?</td>\n",
       "      <td>The Fatimid Dynasty was a Shia Ismaili Empire ...</td>\n",
       "      <td>O que sabe sobre o Império Fatimida?</td>\n",
       "      <td>A dinastia Fatimid era um império ismaelitas x...</td>\n",
       "      <td>0001_0000_0005</td>\n",
       "    </tr>\n",
       "    <tr>\n",
       "      <th>1</th>\n",
       "      <td>Identify which instrument is string or percuss...</td>\n",
       "      <td>Tati is string, Thappu is percussion.</td>\n",
       "      <td>Identifique qual instrumento é de corda ou de ...</td>\n",
       "      <td>Tati é corda, Thappu é percussão.</td>\n",
       "      <td>0001_0000_0005</td>\n",
       "    </tr>\n",
       "    <tr>\n",
       "      <th>2</th>\n",
       "      <td>Identify which car manufacturer is German or A...</td>\n",
       "      <td>Audi is German, Buick is American</td>\n",
       "      <td>Identificar qual fabricante de automóveis é al...</td>\n",
       "      <td>A Audi é alemã, o Buick é americano.</td>\n",
       "      <td>0001_0000_0005</td>\n",
       "    </tr>\n",
       "    <tr>\n",
       "      <th>3</th>\n",
       "      <td>What is a mirepoix?</td>\n",
       "      <td>A mirepoix is rooted in French cooking but use...</td>\n",
       "      <td>O que é um mirepoix?</td>\n",
       "      <td>A mirepoix é uma raiz da culinária francesa, m...</td>\n",
       "      <td>0001_0000_0005</td>\n",
       "    </tr>\n",
       "    <tr>\n",
       "      <th>4</th>\n",
       "      <td>How can you answer questions like \"Are certain...</td>\n",
       "      <td>Answering questions like this would require us...</td>\n",
       "      <td>Como você pode responder a perguntas como \"Ser...</td>\n",
       "      <td>Para responder a perguntas como esta, seria ne...</td>\n",
       "      <td>0001_0000_0005</td>\n",
       "    </tr>\n",
       "  </tbody>\n",
       "</table>\n",
       "</div>"
      ],
      "text/plain": [
       "                                instruction_original  \\\n",
       "0         What do you know about the Fatimid Empire?   \n",
       "1  Identify which instrument is string or percuss...   \n",
       "2  Identify which car manufacturer is German or A...   \n",
       "3                                What is a mirepoix?   \n",
       "4  How can you answer questions like \"Are certain...   \n",
       "\n",
       "                                   response_original  \\\n",
       "0  The Fatimid Dynasty was a Shia Ismaili Empire ...   \n",
       "1              Tati is string, Thappu is percussion.   \n",
       "2                  Audi is German, Buick is American   \n",
       "3  A mirepoix is rooted in French cooking but use...   \n",
       "4  Answering questions like this would require us...   \n",
       "\n",
       "                              instruction_translated  \\\n",
       "0               O que sabe sobre o Império Fatimida?   \n",
       "1  Identifique qual instrumento é de corda ou de ...   \n",
       "2  Identificar qual fabricante de automóveis é al...   \n",
       "3                               O que é um mirepoix?   \n",
       "4  Como você pode responder a perguntas como \"Ser...   \n",
       "\n",
       "                                 response_translated        batch_id  \n",
       "0  A dinastia Fatimid era um império ismaelitas x...  0001_0000_0005  \n",
       "1                  Tati é corda, Thappu é percussão.  0001_0000_0005  \n",
       "2               A Audi é alemã, o Buick é americano.  0001_0000_0005  \n",
       "3  A mirepoix é uma raiz da culinária francesa, m...  0001_0000_0005  \n",
       "4  Para responder a perguntas como esta, seria ne...  0001_0000_0005  "
      ]
     },
     "execution_count": 34,
     "metadata": {},
     "output_type": "execute_result"
    }
   ],
   "source": [
    "output_dataframe"
   ]
  },
  {
   "cell_type": "code",
   "execution_count": null,
   "id": "a9e9d624-2cc1-449a-a625-4750ed4a4459",
   "metadata": {},
   "outputs": [],
   "source": []
  },
  {
   "cell_type": "code",
   "execution_count": null,
   "id": "f8875705-15f4-43fd-8d43-41251b7aa21b",
   "metadata": {},
   "outputs": [],
   "source": []
  },
  {
   "cell_type": "code",
   "execution_count": 13,
   "id": "fdac38c6-4d87-495f-a115-9cc6000e0145",
   "metadata": {},
   "outputs": [
    {
     "name": "stdout",
     "output_type": "stream",
     "text": [
      "CPU times: user 1min 8s, sys: 8.28 ms, total: 1min 8s\n",
      "Wall time: 1min 8s\n"
     ]
    },
    {
     "data": {
      "text/plain": [
       "['Onde vivem os Kardashians?',\n",
       " 'O que é um CPT em relação à saúde?',\n",
       " 'Qual é a recomendação atual para uma dieta saudável?',\n",
       " \"Classifique-os como opções de alimentos saudáveis ou não saudáveis ou não um alimento: batatas fritas, KFC, maçã, salada de frutas, bife, cerveja, vinho, uísque, batatas fritas, couve-flor, chave, cascalho, McDonald's, kebab turco, pêra, tijolos, aloe vera, areia.\",\n",
       " 'Quais são as vantagens e desvantagens de aprender Java em comparação com Python?',\n",
       " 'Onde está a sede do GAFI ?',\n",
       " 'Classifique os estados abaixo com base em qual costa eles estão localizados.',\n",
       " 'O que motiva um director executivo?',\n",
       " 'Que produto vendem as Girl Scouts?',\n",
       " 'Que invenções do século 20 tiveram o maior impacto positivo na vida útil humana?',\n",
       " 'escrever um poema sobre gratidão para minhas irmãs amigos que lideram Obon dançando comigo a cada ano',\n",
       " 'Qual é a melhor maneira de cozinhar um bife?',\n",
       " 'Quais dos seguintes são os filmes com a atriz Deepika Padukone?',\n",
       " 'Identifique qual instrumento é de corda ou de percussão: Bianzhong, Sorahi',\n",
       " 'Quem ganhou o Torneio de Basquetebol masculino da Loucura de Março de 2022?',\n",
       " 'Você já cantou quando está sozinho?',\n",
       " 'O que é o sake e como é feito?',\n",
       " 'Categorizar estes modelos de automóveis como \"totalmente elétricos\", \"híbridos\", \"plug-in\", \"gasolina\": Toyota Camry 2017 SE, Tesla Model 3, Toyota Prius, 2022 Ford Escape Plug-In Hybrid, Rivian',\n",
       " 'Quem são os cofundadores do Google?',\n",
       " 'O que posso fazer com um agrafador quebrado?',\n",
       " 'Identifique quais espécies de animais estão vivas ou extintas: Elefante Asiático, Lobo-do-Lobo',\n",
       " 'Classificar cada um dos seguintes números como um único dígito ou um número de dois dígitos: 8, 4, 1, 12, 87, 65, 3, 5, 45, 97, 6, 2, 34, 71, 9, 48, 0, 7, 31, 50.',\n",
       " 'Quem é o atual treinador do Arsenal Football Club?',\n",
       " 'Qual é a diferença entre amor e afeição?',\n",
       " 'Classifique cada um como anfíbio, pássaro ou peixe: salmão, truta, salamandra, cardeal, coruja, falcão, rã',\n",
       " 'Como motivar e focar uma equipa para superar as expectativas durante uma terrível recessão económica?',\n",
       " 'Como você descreveria as diferenças entre a música indiana e a ocidental, especialmente no que diz respeito ao sentido do tom?',\n",
       " 'Estou pensando em ir para o yoga. Que tipo de aula é boa para mim?',\n",
       " 'Qual é o instrumento mais tocado e mais popular do mundo?',\n",
       " 'Quais são os lugares mais bonitos para viver em San Diego?',\n",
       " 'Por que a maior parte da terra do mundo está ao norte do equador?',\n",
       " 'Que país africano foi fundado pelos americanos',\n",
       " 'Como é que você faz malabarismo?',\n",
       " 'O que é o estilo contemporâneo de dança?',\n",
       " 'Como começar com ciência de dados e aprendizagem de máquina?',\n",
       " 'O que é uma língua romântica?',\n",
       " 'Em que língua sonham os multilíngues?',\n",
       " 'Qual foi a principal razão do motim que ocorreu em 1857, na Índia Britânica?',\n",
       " 'Por que o pequeno-almoço é tão importante para o dia',\n",
       " 'Eu tenho uma pergunta sobre o git. Primeiro eu tenho um ramo mestre, baseado no qual eu criei um ramo de trabalho chamado recurso; normalmente enviamos um pedido de puxa para mesclar as alterações no ramo de recurso para o ramo mestre. Mas então a equipe renomeou o ramo mestre para o principal, como devo lidar com o meu ramo de recurso, para sincronizar com o novo ramo principal e depois puxar o pedido para mesclar as alterações no recurso para o ramo principal em vez de o ramo mestre.',\n",
       " 'Qual é o carro de produção mais rápido do mundo?',\n",
       " 'Quais são os principais elementos da dança Odissi?',\n",
       " 'Dê-me 5 factos sobre Cingapura.',\n",
       " 'Qual é a duração da obrigação?',\n",
       " 'Eu sempre estou confuso ao separar o lixo. Você poderia me ajudar a identificar o que deve ir para onde? Eu tenho que jogar esses itens: lata de refrigerante, guardanapo de papel e xícara de café.',\n",
       " 'A reencarnação existe?',\n",
       " 'Qual foi a duração da expedição de Lewis e Clark?',\n",
       " 'Escreva um e-mail para o escritório pedindo aos funcionários que limpem suas canecas de café em vez de deixá-las na pia.',\n",
       " 'Diga-me se estes são sinônimos ou antônimos de amor: desgosto, cuidado, como, ódio, afeição, dura',\n",
       " 'Entre eles estão da Índia: Virat Kohli, Roger Federer, Rafael Nadal, Novak Djokovic, Serena Williams, Andre Agassi, Sachin Tendulkar, Ricky Ponting, Anil Kumble, Harmanpreet Kaur, Mithali Raj, Sarah Taylor.',\n",
       " 'Classificar as seguintes informações como \"PII\" ou \"não PII\": número de segurança social, endereço domiciliar, idade, número de empregados, população da cidade, sexo, telefone de trabalho',\n",
       " 'Quais são os benefícios do uso de culturas geneticamente modificadas na agricultura?',\n",
       " 'Escolha a palavra que é diferente do resto: Cisne, Galinha, Crocodilo, Rano, Serpente.',\n",
       " 'Qual é a diferença entre uma função de capital de risco corporativo e uma empresa de capital de risco institucional?',\n",
       " 'Você se depara com um urso que é de cor marrom, tem ombros planos e tem orelhas grandes. Que tipo de urso é?',\n",
       " 'O que é a caramelização?',\n",
       " 'Identifique qual instrumento é de corda ou de percussão: Kulintang, Tamburitza',\n",
       " 'Quem é Michael Jackson e por que é famoso?',\n",
       " 'O que significa \"nômades digitais\"?',\n",
       " 'Qual é a sua cor favorita?',\n",
       " 'Quais são os algoritmos de classificação mais comuns?',\n",
       " 'Como calcular a taxa de crescimento?',\n",
       " 'Quem é o Mauricio Macri?',\n",
       " 'Quem é o primeiro rei da história da China?',\n",
       " 'Gostaria de aprender sobre dados e IA. O que você recomendaria?',\n",
       " 'O que é ABAP?',\n",
       " 'Qual seria a primeira opção de encontro em Boston?',\n",
       " 'Qual é o livro mais vendido de todos os tempos?',\n",
       " 'Que línguas são geralmente faladas em Macau?',\n",
       " 'Quais são as formas de melhorar a velocidade de corrida?',\n",
       " 'O que é um planeta plano e é possível que o mundo seja plano?',\n",
       " 'Que são todos os filmes da Marvel com Thanos?',\n",
       " 'Que país se uniu recentemente à OTAN?',\n",
       " 'Qual é a língua nacional da Índia?',\n",
       " 'Classifique cada um dos seguintes como \"pesado\" ou \"leve\": elefante, pena, hipopótamo, papel, baleia',\n",
       " 'O que é um token não fungível?',\n",
       " 'Porque é que gostamos tanto de filmes?',\n",
       " 'Por que os iPhones são mais populares do que os telefones Android dentro dos Estados Unidos, enquanto o oposto é verdade fora dos Estados Unidos?',\n",
       " 'O que é o Teorema de Pitágoras?',\n",
       " 'Quais são as principais funções da FDIC?',\n",
       " 'Cite algumas palavras japonesas que descrevem várias formas de arte japonesa.',\n",
       " 'Identifique o pássaro da lista: mamba negra, alce negra, magia negra.',\n",
       " 'O que fazem os economistas?',\n",
       " 'Diga-me se cada um destes pratos é servido frio ou quente: pizza, massa, tiramisu, sorvete, costela, bife, ceviche',\n",
       " 'O que é o Arsenal FC?',\n",
       " 'Que aulas de matemática são oferecidas nas escolas secundárias nos Estados Unidos?',\n",
       " 'Qual é a maior quantidade de dinheiro em moedas sem poder trocar por um dólar?',\n",
       " 'Dê-me uma lista de recomendações para curar rapidamente de uma cirurgia de ruptura de Aquiles.',\n",
       " 'Qual é a espécie de peixe?',\n",
       " 'Quem é o atual treinador do Manchester United?',\n",
       " 'Escreva um e-mail para o chefe de coaching acadêmico no Serviço de Estudantes com Deficiências, compartilhando que eu me candidatei ao cargo de coaching.',\n",
       " 'Qual é o estado primário da matéria?',\n",
       " 'Que presidente dos EUA era menos um falcão do que as pessoas pensavam?',\n",
       " 'Existe realmente um universo paralelo?',\n",
       " 'Diz-me se estes pokémons são elétricos ou de tipo de grama: Pikachu, Bulbasaur, Zapdos, Voltorb, Oddish, Bellsprout',\n",
       " 'O que é tão frágil que dizer o seu nome o quebra?',\n",
       " 'Como fazer uma tradicional xícara de chá inglês?',\n",
       " 'Que acabamentos são bons para uma mesa feita de madeira dura?',\n",
       " 'Quem é a Linda Hargreaves?',\n",
       " 'Escreva as cores do arco-íris']"
      ]
     },
     "execution_count": 13,
     "metadata": {},
     "output_type": "execute_result"
    }
   ],
   "source": [
    "%%time\n",
    "_list = df.sample(100)[\"instruction\"].to_list()\n",
    "translator_4bits.to_portuguese(_list)"
   ]
  },
  {
   "cell_type": "code",
   "execution_count": 7,
   "id": "86c0108f-7d83-4fbe-a71f-f7487e123a2a",
   "metadata": {},
   "outputs": [
    {
     "data": {
      "text/plain": [
       "['Quem é o Paul McIver ?',\n",
       " 'Por que é que os waffles de proteína estão tão secos?']"
      ]
     },
     "execution_count": 7,
     "metadata": {},
     "output_type": "execute_result"
    }
   ],
   "source": []
  },
  {
   "cell_type": "code",
   "execution_count": 44,
   "id": "9b76bf1b-cf8f-48e2-a506-4ea0e94594e8",
   "metadata": {},
   "outputs": [
    {
     "data": {
      "text/plain": [
       "[{'translation_text': 'Quem é o Paul McIver ?'},\n",
       " {'translation_text': 'Por que é que os waffles de proteína estão tão secos?'}]"
      ]
     },
     "execution_count": 44,
     "metadata": {},
     "output_type": "execute_result"
    }
   ],
   "source": [
    "translator_4bits._translate_to_pt([\"Who is Paul McIver\", \"Why are protein waffles so dry?\"])"
   ]
  },
  {
   "cell_type": "code",
   "execution_count": null,
   "id": "7561dc37-5ccf-483b-9910-3a380de7c34e",
   "metadata": {},
   "outputs": [],
   "source": []
  }
 ],
 "metadata": {
  "kernelspec": {
   "display_name": "Python 3 (ipykernel)",
   "language": "python",
   "name": "python3"
  },
  "language_info": {
   "codemirror_mode": {
    "name": "ipython",
    "version": 3
   },
   "file_extension": ".py",
   "mimetype": "text/x-python",
   "name": "python",
   "nbconvert_exporter": "python",
   "pygments_lexer": "ipython3",
   "version": "3.10.14"
  }
 },
 "nbformat": 4,
 "nbformat_minor": 5
}
