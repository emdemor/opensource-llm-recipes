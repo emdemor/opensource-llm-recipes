{
 "cells": [
  {
   "cell_type": "code",
   "execution_count": 1,
   "id": "a58ea137-e062-4b47-bfa3-be919a220bd4",
   "metadata": {},
   "outputs": [],
   "source": [
    "import os\n",
    "import re\n",
    "import json\n",
    "from tqdm import tqdm\n",
    "\n",
    "import pandas as pd\n",
    "\n",
    "from langchain_openai import ChatOpenAI\n",
    "from langchain.chains import LLMChain\n",
    "from langchain.prompts import ChatPromptTemplate\n",
    "from langchain.callbacks import get_openai_callback\n",
    "from langchain_core.messages.system import SystemMessage\n",
    "from langchain_core.messages.human import HumanMessage\n",
    "from datasets import load_dataset"
   ]
  },
  {
   "cell_type": "code",
   "execution_count": 2,
   "id": "67d60a9b-b0fa-439a-91e3-a1e1a80aa3b5",
   "metadata": {},
   "outputs": [],
   "source": [
    "CAMBIO_DOLAR = 5.41\n",
    "MODEL_NAME = \"gpt-4o-mini\"\n",
    "INPUT_PRICE_PER_MILLION = 0.15\n",
    "OUTPUT_PRICE_PER_MILLION = 0.6\n",
    "FOLDER_PATH = \"data/question-generator/base-train-dataset-raw\"\n",
    "\n",
    "llm = ChatOpenAI(model=MODEL_NAME)\n",
    "\n",
    "prompt_text = \"\"\"\n",
    "Dado o seguinte contexto:\n",
    "```\n",
    "{context}\n",
    "```\n",
    "Escreva um conjunto de perguntas e respostas sobre o contexto.\n",
    "As perguntas devem ser tais que, concatenando as respostas, seja possível recuperar o conteúdo completo do contexto.\n",
    "As perguntas deve ser autocontidas; ou seja, um leitor deve entendê-la sem neessariamente conhecer o contexto\n",
    "\n",
    "\n",
    "\n",
    "# Formato de saída:\n",
    "O resultado deve ser parseavel em json:\n",
    "\n",
    "```\n",
    "[\n",
    " {{\"pergunta\": \"<<pergunta 1>>\", \"pergunta\": \"<<resposta 1>>\"}},\n",
    " {{\"pergunta\": \"<<pergunta 2>>\", \"pergunta\": \"<<resposta 2>>\"}},\n",
    " ...\n",
    "]\n",
    "```\n",
    "\"\"\"\n",
    "\n"
   ]
  },
  {
   "cell_type": "code",
   "execution_count": 3,
   "id": "13f6d15a-bc13-40f6-a64d-5c4bafe3ba66",
   "metadata": {},
   "outputs": [],
   "source": [
    "def get_list(texto):\n",
    "    resultado = re.search(r'\\[([\\s\\S]*)\\]', texto)\n",
    "    if resultado:\n",
    "        conteudo = resultado.group(1)\n",
    "        return json.loads(f\"[{conteudo}]\")\n",
    "    else:\n",
    "        return \"Nenhum conteúdo encontrado entre os colchetes.\"\n"
   ]
  },
  {
   "cell_type": "code",
   "execution_count": null,
   "id": "5cf6a3d0-6721-407c-8fc9-d553a203d743",
   "metadata": {},
   "outputs": [],
   "source": []
  },
  {
   "cell_type": "code",
   "execution_count": 4,
   "id": "b363f998-9170-418a-9b63-d955cd60bb49",
   "metadata": {},
   "outputs": [],
   "source": [
    "def get_questions(context):\n",
    "    chat_prompt = ChatPromptTemplate.from_messages([\n",
    "        SystemMessage(content=\"You are a helpful assistant.\"),\n",
    "        HumanMessage(content=prompt_text.format(context=context))\n",
    "    ])\n",
    "    \n",
    "    chain = chat_prompt | llm\n",
    "    with get_openai_callback() as cb:\n",
    "        response = chain.invoke(dict(context=context))\n",
    "        preco_em_real = CAMBIO_DOLAR * (INPUT_PRICE_PER_MILLION * cb.prompt_tokens+ OUTPUT_PRICE_PER_MILLION*cb.completion_tokens) / 1_000_000\n",
    "        # print(f\"preco = {preco_em_real}\")\n",
    "\n",
    "    \n",
    "    try:\n",
    "        _list = get_list(response.content)\n",
    "        error = False\n",
    "    except:\n",
    "        _list = None\n",
    "        error = True\n",
    "        \n",
    "    return response.content, _list, preco_em_real, error\n"
   ]
  },
  {
   "cell_type": "code",
   "execution_count": 5,
   "id": "a68e6f13-4564-4652-b83b-92987ef1c2e1",
   "metadata": {},
   "outputs": [],
   "source": [
    "def run_llm_data_generator(row):\n",
    "    response, formatted_response, preco_real, error = get_questions(row.context)\n",
    "\n",
    "    df = pd.DataFrame(\n",
    "        [\n",
    "            {\n",
    "                \"id\": row.id,\n",
    "                \"context\": row.context,\n",
    "                \"questions\": response,\n",
    "                \"formatted_questions\": formatted_response,\n",
    "                \"price\": preco_real,\n",
    "            }\n",
    "        ]\n",
    "    )\n",
    "\n",
    "    df.to_parquet(f\"{FOLDER_PATH}/{row.id}.parquet\")\n",
    "    return response, preco_real, error"
   ]
  },
  {
   "cell_type": "code",
   "execution_count": 6,
   "id": "5f78b181-baa1-45dc-ae8f-0753f4313a99",
   "metadata": {},
   "outputs": [],
   "source": [
    "import os\n",
    "import pandas as pd\n",
    "import pyarrow.parquet as pq\n",
    "\n",
    "def read_parquets(folder_path):\n",
    "\n",
    "    dataframes = []\n",
    "    \n",
    "    for arquivo in os.listdir(folder_path):\n",
    "        if arquivo.endswith('.parquet'):\n",
    "            try:\n",
    "                caminho_arquivo = os.path.join(folder_path, arquivo)\n",
    "                df = pq.read_table(caminho_arquivo).to_pandas()\n",
    "                dataframes.append(df)\n",
    "            except:\n",
    "                print(f\"[ERROR] {caminho_arquivo}\")\n",
    "\n",
    "    return pd.concat(dataframes, ignore_index=True)\n"
   ]
  },
  {
   "cell_type": "markdown",
   "id": "b1986b87-dc70-4f08-8390-23ba45f4e0c7",
   "metadata": {},
   "source": [
    "# Loop"
   ]
  },
  {
   "cell_type": "code",
   "execution_count": 7,
   "id": "7d4c1f24-da01-4323-b2b3-dcb9ee727043",
   "metadata": {},
   "outputs": [],
   "source": [
    "dataset = load_dataset(\"nunorc/squad_v1_pt\")\n",
    "dataset = dataset[\"train\"].shuffle()\n"
   ]
  },
  {
   "cell_type": "code",
   "execution_count": 8,
   "id": "67d6b521-6a3e-4e9f-9f3f-c0cb819b63b1",
   "metadata": {},
   "outputs": [
    {
     "data": {
      "text/html": [
       "<div>\n",
       "<style scoped>\n",
       "    .dataframe tbody tr th:only-of-type {\n",
       "        vertical-align: middle;\n",
       "    }\n",
       "\n",
       "    .dataframe tbody tr th {\n",
       "        vertical-align: top;\n",
       "    }\n",
       "\n",
       "    .dataframe thead th {\n",
       "        text-align: right;\n",
       "    }\n",
       "</style>\n",
       "<table border=\"1\" class=\"dataframe\">\n",
       "  <thead>\n",
       "    <tr style=\"text-align: right;\">\n",
       "      <th></th>\n",
       "      <th>id</th>\n",
       "      <th>title</th>\n",
       "      <th>context</th>\n",
       "      <th>question</th>\n",
       "      <th>answers</th>\n",
       "      <th>context_len</th>\n",
       "    </tr>\n",
       "  </thead>\n",
       "  <tbody>\n",
       "    <tr>\n",
       "      <th>0</th>\n",
       "      <td>56de9b07cffd8e1900b4ba2d</td>\n",
       "      <td>Materialism</td>\n",
       "      <td>Na antiga filosofia indiana, o materialismo se...</td>\n",
       "      <td>Qual escola avançou o atomismo?</td>\n",
       "      <td>{'text': ['Escola Nyaya-Vaisesika'], 'answer_s...</td>\n",
       "      <td>522</td>\n",
       "    </tr>\n",
       "    <tr>\n",
       "      <th>1</th>\n",
       "      <td>56e7b45837bdd419002c43aa</td>\n",
       "      <td>Arena_Football_League</td>\n",
       "      <td>A partir de 2014, a ESPN retornou à AFL como p...</td>\n",
       "      <td>Quem foi o parceiro de transmissão da Arena Fo...</td>\n",
       "      <td>{'text': ['ESPN'], 'answer_start': [20]}</td>\n",
       "      <td>432</td>\n",
       "    </tr>\n",
       "    <tr>\n",
       "      <th>3</th>\n",
       "      <td>572bf16ef182dd1900d7c799</td>\n",
       "      <td>Tennessee</td>\n",
       "      <td>Os verões no estado são geralmente quentes e ú...</td>\n",
       "      <td>Qual é a temperatura mais alta já registrada n...</td>\n",
       "      <td>{'text': ['113 ° F (45 ° C)'], 'answer_start':...</td>\n",
       "      <td>550</td>\n",
       "    </tr>\n",
       "    <tr>\n",
       "      <th>4</th>\n",
       "      <td>5726b245dd62a815002e8d27</td>\n",
       "      <td>Crimean_War</td>\n",
       "      <td>A guerra começou nos Bálcãs quando as tropas r...</td>\n",
       "      <td>Quando os turcos tentaram fornecer reforços, o...</td>\n",
       "      <td>{'text': ['Sinop'], 'answer_start': [407]}</td>\n",
       "      <td>818</td>\n",
       "    </tr>\n",
       "    <tr>\n",
       "      <th>5</th>\n",
       "      <td>572777c4708984140094de61</td>\n",
       "      <td>Heian_period</td>\n",
       "      <td>Os detentores de Shōen tinham acesso a mão de ...</td>\n",
       "      <td>Qual classe se tornou uma nova elite militar?</td>\n",
       "      <td>{'text': ['classe alta provincial'], 'answer_s...</td>\n",
       "      <td>568</td>\n",
       "    </tr>\n",
       "    <tr>\n",
       "      <th>...</th>\n",
       "      <td>...</td>\n",
       "      <td>...</td>\n",
       "      <td>...</td>\n",
       "      <td>...</td>\n",
       "      <td>...</td>\n",
       "      <td>...</td>\n",
       "    </tr>\n",
       "    <tr>\n",
       "      <th>87591</th>\n",
       "      <td>57284e224b864d190016490d</td>\n",
       "      <td>History_of_India</td>\n",
       "      <td>Os séculos VII e VI aC testemunharam a composi...</td>\n",
       "      <td>Qual parte do sistema de crenças do hinduísmo ...</td>\n",
       "      <td>{'text': ['ritual'], 'answer_start': [258]}</td>\n",
       "      <td>569</td>\n",
       "    </tr>\n",
       "    <tr>\n",
       "      <th>87594</th>\n",
       "      <td>57302410947a6a140053d176</td>\n",
       "      <td>Tucson,_Arizona</td>\n",
       "      <td>O sudeste de Tucson continua a experimentar um...</td>\n",
       "      <td>Rita Ranch também tem um desenvolvimento plane...</td>\n",
       "      <td>{'text': ['Civano'], 'answer_start': [709]}</td>\n",
       "      <td>831</td>\n",
       "    </tr>\n",
       "    <tr>\n",
       "      <th>87595</th>\n",
       "      <td>572fe742947a6a140053cdcf</td>\n",
       "      <td>Premier_League</td>\n",
       "      <td>A Premier League é transmitida nos Estados Uni...</td>\n",
       "      <td>Qual foi o valor dessa extensão?</td>\n",
       "      <td>{'text': ['em um negócio avaliado em US $ 1 bi...</td>\n",
       "      <td>572</td>\n",
       "    </tr>\n",
       "    <tr>\n",
       "      <th>87596</th>\n",
       "      <td>57267c915951b619008f7462</td>\n",
       "      <td>The_Sun_(United_Kingdom)</td>\n",
       "      <td>Aproveitando a oportunidade para aumentar sua ...</td>\n",
       "      <td>Qual foi o preço pago pelo jornal?</td>\n",
       "      <td>{'text': ['£ 800.000'], 'answer_start': [391]}</td>\n",
       "      <td>554</td>\n",
       "    </tr>\n",
       "    <tr>\n",
       "      <th>87597</th>\n",
       "      <td>572abb31111d821400f38d0a</td>\n",
       "      <td>John_Kerry</td>\n",
       "      <td>Após a derrota de Kerry em 1972, ele e sua esp...</td>\n",
       "      <td>Para onde Kerry se mudou após a eleição de 1972?</td>\n",
       "      <td>{'text': ['Belvidere, Lowell'], 'answer_start'...</td>\n",
       "      <td>611</td>\n",
       "    </tr>\n",
       "  </tbody>\n",
       "</table>\n",
       "<p>69175 rows × 6 columns</p>\n",
       "</div>"
      ],
      "text/plain": [
       "                             id                     title  \\\n",
       "0      56de9b07cffd8e1900b4ba2d               Materialism   \n",
       "1      56e7b45837bdd419002c43aa     Arena_Football_League   \n",
       "3      572bf16ef182dd1900d7c799                 Tennessee   \n",
       "4      5726b245dd62a815002e8d27               Crimean_War   \n",
       "5      572777c4708984140094de61              Heian_period   \n",
       "...                         ...                       ...   \n",
       "87591  57284e224b864d190016490d          History_of_India   \n",
       "87594  57302410947a6a140053d176           Tucson,_Arizona   \n",
       "87595  572fe742947a6a140053cdcf            Premier_League   \n",
       "87596  57267c915951b619008f7462  The_Sun_(United_Kingdom)   \n",
       "87597  572abb31111d821400f38d0a                John_Kerry   \n",
       "\n",
       "                                                 context  \\\n",
       "0      Na antiga filosofia indiana, o materialismo se...   \n",
       "1      A partir de 2014, a ESPN retornou à AFL como p...   \n",
       "3      Os verões no estado são geralmente quentes e ú...   \n",
       "4      A guerra começou nos Bálcãs quando as tropas r...   \n",
       "5      Os detentores de Shōen tinham acesso a mão de ...   \n",
       "...                                                  ...   \n",
       "87591  Os séculos VII e VI aC testemunharam a composi...   \n",
       "87594  O sudeste de Tucson continua a experimentar um...   \n",
       "87595  A Premier League é transmitida nos Estados Uni...   \n",
       "87596  Aproveitando a oportunidade para aumentar sua ...   \n",
       "87597  Após a derrota de Kerry em 1972, ele e sua esp...   \n",
       "\n",
       "                                                question  \\\n",
       "0                        Qual escola avançou o atomismo?   \n",
       "1      Quem foi o parceiro de transmissão da Arena Fo...   \n",
       "3      Qual é a temperatura mais alta já registrada n...   \n",
       "4      Quando os turcos tentaram fornecer reforços, o...   \n",
       "5          Qual classe se tornou uma nova elite militar?   \n",
       "...                                                  ...   \n",
       "87591  Qual parte do sistema de crenças do hinduísmo ...   \n",
       "87594  Rita Ranch também tem um desenvolvimento plane...   \n",
       "87595                   Qual foi o valor dessa extensão?   \n",
       "87596                 Qual foi o preço pago pelo jornal?   \n",
       "87597   Para onde Kerry se mudou após a eleição de 1972?   \n",
       "\n",
       "                                                 answers  context_len  \n",
       "0      {'text': ['Escola Nyaya-Vaisesika'], 'answer_s...          522  \n",
       "1               {'text': ['ESPN'], 'answer_start': [20]}          432  \n",
       "3      {'text': ['113 ° F (45 ° C)'], 'answer_start':...          550  \n",
       "4             {'text': ['Sinop'], 'answer_start': [407]}          818  \n",
       "5      {'text': ['classe alta provincial'], 'answer_s...          568  \n",
       "...                                                  ...          ...  \n",
       "87591        {'text': ['ritual'], 'answer_start': [258]}          569  \n",
       "87594        {'text': ['Civano'], 'answer_start': [709]}          831  \n",
       "87595  {'text': ['em um negócio avaliado em US $ 1 bi...          572  \n",
       "87596     {'text': ['£ 800.000'], 'answer_start': [391]}          554  \n",
       "87597  {'text': ['Belvidere, Lowell'], 'answer_start'...          611  \n",
       "\n",
       "[69175 rows x 6 columns]"
      ]
     },
     "execution_count": 8,
     "metadata": {},
     "output_type": "execute_result"
    }
   ],
   "source": [
    "df = dataset.to_pandas()\n",
    "df[\"context_len\"] = df[\"context\"].str.len()\n",
    "df = df[df[\"context_len\"] < 1000]\n",
    "\n",
    "df"
   ]
  },
  {
   "cell_type": "code",
   "execution_count": 9,
   "id": "4701d60c-917d-4da9-b5a7-9492124706ca",
   "metadata": {},
   "outputs": [
    {
     "name": "stderr",
     "output_type": "stream",
     "text": [
      "0it [00:00, ?it/s]"
     ]
    },
    {
     "name": "stdout",
     "output_type": "stream",
     "text": [
      "5727d72bff5b5019007d96a4\n"
     ]
    },
    {
     "name": "stderr",
     "output_type": "stream",
     "text": [
      "1it [00:02,  2.70s/it]"
     ]
    },
    {
     "name": "stdout",
     "output_type": "stream",
     "text": [
      "5730374704bcaa1900d7738f\n"
     ]
    },
    {
     "name": "stderr",
     "output_type": "stream",
     "text": [
      "2it [00:06,  3.20s/it]"
     ]
    },
    {
     "name": "stdout",
     "output_type": "stream",
     "text": [
      "5727e339ff5b5019007d97a5\n"
     ]
    },
    {
     "name": "stderr",
     "output_type": "stream",
     "text": [
      "3it [00:09,  3.35s/it]"
     ]
    },
    {
     "name": "stdout",
     "output_type": "stream",
     "text": [
      "56df49d18bc80c19004e4a0a\n"
     ]
    },
    {
     "name": "stderr",
     "output_type": "stream",
     "text": [
      "4it [00:13,  3.64s/it]"
     ]
    },
    {
     "name": "stdout",
     "output_type": "stream",
     "text": [
      "5730ad472461fd1900a9cf7e\n"
     ]
    },
    {
     "name": "stderr",
     "output_type": "stream",
     "text": [
      "5it [00:23,  5.87s/it]"
     ]
    },
    {
     "name": "stdout",
     "output_type": "stream",
     "text": [
      "Preço atá agora: 9.185440723500001\n",
      "5726bc5af1498d1400e8e983\n"
     ]
    },
    {
     "name": "stderr",
     "output_type": "stream",
     "text": [
      "6it [00:28,  5.41s/it]"
     ]
    },
    {
     "name": "stdout",
     "output_type": "stream",
     "text": [
      "5727e1424b864d1900163f23\n"
     ]
    },
    {
     "name": "stderr",
     "output_type": "stream",
     "text": [
      "7it [00:33,  5.45s/it]"
     ]
    },
    {
     "name": "stdout",
     "output_type": "stream",
     "text": [
      "56e0724a231d4119001ac15d\n"
     ]
    },
    {
     "name": "stderr",
     "output_type": "stream",
     "text": [
      "8it [00:44,  7.06s/it]"
     ]
    },
    {
     "name": "stdout",
     "output_type": "stream",
     "text": [
      "Preço atá agora: 9.190218024\n",
      "570983a2200fba14003680f7\n"
     ]
    },
    {
     "name": "stderr",
     "output_type": "stream",
     "text": [
      "9it [00:48,  6.05s/it]"
     ]
    },
    {
     "name": "stdout",
     "output_type": "stream",
     "text": [
      "572833243acd2414000df6cd\n"
     ]
    },
    {
     "name": "stderr",
     "output_type": "stream",
     "text": [
      "10it [00:50,  5.08s/it]"
     ]
    },
    {
     "name": "stdout",
     "output_type": "stream",
     "text": [
      "CPU times: user 23 s, sys: 2.98 s, total: 26 s\n",
      "Wall time: 57.6 s\n"
     ]
    },
    {
     "name": "stderr",
     "output_type": "stream",
     "text": [
      "\n"
     ]
    }
   ],
   "source": [
    "%%time\n",
    "\n",
    "SAMPLE_SIZE = 10\n",
    "MAX_TOTAL_PRICE = 15.\n",
    "MAX_ERROR_COUNT = int(0.1*SAMPLE_SIZE)\n",
    "\n",
    "\n",
    "sample = df.sample(SAMPLE_SIZE)\n",
    "\n",
    "errors_count = 0\n",
    "\n",
    "total_price = read_parquets(FOLDER_PATH)['price'].sum()\n",
    "\n",
    "\n",
    "for index, row in tqdm(sample.iterrows()):\n",
    "    if (errors_count > MAX_ERROR_COUNT) or (total_price > MAX_TOTAL_PRICE):\n",
    "        print(f\"Forcing break\")\n",
    "        print(f\"errors_count = {errors_count} | MAX_ERROR_COUNT = {MAX_ERROR_COUNT} | errors_count >= MAX_ERROR_COUNT =\", errors_count >= MAX_ERROR_COUNT)\n",
    "        print(f\"total_price = {total_price} | MAX_TOTAL_PRICE = {MAX_TOTAL_PRICE} | total_price >= MAX_TOTAL_PRICE =\", total_price >= MAX_TOTAL_PRICE)\n",
    "        break\n",
    "    \n",
    "    try:\n",
    "        print(row[\"id\"])\n",
    "        response, preco_real, error = run_llm_data_generator(row)\n",
    "        total_price += preco_real\n",
    "        if error:\n",
    "            errors_count += 1\n",
    "    except Exception as err:\n",
    "        err_message = f\"[ERRO] {err}\"\n",
    "        print(err_message)\n",
    "        if \"Incorrect API key provided\" in err_message:\n",
    "            print(f\"Forcing break\")\n",
    "            break\n",
    "        errors_count += 1\n",
    "\n",
    "    if (index+1) % 10 == 0:\n",
    "        try:\n",
    "            temp = read_parquets(FOLDER_PATH)\n",
    "            print(f\"Preço atá agora: {temp['price'].sum()}\")\n",
    "        except:\n",
    "            print(\"Não foi possível ler o parquet. Corrija isso antes de prosseguir\")\n",
    "            break\n"
   ]
  },
  {
   "cell_type": "code",
   "execution_count": 45,
   "id": "878330d4-dac0-4eb7-a3cf-6a699aa0ec39",
   "metadata": {},
   "outputs": [
    {
     "name": "stdout",
     "output_type": "stream",
     "text": [
      "Preço total: 9.188689157999999\n"
     ]
    },
    {
     "data": {
      "text/html": [
       "<div>\n",
       "<style scoped>\n",
       "    .dataframe tbody tr th:only-of-type {\n",
       "        vertical-align: middle;\n",
       "    }\n",
       "\n",
       "    .dataframe tbody tr th {\n",
       "        vertical-align: top;\n",
       "    }\n",
       "\n",
       "    .dataframe thead th {\n",
       "        text-align: right;\n",
       "    }\n",
       "</style>\n",
       "<table border=\"1\" class=\"dataframe\">\n",
       "  <thead>\n",
       "    <tr style=\"text-align: right;\">\n",
       "      <th></th>\n",
       "      <th>id</th>\n",
       "      <th>context</th>\n",
       "      <th>questions_and_answers</th>\n",
       "    </tr>\n",
       "  </thead>\n",
       "  <tbody>\n",
       "    <tr>\n",
       "      <th>0</th>\n",
       "      <td>57328ad357eb1f1400fd2d9a</td>\n",
       "      <td>Em contraste com o Proterozóico, as rochas arq...</td>\n",
       "      <td>[{\"pergunta\": \"Quais são as características da...</td>\n",
       "    </tr>\n",
       "    <tr>\n",
       "      <th>1</th>\n",
       "      <td>57279b10ff5b5019007d90d4</td>\n",
       "      <td>Outros estudiosos [quem?] Sugerem que esses ar...</td>\n",
       "      <td>[{\"pergunta\": \"Quais são as críticas feitas po...</td>\n",
       "    </tr>\n",
       "    <tr>\n",
       "      <th>2</th>\n",
       "      <td>56e78da500c9c71400d772a7</td>\n",
       "      <td>Zhu Yousong, no entanto, se saiu muito pior do...</td>\n",
       "      <td>[{\"pergunta\": \"Quem foi Zhu Yousong em relação...</td>\n",
       "    </tr>\n",
       "    <tr>\n",
       "      <th>3</th>\n",
       "      <td>5727266ff1498d1400e8f416</td>\n",
       "      <td>Como a memória da &amp;quot;Carga da Brigada de Lu...</td>\n",
       "      <td>[{\"pergunta\": \"Qual evento histórico é mencion...</td>\n",
       "    </tr>\n",
       "    <tr>\n",
       "      <th>4</th>\n",
       "      <td>56d00d6d234ae51400d9c2e8</td>\n",
       "      <td>O Partido Democrata detém a maioria dos cargos...</td>\n",
       "      <td>[{\"pergunta\": \"Qual partido político detém a m...</td>\n",
       "    </tr>\n",
       "    <tr>\n",
       "      <th>...</th>\n",
       "      <td>...</td>\n",
       "      <td>...</td>\n",
       "      <td>...</td>\n",
       "    </tr>\n",
       "    <tr>\n",
       "      <th>7004</th>\n",
       "      <td>56d114ae17492d1400aab8bb</td>\n",
       "      <td>O transporte público é essencial na cidade de ...</td>\n",
       "      <td>[{\"pergunta\": \"Qual a porcentagem de nova-iorq...</td>\n",
       "    </tr>\n",
       "    <tr>\n",
       "      <th>7005</th>\n",
       "      <td>572fa578947a6a140053cb04</td>\n",
       "      <td>Nos últimos anos, houve uma alta demanda por b...</td>\n",
       "      <td>[{\"pergunta\": \"Qual é a alta demanda observada...</td>\n",
       "    </tr>\n",
       "    <tr>\n",
       "      <th>7006</th>\n",
       "      <td>5728a3732ca10214002da504</td>\n",
       "      <td>A missão declarada da BYU &amp;quot;é ajudar as pe...</td>\n",
       "      <td>[{\"pergunta\": \"Qual é a missão declarada da BY...</td>\n",
       "    </tr>\n",
       "    <tr>\n",
       "      <th>7007</th>\n",
       "      <td>56df740d56340a1900b29ba2</td>\n",
       "      <td>O presidente Bush negou financiamento ao UNFPA...</td>\n",
       "      <td>[{\"pergunta\": \"Qual presidente negou financiam...</td>\n",
       "    </tr>\n",
       "    <tr>\n",
       "      <th>7008</th>\n",
       "      <td>5727ed31ff5b5019007d98b5</td>\n",
       "      <td>A música tibetana freqüentemente envolve canta...</td>\n",
       "      <td>[{\"pergunta\": \"Qual é a língua frequentemente ...</td>\n",
       "    </tr>\n",
       "  </tbody>\n",
       "</table>\n",
       "<p>7007 rows × 3 columns</p>\n",
       "</div>"
      ],
      "text/plain": [
       "                            id  \\\n",
       "0     57328ad357eb1f1400fd2d9a   \n",
       "1     57279b10ff5b5019007d90d4   \n",
       "2     56e78da500c9c71400d772a7   \n",
       "3     5727266ff1498d1400e8f416   \n",
       "4     56d00d6d234ae51400d9c2e8   \n",
       "...                        ...   \n",
       "7004  56d114ae17492d1400aab8bb   \n",
       "7005  572fa578947a6a140053cb04   \n",
       "7006  5728a3732ca10214002da504   \n",
       "7007  56df740d56340a1900b29ba2   \n",
       "7008  5727ed31ff5b5019007d98b5   \n",
       "\n",
       "                                                context  \\\n",
       "0     Em contraste com o Proterozóico, as rochas arq...   \n",
       "1     Outros estudiosos [quem?] Sugerem que esses ar...   \n",
       "2     Zhu Yousong, no entanto, se saiu muito pior do...   \n",
       "3     Como a memória da &quot;Carga da Brigada de Lu...   \n",
       "4     O Partido Democrata detém a maioria dos cargos...   \n",
       "...                                                 ...   \n",
       "7004  O transporte público é essencial na cidade de ...   \n",
       "7005  Nos últimos anos, houve uma alta demanda por b...   \n",
       "7006  A missão declarada da BYU &quot;é ajudar as pe...   \n",
       "7007  O presidente Bush negou financiamento ao UNFPA...   \n",
       "7008  A música tibetana freqüentemente envolve canta...   \n",
       "\n",
       "                                  questions_and_answers  \n",
       "0     [{\"pergunta\": \"Quais são as características da...  \n",
       "1     [{\"pergunta\": \"Quais são as críticas feitas po...  \n",
       "2     [{\"pergunta\": \"Quem foi Zhu Yousong em relação...  \n",
       "3     [{\"pergunta\": \"Qual evento histórico é mencion...  \n",
       "4     [{\"pergunta\": \"Qual partido político detém a m...  \n",
       "...                                                 ...  \n",
       "7004  [{\"pergunta\": \"Qual a porcentagem de nova-iorq...  \n",
       "7005  [{\"pergunta\": \"Qual é a alta demanda observada...  \n",
       "7006  [{\"pergunta\": \"Qual é a missão declarada da BY...  \n",
       "7007  [{\"pergunta\": \"Qual presidente negou financiam...  \n",
       "7008  [{\"pergunta\": \"Qual é a língua frequentemente ...  \n",
       "\n",
       "[7007 rows x 3 columns]"
      ]
     },
     "execution_count": 45,
     "metadata": {},
     "output_type": "execute_result"
    }
   ],
   "source": [
    "import json\n",
    "response = read_parquets(FOLDER_PATH)\n",
    "response = response[~response[\"formatted_questions\"].isna()]\n",
    "response = response.rename(columns={\"formatted_questions\": \"questions_and_answers\"})\n",
    "response[\"questions_and_answers\"] = response[\"questions_and_answers\"].apply(lambda x: json.dumps(list(x), ensure_ascii=False))\n",
    "print(f\"Preço total: {response['price'].sum()}\")\n",
    "response = response[[\"id\", \"context\", \"questions_and_answers\"]]\n",
    "response.to_parquet(FOLDER_PATH.replace(\"base-train-dataset-raw\", \"base-train-dataset\")+\".parquet\")\n",
    "\n",
    "response"
   ]
  },
  {
   "cell_type": "code",
   "execution_count": null,
   "id": "f5ce511c-7dff-45ee-a2e6-012e8fbba30c",
   "metadata": {},
   "outputs": [],
   "source": []
  }
 ],
 "metadata": {
  "kernelspec": {
   "display_name": "Python 3 (ipykernel)",
   "language": "python",
   "name": "python3"
  },
  "language_info": {
   "codemirror_mode": {
    "name": "ipython",
    "version": 3
   },
   "file_extension": ".py",
   "mimetype": "text/x-python",
   "name": "python",
   "nbconvert_exporter": "python",
   "pygments_lexer": "ipython3",
   "version": "3.10.14"
  }
 },
 "nbformat": 4,
 "nbformat_minor": 5
}
