{
 "cells": [
  {
   "cell_type": "code",
   "execution_count": 1,
   "id": "a58ea137-e062-4b47-bfa3-be919a220bd4",
   "metadata": {},
   "outputs": [],
   "source": [
    "import os\n",
    "import re\n",
    "import json\n",
    "from tqdm import tqdm\n",
    "\n",
    "import pandas as pd\n",
    "\n",
    "from langchain_openai import ChatOpenAI\n",
    "from langchain.chains import LLMChain\n",
    "from langchain.prompts import ChatPromptTemplate\n",
    "from langchain.callbacks import get_openai_callback\n",
    "from langchain_core.messages.system import SystemMessage\n",
    "from langchain_core.messages.human import HumanMessage\n",
    "from datasets import load_dataset"
   ]
  },
  {
   "cell_type": "code",
   "execution_count": 2,
   "id": "67d60a9b-b0fa-439a-91e3-a1e1a80aa3b5",
   "metadata": {},
   "outputs": [],
   "source": [
    "CAMBIO_DOLAR = 5.41\n",
    "MODEL_NAME = \"gpt-4o-mini\"\n",
    "INPUT_PRICE_PER_MILLION = 0.15\n",
    "OUTPUT_PRICE_PER_MILLION = 0.6\n",
    "FOLDER_PATH = \"data/question-generator/base-train-dataset\"\n",
    "\n",
    "llm = ChatOpenAI(model=MODEL_NAME)\n",
    "\n",
    "prompt_text = \"\"\"\n",
    "Dado o seguinte contexto:\n",
    "```\n",
    "{context}\n",
    "```\n",
    "Escreva um conjunto de perguntas e respostas sobre o contexto.\n",
    "As perguntas devem ser tais que, concatenando as respostas, seja possível recuperar o conteúdo completo do contexto.\n",
    "As perguntas deve ser autocontidas; ou seja, um leitor deve entendê-la sem neessariamente conhecer o contexto\n",
    "\n",
    "\n",
    "\n",
    "# Formato de saída:\n",
    "O resultado deve ser parseavel em json:\n",
    "\n",
    "```\n",
    "[\n",
    " {{\"pergunta\": \"<<pergunta 1>>\", \"pergunta\": \"<<resposta 1>>\"}},\n",
    " {{\"pergunta\": \"<<pergunta 2>>\", \"pergunta\": \"<<resposta 2>>\"}},\n",
    " ...\n",
    "]\n",
    "```\n",
    "\"\"\"\n",
    "\n"
   ]
  },
  {
   "cell_type": "code",
   "execution_count": 3,
   "id": "13f6d15a-bc13-40f6-a64d-5c4bafe3ba66",
   "metadata": {},
   "outputs": [],
   "source": [
    "def get_list(texto):\n",
    "    resultado = re.search(r'\\[([\\s\\S]*)\\]', texto)\n",
    "    if resultado:\n",
    "        conteudo = resultado.group(1)\n",
    "        return json.loads(f\"[{conteudo}]\")\n",
    "    else:\n",
    "        return \"Nenhum conteúdo encontrado entre os colchetes.\"\n"
   ]
  },
  {
   "cell_type": "code",
   "execution_count": null,
   "id": "5cf6a3d0-6721-407c-8fc9-d553a203d743",
   "metadata": {},
   "outputs": [],
   "source": []
  },
  {
   "cell_type": "code",
   "execution_count": 4,
   "id": "b363f998-9170-418a-9b63-d955cd60bb49",
   "metadata": {},
   "outputs": [],
   "source": [
    "def get_questions(context):\n",
    "    chat_prompt = ChatPromptTemplate.from_messages([\n",
    "        SystemMessage(content=\"You are a helpful assistant.\"),\n",
    "        HumanMessage(content=prompt_text.format(context=context))\n",
    "    ])\n",
    "    \n",
    "    chain = chat_prompt | llm\n",
    "    with get_openai_callback() as cb:\n",
    "        response = chain.invoke(dict(context=context))\n",
    "        preco_em_real = CAMBIO_DOLAR * (INPUT_PRICE_PER_MILLION * cb.prompt_tokens+ OUTPUT_PRICE_PER_MILLION*cb.completion_tokens) / 1_000_000\n",
    "        # print(f\"preco = {preco_em_real}\")\n",
    "\n",
    "    \n",
    "    try:\n",
    "        _list = get_list(response.content)\n",
    "        error = False\n",
    "    except:\n",
    "        _list = None\n",
    "        error = True\n",
    "        \n",
    "    return response.content, _list, preco_em_real, error\n"
   ]
  },
  {
   "cell_type": "code",
   "execution_count": 5,
   "id": "a68e6f13-4564-4652-b83b-92987ef1c2e1",
   "metadata": {},
   "outputs": [],
   "source": [
    "def run_llm_data_generator(row):\n",
    "    response, formatted_response, preco_real, error = get_questions(row.context)\n",
    "\n",
    "    df = pd.DataFrame(\n",
    "        [\n",
    "            {\n",
    "                \"id\": row.id,\n",
    "                \"context\": row.context,\n",
    "                \"questions\": response,\n",
    "                \"formatted_questions\": formatted_response,\n",
    "                \"price\": preco_real,\n",
    "            }\n",
    "        ]\n",
    "    )\n",
    "\n",
    "    df.to_parquet(f\"{FOLDER_PATH}/{row.id}.parquet\")\n",
    "    return response, preco_real, error"
   ]
  },
  {
   "cell_type": "markdown",
   "id": "b1986b87-dc70-4f08-8390-23ba45f4e0c7",
   "metadata": {},
   "source": [
    "# Loop"
   ]
  },
  {
   "cell_type": "code",
   "execution_count": 6,
   "id": "7d4c1f24-da01-4323-b2b3-dcb9ee727043",
   "metadata": {},
   "outputs": [],
   "source": [
    "dataset = load_dataset(\"nunorc/squad_v1_pt\")\n",
    "dataset = dataset[\"train\"].shuffle()\n"
   ]
  },
  {
   "cell_type": "code",
   "execution_count": 7,
   "id": "67d6b521-6a3e-4e9f-9f3f-c0cb819b63b1",
   "metadata": {},
   "outputs": [
    {
     "data": {
      "text/html": [
       "<div>\n",
       "<style scoped>\n",
       "    .dataframe tbody tr th:only-of-type {\n",
       "        vertical-align: middle;\n",
       "    }\n",
       "\n",
       "    .dataframe tbody tr th {\n",
       "        vertical-align: top;\n",
       "    }\n",
       "\n",
       "    .dataframe thead th {\n",
       "        text-align: right;\n",
       "    }\n",
       "</style>\n",
       "<table border=\"1\" class=\"dataframe\">\n",
       "  <thead>\n",
       "    <tr style=\"text-align: right;\">\n",
       "      <th></th>\n",
       "      <th>id</th>\n",
       "      <th>title</th>\n",
       "      <th>context</th>\n",
       "      <th>question</th>\n",
       "      <th>answers</th>\n",
       "      <th>context_len</th>\n",
       "    </tr>\n",
       "  </thead>\n",
       "  <tbody>\n",
       "    <tr>\n",
       "      <th>1</th>\n",
       "      <td>56d2a28059d6e41400146172</td>\n",
       "      <td>Buddhism</td>\n",
       "      <td>O budismo oferece muitas oportunidades para es...</td>\n",
       "      <td>O conceito budista de originação dependente fo...</td>\n",
       "      <td>{'text': ['científico'], 'answer_start': [629]}</td>\n",
       "      <td>681</td>\n",
       "    </tr>\n",
       "    <tr>\n",
       "      <th>3</th>\n",
       "      <td>5728464e3acd2414000df854</td>\n",
       "      <td>War_on_Terror</td>\n",
       "      <td>O conflito no norte do Mali começou em janeiro...</td>\n",
       "      <td>Em que grupo estavam os radicais do Mali afili...</td>\n",
       "      <td>{'text': ['al-Qaeda'], 'answer_start': [92]}</td>\n",
       "      <td>551</td>\n",
       "    </tr>\n",
       "    <tr>\n",
       "      <th>5</th>\n",
       "      <td>57284b0c4b864d19001648dd</td>\n",
       "      <td>LaserDisc</td>\n",
       "      <td>O suporte do LaserDisc a múltiplas faixas de á...</td>\n",
       "      <td>Qual recurso, exclusivo do LaserDisc, possibil...</td>\n",
       "      <td>{'text': ['suporte para várias faixas de áudio...</td>\n",
       "      <td>578</td>\n",
       "    </tr>\n",
       "    <tr>\n",
       "      <th>6</th>\n",
       "      <td>5726adaff1498d1400e8e6ee</td>\n",
       "      <td>Germans</td>\n",
       "      <td>As pessoas que falam alemão como primeira líng...</td>\n",
       "      <td>Residência que fala alemão como língua materna...</td>\n",
       "      <td>{'text': ['mais alemão'], 'answer_start': [0]}</td>\n",
       "      <td>679</td>\n",
       "    </tr>\n",
       "    <tr>\n",
       "      <th>8</th>\n",
       "      <td>5727849df1498d1400e8fa86</td>\n",
       "      <td>FA_Cup</td>\n",
       "      <td>Em 2003, a FA tomou a decisão de usar permanen...</td>\n",
       "      <td>Onde está a taça da FA hoje?</td>\n",
       "      <td>{'text': ['Em 2003, a FA tomou a decisão de us...</td>\n",
       "      <td>669</td>\n",
       "    </tr>\n",
       "    <tr>\n",
       "      <th>...</th>\n",
       "      <td>...</td>\n",
       "      <td>...</td>\n",
       "      <td>...</td>\n",
       "      <td>...</td>\n",
       "      <td>...</td>\n",
       "      <td>...</td>\n",
       "    </tr>\n",
       "    <tr>\n",
       "      <th>87594</th>\n",
       "      <td>56e02b8d231d4119001abf76</td>\n",
       "      <td>Comics</td>\n",
       "      <td>Revistas ilustradas para expatriados ocidentai...</td>\n",
       "      <td>Quem introduziu tiras satíricas para o Japão?</td>\n",
       "      <td>{'text': ['Expatriados ocidentais'], 'answer_s...</td>\n",
       "      <td>744</td>\n",
       "    </tr>\n",
       "    <tr>\n",
       "      <th>87595</th>\n",
       "      <td>5730ec8305b4da19006bcc49</td>\n",
       "      <td>United_States_Air_Force</td>\n",
       "      <td>Devido ao sequestro do orçamento em 2013, a US...</td>\n",
       "      <td>Onde muitos desses pilotos da Força Aérea dos ...</td>\n",
       "      <td>{'text': ['carreiras nas linhas aéreas comerci...</td>\n",
       "      <td>636</td>\n",
       "    </tr>\n",
       "    <tr>\n",
       "      <th>87596</th>\n",
       "      <td>5729141f6aef051400154a3b</td>\n",
       "      <td>Software_testing</td>\n",
       "      <td>Os desenvolvedores de software não podem testa...</td>\n",
       "      <td>Em que consiste o uso de testes combinatórios?</td>\n",
       "      <td>{'text': ['obter maior cobertura de teste com ...</td>\n",
       "      <td>605</td>\n",
       "    </tr>\n",
       "    <tr>\n",
       "      <th>87597</th>\n",
       "      <td>5726bb5b708984140094cf84</td>\n",
       "      <td>Pesticide</td>\n",
       "      <td>Nos Estados Unidos, a Agência de Proteção Ambi...</td>\n",
       "      <td>Quem é protegido pelos regulamentos da EPA?</td>\n",
       "      <td>{'text': ['humanos ou o meio ambiente'], 'answ...</td>\n",
       "      <td>979</td>\n",
       "    </tr>\n",
       "    <tr>\n",
       "      <th>87598</th>\n",
       "      <td>572781a5f1498d1400e8fa1c</td>\n",
       "      <td>Ann_Arbor,_Michigan</td>\n",
       "      <td>Ann Arbor tem uma forma de governo do conselho...</td>\n",
       "      <td>Que tipo de governo Ann Arbor tem?</td>\n",
       "      <td>{'text': ['conselheiro-gerente'], 'answer_star...</td>\n",
       "      <td>871</td>\n",
       "    </tr>\n",
       "  </tbody>\n",
       "</table>\n",
       "<p>69175 rows × 6 columns</p>\n",
       "</div>"
      ],
      "text/plain": [
       "                             id                    title  \\\n",
       "1      56d2a28059d6e41400146172                 Buddhism   \n",
       "3      5728464e3acd2414000df854            War_on_Terror   \n",
       "5      57284b0c4b864d19001648dd                LaserDisc   \n",
       "6      5726adaff1498d1400e8e6ee                  Germans   \n",
       "8      5727849df1498d1400e8fa86                   FA_Cup   \n",
       "...                         ...                      ...   \n",
       "87594  56e02b8d231d4119001abf76                   Comics   \n",
       "87595  5730ec8305b4da19006bcc49  United_States_Air_Force   \n",
       "87596  5729141f6aef051400154a3b         Software_testing   \n",
       "87597  5726bb5b708984140094cf84                Pesticide   \n",
       "87598  572781a5f1498d1400e8fa1c      Ann_Arbor,_Michigan   \n",
       "\n",
       "                                                 context  \\\n",
       "1      O budismo oferece muitas oportunidades para es...   \n",
       "3      O conflito no norte do Mali começou em janeiro...   \n",
       "5      O suporte do LaserDisc a múltiplas faixas de á...   \n",
       "6      As pessoas que falam alemão como primeira líng...   \n",
       "8      Em 2003, a FA tomou a decisão de usar permanen...   \n",
       "...                                                  ...   \n",
       "87594  Revistas ilustradas para expatriados ocidentai...   \n",
       "87595  Devido ao sequestro do orçamento em 2013, a US...   \n",
       "87596  Os desenvolvedores de software não podem testa...   \n",
       "87597  Nos Estados Unidos, a Agência de Proteção Ambi...   \n",
       "87598  Ann Arbor tem uma forma de governo do conselho...   \n",
       "\n",
       "                                                question  \\\n",
       "1      O conceito budista de originação dependente fo...   \n",
       "3      Em que grupo estavam os radicais do Mali afili...   \n",
       "5      Qual recurso, exclusivo do LaserDisc, possibil...   \n",
       "6      Residência que fala alemão como língua materna...   \n",
       "8                           Onde está a taça da FA hoje?   \n",
       "...                                                  ...   \n",
       "87594      Quem introduziu tiras satíricas para o Japão?   \n",
       "87595  Onde muitos desses pilotos da Força Aérea dos ...   \n",
       "87596     Em que consiste o uso de testes combinatórios?   \n",
       "87597        Quem é protegido pelos regulamentos da EPA?   \n",
       "87598                 Que tipo de governo Ann Arbor tem?   \n",
       "\n",
       "                                                 answers  context_len  \n",
       "1        {'text': ['científico'], 'answer_start': [629]}          681  \n",
       "3           {'text': ['al-Qaeda'], 'answer_start': [92]}          551  \n",
       "5      {'text': ['suporte para várias faixas de áudio...          578  \n",
       "6         {'text': ['mais alemão'], 'answer_start': [0]}          679  \n",
       "8      {'text': ['Em 2003, a FA tomou a decisão de us...          669  \n",
       "...                                                  ...          ...  \n",
       "87594  {'text': ['Expatriados ocidentais'], 'answer_s...          744  \n",
       "87595  {'text': ['carreiras nas linhas aéreas comerci...          636  \n",
       "87596  {'text': ['obter maior cobertura de teste com ...          605  \n",
       "87597  {'text': ['humanos ou o meio ambiente'], 'answ...          979  \n",
       "87598  {'text': ['conselheiro-gerente'], 'answer_star...          871  \n",
       "\n",
       "[69175 rows x 6 columns]"
      ]
     },
     "execution_count": 7,
     "metadata": {},
     "output_type": "execute_result"
    }
   ],
   "source": [
    "df = dataset.to_pandas()\n",
    "df[\"context_len\"] = df[\"context\"].str.len()\n",
    "df = df[df[\"context_len\"] < 1000]\n",
    "\n",
    "df"
   ]
  },
  {
   "cell_type": "code",
   "execution_count": 27,
   "id": "4701d60c-917d-4da9-b5a7-9492124706ca",
   "metadata": {},
   "outputs": [
    {
     "name": "stderr",
     "output_type": "stream",
     "text": [
      "3it [00:28,  8.91s/it]"
     ]
    },
    {
     "name": "stdout",
     "output_type": "stream",
     "text": [
      "Preço atá agora: 0.277661217\n"
     ]
    },
    {
     "name": "stderr",
     "output_type": "stream",
     "text": [
      "5it [00:41,  7.23s/it]"
     ]
    },
    {
     "name": "stdout",
     "output_type": "stream",
     "text": [
      "Preço atá agora: 0.2810557215\n"
     ]
    },
    {
     "name": "stderr",
     "output_type": "stream",
     "text": [
      "14it [01:29,  4.66s/it]"
     ]
    },
    {
     "name": "stdout",
     "output_type": "stream",
     "text": [
      "Preço atá agora: 0.29319251550000003\n"
     ]
    },
    {
     "name": "stderr",
     "output_type": "stream",
     "text": [
      "23it [02:10,  5.21s/it]"
     ]
    },
    {
     "name": "stdout",
     "output_type": "stream",
     "text": [
      "Preço atá agora: 0.30289075200000004\n"
     ]
    },
    {
     "name": "stderr",
     "output_type": "stream",
     "text": [
      "46it [03:58,  4.23s/it]"
     ]
    },
    {
     "name": "stdout",
     "output_type": "stream",
     "text": [
      "Preço atá agora: 0.33191242649999997\n"
     ]
    },
    {
     "name": "stderr",
     "output_type": "stream",
     "text": [
      "49it [04:25,  7.38s/it]"
     ]
    },
    {
     "name": "stdout",
     "output_type": "stream",
     "text": [
      "Preço atá agora: 0.335178714\n"
     ]
    },
    {
     "name": "stderr",
     "output_type": "stream",
     "text": [
      "51it [04:35,  6.07s/it]"
     ]
    },
    {
     "name": "stdout",
     "output_type": "stream",
     "text": [
      "Preço atá agora: 0.338275398\n"
     ]
    },
    {
     "name": "stderr",
     "output_type": "stream",
     "text": [
      "100it [08:36,  5.16s/it]"
     ]
    },
    {
     "name": "stdout",
     "output_type": "stream",
     "text": [
      "Preço atá agora: 0.402421227\n",
      "CPU times: user 2.27 s, sys: 256 ms, total: 2.53 s\n",
      "Wall time: 8min 36s\n"
     ]
    },
    {
     "name": "stderr",
     "output_type": "stream",
     "text": [
      "\n"
     ]
    }
   ],
   "source": [
    "%%time\n",
    "\n",
    "SAMPLE_SIZE = 100\n",
    "MAX_TOTAL_PRICE = 7.\n",
    "MAX_ERROR_COUNT = int(0.1*SAMPLE_SIZE)\n",
    "\n",
    "\n",
    "sample = df.sample(SAMPLE_SIZE)\n",
    "\n",
    "errors_count = 0\n",
    "\n",
    "total_price = pd.read_parquet(FOLDER_PATH)['price'].sum()\n",
    "\n",
    "\n",
    "for index, row in tqdm(sample.iterrows()):\n",
    "    if (errors_count > MAX_ERROR_COUNT) or (total_price > MAX_TOTAL_PRICE):\n",
    "        print(f\"Forcing break\")\n",
    "        print(f\"errors_count = {errors_count} | MAX_ERROR_COUNT = {MAX_ERROR_COUNT} | errors_count >= MAX_ERROR_COUNT =\", errors_count >= MAX_ERROR_COUNT)\n",
    "        print(f\"total_price = {total_price} | MAX_TOTAL_PRICE = {MAX_TOTAL_PRICE} | total_price >= MAX_TOTAL_PRICE =\", total_price >= MAX_TOTAL_PRICE)\n",
    "        break\n",
    "    \n",
    "    try:\n",
    "        response, preco_real, error = run_llm_data_generator(row)\n",
    "        total_price += preco_real\n",
    "        if error:\n",
    "            errors_count += 1\n",
    "    except Exception as err:\n",
    "        err_message = f\"[ERRO] {err}\"\n",
    "        print(err_message)\n",
    "        if \"Incorrect API key provided\" in err_message:\n",
    "            print(f\"Forcing break\")\n",
    "            break\n",
    "        errors_count += 1\n",
    "\n",
    "    if (index+1) % 10 == 0:\n",
    "        try:\n",
    "            temp =  pd.read_parquet(FOLDER_PATH)\n",
    "            print(f\"Preço atá agora: {temp['price'].sum()}\")\n",
    "        except:\n",
    "            print(\"Não foi possível ler o parquet. Corrija isso antes de prosseguir\")\n",
    "            break\n"
   ]
  },
  {
   "cell_type": "code",
   "execution_count": 28,
   "id": "2c522910-9b7f-4e50-b124-cb86f71d7491",
   "metadata": {},
   "outputs": [
    {
     "name": "stdout",
     "output_type": "stream",
     "text": [
      "Preço atá agora: 0.402421227\n"
     ]
    }
   ],
   "source": [
    "temp =  pd.read_parquet(FOLDER_PATH)\n",
    "print(f\"Preço atá agora: {temp['price'].sum()}\")"
   ]
  },
  {
   "cell_type": "code",
   "execution_count": 32,
   "id": "58d28e86-580e-4e09-93f6-f24124c8a53e",
   "metadata": {},
   "outputs": [
    {
     "data": {
      "text/plain": [
       "array([{'pergunta': 'Quais são os esportes mais populares em Melbourne?', 'resposta': 'As regras australianas de futebol e críquete são os esportes mais populares em Melbourne.'},\n",
       "       {'pergunta': 'Qual é o lar espiritual dos esportes na Austrália?', 'resposta': 'Melbourne é considerado o lar espiritual dos dois esportes na Austrália.'},\n",
       "       {'pergunta': 'Quando foi disputado o primeiro jogo oficial de críquete do teste e onde?', 'resposta': 'O primeiro jogo oficial de críquete do teste foi disputado no Melbourne Cricket Ground em março de 1877.'},\n",
       "       {'pergunta': 'Quando as origens do futebol australiano podem ser rastreadas?', 'resposta': 'As origens do futebol australiano podem ser encontradas nos jogos disputados ao lado do MCG em 1858.'},\n",
       "       {'pergunta': 'Onde está sediada a Australian Football League?', 'resposta': 'A Australian Football League está sediada no Docklands Stadium.'},\n",
       "       {'pergunta': 'Quantas equipes da AFL estão localizadas na área metropolitana de Melbourne e quais são elas?', 'resposta': 'Nove das equipes da Liga estão localizadas na área metropolitana de Melbourne: Carlton, Collingwood, Essendon, Hawthorn, Melbourne, North Melbourne, Richmond, St Kilda e Western Bulldogs.'},\n",
       "       {'pergunta': 'Quantas partidas da AFL são jogadas semanalmente em Melbourne e qual é a média de público por jogo?', 'resposta': 'Até cinco partidas da AFL são jogadas todas as semanas em Melbourne, atraindo uma média de 40.000 pessoas por jogo.'},\n",
       "       {'pergunta': 'O que a cidade de Melbourne hospeda anualmente?', 'resposta': 'A cidade hospeda anualmente a Grande Final da AFL.'}],\n",
       "      dtype=object)"
      ]
     },
     "execution_count": 32,
     "metadata": {},
     "output_type": "execute_result"
    }
   ],
   "source": [
    "temp.sample()[\"formatted_questions\"].iloc[0]"
   ]
  },
  {
   "cell_type": "code",
   "execution_count": null,
   "id": "5776235e-2419-4a79-afc3-2856eaf1c820",
   "metadata": {},
   "outputs": [],
   "source": []
  },
  {
   "cell_type": "code",
   "execution_count": null,
   "id": "dacb7ee0-0eaf-4c03-b328-2aae3b5c90c4",
   "metadata": {},
   "outputs": [],
   "source": []
  },
  {
   "cell_type": "code",
   "execution_count": null,
   "id": "71657b34-84ac-43b6-adf9-d08fdd8c8b11",
   "metadata": {},
   "outputs": [],
   "source": []
  },
  {
   "cell_type": "markdown",
   "id": "cba9d257-3769-4bf1-83c0-02f982b1376d",
   "metadata": {},
   "source": [
    "100 -> 7min, R$ 0,13"
   ]
  },
  {
   "cell_type": "code",
   "execution_count": 19,
   "id": "bc523d20-90d0-4d5c-a030-c7051927ba0e",
   "metadata": {},
   "outputs": [
    {
     "data": {
      "text/plain": [
       "0.12830162785714286"
      ]
     },
     "execution_count": 19,
     "metadata": {},
     "output_type": "execute_result"
    }
   ],
   "source": [
    "temp['price'].mean() * 100"
   ]
  },
  {
   "cell_type": "code",
   "execution_count": 22,
   "id": "c9d1bdab-042b-495d-8560-b325ad72954e",
   "metadata": {},
   "outputs": [
    {
     "data": {
      "text/plain": [
       "5.833333333333333"
      ]
     },
     "execution_count": 22,
     "metadata": {},
     "output_type": "execute_result"
    }
   ],
   "source": [
    "50 * 7 / 60"
   ]
  },
  {
   "cell_type": "code",
   "execution_count": 24,
   "id": "78677bd3-f44c-48ae-bd58-722638fc838f",
   "metadata": {},
   "outputs": [
    {
     "data": {
      "text/plain": [
       "6.5"
      ]
     },
     "execution_count": 24,
     "metadata": {},
     "output_type": "execute_result"
    }
   ],
   "source": [
    "50 * 0.13"
   ]
  },
  {
   "cell_type": "code",
   "execution_count": null,
   "id": "7d57dd04-25a9-424c-855f-66cc55dec522",
   "metadata": {},
   "outputs": [],
   "source": []
  },
  {
   "cell_type": "code",
   "execution_count": null,
   "id": "14fd13f3-01fe-4955-b066-6be931ced300",
   "metadata": {},
   "outputs": [],
   "source": []
  },
  {
   "cell_type": "code",
   "execution_count": null,
   "id": "79364c57-5e4c-4e7e-872c-a3f824086f7a",
   "metadata": {},
   "outputs": [],
   "source": []
  },
  {
   "cell_type": "code",
   "execution_count": null,
   "id": "61cd33f3-ebfa-48a0-b349-f7f6704127bd",
   "metadata": {},
   "outputs": [],
   "source": []
  },
  {
   "cell_type": "code",
   "execution_count": null,
   "id": "87985170-c883-4e81-b488-866051a58346",
   "metadata": {},
   "outputs": [],
   "source": []
  },
  {
   "cell_type": "code",
   "execution_count": null,
   "id": "bb5fe0df-e2f6-433a-9e92-7dc91073acb1",
   "metadata": {},
   "outputs": [],
   "source": []
  },
  {
   "cell_type": "code",
   "execution_count": null,
   "id": "8f625462-e065-4fef-9908-739587c358a4",
   "metadata": {},
   "outputs": [],
   "source": []
  },
  {
   "cell_type": "code",
   "execution_count": null,
   "id": "85c4eb4a-ae3b-4cf3-a8d8-5ed09e8c1dde",
   "metadata": {},
   "outputs": [],
   "source": []
  },
  {
   "cell_type": "code",
   "execution_count": null,
   "id": "8399932f-b6e0-4f33-963c-b6841b78c593",
   "metadata": {},
   "outputs": [],
   "source": []
  },
  {
   "cell_type": "code",
   "execution_count": null,
   "id": "f5ce511c-7dff-45ee-a2e6-012e8fbba30c",
   "metadata": {},
   "outputs": [],
   "source": []
  }
 ],
 "metadata": {
  "kernelspec": {
   "display_name": "Python 3 (ipykernel)",
   "language": "python",
   "name": "python3"
  },
  "language_info": {
   "codemirror_mode": {
    "name": "ipython",
    "version": 3
   },
   "file_extension": ".py",
   "mimetype": "text/x-python",
   "name": "python",
   "nbconvert_exporter": "python",
   "pygments_lexer": "ipython3",
   "version": "3.10.14"
  }
 },
 "nbformat": 4,
 "nbformat_minor": 5
}
